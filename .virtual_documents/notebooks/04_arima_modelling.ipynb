# custom function for time series statistics
import custom_functions.time_series_functions as tsf

# to add holidays features
import holidays

# Data visualisations
import matplotlib.pyplot as plt

# Base libraries
import numpy as np
import pandas as pd

# More data viz
import plotly.express as px
import seaborn as sns

# to use pandas dtypes in matplotlib plots
from pandas.plotting import register_matplotlib_converters

# rich
from rich.console import Console

console = Console()

register_matplotlib_converters()

# set plotly as automatick backend for plot wih pandas
pd.options.plotting.backend = "plotly"

# create a dict to update plotly layout
plotly_styles = dict(
    font_family="DejaVuSansMono Nerd Font",
    template="none",
    title={
        "x": 0.05,
        # basically, what part of the title to put at position "x"
        "xanchor": "left",
    },
)


# set settings for seaborn
sns.set_style(style="darkgrid", rc={"axes.facecolor": ".9", "grid.color": ".8"})
sns.set_palette(palette="deep")
sns_c = sns.color_palette(palette="deep")  # will be useful later

# visualise plots inline
get_ipython().run_line_magic("matplotlib", " inline")

# customise matplotlib and sns plot dimensions
plt.rcParams["figure.figsize"] = [12, 6]
plt.rcParams["figure.dpi"] = 100


daily_outflow = pd.read_csv("../data/bikemi_csv/daily_outflow.csv", parse_dates=[0])

daily_outflow = (
    daily_outflow.assign(
        year=lambda x: x["giorno_partenza"].dt.year,
        month=lambda x: x["giorno_partenza"].dt.month,
        month_name=lambda x: x["giorno_partenza"].dt.month_name().astype("category"),
        week=lambda x: x["giorno_partenza"].dt.isocalendar().week,
        day=lambda x: x["giorno_partenza"].dt.weekday,
        day_name=lambda x: x["giorno_partenza"].dt.day_name(),
        day_of_month=lambda x: x["giorno_partenza"].dt.day,
        dayofyear=lambda x: x["giorno_partenza"].dt.dayofyear,
        # alternatively:
        # holiday = lambda ts: list(map(lambda x: holidays.CountryHoliday("IT").get(x), ts["giorno_partenza"]))
        holiday=lambda ts: ts["giorno_partenza"].apply(
            lambda x: holidays.CountryHoliday("IT").get(x)
        ),
    )
    .set_index("giorno_partenza")
    .astype({"day_name": "category", "holiday": "category"})
)

daily_outflow.info()


daily_outflow.plot(
    y="count",
    title="BikeMi Daily Rentals, 2019",
    color_discrete_sequence=px.colors.qualitative.T10,
).update_layout(**plotly_styles).update_traces(hovertemplate=None)


daily_outflow.plot(
    y=[
        "count",
        daily_outflow["count"].rolling(7).mean(),
        daily_outflow["count"].rolling(7).std(),
    ],
    title="Daily Rentals with Rolling Statistics (Window Size: 7)",
    color_discrete_sequence=px.colors.qualitative.Pastel,
).update_layout(**plotly_styles).update_traces(hovertemplate=None)


daily_outflow.plot(
    y=[
        "count",
        daily_outflow["count"].rolling(30).mean(),
        daily_outflow["count"].rolling(30).std(),
    ],
    title="Daily Rentals with Rolling Statistics (Window Size: 30)",
    color_discrete_sequence=px.colors.qualitative.Pastel,
).update_layout(**plotly_styles).update_traces(hovertemplate=None)


fig, ax = plt.subplots(2, 1, figsize=(12, 9), constrained_layout=True)

# create the windows
ma = [7, 30]

for i, m in enumerate(ma):

    daily_outflow[f"moving_average_{m}"] = (
        daily_outflow["count"].rolling(window=m).mean()
    )

    sns.lineplot(
        x=daily_outflow.index,
        y="count",
        label="count",
        data=daily_outflow,
        alpha=0.5,
        ax=ax[i],
    )
    sns.lineplot(
        x=daily_outflow.index,
        y=f"moving_average_{m}",
        label=f"moving_average_{m}",
        data=daily_outflow,
        color=sns_c[i + 1],
        ax=ax[i],
    )
    ax[i].legend(loc="upper left")
    ax[i].set(title="", ylabel="")
plt.suptitle("Bikemi Rentals (Daily) - Smooth Moving Average", y=1.02)


# play with color palettes: https://plotly.com/python/discrete-color/

pd.pivot_table(
    data=daily_outflow[["day_name", "month_name", "count"]],
    index="day_name",
    columns="month_name",
)["count"].plot(color_discrete_sequence=px.colors.qualitative.Dark24).update_layout(
    **plotly_styles
).update_traces(
    hovertemplate=None
)


daily_outflow.plot(
    y=daily_outflow["count"].diff(),
    color_discrete_sequence=px.colors.qualitative.Pastel,
    title="BikeMi Daily Rentals, First Differences (2019)",
).update_layout(**plotly_styles).update_traces(hovertemplate=None)


daily_outflow.plot(
    y=daily_outflow["count"].diff(7),
    color_discrete_sequence=px.colors.qualitative.Vivid,
    title="BikeMi Daily Rentals, 7-Day Differences (2019)",
).update_layout(**plotly_styles).update_traces(hovertemplate=None)


import numpy as np

daily_outflow.plot(
    y=daily_outflow["count"].apply(np.log).diff(7),
    color_discrete_sequence=px.colors.qualitative.Vivid,
    title="BikeMi Daily Rentals, Logs, 7-Day Differences (2019)",
).update_layout(**plotly_styles).update_traces(hovertemplate=None)


from statsmodels.tsa.seasonal import seasonal_decompose

# We use the parameter `period` = 365 to extract the yearly seasonality.
weekly_seasonal_decomposition = seasonal_decompose(
    x=daily_outflow["count"], model="additive", period=7
)

pd.options.plotting.backend = "matplotlib"
fig, ax = plt.subplots(4, 1, figsize=(12, 12), constrained_layout=True)

weekly_seasonal_decomposition.observed.plot(c=sns_c[0], ax=ax[0])
ax[0].set(title="observed", xlabel="")
weekly_seasonal_decomposition.trend.plot(c=sns_c[1], ax=ax[1])
ax[1].set(title="trend", xlabel="")
weekly_seasonal_decomposition.seasonal.plot(c=sns_c[2], ax=ax[2])
ax[2].set(title="seasonal", xlabel="")
weekly_seasonal_decomposition.resid.plot(c=sns_c[3], ax=ax[3])
ax[3].set(title="residual", xlabel="")


from statsmodels.tsa.stattools import adfuller, kpss

adfuller_results = adfuller(daily_outflow["count"], regression="ct")
kpss_results = kpss(daily_outflow["count"], regression="ct", nlags="auto")


console.print(
    f"""
Advanced Dickey-Fuller p-value is {adfuller_results[1]:.2%}: \
{"there is a unit root - i.e. the series is non-stationary" if adfuller_results[1] > 0.05 else "there is no unit root - the series is stationary"}.
KPSS p-value is {kpss_results[1]:.2%}: \
{"the series is stationary (there is no unit root)" if kpss_results[1] > 0.05 else "the series is non-stationary (there is a unit root)"}.
    """
)


from statsmodels.graphics.tsaplots import plot_acf, plot_pacf

fig, ax = plt.subplots(2, 1, constrained_layout=True)
plot_acf(
    x=daily_outflow["count"],
    ax=ax[0],
    title="BikeMi Rentals Autocorrelation",
    zero=False,
)
plot_pacf(
    x=daily_outflow["count"],
    ax=ax[1],
    title="BikeMi Rentals Partial Autocorrelation",
    zero=False,
);


tsa.perform_adfuller(daily_outflow["count"])


from statsmodels.tsa.seasonal import seasonal_decompose

# We use the parameter `period` = 365 to extract the yearly seasonality.
seas_decomp_yearly = seasonal_decompose(
    x=daily_data_df["temperature"], model="additive", period=365
)

fig, ax = plt.subplots(4, 1, figsize=(12, 12), constrained_layout=True)

seas_decomp_yearly.observed.plot(c=sns_c[0], ax=ax[0])
ax[0].set(title="observed", ylabel=r"$^\circ$C")
seas_decomp_yearly.trend.plot(c=sns_c[1], ax=ax[1])
ax[1].set(title="trend", ylabel=r"$^\circ$C")
seas_decomp_yearly.seasonal.plot(c=sns_c[2], ax=ax[2])
ax[2].set(title="seasonal", ylabel=r"$^\circ$C")
seas_decomp_yearly.resid.plot(c=sns_c[3], ax=ax[3])
ax[3].set(title="residual", ylabel=r"$^\circ$C")
