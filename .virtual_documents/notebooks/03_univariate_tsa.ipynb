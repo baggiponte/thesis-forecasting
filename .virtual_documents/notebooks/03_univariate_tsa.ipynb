# import custom functions
import custom_functions.plot_styles as ps
import custom_functions.time_series_analysis as tsa
import pandas as pd
import plotly.express as px

pd.options.plotting.backend = "plotly"

ps.matplotlib_styles()


df = pd.read_csv("../data/bikemi_csv/daily_outflow.csv", parse_dates=[0], index_col=[0])

daily_outflow = tsa.create_ts_features(
    df, features=["day", "week", "month", "weekends", "holidays"]
)

daily_outflow.head()


ts_plot = daily_outflow.plot(
    y="count",
    title="Daily BikeMi Rentals (2019)",
    color_discrete_sequence=px.colors.qualitative.T10,
    labels={
        "count": "Rentals ",
        "giorno_partenza": "Date ",
    },
)

ps.plotly_style(ts_plot)


hist_weekends = daily_outflow.plot.bar(
    x=daily_outflow.index,
    y="count",
    title="BikeMi Rentals against Weekends (2019)",
    color="is_weekend",
    color_discrete_sequence=px.colors.qualitative.Pastel,
    labels={"count": "Rentals ", "giorno_partenza": "Date ", "is_weekend": "Weekend "},
)

ps.plotly_style(hist_weekends)


hist_holidays = daily_outflow.plot.bar(
    x=daily_outflow.index,
    y="count",
    title="Bikemi Rentals against Holidays (2019)",
    color="holiday",
    color_discrete_sequence=px.colors.qualitative.Vivid,
    labels={"count": "Rentals ", "giorno_partenza": ""},
).update_traces(hovertemplate=None)

ps.plotly_style(hist_holidays)


# inspect values with `fig.data`
tsa.px_rolling_statistics(
    ts=daily_outflow, col="count", lags=7, statistics=["mean", "std"]
)


tsa.px_rolling_statistics(
    ts=daily_outflow, col="count", lags=30, statistics=["mean", "std"]
)


tsa.subunits_boxplot(daily_outflow["count"], y="count", time_subunit="month")


tsa.subunits_boxplot(daily_outflow["count"], y="count", time_subunit="weekday")
