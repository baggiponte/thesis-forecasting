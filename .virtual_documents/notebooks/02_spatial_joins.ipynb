# import custom functions for joins and cleaning strings
import custom_functions.clean_strings as cs
import custom_functions.joins as j

# main libs
import geopandas

# plotting
import matplotlib.pyplot as plt

# reading and manipulating data
import pandas as pd

# for nice output statements, such as with `print()`:
from rich.console import Console

get_ipython().run_line_magic("matplotlib", " inline")

console = Console()


# load stalls lon-lat table
bikemi_stalls = geopandas.read_file("../data/bikemi_metadata/bikemi_stalls.geojson")

# load NIL lon-lat table
nil = geopandas.read_file("../data/milan/milan_nil.geojson")

# actually not needed, municipi categorical var is already in bikemi_stalls
municipi = geopandas.read_file("../data/milan/milan_municipi.geojson")


# select only the column we need + rename
nil = (
    nil[["ID_NIL", "NIL", "geometry"]]
    .assign(NIL=lambda x: x["NIL"].str.title())
    .astype({"ID_NIL": "string", "NIL": "string"})
    .rename(columns={"NIL": "nil", "ID_NIL": "nil_number"})
    .set_index("nil_number")
    .sort_values("nil", ascending=True)
)

nil.info()


# select only the column we need + rename
bikemi_stalls = (
    bikemi_stalls[["nome", "zd_attuale", "geometry", "anno"]]
    .rename(columns={"zd_attuale": "municipio"})
    .sort_values(by=["nome"], ascending=True)
    .astype({"nome": "string", "municipio": "string"})
    .set_index("nome")
)

bikemi_stalls.info()


# define ax object and dimensions
fig, ax = plt.subplots(figsize=(10, 10))

# plot both objects on the same axes; order matters
nil.plot(ax=ax, cmap="Blues")
bikemi_stalls.plot(ax=ax, color="tab:red")

# remove the axis lines
plt.axis("off")
plt.show()


# load the time series for each station in the long format
station_outflow = pd.read_csv(
    "../data/bikemi_csv/station_daily_outflow.csv",
    parse_dates=[0],
    index_col=[0],
    dtype={"stazione_partenza": "string"},
)

station_outflow.info()


# join the index of the table specified as the first argument on the column specified by the "on" argument
tentative_join = geopandas.GeoDataFrame(
    # the data to pass as first argument:
    station_outflow.join(bikemi_stalls, on="stazione_partenza").sort_values(
        ["giorno_partenza", "stazione_partenza"], ascending=True
    ),
    # then set the coordinate reference system
    crs="EPSG:4326",
).astype({"stazione_partenza": "string"})

tentative_join.info()


unique_stalls = pd.Series(bikemi_stalls.index.unique())
unique_stations = pd.Series(
    station_outflow["stazione_partenza"].sort_values(ascending=True).unique(),
    name="stazione_partenza",
)

# using rich
console.print(
    f"""
Number of stalls in the official data: {unique_stalls.size}.
Number of stalls in our time series: {unique_stations.size}.
"""
)


clean_stalls = cs.clean_series(unique_stalls)
clean_stations = cs.clean_series(unique_stations)

j.mismatches(clean_stalls, clean_stations, left_on="nome", right_on="stazione_partenza")
mismatched_stations, mismatched_stalls = j.mismatches(
    clean_stalls,
    clean_stations,
    left_on="nome",
    right_on="stazione_partenza",
    text=False,
)


list(mismatched_stalls), list(mismatched_stations)


# take some time to appreciate how clean df.query() is:
bikemi_stalls.query("anno >= 2020 or anno.isna()")


clean_outflow = cs.clean_df(station_outflow, col="stazione_partenza", inplace=True)
clean_bikemi_stalls = cs.clean_df(
    bikemi_stalls.drop("anno", axis=1).reset_index(), col="nome", inplace=True
).set_index("nome")


geo_outflow = geopandas.GeoDataFrame(
    clean_outflow.join(clean_bikemi_stalls, on="stazione_partenza").iloc[::-1],
    crs="EPSG:4326",
).astype({"stazione_partenza": "string"})

geo_outflow.info()


geo_outflow_nil = (
    geopandas.sjoin(geo_outflow, nil, how="inner", op="intersects")
    .rename(
        columns={
            "geometry": "nil_geometry",
            "index_right": "nil_number",
            "nil": "nil_name",
        }
    )
    .set_geometry("nil_geometry")
    .astype(
        {
            "stazione_partenza": "string",
            "municipio": "string",
            "nil_number": "string",
            "nil_name": "string",
        }
    )
)

geo_outflow_nil.info()


geo_outflow_nil.head()


pd.DataFrame(geo_outflow_nil.nil_name.unique())


geo_outflow_nil.groupby("nil_name")["stazione_partenza"].count().sort_values(
    ascending=False
).reset_index()


nils_and_stations = (
    pd.DataFrame(
        geo_outflow_nil.reset_index().groupby("nil_name")["stazione_partenza"].unique()
    )
    .reset_index()
    .assign(count=lambda x: x["stazione_partenza"].apply(lambda x: len(x)))
    .sort_values("count")
)

nils_and_stations


# setting up plotly:
import plotly.express as px

pd.options.plotting.backend = "plotly"

nils_and_stations.plot(
    x="count",
    y="nil_name",
    kind="barh",
    title="Number of Stations per NIL",
    labels=dict(count="", nil_name=""),
    color_discrete_sequence=px.colors.qualitative.Vivid,
).update_layout({"template": "plotly_white", "font_family": "DejaVuSansMono Nerd Font"})


nil_daily_rentals = (
    geo_outflow_nil.reset_index()
    .groupby(["nil_name", "giorno_partenza"], as_index=False)["count"]
    .sum()
    .sort_values(by=["giorno_partenza", "nil_name"])
    .set_index("giorno_partenza")
    .pivot(columns="nil_name", values="count")
    .fillna(0)
    .astype("int64")
)

nil_daily_rentals


import seaborn as sns

pd.options.plotting.backend = "matplotlib"
get_ipython().run_line_magic("matplotlib", " inline")

# to use pandas dtypes in matplotlib plots
from pandas.plotting import register_matplotlib_converters

register_matplotlib_converters()

fig, ax = plt.subplots(figsize=(10, 10))

sns.heatmap(
    nil_daily_rentals.corr(),
    ax=ax,
    square=True,
    cmap=sns.diverging_palette(20, 230, as_cmap=True),
    linewidths=0.5,
    cbar_kws={"shrink": 0.5},
).set(xlabel="", ylabel="", title="Correlation Between Each Neighbourhood Time Series");


px.imshow(
    nil_daily_rentals.corr(),
    width=1000,
    height=1000,
    color_continuous_scale=px.colors.diverging.Geyser[::-1],
    labels={"x": "", "y": ""},
).update_layout(title_text="Correlation Across Neighbourhoods", font_family="Consolas")


nil.head()


px.choropleth(
    nil,
    geojson=nil.geometry,
    locations=nil.nil,
    hover_name="nil",
    color_continuous_scale=px.colors.sequential.Plasma,
).update_layout(
    mapbox_style="open-street-map", height=500, margin={"r": 0, "t": 0, "l": 0, "b": 0}
)


px.choropleth_mapbox(
    nil,
    geojson=nil.geometry,
    locations=nil.index,
    hover_name="nil",
    color_continuous_scale=px.colors.sequential.Plasma,
).update_layout(
    mapbox_style="open-street-map", height=500, margin={"r": 0, "t": 0, "l": 0, "b": 0}
).update_geos(
    projection=dict(type="eckert4")
)


# good luck with the settings:
# https://plotly.com/python/reference/layout/geo/

px.scatter_mapbox(
    bikemi_stalls,
    lon=bikemi_stalls.geometry.x,
    lat=bikemi_stalls.geometry.y,
    hover_name=bikemi_stalls.reset_index()["nome"],
).update_layout(
    mapbox_style="open-street-map", height=500, margin={"r": 0, "t": 0, "l": 0, "b": 0}
).update_geos(
    projection=dict(type="eckert4")
)


nil_aggregated_outflow.to_csv("../data/bikemi_csv/nil_daily_outflow.csv")


nil_municipi = geopandas.sjoin(nil, municipi, how="inner", op="intersects")


nil_municipi.head()


nil_municipi = (
    nil_municipi[["nil", "MUNICIPIO", "geometry"]]
    .rename(
        columns={
            "nil": "nil_name",
            "MUNICIPIO": "municipio",
            "geometry": "geometry_municipio",
        }
    )
    .join(nil)
    .reset_index()
    .rename(columns={"geometry": "geometry_nil"})
    .drop("nil", axis=1)
)
