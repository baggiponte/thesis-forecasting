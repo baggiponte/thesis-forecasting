{
 "cells": [
  {
   "cell_type": "code",
   "execution_count": null,
   "id": "a56579d2",
   "metadata": {
    "tags": [
     "hide-cell"
    ]
   },
   "outputs": [],
   "source": [
    "import warnings  # suppress future warnings\n",
    "\n",
    "import pandas as pd\n",
    "import numpy as np\n",
    "import psycopg2\n",
    "\n",
    "import matplotlib.pyplot as plt\n",
    "import seaborn as sns\n",
    "\n",
    "from typing import Optional\n",
    "\n",
    "from pandas.plotting import register_matplotlib_converters\n",
    "\n",
    "pd.options.display.float_format = '{:.3f}'.format\n",
    "register_matplotlib_converters()\n",
    "\n",
    "# set settings for seaborn\n",
    "sns.set_style(style=\"whitegrid\", rc={\"grid.color\": \".9\"})\n",
    "sns.set_palette(palette=\"deep\")\n",
    "sns_c = sns.color_palette(palette=\"deep\")\n",
    "\n",
    "# customise matplotlib and sns plot dimensions\n",
    "plt.rcParams[\"figure.figsize\"] = [12, 6]\n",
    "plt.rcParams[\"figure.dpi\"] = 100\n",
    "title_font = {\"fontname\": \"DejaVu Sans Mono\"}\n",
    "\n",
    "conn = psycopg2.connect(\"dbname = bikemi user=luca\")\n",
    "\n",
    "warnings.simplefilter(action=\"ignore\", category=FutureWarning)\n",
    "\n",
    "\n",
    "def retrieve_daily_data(connection, wide: bool = False) -> pd.DataFrame:\n",
    "    query = \"\"\"\n",
    "        SELECT\n",
    "            cdr.data_partenza,\n",
    "            cdr.cluster,\n",
    "            cdr.noleggi_giornalieri\n",
    "        FROM bikemi_rentals.clusters_daily_rentals cdr\n",
    "    \"\"\"\n",
    "\n",
    "    if not wide:\n",
    "        return pd.read_sql(query, connection).rename(index=str.title)\n",
    "    return (\n",
    "        pd.read_sql(query, connection)\n",
    "            .pivot(index=\"data_partenza\", columns=\"cluster\", values=\"noleggi_giornalieri\")\n",
    "            .rename(columns=str.title)\n",
    "            .asfreq(\"D\")\n",
    "    )\n",
    "\n",
    "\n",
    "daily_rentals: pd.DataFrame = retrieve_daily_data(conn, wide=True)"
   ]
  },
  {
   "cell_type": "markdown",
   "id": "3c68ebc8",
   "metadata": {
    "citation-manager": {
     "citations": {
      "2x8t3": [
       {
        "id": "7765261/FEXLEIKV",
        "source": "zotero"
       }
      ],
      "9ne85": [
       {
        "id": "7765261/GNCFHQJC",
        "source": "zotero"
       }
      ],
      "j31in": [
       {
        "id": "7765261/Y6KTLUAA",
        "source": "zotero"
       }
      ],
      "mgx7s": [
       {
        "id": "7765261/U99GIW45",
        "source": "zotero"
       }
      ],
      "nbbbp": [
       {
        "id": "7765261/P3GYRQUA",
        "source": "zotero"
       }
      ],
      "pmecw": [
       {
        "id": "7765261/GNCFHQJC",
        "source": "zotero"
       }
      ],
      "pnkdo": [
       {
        "id": "7765261/BYWM4QNC",
        "source": "zotero"
       }
      ],
      "xin0g": [
       {
        "id": "7765261/XAXEHQ4L",
        "source": "zotero"
       }
      ],
      "ydo7j": [
       {
        "id": "7765261/XAXEHQ4L",
        "source": "zotero"
       }
      ],
      "zxvne": [
       {
        "id": "7765261/U99GIW45",
        "source": "zotero"
       }
      ]
     }
    },
    "tags": []
   },
   "source": [
    "# Demand Forecasting\n",
    "\n",
    "## Type of Forecast and Benchmark Model\n",
    "\n",
    "Forecast can be of two types: point forecast or distributional forecast. The demand forecasts in the bike-sharing literature are point forecast and, to the best of our knowledge, do not report confidence intervals. Indeed, distributional accuracy has seldom been the goal of forecasters. As an example, forecasting competitions have been held since the late 1970s at least and are nowadays quite popular - as much as they are controversial. However, the first forecasting competition to feature measurements of the prediction interval accuracy was the so-called M4, held in 2018 <cite id=\"mgx7s\">(Hyndman, 2020)</cite>.\n",
    "\n",
    "When assessing the performance of a model, a benchmark needs to be established. As benchmark models we choose naïve models instead of, say, fully-fledged ARIMA (auto-regressive, integrated moving average). For the most part, authors in the literature assess the performances of their models by simply pitting them against each other <cite id=\"xin0g\">(Hamad et al., 2021)</cite>. This is the case when more models are trained. In the case of the deep-learning branch of the literature, more sophisticated machine learning models are fitted to establish a higher benchmark for the artificial neural network to beat. Ensemble methods such as random forest regressions are usually used, as they can capture non-linear relationships  <cite id=\"nbbbp\">(Wang &#38; Kim, 2018)</cite>.\n",
    "\n",
    "Naïve models seems more appropriate in the context of our analysis, as we are not interested in establishing a threshold in terms of the \"best\" model, but also the simplest and easiest to implement. After all, it would seem quite reasonable for the policymaker/BSS manager to implement a simple moving average model to forecast the number of bikes to make available at each stall at each time of the day.\n",
    "\n",
    "## Metrics\n",
    "\n",
    "To evaluate the performance of the models, one or more evaluation metrics are chosen. There are a plethora of metrics which have different meanings: the literature has not yet agreed upon a specific metric or set of metrics be used specifically for forecasting bike-sharing demand, and thus some of the most common error metrics are chosen. There is only one instance where fitting time was also taken into account <cite id=\"ydo7j\">(Hamad et al., 2021)</cite>.\n",
    "\n",
    "In a way or another, evaluation metrics for point forecast are always a non-linear function $f(\\hat{y}_t - y_y)$ of\n",
    "the (sum of) prediction error, defined as $e_{t} = y_{t} - \\hat{y}_{t}$. Often squares, squared roots and absolute values are involved, to return a positive value. Metrics can be of two types: scale-dependent and percentage. The difference between the two is that scale-dependent metrics cannot be used to compare performance on models trained on different datasets. A possible strategy to work around this problem is to divide the original series by its maximum value: this turns scale-dependent metrics into de-facto percentage errors, that are easier to interpret.\n",
    "\n",
    "### Scale Dependent Metrics\n",
    "\n",
    "The first and by far most popular error metrics are the mean absolute error (MAE) and the root mean squared error (RMSE). These are defined as such:\n",
    "\n",
    "\\begin{align}\n",
    "&MAE = \\frac{1}{n}\\sum_{j = 1}^n \\left| {{y_j} - {{\\hat y}_j}} \\right|\\\\\n",
    "&RMSE=\\sqrt{\\frac{1}{n}\\sum_{j=1}^{n}(\\hat{y}_{i}-y_{i})^{2}}\\\\\n",
    "\\end{align}\n",
    "\n",
    "These metrics are widely used, and virtually all papers in the literature employ either (MAE seems to be prevalent). Another \"niche\" metric is sometimes used: it is the root mean squared logarithmic error, or RMSLE. This is defined as:\n",
    "\n",
    "\\begin{align}\n",
    "&RMSLE =\\sqrt{\\frac{1}{n}\\sum_{i=1}^{N}(log(\\hat{y}_{i}+1)-\\log(y_{i}+1))^{2}}\n",
    "\\end{align}\n",
    "\n",
    "We could track the (possibly) first usage of this metric in the field thanks to a [Kaggle competition held in 2014](https://www.kaggle.com/c/bike-sharing-demand) <cite id=\"9ne85\">(Lozano et al., 2018)</cite>. Kaggle \"was the first online platform dedicated to data mining competitions; it was established in 2010 by Australian economist Anthony Goldbloom\" <cite id=\"zxvne\">(Hyndman, 2020)</cite>. The \"fundamental reason\" behind RMSLE is that \"the logarithmic-based calculation ensures that the errors during peak hours do not dominate the errors made during off-peak hours\" <cite id=\"pmecw\">(Lozano et al., 2018)</cite>. This is also the case for which MAE is also preferred: \"We choose MAE instead of MSE because MAE is more stable to outliers and so does the case in MSLE vs. MAPE\" <cite id=\"pnkdo\">(Chen et al., 2017)</cite>.\n",
    "\n",
    "However, it is worth noting that \"A forecast method that minimises the MAE will lead to forecasts of the median, while minimising the RMSE will lead to forecasts of the mean. Consequently, the RMSE is also widely used, despite being more difficult to interpret\" <cite id=\"j31in\">(R. J. Hyndman, 2020)</cite>.\n",
    "\n",
    "### Percentage Metrics\n",
    "\n",
    "The advantage of percentage errors is that they are unit-free and can be used to compare performance across different datasets. This case might be of our interst, since we might want to apply the same model architectures to the different time series of the stations. The most common percentage metric employed is the Mean absolute percentage error, or MAPE, which is defined as follows:\n",
    "\n",
    "\\begin{align}\n",
    "&MAPE= \\frac{1}{n}\\sum_{i=1}^{n}\\left\\vert \\frac{\\hat{y}_{i}-y_{i}}{y_{i}}\\right\\vert\n",
    "\\end{align}\n",
    "\n",
    "The disadvantage of MAPE is that it may involve divisions by zero, yielding undefined terms (or, when the ground truth is close to zero, infinite error). This makes the MAPE less popular in the bike-sharing services (BSS) literature, especially with hourly forecasts as the demand will be zero during the hours when the service is not active.\n",
    "\n",
    "To circumvent this problem, Hyndman and Koheler <cite id=\"2x8t3\">(R. J. Hyndman &#38; Koehler, 2006)</cite> proposed to use *scaled* error metrics. Simply put, the MAE is computed and then is scaled by the *training* MAE of a simple forecast method. The scaled error $q_j$ is defined as such:\n",
    "\n",
    "\\begin{align}\n",
    "q_{j} = \\frac{\\displaystyle e_{j}}\n",
    "    {\\displaystyle\\frac{1}{T-1}\\sum_{t=2}^T |y_{t}-y_{t-1}|}.\n",
    "\\end{align}\n",
    "\n",
    "And then the mean absolute scaled error (MASE) and root mean squared scaled error (RMSSE) are defined as such:\n",
    "\n",
    "\\begin{align}\n",
    "& MASE = \\text{mean}(|q_{j}|) \\\\\n",
    "& RMSSE = \\sqrt{\\text{mean}(q_{j}^2)}\n",
    "\\end{align}\n",
    "\n",
    "MASE and RMSSE are not available in vanilla scikit-learn, as they require fitting a naive model. They are, however, available in sktime, the scikit-learn-compatible time series library developed at the Alan Turing Institute."
   ]
  },
  {
   "cell_type": "code",
   "execution_count": null,
   "id": "e4e77336",
   "metadata": {
    "jupyter": {
     "outputs_hidden": false
    },
    "pycharm": {
     "name": "#%%\n"
    },
    "tags": [
     "hide-cell"
    ]
   },
   "outputs": [],
   "source": [
    "from sklearn.metrics import (\n",
    "    mean_absolute_error,\n",
    "    mean_squared_error,\n",
    "    mean_squared_log_error,\n",
    "    mean_absolute_percentage_error,\n",
    ")\n",
    "\n",
    "\n",
    "def model_diagnostics(y_pred: pd.Series, y_true: pd.Series) -> pd.DataFrame:\n",
    "    cols = [\"MAE\", \"RMSE\", \"RMSLE\"]\n",
    "\n",
    "    scores = [\n",
    "        mean_absolute_error(y_true, y_pred),\n",
    "        mean_squared_error(y_true, y_pred, squared=True),\n",
    "        mean_squared_log_error(y_true, y_pred, squared=True),\n",
    "    ]\n",
    "    return pd.DataFrame({\"metrics\": cols, \"scores\": scores}).round(5).T"
   ]
  },
  {
   "cell_type": "markdown",
   "id": "3a277567",
   "metadata": {
    "pycharm": {
     "name": "#%% md\n"
    }
   },
   "source": [
    "## Cross Validation\n",
    "\n",
    "The forecasting horizon is the number of data points that the want to forecast. The longer the horizon, the larger the prediction interval becomes; however, since we are just interested in the point forecast this does not concern us as much. There is no consensus on the literature on the kind of forecasting horizon `fh` to be used: this, of course, varies according to the frequency of the data. Sometimes, deep learning models are used to forecast the demand at the next hour, as they are intended to be later deployed as real-time applications. Since we have daily data, we shall use a 7 day forecasting horizon.\n",
    "\n",
    "The cross-validation (CV) technique used is the sliding window, that looks like the example below:\n",
    "\n",
    "```\n",
    "|-----------------------|\n",
    "| * * * * * x x x - - - |\n",
    "| - * * * * * x x x - - |\n",
    "| - - * * * * * x x x - |\n",
    "| - - - * * * * * x x x |\n",
    "```\n",
    "\n",
    "The `*` indicate the (sliding) training set, that in our case has length 365 - to capture yearly seasonalities. The `x` represent the forecasting horizon `fh` and at each iteration the window slides by a step parameter of one. This implies more than 700 models are fit for each algorithm, on a Intel i5-5350U CPU (fitfh generation) with 1.80GHz, 4 cores (the GPU is integrated in the SoC).\n",
    "\n",
    "To implement this cross-validation scheme we use the dedicated `sktime` function. This implies that the resulting `generator object` cannot be passed to scikit-learn's `cross_val_pred` function, that fits the estimator on each fold. Even if it did, this would not be enough, as the function does *not* compute by default the average prediction of the point. Such features are implemented by the `pmdarima` library, which works only with ARIMA models. `sktime` does not offer this capabilites, yet, but implements an `evaluate` function that returns the forecast at each interval.\n",
    "\n",
    "We write a custom function to average the predictions and take that as the predicted value of the model. This implies that our models will be low in variance: we are de facto aggregating several weak learners into an ensemble method, dampening the variance."
   ]
  },
  {
   "cell_type": "code",
   "execution_count": null,
   "id": "3e438637",
   "metadata": {
    "jupyter": {
     "outputs_hidden": false
    },
    "pycharm": {
     "name": "#%%\n"
    },
    "tags": [
     "hide-cell"
    ]
   },
   "outputs": [],
   "source": [
    "from sktime.forecasting.model_selection import SlidingWindowSplitter\n",
    "\n",
    "cv_generator = SlidingWindowSplitter(fh=np.arange(1, 8),\n",
    "                                     step_length=1,\n",
    "                                     window_length=365\n",
    "                                     )\n",
    "\n",
    "\n",
    "def get_cv_predictions(evaluated_cv: pd.DataFrame) -> pd.DataFrame:\n",
    "    return (\n",
    "        pd.concat([evaluated_cv[\"y_pred\"][k] for k in range(evaluated_cv.shape[0])], axis=1)\n",
    "            .apply(np.mean, axis=1)\n",
    "            .rename(\"predictions\")\n",
    "    )"
   ]
  },
  {
   "cell_type": "markdown",
   "id": "c892c5a5",
   "metadata": {
    "pycharm": {
     "name": "#%% md\n"
    }
   },
   "source": [
    "## Naïve Forecaster\n",
    "\n",
    "As naive forecaster, we simply choose a seasonal model with periodicity set to 7 (i.e., takes the value of the demand on the same day of the week before). We pass the model trough the cross-validation pipeline solely to get an estimate of the fitting time: to obtain the results it would be sufficient to shift the whole series by one week."
   ]
  },
  {
   "cell_type": "code",
   "execution_count": null,
   "id": "8a5c4fec",
   "metadata": {
    "jupyter": {
     "outputs_hidden": false
    },
    "pycharm": {
     "name": "#%%\n"
    },
    "tags": [
     "hide-cell"
    ]
   },
   "outputs": [],
   "source": [
    "from sktime.forecasting.naive import NaiveForecaster\n",
    "from sktime.utils.plotting import plot_series\n",
    "\n",
    "y = daily_rentals[\"Brera - 25\"]\n",
    "y_true = daily_rentals[\"Brera - 25\"][365:]\n",
    "\n",
    "naive_forecaster = NaiveForecaster(strategy=\"last\",\n",
    "                                   sp=7)  # weekly seasonal periodicity"
   ]
  },
  {
   "cell_type": "code",
   "execution_count": null,
   "id": "3504bf93",
   "metadata": {
    "jupyter": {
     "outputs_hidden": false
    },
    "pycharm": {
     "name": "#%%\n"
    },
    "tags": [
     "hide-input"
    ]
   },
   "outputs": [],
   "source": [
    "quick_naive_preds = pd.Series(data=daily_rentals[\"Brera - 25\"][358:-7].values, index=y[365:].index)\n",
    "naive_fig = plot_series(quick_naive_preds, y_true, labels=[\"naive preds\", \"truth\"])\n",
    "plt.title(\"Naive forecasts\", **title_font)\n",
    "plt.show(naive_fig)"
   ]
  },
  {
   "cell_type": "code",
   "execution_count": null,
   "id": "3412f794",
   "metadata": {
    "jupyter": {
     "outputs_hidden": false
    },
    "pycharm": {
     "name": "#%%\n"
    },
    "tags": [
     "hide-input"
    ]
   },
   "outputs": [],
   "source": [
    "naive_diagnostics = model_diagnostics(quick_naive_preds, y_true)\n",
    "\n",
    "naive_diagnostics"
   ]
  },
  {
   "cell_type": "markdown",
   "id": "e52c9104",
   "metadata": {
    "citation-manager": {
     "citations": {
      "86exo": [
       {
        "id": "7765261/Q2EA337L",
        "source": "zotero"
       }
      ],
      "vred7": [
       {
        "id": "7765261/JIUXNKNT",
        "source": "zotero"
       }
      ]
     }
    },
    "pycharm": {
     "name": "#%% md\n"
    },
    "tags": []
   },
   "source": [
    "## Univariate Time Series: Arima\n",
    "\n",
    "ARIMA models are some of the most ubiquitous time-series algorithms. Usually, they require fine-hand, which is not feasible when forecasting multiple time series. Luckily, Hyndman and Khandakar <cite id=\"vred7\">(R. J. Hyndman &#38; Khandakar, 2008)</cite> came up with an algoritm to automatically compute the optimal parameters, which is not the usual grid-search. This algorithm was implemented in R and then ported to Python with the `pmdarima` library <cite id=\"86exo\">(Smith &#38; others, 2017)</cite>.\n",
    "\n",
    "In fact, normally Auto-ARIMA would use differencing tests (like the KPSS and ADF test in the previous chapter, but also the Phillips–Perron) to determine the order of differencing `d`, if not specified, and then fit models within ranges of defined `start_p`, `max_p`, `start_q`, `max_q`. If the seasonal optional is enabled, auto-ARIMA also seeks to identify the optimal `P`,`D and `Q` hyperparameters`.\n",
    "\n",
    "In order to find the best model, with the stepwise procedure the auto-ARIMA optimizes for a given information criterion, like the Akaike Information Criterion and the Bayesian Information Criterion. Simply put, the AIC and BIC are a linear function of the maximum likelihood with a correction to penalise specifications that are too complex."
   ]
  },
  {
   "cell_type": "code",
   "execution_count": null,
   "id": "23cb113c",
   "metadata": {
    "jupyter": {
     "outputs_hidden": false
    },
    "pycharm": {
     "name": "#%%\n"
    },
    "tags": [
     "hide-input"
    ]
   },
   "outputs": [],
   "source": [
    "import pmdarima as pm\n",
    "\n",
    "y_train, y_test = model_selection.train_test_split(y, train_size=0.1)\n",
    "\n",
    "# Fit a simple auto_arima model\n",
    "autoarima = pm.auto_arima(y_train,\n",
    "                          start_p=0, start_q=0,\n",
    "                          max_p=5, max_q=5,\n",
    "                          d=0,  # only seasonal differencing\n",
    "                          m=7,\n",
    "                          start_P=1, start_Q=1,\n",
    "                          max_P=5, max_Q=5,\n",
    "                          D=1,\n",
    "                          test=\"kpss\",\n",
    "                          information_criterion=\"bic\",\n",
    "                          trace=True,\n",
    "                          seasonal=True,\n",
    "                          stepwise=True,\n",
    "                          error_action='trace',\n",
    "                          suppress_warnings=True,\n",
    "                          random_state=42)"
   ]
  },
  {
   "cell_type": "markdown",
   "id": "ab0fada0",
   "metadata": {
    "pycharm": {
     "name": "#%% md\n"
    }
   },
   "source": [
    "The auto-ARIMA procedure suggests a SARIMA(1,0,1)(0,1,1,7), using both the Akaike Information Criterion (AIC) and Bayesian Information Criterion (BIC). Before fitting, let's have a look at the diagnostics. We need to verify that residuals are standardised with zero mean, and normally distributed and that are not serially correlated."
   ]
  },
  {
   "cell_type": "code",
   "execution_count": null,
   "id": "f90c3a28",
   "metadata": {
    "jupyter": {
     "outputs_hidden": false
    },
    "pycharm": {
     "name": "#%%\n"
    },
    "tags": [
     "hide-input"
    ]
   },
   "outputs": [],
   "source": [
    "import warnings\n",
    "warnings.filterwarnings(\"UserWarning\")\n",
    "\n",
    "autoarima.plot_diagnostics(figsize=(10,8))\n",
    "plt.plot()"
   ]
  },
  {
   "cell_type": "code",
   "execution_count": null,
   "id": "237f89ed",
   "metadata": {
    "jupyter": {
     "outputs_hidden": false
    },
    "pycharm": {
     "name": "#%%\n"
    },
    "tags": [
     "hide-cell"
    ]
   },
   "outputs": [],
   "source": [
    "from pmdarima import model_selection\n",
    "\n",
    "sliding_arima = pm.ARIMA(order=autoarima.order,\n",
    "                         seasonal_order=autoarima.seasonal_order,\n",
    "                         suppress_warnings=True)\n",
    "\n",
    "pmdarima_cv = model_selection.SlidingWindowForecastCV(window_size=365,\n",
    "                                                      h=14,\n",
    "                                                      step=7\n",
    ")\n",
    "\n",
    "pdmarima_predictions = model_selection.cross_val_predict(sliding_arima, y,\n",
    "                                                cv=pmdarima_cv, verbose=False,\n",
    "                                                averaging=\"mean\")"
   ]
  },
  {
   "cell_type": "code",
   "execution_count": null,
   "id": "07c1a182",
   "metadata": {
    "jupyter": {
     "outputs_hidden": false
    },
    "pycharm": {
     "name": "#%%\n"
    },
    "tags": [
     "hide-input"
    ]
   },
   "outputs": [],
   "source": [
    "pmdarima_fig = plot_series(pd.DataFrame(pdmarima_predictions, index=y_true[4:].index), y_true[4:], labels=[\"Auto-ARIMA\", \"truth\"])\n",
    "plt.title(\"Auto-ARIMA forecasts\", **title_font)\n",
    "plt.show(pmdarima_fig)"
   ]
  },
  {
   "cell_type": "markdown",
   "id": "e6c967d8",
   "metadata": {
    "pycharm": {
     "name": "#%% md\n"
    }
   },
   "source": [
    "The ARIMA model follows the trend, but does not seem to catch the sudden spikes and dips due to holidays, which echo in later observations with some delay - even if the seasonal component is just `Q=1`. Fitting time was significantly higher, so we chose to double the forecasting horizon and set the forecasting step to 7, actually fitting a bit less than half of the initial 726 models. `pmdarima`'s `cross_val_predict` already averages the results. We are not surprised to see a performance that is not stellar, but the results are actually discouraging: the model performs worse than the naive benchmark."
   ]
  },
  {
   "cell_type": "code",
   "execution_count": null,
   "id": "dc7f8f7f",
   "metadata": {
    "jupyter": {
     "outputs_hidden": false
    },
    "pycharm": {
     "name": "#%%\n"
    },
    "tags": [
     "hide-input"
    ]
   },
   "outputs": [],
   "source": [
    "pmdarima_diagnostics = model_diagnostics(pdmarima_predictions, y_true[4:])\n",
    "pmdarima_diagnostics"
   ]
  },
  {
   "cell_type": "markdown",
   "id": "5d0b807e",
   "metadata": {
    "citation-manager": {
     "citations": {
      "4s1s2": [
       {
        "id": "7765261/5Y8G2MRX",
        "source": "zotero"
       }
      ]
     }
    },
    "pycharm": {
     "name": "#%% md\n"
    },
    "tags": []
   },
   "source": [
    "## Unvariate Time Series: Prophet\n",
    "\n",
    "[`prophet`](https://github.com/facebook/prophet) is a time-series forecasting library developed by Meta (back when it was still called Facebook). It is also by far the most popular time series forecasting framework for Python: it has a whopping 13.4k stars on GitHub, and tops the list of the `forecasting` [topic](https://github.com/topics/forecasting) on GitHub, with more than 10k stars compared to the second runner, `sktime`. Many of the - unofficial - PyPi rankings [such as this one](https://hugovk.github.io/top-pypi-packages/) put it at over one million monthly downloads. Its lure is understandable: forecasting is as simple as importing the library and fitting a model, with little to no tweaking.\n",
    "\n",
    "The library makes some bold claims, as it can be seen from the name. Upholding the library is a Bayesian model written in Stan, which simply decomposes a time series model into trend, season, and holiday components. In particular, Prophet can be broken down in three main features.\n",
    "\n",
    "First, the libray supports logistic or linear growth trend, with optional linear splines (knots are referred to as “change points”) and, by default, \"specifies 25 potential changepoints which are uniformly placed in the first 80% of the time series\" <cite id=\"4s1s2\">(Taylor &#38; Letham, 2017)</cite>. Secondly, it implements Fourier series for seasonal terms, and users can also specify their own seasonalities (according to their domain knowledge), along the period and the Fourier order. Finally, Gaussian functions are used for holiday effects - making the holiday effect smoother compared to using dummies, and users can specify the country holidays they refer to. This is possible because of the Python package `holidays`, which also implements regional holidays. Via `sktime`, users can also supply a `pandas.DataFrame` with holidays that are not recorded in `holidays`. However, since the only Milanese holiday not in the national calendar is Sant'Ambrogio, on December 7, which falls just right behind the national holiday of Immacolata, and the bell curves should capture its effects. Most importantly, however, Prophet just fits a local trend, without using any lag as predictor.\n",
    "\n",
    "According to the authors, the library purpose is to enable forecasting \"at scale\", that is \"suitable  for  1)  a  large  number  of  people  making  forecasts,  possibly  without  training  time  series  methods;  and  2)  a  large  variety  of  forecasting  problems  with  potentially idiosyncratic features\". They describe the model as \"flexible enough for  a  wide  range  of  business  time  series,  yet  configurable  by  non-experts  who  may  have domain knowledge about the data generating process but little knowledge about time series models and methods\". Finally, the model is designed to enable \"fast\" modeling for \"when hundreds or even thousands of forecasts\" are necessary.\n",
    "\n",
    "This makes it both flexible and dangerous: outside its domain, i.e. highly seasonal series, Prophet models won't likely yield accurate forecasts. For example, Prophet models simply cannot be applied in the financial sector, where models are random walks and \"tend to exhibit little highly profitable predictable seasonality\". Nonetheless, from our previous time-series analysis it is evident that our data displays multiple seasonal patterns, as well as holiday-related patterns which cannot be explained by a dichotomic dummy variable."
   ]
  },
  {
   "cell_type": "code",
   "execution_count": null,
   "id": "99b95802",
   "metadata": {
    "jupyter": {
     "outputs_hidden": false
    },
    "pycharm": {
     "name": "#%%\n"
    },
    "tags": [
     "hide-cell"
    ]
   },
   "outputs": [],
   "source": [
    "from sktime.forecasting.fbprophet import Prophet\n",
    "\n",
    "prophet_forecaster = Prophet(add_country_holidays={'country_name': 'Italy'},\n",
    "                             daily_seasonality=False,\n",
    "                             weekly_seasonality=True,\n",
    "                             yearly_seasonality=True)\n",
    "\n",
    "prophet_fit = evaluate(prophet_forecaster, cv_generator, y, return_data=True)"
   ]
  },
  {
   "cell_type": "code",
   "execution_count": null,
   "id": "e469ae06",
   "metadata": {
    "jupyter": {
     "outputs_hidden": false
    },
    "pycharm": {
     "name": "#%%\n"
    },
    "tags": [
     "hide-input"
    ]
   },
   "outputs": [],
   "source": [
    "prophet_preds = get_cv_predictions(prophet_fit)\n",
    "prophet_fig = plot_series(y_true, prophet_preds, labels=[\"Truth\", \"Prophet\"])\n",
    "plt.title(\"Prophet forecasts\", **title_font)\n",
    "plt.show(prophet_fig)"
   ]
  },
  {
   "cell_type": "markdown",
   "id": "d12e0152",
   "metadata": {
    "pycharm": {
     "name": "#%% md\n"
    }
   },
   "source": [
    "The model clearly captures the trend dynamics and is quite quick in capturing the sudden changes. The peaks are sometimes too smooth and there are some non-positive values that need to be replaced. This happens to less than 15 observations, but these predictions can be as low as -135 trips and, to the best of our knowledge, there is no way to enforce these limitations to the estimator."
   ]
  },
  {
   "cell_type": "code",
   "execution_count": null,
   "id": "f561147e",
   "metadata": {
    "jupyter": {
     "outputs_hidden": false
    },
    "pycharm": {
     "name": "#%%\n"
    },
    "tags": [
     "hide-input"
    ]
   },
   "outputs": [],
   "source": [
    "def remove_negatives(data: pd.DataFrame) -> pd.DataFrame:\n",
    "    data[data < 0] = 1\n",
    "    return data\n",
    "\n",
    "\n",
    "prophet_diagnostics = prophet_preds.pipe(remove_negatives).pipe(model_diagnostics, y_true)\n",
    "prophet_diagnostics"
   ]
  },
  {
   "cell_type": "markdown",
   "id": "5d292e7d",
   "metadata": {},
   "source": [
    "<!-- BIBLIOGRAPHY START -->\n",
    "<div class=\"csl-bib-body\">\n",
    "  <div class=\"csl-entry\">Chen, P.-C., Hsieh, H.-Y., Sigalingging, X. K., Chen, Y.-R., &#38; Leu, J.-S. (2017). Prediction of Station Level Demand in a Bike Sharing System Using Recurrent Neural Networks. <i>2017 IEEE 85th Vehicular Technology Conference (VTC Spring)</i>, 1–5. https://doi.org/10.1109/VTCSpring.2017.8108575</div>\n",
    "\n",
    "  <div class=\"csl-entry\">Hamad, S. Y. Y., Ma, T., &#38; Antoniou, C. (2021). Analysis and Prediction of Bikesharing Traffic Flow – Citi Bike, New York. <i>2021 7th International Conference on Models and Technologies for Intelligent Transportation Systems (MT-ITS)</i>, 1–8. https://doi.org/10.1109/MT-ITS49943.2021.9529290</div>\n",
    "\n",
    "  <div class=\"csl-entry\">Hyndman, R., &#38; Athanasopoulos, G. (2021). <i>Forecasting: Principles and Practice</i>. https://research.monash.edu/en/publications/forecasting-principles-and-practice-3</div>\n",
    "\n",
    "  <div class=\"csl-entry\">Hyndman, R. J. (2020). A brief history of forecasting competitions. <i>International Journal of Forecasting</i>, <i>36</i>(1), 7–14. https://doi.org/10.1016/j.ijforecast.2019.03.015</div>\n",
    "\n",
    "  <div class=\"csl-entry\">Hyndman, R. J., &#38; Khandakar, Y. (2008). Automatic Time Series Forecasting: The forecast Package for R. <i>Journal of Statistical Software</i>, <i>27</i>, 1–22. https://doi.org/10.18637/jss.v027.i03</div>\n",
    "\n",
    "  <div class=\"csl-entry\">Hyndman, R. J., &#38; Koehler, A. B. (2006). Another look at measures of forecast accuracy. <i>International Journal of Forecasting</i>, <i>22</i>(4), 679–688. https://doi.org/10.1016/j.ijforecast.2006.03.001</div>\n",
    "\n",
    "  <div class=\"csl-entry\">Lozano, Á., De Paz, J. F., Villarrubia González, G., Iglesia, D. H. D. L., &#38; Bajo, J. (2018). Multi-Agent System for Demand Prediction and Trip Visualization in Bike Sharing Systems. <i>Applied Sciences</i>, <i>8</i>(1), 67. https://doi.org/10.3390/app8010067</div>\n",
    "\n",
    "  <div class=\"csl-entry\">Smith, T. G., &#38; others. (2017). <i>pmdarima</i>. http://www.alkaline-ml.com/pmdarima</div>\n",
    "\n",
    "  <div class=\"csl-entry\">Taylor, S. J., &#38; Letham, B. (2017). <i>Forecasting at scale</i> (e3190v2). PeerJ Inc. https://doi.org/10.7287/peerj.preprints.3190v2</div>\n",
    "\n",
    "  <div class=\"csl-entry\">Wang, B., &#38; Kim, I. (2018). Short-term prediction for bike-sharing service using machine learning. <i>Transportation Research Procedia</i>, <i>34</i>, 171–178. https://doi.org/10.1016/j.trpro.2018.11.029</div>\n",
    "\n",
    "</div>\n",
    "<!-- BIBLIOGRAPHY END -->"
   ]
  }
 ],
 "metadata": {
  "jupytext": {
   "formats": "notebooks///ipynb,body///md:myst",
   "text_representation": {
    "extension": ".md",
    "format_name": "myst",
    "format_version": 0.13,
    "jupytext_version": "1.11.5"
   }
  },
  "kernelspec": {
   "display_name": "Python 3 (ipykernel)",
   "language": "python",
   "name": "python3"
  },
  "source_map": [
   15,
   71,
   135,
   164,
   186,
   212,
   218,
   238,
   254,
   269,
   279,
   312,
   316,
   333,
   359,
   374,
   378,
   392,
   406,
   426,
   442,
   446,
   463
  ]
 },
 "nbformat": 4,
 "nbformat_minor": 5
}