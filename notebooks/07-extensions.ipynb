{
 "cells": [
  {
   "cell_type": "markdown",
   "id": "35dd812e-5876-45e0-b0d5-6f9fae041157",
   "metadata": {},
   "source": [
    "# Extensions"
   ]
  },
  {
   "cell_type": "markdown",
   "id": "22bf358c-7213-4c37-b886-1e0a88b01685",
   "metadata": {},
   "source": [
    "* Use time and prices of bikes to forecast revenue\n",
    "    * forecast duration given starting point, time... then use the identifiers to derive revenue\n",
    "* Dockless sharing services in Milan"
   ]
  }
 ],
 "metadata": {
  "citation-manager": {
   "items": {}
  },
  "jupytext": {
   "formats": "notebooks///ipynb,body///md:myst"
  },
  "kernelspec": {
   "display_name": "Bike Sharing Forecasting",
   "language": "python",
   "name": "bikemi"
  },
  "language_info": {
   "codemirror_mode": {
    "name": "ipython",
    "version": 3
   },
   "file_extension": ".py",
   "mimetype": "text/x-python",
   "name": "python",
   "nbconvert_exporter": "python",
   "pygments_lexer": "ipython3",
   "version": "3.9.7"
  }
 },
 "nbformat": 4,
 "nbformat_minor": 5
}
