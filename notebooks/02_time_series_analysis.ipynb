{
 "cells": [
  {
   "cell_type": "markdown",
   "source": [
    "# Time Series Analysis"
   ],
   "metadata": {}
  },
  {
   "cell_type": "code",
   "execution_count": 2,
   "source": [
    "import pandas as pd\n",
    "import plotly.express as px\n",
    "pd.options.plotting.backend = \"plotly\"\n",
    "\n",
    "# import custom functions\n",
    "import custom_functions as funcs"
   ],
   "outputs": [],
   "metadata": {}
  },
  {
   "cell_type": "code",
   "execution_count": 3,
   "source": [
    "daily_outflow = pd.read_csv(\n",
    "    \"../data/bikemi_csv/daily_outflow.csv\",\n",
    "    parse_dates=[0],\n",
    "    index_col=[0]\n",
    ")"
   ],
   "outputs": [],
   "metadata": {}
  },
  {
   "cell_type": "code",
   "execution_count": null,
   "source": [
    "daily_outflow.index"
   ],
   "outputs": [],
   "metadata": {}
  },
  {
   "cell_type": "markdown",
   "source": [
    "Exploiting the `datetime` index, we can extract some new columns containing the information about the day and the month."
   ],
   "metadata": {}
  },
  {
   "cell_type": "code",
   "execution_count": 1,
   "source": [
    "funcs.create_ts_features(\n",
    "    daily_outflow, features=[\"day\", \"week\", \"month\", \"weekends\", \"holidays\"]\n",
    ")\n",
    "\n",
    "daily_outflow.head()"
   ],
   "outputs": [
    {
     "output_type": "error",
     "ename": "NameError",
     "evalue": "name 'funcs' is not defined",
     "traceback": [
      "\u001b[0;31m---------------------------------------------------------------------------\u001b[0m",
      "\u001b[0;31mNameError\u001b[0m                                 Traceback (most recent call last)",
      "\u001b[0;32m/var/folders/l4/2jcxzqs530l09q204wy86qlr0000gn/T/ipykernel_42100/1404600502.py\u001b[0m in \u001b[0;36m<module>\u001b[0;34m\u001b[0m\n\u001b[0;32m----> 1\u001b[0;31m funcs.create_ts_features(\n\u001b[0m\u001b[1;32m      2\u001b[0m     \u001b[0mdaily_outflow\u001b[0m\u001b[0;34m,\u001b[0m \u001b[0mfeatures\u001b[0m\u001b[0;34m=\u001b[0m\u001b[0;34m[\u001b[0m\u001b[0;34m\"day\"\u001b[0m\u001b[0;34m,\u001b[0m \u001b[0;34m\"week\"\u001b[0m\u001b[0;34m,\u001b[0m \u001b[0;34m\"month\"\u001b[0m\u001b[0;34m,\u001b[0m \u001b[0;34m\"weekends\"\u001b[0m\u001b[0;34m,\u001b[0m \u001b[0;34m\"holidays\"\u001b[0m\u001b[0;34m]\u001b[0m\u001b[0;34m\u001b[0m\u001b[0;34m\u001b[0m\u001b[0m\n\u001b[1;32m      3\u001b[0m )\n\u001b[1;32m      4\u001b[0m \u001b[0;34m\u001b[0m\u001b[0m\n\u001b[1;32m      5\u001b[0m \u001b[0mdaily_outflow\u001b[0m\u001b[0;34m.\u001b[0m\u001b[0mhead\u001b[0m\u001b[0;34m(\u001b[0m\u001b[0;34m)\u001b[0m\u001b[0;34m\u001b[0m\u001b[0;34m\u001b[0m\u001b[0m\n",
      "\u001b[0;31mNameError\u001b[0m: name 'funcs' is not defined"
     ]
    }
   ],
   "metadata": {}
  },
  {
   "cell_type": "code",
   "execution_count": null,
   "source": [
    "\n",
    "# def daily_outflow_barchart(dataframe):\n",
    "    \n",
    "#     df = dataframe.copy()\n",
    "\n",
    "#     df.day = dataframe.index.isocalendar().day\n",
    "\n",
    "\n",
    "\n",
    "daily_outflow[\"day\"] = daily_outflow.index.isocalendar().day\n",
    "daily_outflow.loc[ daily_outflow.day <= 5, \"is_weekend\"] = \"no\"\n",
    "daily_outflow.loc[ daily_outflow.day > 5, \"is_weekend\"] = \"yes\"\n",
    "\n",
    "\n",
    "fig = daily_outflow.plot.bar(\n",
    "    x = daily_outflow.index,\n",
    "    y = \"count\",\n",
    "    title=\"Bikes Daily Outflow (2019)\",\n",
    "    color = \"is_weekend\",\n",
    "    template = \"none\", # for plotly themes: https://plotly.com/python/templates/\n",
    "    labels = {\n",
    "        \"value\": \"Number of trips\",\n",
    "        \"giorno_partenza\" : \"date\",\n",
    "        \"is_weekend\": \"weekend\"\n",
    "    }\n",
    ")\n",
    "\n",
    "# see here: https://plotly.com/python/reference/layout/\n",
    "fig.update_layout(\n",
    "    title = {\n",
    "        \"x\" : 0.05,\n",
    "        # basically, what part of the title to put at position \"x\"\n",
    "        \"xanchor\": \"left\"\n",
    "    }\n",
    ")\n",
    "\n",
    "fig.show()"
   ],
   "outputs": [],
   "metadata": {}
  }
 ],
 "metadata": {
  "orig_nbformat": 4,
  "language_info": {
   "name": "python",
   "version": "3.9.6",
   "mimetype": "text/x-python",
   "codemirror_mode": {
    "name": "ipython",
    "version": 3
   },
   "pygments_lexer": "ipython3",
   "nbconvert_exporter": "python",
   "file_extension": ".py"
  },
  "kernelspec": {
   "name": "python3",
   "display_name": "Python 3.9.6 64-bit ('bikemi': conda)"
  },
  "interpreter": {
   "hash": "33c94b4e171e2bf77cc50254d34db5cf7f17acef9e5b34737d93186bb380771d"
  }
 },
 "nbformat": 4,
 "nbformat_minor": 2
}