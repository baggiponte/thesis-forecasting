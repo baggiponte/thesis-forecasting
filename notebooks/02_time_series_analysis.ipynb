{
 "cells": [
  {
   "cell_type": "markdown",
   "source": [
    "# Time Series Analysis"
   ],
   "metadata": {}
  },
  {
   "cell_type": "code",
   "execution_count": 1,
   "source": [
    "import pandas as pd\n",
    "import plotly.express as px\n",
    "pd.options.plotting.backend = \"plotly\"\n",
    "\n",
    "# import custom functions\n",
    "import custom_functions as funcs"
   ],
   "outputs": [],
   "metadata": {}
  },
  {
   "cell_type": "code",
   "execution_count": 2,
   "source": [
    "daily_outflow = pd.read_csv(\n",
    "    \"../data/bikemi_csv/daily_outflow.csv\",\n",
    "    parse_dates=[0],\n",
    "    index_col=[0]\n",
    ")"
   ],
   "outputs": [],
   "metadata": {}
  },
  {
   "cell_type": "markdown",
   "source": [
    "Exploiting the `datetime` index, we can extract some new columns containing the information about the day and the month."
   ],
   "metadata": {}
  },
  {
   "cell_type": "code",
   "execution_count": 3,
   "source": [
    "funcs.create_ts_features(\n",
    "    daily_outflow, features=[\"day\", \"week\", \"month\", \"weekends\", \"holidays\"]\n",
    ")\n",
    "\n",
    "daily_outflow.head()"
   ],
   "outputs": [
    {
     "output_type": "execute_result",
     "data": {
      "text/plain": [
       "                 count  day  is_weekend  week  month      dates    holiday\n",
       "giorno_partenza                                                           \n",
       "2019-01-01         831    1           1     1      1 2019-01-01  Capodanno\n",
       "2019-01-02        3512    2           1     1      1 2019-01-02       None\n",
       "2019-01-03        4126    3           0     1      1 2019-01-03       None\n",
       "2019-01-04        4201    4           0     1      1 2019-01-04       None\n",
       "2019-01-05        2875    5           0     1      1 2019-01-05       None"
      ],
      "text/html": [
       "<div>\n",
       "<style scoped>\n",
       "    .dataframe tbody tr th:only-of-type {\n",
       "        vertical-align: middle;\n",
       "    }\n",
       "\n",
       "    .dataframe tbody tr th {\n",
       "        vertical-align: top;\n",
       "    }\n",
       "\n",
       "    .dataframe thead th {\n",
       "        text-align: right;\n",
       "    }\n",
       "</style>\n",
       "<table border=\"1\" class=\"dataframe\">\n",
       "  <thead>\n",
       "    <tr style=\"text-align: right;\">\n",
       "      <th></th>\n",
       "      <th>count</th>\n",
       "      <th>day</th>\n",
       "      <th>is_weekend</th>\n",
       "      <th>week</th>\n",
       "      <th>month</th>\n",
       "      <th>dates</th>\n",
       "      <th>holiday</th>\n",
       "    </tr>\n",
       "    <tr>\n",
       "      <th>giorno_partenza</th>\n",
       "      <th></th>\n",
       "      <th></th>\n",
       "      <th></th>\n",
       "      <th></th>\n",
       "      <th></th>\n",
       "      <th></th>\n",
       "      <th></th>\n",
       "    </tr>\n",
       "  </thead>\n",
       "  <tbody>\n",
       "    <tr>\n",
       "      <th>2019-01-01</th>\n",
       "      <td>831</td>\n",
       "      <td>1</td>\n",
       "      <td>1</td>\n",
       "      <td>1</td>\n",
       "      <td>1</td>\n",
       "      <td>2019-01-01</td>\n",
       "      <td>Capodanno</td>\n",
       "    </tr>\n",
       "    <tr>\n",
       "      <th>2019-01-02</th>\n",
       "      <td>3512</td>\n",
       "      <td>2</td>\n",
       "      <td>1</td>\n",
       "      <td>1</td>\n",
       "      <td>1</td>\n",
       "      <td>2019-01-02</td>\n",
       "      <td>None</td>\n",
       "    </tr>\n",
       "    <tr>\n",
       "      <th>2019-01-03</th>\n",
       "      <td>4126</td>\n",
       "      <td>3</td>\n",
       "      <td>0</td>\n",
       "      <td>1</td>\n",
       "      <td>1</td>\n",
       "      <td>2019-01-03</td>\n",
       "      <td>None</td>\n",
       "    </tr>\n",
       "    <tr>\n",
       "      <th>2019-01-04</th>\n",
       "      <td>4201</td>\n",
       "      <td>4</td>\n",
       "      <td>0</td>\n",
       "      <td>1</td>\n",
       "      <td>1</td>\n",
       "      <td>2019-01-04</td>\n",
       "      <td>None</td>\n",
       "    </tr>\n",
       "    <tr>\n",
       "      <th>2019-01-05</th>\n",
       "      <td>2875</td>\n",
       "      <td>5</td>\n",
       "      <td>0</td>\n",
       "      <td>1</td>\n",
       "      <td>1</td>\n",
       "      <td>2019-01-05</td>\n",
       "      <td>None</td>\n",
       "    </tr>\n",
       "  </tbody>\n",
       "</table>\n",
       "</div>"
      ]
     },
     "metadata": {},
     "execution_count": 3
    }
   ],
   "metadata": {}
  },
  {
   "cell_type": "code",
   "execution_count": null,
   "source": [
    "\n",
    "# def daily_outflow_barchart(dataframe):\n",
    "    \n",
    "#     df = dataframe.copy()\n",
    "\n",
    "#     df.day = dataframe.index.isocalendar().day\n",
    "\n",
    "\n",
    "\n",
    "daily_outflow[\"day\"] = daily_outflow.index.isocalendar().day\n",
    "daily_outflow.loc[ daily_outflow.day <= 5, \"is_weekend\"] = \"no\"\n",
    "daily_outflow.loc[ daily_outflow.day > 5, \"is_weekend\"] = \"yes\"\n",
    "\n",
    "\n",
    "fig = daily_outflow.plot.bar(\n",
    "    x = daily_outflow.index,\n",
    "    y = \"count\",\n",
    "    title=\"Bikes Daily Outflow (2019)\",\n",
    "    color = \"is_weekend\",\n",
    "    template = \"none\", # for plotly themes: https://plotly.com/python/templates/\n",
    "    labels = {\n",
    "        \"value\": \"Number of trips\",\n",
    "        \"giorno_partenza\" : \"date\",\n",
    "        \"is_weekend\": \"weekend\"\n",
    "    }\n",
    ")\n",
    "\n",
    "# see here: https://plotly.com/python/reference/layout/\n",
    "fig.update_layout(\n",
    "    title = {\n",
    "        \"x\" : 0.05,\n",
    "        # basically, what part of the title to put at position \"x\"\n",
    "        \"xanchor\": \"left\"\n",
    "    }\n",
    ")\n",
    "\n",
    "fig.show()"
   ],
   "outputs": [],
   "metadata": {}
  }
 ],
 "metadata": {
  "orig_nbformat": 4,
  "language_info": {
   "name": "python",
   "version": "3.9.6",
   "mimetype": "text/x-python",
   "codemirror_mode": {
    "name": "ipython",
    "version": 3
   },
   "pygments_lexer": "ipython3",
   "nbconvert_exporter": "python",
   "file_extension": ".py"
  },
  "kernelspec": {
   "name": "python3",
   "display_name": "Python 3.9.6 64-bit ('bikemi': conda)"
  },
  "interpreter": {
   "hash": "33c94b4e171e2bf77cc50254d34db5cf7f17acef9e5b34737d93186bb380771d"
  }
 },
 "nbformat": 4,
 "nbformat_minor": 2
}