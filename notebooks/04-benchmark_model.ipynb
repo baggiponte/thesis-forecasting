{
 "cells": [
  {
   "cell_type": "markdown",
   "id": "ddc53be1-17e8-4655-b50f-3187e8aa78f5",
   "metadata": {},
   "source": [
    "# Import Libraries and Load Data"
   ]
  },
  {
   "cell_type": "code",
   "execution_count": 1,
   "id": "bd213ce4-3c03-4b04-862c-e2a428c1ecf3",
   "metadata": {},
   "outputs": [],
   "source": [
    "import pandas as pd"
   ]
  },
  {
   "cell_type": "markdown",
   "id": "e521e1b5-2390-4992-9339-821c84b0153d",
   "metadata": {},
   "source": [
    "We use `squeeze=True` to indicate that our data has only one column and we want to retrieve a `pandas.Series` (see [here](https://machinelearningmastery.com/load-explore-time-series-data-python/))"
   ]
  },
  {
   "cell_type": "code",
   "execution_count": 24,
   "id": "e52c8ec4-e53c-4ae2-b7a0-1710b7a03e08",
   "metadata": {},
   "outputs": [
    {
     "name": "stdout",
     "output_type": "stream",
     "text": [
      "Our data is a <class 'pandas.core.series.Series'>\n"
     ]
    },
    {
     "data": {
      "text/plain": [
       "giorno_partenza\n",
       "2019-01-01     831\n",
       "2019-01-02    3512\n",
       "2019-01-03    4126\n",
       "2019-01-04    4201\n",
       "2019-01-05    2875\n",
       "              ... \n",
       "2019-12-27    2995\n",
       "2019-12-28    1944\n",
       "2019-12-29    1269\n",
       "2019-12-30    2698\n",
       "2019-12-31    2126\n",
       "Freq: D, Name: count, Length: 365, dtype: int64"
      ]
     },
     "execution_count": 24,
     "metadata": {},
     "output_type": "execute_result"
    }
   ],
   "source": [
    "daily_rentals = pd.read_csv(\n",
    "    \"../data/bikemi_csv/daily_outflow.csv\",\n",
    "    index_col=[0],\n",
    "    parse_dates=[0],\n",
    "    squeeze=True\n",
    ").asfreq(freq='D')\n",
    "\n",
    "print(f\"Our data is a {type(daily_rentals)}\")\n",
    "\n",
    "daily_rentals"
   ]
  },
  {
   "cell_type": "markdown",
   "id": "5313eedc-4abe-4787-96dc-79b25f489232",
   "metadata": {},
   "source": [
    "We also need to make sure our index has a frequency - which we did with `.asfreq(\"D\")` above:"
   ]
  },
  {
   "cell_type": "code",
   "execution_count": 25,
   "id": "47cf6713-bf52-4d10-ab2a-2e48189408f6",
   "metadata": {},
   "outputs": [
    {
     "data": {
      "text/plain": [
       "DatetimeIndex(['2019-01-01', '2019-01-02', '2019-01-03', '2019-01-04',\n",
       "               '2019-01-05', '2019-01-06', '2019-01-07', '2019-01-08',\n",
       "               '2019-01-09', '2019-01-10',\n",
       "               ...\n",
       "               '2019-12-22', '2019-12-23', '2019-12-24', '2019-12-25',\n",
       "               '2019-12-26', '2019-12-27', '2019-12-28', '2019-12-29',\n",
       "               '2019-12-30', '2019-12-31'],\n",
       "              dtype='datetime64[ns]', name='giorno_partenza', length=365, freq='D')"
      ]
     },
     "execution_count": 25,
     "metadata": {},
     "output_type": "execute_result"
    }
   ],
   "source": [
    "daily_rentals.index"
   ]
  },
  {
   "cell_type": "markdown",
   "id": "59560dcc-e246-4d00-8080-1f53809ba310",
   "metadata": {},
   "source": [
    "# Naive forecaster"
   ]
  },
  {
   "cell_type": "markdown",
   "id": "51d61ead-2c25-471c-92ba-d6f2cfbe1ea9",
   "metadata": {},
   "source": [
    "We need to establish a benchmark:"
   ]
  },
  {
   "cell_type": "code",
   "execution_count": 7,
   "id": "0b522a9c-2261-47f0-bcb3-5b3229498361",
   "metadata": {},
   "outputs": [],
   "source": [
    "from sktime.forecasting.base import ForecastingHorizon\n",
    "from sktime.forecasting.model_selection import temporal_train_test_split\n",
    "from sktime.forecasting.naive import NaiveForecaster\n",
    "from sktime.performance_metrics.forecasting import mean_absolute_percentage_error"
   ]
  },
  {
   "cell_type": "markdown",
   "id": "148d9a9a-e34b-46d6-9c19-c61e2c962afb",
   "metadata": {},
   "source": [
    "We will be using a Seasonal Naive Forecaster (link Hyndman) where the predicted value is the one of the last seasonal value (i.e., 7 days before):"
   ]
  },
  {
   "cell_type": "code",
   "execution_count": 27,
   "id": "5d750aa6-481e-4220-b972-8ab86413ce90",
   "metadata": {},
   "outputs": [
    {
     "name": "stderr",
     "output_type": "stream",
     "text": [
      "C:\\Anaconda3\\envs\\bikemi_win\\lib\\site-packages\\sktime\\forecasting\\base\\_fh.py:451: FutureWarning: Timestamp.freqstr is deprecated and will be removed in a future version.\n",
      "  if not hasattr(cutoff, \"freqstr\") or cutoff.freqstr is None:\n",
      "C:\\Anaconda3\\envs\\bikemi_win\\lib\\site-packages\\sktime\\forecasting\\base\\_fh.py:461: FutureWarning: Timestamp.freqstr is deprecated and will be removed in a future version.\n",
      "  assert cutoff.freqstr == index.freqstr\n",
      "C:\\Anaconda3\\envs\\bikemi_win\\lib\\site-packages\\sktime\\utils\\datetime.py:65: FutureWarning: Timestamp.freqstr is deprecated and will be removed in a future version.\n",
      "  if hasattr(x, \"freqstr\"):\n",
      "C:\\Anaconda3\\envs\\bikemi_win\\lib\\site-packages\\sktime\\utils\\datetime.py:66: FutureWarning: Timestamp.freqstr is deprecated and will be removed in a future version.\n",
      "  return x.freqstr\n",
      "C:\\Anaconda3\\envs\\bikemi_win\\lib\\site-packages\\sktime\\utils\\datetime.py:88: FutureWarning: Timestamp.freq is deprecated and will be removed in a future version\n",
      "  if not hasattr(x, \"freq\") or x.freq is None:\n",
      "C:\\Anaconda3\\envs\\bikemi_win\\lib\\site-packages\\sktime\\utils\\datetime.py:90: FutureWarning: Timestamp.freq is deprecated and will be removed in a future version\n",
      "  by *= x.freq\n"
     ]
    },
    {
     "data": {
      "text/plain": [
       "0.6406029062204276"
      ]
     },
     "execution_count": 27,
     "metadata": {},
     "output_type": "execute_result"
    }
   ],
   "source": [
    "y_train, y_test = temporal_train_test_split(daily_rentals)\n",
    "\n",
    "# uses all of the test set as forecasting horizon\n",
    "fh = ForecastingHorizon(y_test.index, is_relative=False)\n",
    "\n",
    "# naive forecaster model definition\n",
    "naive_forecaster = NaiveForecaster(strategy=\"last\", sp=7)  # weekly seasonal periodicity\n",
    "\n",
    "# naive forecaster model fitting\n",
    "naive_forecaster.fit(y_train)\n",
    "\n",
    "# naive forecaster predictions\n",
    "y_pred = naive_forecaster.predict(fh)\n",
    "\n",
    "# naive forecaster error\n",
    "mean_absolute_percentage_error(y_test, y_pred)"
   ]
  },
  {
   "cell_type": "markdown",
   "id": "e9e84a51-6c7b-4170-90dc-f9e6ac0695f6",
   "metadata": {},
   "source": [
    "Our model has 64% MAPE"
   ]
  },
  {
   "cell_type": "markdown",
   "id": "f5c610b7-74bb-4991-bd63-b175f44b8dd2",
   "metadata": {},
   "source": [
    "* [This](https://www.sciencedirect.com/science/article/pii/S0169207000000674) Explains well how auto models are used\n",
    "* [Theta-forecaster](https://www.sciencedirect.com/science/article/pii/S0169207000000662) Exploits seasonal patterns"
   ]
  }
 ],
 "metadata": {
  "jupytext": {
   "formats": "notebooks///ipynb,notebooks_r///Rmd"
  },
  "kernelspec": {
   "display_name": "Deep Learning Forecasting",
   "language": "python",
   "name": "bikemi_win"
  },
  "language_info": {
   "codemirror_mode": {
    "name": "ipython",
    "version": 3
   },
   "file_extension": ".py",
   "mimetype": "text/x-python",
   "name": "python",
   "nbconvert_exporter": "python",
   "pygments_lexer": "ipython3",
   "version": "3.8.10"
  }
 },
 "nbformat": 4,
 "nbformat_minor": 5
}
