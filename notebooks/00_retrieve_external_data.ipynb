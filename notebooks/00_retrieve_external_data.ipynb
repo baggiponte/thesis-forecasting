{
 "cells": [
  {
   "cell_type": "markdown",
   "source": [
    "# BikeMi Metadata and External Data\n",
    "\n",
    "Most of the data can be retrieved from [here](https://bikemi.com/dati-aperti/tempo-reale), via the official APIs. Every request must follow this template:\n",
    "\n",
    "```bash\n",
    "curl -H \"Client-Identifier: IDENTIFIER\" https://gbfs.urbansharing.com/bikemi.com/gbfs.json\n",
    "```\n",
    "\n",
    "Where `IDENTIFIER` must look like `mycompany-role`, as suggested. In our case, it would be `unimi-student`.\n",
    "\n",
    "The files downloaded in this way are in `.json` format. However, the geographical information about bike stalls can also easily be retrived via [Comune di Milano's official Open Data Portal](https://dati.comune.milano.it/dataset/ds65_infogeo_aree_sosta_bike_sharing_localizzazione_/resource/4c31029c-22c9-49f7-b145-91374feac41c)."
   ],
   "metadata": {}
  },
  {
   "cell_type": "code",
   "execution_count": 4,
   "source": [
    "%%bash\n",
    "mkdir -p ../data/bikemi_metadata && \\\n",
    "    curl \"https://dati.comune.milano.it/dataset/cc065002-cd21-4dcb-b84f-bba2fd9e0c86/resource/4c31029c-22c9-49f7-b145-91374feac41c/download/bikemi_stazioni.csv\" -o ../data/bikemi_metadata/bikemi_stalls.csv"
   ],
   "outputs": [
    {
     "output_type": "stream",
     "name": "stderr",
     "text": [
      "  % Total    % Received % Xferd  Average Speed   Time    Time     Time  Current\n",
      "                                 Dload  Upload   Total   Spent    Left  Speed\n",
      "100 56443    0 56443    0     0   117k      0 --:--:-- --:--:-- --:--:--  117k\n"
     ]
    }
   ],
   "metadata": {}
  }
 ],
 "metadata": {
  "orig_nbformat": 4,
  "language_info": {
   "name": "python"
  }
 },
 "nbformat": 4,
 "nbformat_minor": 2
}