{
 "cells": [
  {
   "cell_type": "markdown",
   "id": "2c025f5f-627e-45e4-a251-4d0cc6cb2dec",
   "metadata": {},
   "source": [
    "# Sharing Services: History and Challenges"
   ]
  },
  {
   "cell_type": "markdown",
   "id": "fb95da65-c9de-40f5-bcae-ca2efab1cc77",
   "metadata": {},
   "source": [
    "## A Brief History of Bike Sharing Services"
   ]
  },
  {
   "cell_type": "markdown",
   "id": "94604893-1f0e-4b22-89b2-2947790cc7cb",
   "metadata": {
    "citation-manager": {
     "citations": {
      "3uq48": [
       {
        "id": "7765261/A4AI5NIC",
        "source": "zotero"
       }
      ],
      "55oq6": [
       {
        "id": "7765261/6TJJ379L",
        "source": "zotero"
       }
      ],
      "6abvx": [
       {
        "id": "7765261/4I5Z53FF",
        "source": "zotero"
       }
      ],
      "8c7qj": [
       {
        "id": "7765261/4I5Z53FF",
        "source": "zotero"
       }
      ],
      "bfh5e": [
       {
        "id": "7765261/QE6IMJ5R",
        "source": "zotero"
       }
      ],
      "ey3by": [
       {
        "id": "7765261/4I5Z53FF",
        "source": "zotero"
       }
      ],
      "gln1o": [
       {
        "id": "7765261/QE6IMJ5R",
        "source": "zotero"
       }
      ],
      "msclj": [
       {
        "id": "7765261/Q8QH45IB",
        "source": "zotero"
       }
      ],
      "n45x6": [
       {
        "id": "7765261/A4AI5NIC",
        "source": "zotero"
       }
      ],
      "o67sb": [
       {
        "id": "7765261/QE6IMJ5R",
        "source": "zotero"
       }
      ],
      "so66j": [
       {
        "id": "7765261/QE6IMJ5R",
        "source": "zotero"
       }
      ],
      "v2pjh": [
       {
        "id": "7765261/6TJJ379L",
        "source": "zotero"
       }
      ]
     }
    },
    "tags": []
   },
   "source": [
    "The concept behind bike sharing systems (BSS) has been around since at least the 1960 <cite id=\"8c7qj\">(DeMaio, 2009)</cite>. Perhaps unsurprisingly, the first BSS operator was Dutch: it was called Witte Fietsen, or White Bikes, and was deployed in Amsterdam, 1965. The bikes for the sharing service were painted in white, in order to distinguish them from private bicycles, and were made freely available with no locks. Even less surprisingly, \"the total absence of security mechanisms led to theft and vandalism, and a rapid demise of Witte Fietsen\", as pointed out by Fishman <cite id=\"o67sb\">(Fishman, 2015)</cite>.\n",
    "\n",
    "Since this failed attempt, researchers have identified three further generations of bike sharing systems <cite id=\"3uq48\">(Parkes et al., 2013)</cite>, along the lines of their technological improvements. Being one of a kind, Witte Fietsen was basically the only representative of the first generations of bike sharing systems. According to DeMaio, the so-called second generation of bike sharing system was launched in the 1990s, in Denmark (1991 and 1993) and subsequently in the Netherlands (1995). These systems were designed with better insurances against frequent usage, as well as vandalism: \"The Copenhagen bikes were specially designed for intense utilitarian use with solid rubber tires and wheels with advertising plates, and could be picked up and returned at specific locations throughout the central city with a coin deposit\" <cite id=\"ey3by\">(DeMaio, 2009)</cite>. These incentives were not enough, as the time was not yet prime for better customer identification technologies as well as tracking systems.\n",
    "\n",
    "New features such as \"electronically-locking racks or bike locks, telecommunication systems, smart-cards, mobile phone access, and on-board computers\" became the norm since 1996, following the example of services such as Bikeabout, developed by Portsmouth University in the United Kingdom <cite id=\"6abvx\">(DeMaio, 2009)</cite>. With Bikeabout, students could use a magnetic stripe card to rent a bike. Since then, a couple of third-generation bike sharing services launched every year across Europe, such as in France (Rennes, 1998) and Germany (Munich, 2000). These services managed to deter theft with \"dedicated docking stations (in which bicycles are picked up and returned), as well as automated credit card payment and other technologies to allow the tracking of the bicycles\" <cite id=\"bfh5e\">(Fishman, 2015)</cite>. The peak of the third generation was reached around the second half of the 2000s, when Velo'v and its 1500-bike fleet were launched in Lyon in 2005, followed by the 7000 bikes deployed by Velib in 2007 in Paris.\n",
    "\n",
    "Since then, bike-sharing spread to the rest of the world, and around the first half of the 2010s China established itself as a leader. In 2014, the global bike-sharing fleet was estimated at almost one million bicycles, three fourths of which where in China <cite id=\"so66j\">(Fishman, 2015)</cite>; the country also had more than double the number of bike-sharing systems (237) compared to Italy (114) and Spain (113), while there were only 54 in the USA <cite id=\"gln1o\">(Fishman, 2015)</cite>. China is now the leader in sharing services, followed by Europe - which today still maintains its lead over the US, where \"the adoption process it at an earlier stage and is gaining momentum\" <cite id=\"n45x6\">(Parkes et al., 2013)</cite>. \n",
    "\n",
    "This ongoing surge in popularity is once again due to technological breakthroughs: the fourth generation of bike sharing services exploits the Global Positioning System (GPS) and smartphones to deploy fleets of dock-less (or flee-floating) bikes and e-bikes. China could establish itself as leader also thanks to the rise of mobile technology and apps like WeChat, which was launched in 2011 and quickly became the most used platform in the country: \"By the end of 2015, WeChat had 762 million monthly active users worldwide, and roughly 91% of them were from China; moreover, around 639 million users accessed WeChat on a smartphone\" CHEN 2017. WeChat is ubiquitous in China and living without it nigh impossible <cite id=\"msclj\">(“In Cina vivere senza WeChat è complicato,” 2018)</cite>, as the platform supports cash transfers and is used for shopping, tipping and paying services.\n",
    "\n",
    "These new technologies drastically lowered the entrance barriers and the otherwise high upfront investments to set up a bike sharing network. One of the most popular BSS, ofo, was born in 2014 thanks to a collective of students at China's Peking University, who realised they could use the GPS on user's phone to track the bikes. They chose the name \"ofo\" because word itself resembled a biker and brought together some 2000 bikes to use on-campus <cite id=\"55oq6\">(Schmidt, 2018)</cite>. The service was so popular that they quickly made it into a company.\n",
    "\n",
    "According to Samantha Herr, executive director of the North American Bikeshare Association in Portland, Maine, \"large-scale venture capital and cheaper equipment are the game changers that propelled the explosive growth of dockless companies like Mobike and ofo\". Dockless bikes are of \"lower quality than their docked counterparts\" and do not require expensive technologies to interface with a docking station: \"That makes them cheaper to mass produce and drop off in new markets\" <cite id=\"v2pjh\">(Schmidt, 2018)</cite>. It is not by chance that most free-float BSS are completely private, while docked systems almost always feature a partnership between the private sector and local administrations.\n",
    "\n",
    "Today, according to the estimates on the website [Bike Sharing World Map](https://bikesharingworldmap.com/), there appear to be almost 1900 bike sharing services in the world, with almost 1000 that have closed down and 300 to be opened. According to an interview to Russell Meddin, the website founder, in 2018 there were 16 to 18 million free-float bikes, plus 3,7 million docked bikes."
   ]
  },
  {
   "cell_type": "markdown",
   "id": "ae737f1c-8067-4150-8d7f-0e1786b157fc",
   "metadata": {},
   "source": [
    "## The Challenges of Sharing Services and the Sharing Economy"
   ]
  },
  {
   "cell_type": "markdown",
   "id": "bcb607dc-ae51-4944-9989-6eb0c375104d",
   "metadata": {
    "citation-manager": {
     "citations": {
      "3i8f4": [
       {
        "id": "7765261/8H756937",
        "source": "zotero"
       }
      ],
      "54bzf": [
       {
        "id": "7765261/B8QCV7ZD",
        "source": "zotero"
       }
      ],
      "9eie8": [
       {
        "id": "7765261/G3F5S8ZS",
        "source": "zotero"
       }
      ],
      "bpq75": [
       {
        "id": "7765261/SAYXS4UZ",
        "source": "zotero"
       }
      ],
      "fe9vi": [
       {
        "id": "7765261/B8QCV7ZD",
        "source": "zotero"
       }
      ],
      "ho2zc": [
       {
        "id": "7765261/6UNRCNC5",
        "source": "zotero"
       }
      ],
      "i4jnr": [
       {
        "id": "7765261/Q2V3Z9K2",
        "source": "zotero"
       }
      ],
      "kez08": [
       {
        "id": "7765261/B8QCV7ZD",
        "source": "zotero"
       }
      ],
      "kqb9q": [
       {
        "id": "7765261/BUI6HN97",
        "source": "zotero"
       }
      ],
      "l63qe": [
       {
        "id": "7765261/EPW29CK5",
        "source": "zotero"
       }
      ],
      "lxnaw": [
       {
        "id": "7765261/B8QCV7ZD",
        "source": "zotero"
       }
      ],
      "p5r77": [
       {
        "id": "7765261/B8QCV7ZD",
        "source": "zotero"
       }
      ],
      "pwa9t": [
       {
        "id": "7765261/GVEPNMR5",
        "source": "zotero"
       }
      ],
      "rx0ga": [
       {
        "id": "7765261/MS4XRQEP",
        "source": "zotero"
       }
      ],
      "s8tbx": [
       {
        "id": "7765261/9IRMHVZB",
        "source": "zotero"
       }
      ],
      "tutm7": [
       {
        "id": "7765261/B8QCV7ZD",
        "source": "zotero"
       }
      ],
      "u97ak": [
       {
        "id": "7765261/MIHGC3RA",
        "source": "zotero"
       }
      ],
      "xsga7": [
       {
        "id": "7765261/PHU24GMW",
        "source": "zotero"
       }
      ],
      "yfxyc": [
       {
        "id": "7765261/B8QCV7ZD",
        "source": "zotero"
       }
      ]
     }
    },
    "tags": []
   },
   "source": [
    "Sharing services are not without flaws. For example, Ma and their coauthors warn against some of the worse consequences of the sharing economy as a whole: \"exploitative capitalism\", labour precarity, widening income gaps and \"platform capitalism\" <cite id=\"54bzf\">(Ma et al., 2018)</cite>. The researchers make a dramatic claim: \"Left unaddressed, these trade-offs risk becoming crippling contradictions to the potential of the sharing economy in promoting urban transformations to sustainability\" <cite id=\"yfxyc\">(Ma et al., 2018)</cite>. This situation represents a great challenge for public administrations, as the pace of innovation is always much faster than policy-making, and regulating the more controversial aspects of a rapidly growing and popular platform is easier said than done. \n",
    "\n",
    "Lawmaking takes years: as an example, the two \"champions\" of the sharing economy, Uber and AirBnB, were valued almost 70 and 30 billion dollars in 2017 <cite id=\"i4jnr\">(Stone, 2017)</cite>, despite the press already outlining some of the most controversial aspects of their business models. Uber could never really get past the scandals <cite id=\"xsga7\">(Goggin &#38; Taylor, 2019)</cite>, especially those concerning the sexist culture of the company <cite id=\"rx0ga\">(Jackson, 2021)</cite>, and this played a role in the weak IPO performance of the startup in 2019 <cite id=\"pwa9t\">(“Nel primo giorno di quotazione in borsa, le azioni di Uber hanno perso il 7,6 per cento,” 2019)</cite>. In the meantime, other competitors were facing accusations about the legal status of their \"riders\", and so did many other companies in the so-called gig economy, like Deliveroo (the renowned food delivery service). In countries such as Italy, this eventually led to the companies being ordered to recognise the employee status of the workers on the platform, further questioning not only the profitability but also the ethical basis of their business model <cite id=\"3i8f4\">(<i>Secondo la procura di Milano, Uber Eats, Glovo, Deliveroo e Just Eat devono regolarizzare 60mila rider con contratti di collaborazione</i>, 2021)</cite>. Legal actions in Italy resulted in the company being placed under external management <cite id=\"u97ak\">(<i>Uber Italia è accusata di sfruttamento dei rider ed è stata commissariata</i>, 2020)</cite>, while in some US States, Uber and its primary competitor, Lyft, are now bound to observe a minimum wage <cite id=\"ho2zc\">(<i>Seattle ha imposto una paga minima per gli autisti di Uber e Lyft</i>, 2020)</cite>.\n",
    "\n",
    "However, these results only came several years later, and the same happened to AirBnB: despite a unexpectedly successful IPO <cite id=\"kqb9q\">(“La quotazione in borsa di Airbnb è stata un successo,” 2020)</cite> in the midst of the pandemic <cite id=\"bpq75\">(“La crisi della sharing economy,” 2020)</cite>, the company now also has to face tighter regulations that undermine their business model <cite id=\"s8tbx\">(“Airbnb Urges Housing Reform in Berlin after Court Overturns Permit Rejection,” 2017)</cite> <cite id=\"l63qe\">(“La nuova sentenza europea sugli affitti brevi,” 2020)</cite> <cite id=\"9eie8\">(“Le città europee contro gli affitti brevi,” 2021)</cite>.\n",
    "\n",
    "To a lesser extent, this is a concern for bike-sharing services as well - in particular for dockless bike sharing systems, which have undergone an unforeseeable growth in the past five years. As Ma and their coauthors synthesise, the unregulated and unexpected growth of Mobike in Shangai results in hitting \"a threshold of oversupply, under-distribution and user misbehaviour problems, which endanger[ed] the environmental and social sustainability of innovative urban mobility schemes\" <cite id=\"lxnaw\">(Ma et al., 2018)</cite>. They proceed to state that \"[T]he social, political and infrastructural institutions in cities have not developed adequate capacities and norms to respond, absorb and adapt to changes brought by under-regulated commercial and technological forces embodied in the modern sharing economy\" <cite id=\"p5r77\">(Ma et al., 2018)</cite>.\n",
    "\n",
    "The growth of Mobike was so fast that it also \"exacerbated problems of user misbehaviour such as theft, vandalism and illegal parking, undermining the sharing values and public space resources that FFBSs require to operate efficiently\" <cite id=\"fe9vi\">(Ma et al., 2018)</cite>. Besides, this triggered venture capital funds (VC), which flocked to bike-sharing startups, leading to more than 1,7 million new bikes flooding the streets of Shanghai: \"The oversupply of shared bikes created a serious strain on public resources. Massive numbers of bikes were dumped in public spaces, exacerbating existing crowding and stress on the city's roads and parking spaces\" <cite id=\"kez08\">(Ma et al., 2018)</cite>. The collaboration between private enterprises and public officers began to deteriorate: bikes were ordered to be removed, while new BSS startups \"dropped their bikes without any notice in advance\" - a strategy that was also used in other parts of the world. The authors claim that this \"unintended tragedy of the commons\" was due to \"under-regulated FFBSs\", which had to put their private interests (profitability) first if they wanted to survive the competition <cite id=\"tutm7\">(Ma et al., 2018)</cite>."
   ]
  },
  {
   "cell_type": "markdown",
   "id": "f8298ad2-952c-466d-860f-c1771659b357",
   "metadata": {},
   "source": [
    "## The Elephant on the Sidewalk: Electric Scooters"
   ]
  },
  {
   "cell_type": "markdown",
   "id": "2cc8161c-dc66-45b6-ad3c-d9d740204c14",
   "metadata": {
    "citation-manager": {
     "citations": {
      "102m8": [
       {
        "id": "7765261/RL3FDK87",
        "source": "zotero"
       }
      ],
      "2kwzr": [
       {
        "id": "7765261/MTDR28J4",
        "source": "zotero"
       }
      ],
      "4vnes": [
       {
        "id": "7765261/RL3FDK87",
        "source": "zotero"
       }
      ],
      "95klp": [
       {
        "id": "7765261/YBZB3FJS",
        "source": "zotero"
       }
      ],
      "e6s5j": [
       {
        "id": "7765261/ZHG9MECZ",
        "source": "zotero"
       }
      ],
      "ejl0m": [
       {
        "id": "7765261/NHQTQJTJ",
        "source": "zotero"
       }
      ],
      "fkupf": [
       {
        "id": "7765261/WNLV8VB5",
        "source": "zotero"
       }
      ],
      "gevdu": [
       {
        "id": "7765261/YBZB3FJS",
        "source": "zotero"
       }
      ],
      "gxp1e": [
       {
        "id": "7765261/ZHG9MECZ",
        "source": "zotero"
       }
      ],
      "hhq6r": [
       {
        "id": "7765261/RL3FDK87",
        "source": "zotero"
       }
      ],
      "k1ux4": [
       {
        "id": "7765261/RL3FDK87",
        "source": "zotero"
       }
      ],
      "m5i3g": [
       {
        "id": "7765261/YBZB3FJS",
        "source": "zotero"
       }
      ],
      "mdp3r": [
       {
        "id": "7765261/YBZB3FJS",
        "source": "zotero"
       }
      ],
      "mlma3": [
       {
        "id": "7765261/FT4RTIBS",
        "source": "zotero"
       }
      ],
      "onki8": [
       {
        "id": "7765261/WNLV8VB5",
        "source": "zotero"
       }
      ],
      "oz9pf": [
       {
        "id": "7765261/YBZB3FJS",
        "source": "zotero"
       }
      ],
      "pdww8": [
       {
        "id": "7765261/ER5F483J",
        "source": "zotero"
       }
      ],
      "s4hzn": [
       {
        "id": "7765261/ER5F483J",
        "source": "zotero"
       }
      ],
      "s4mzd": [
       {
        "id": "7765261/NHQTQJTJ",
        "source": "zotero"
       }
      ],
      "sc8qe": [
       {
        "id": "7765261/ER5F483J",
        "source": "zotero"
       }
      ],
      "vgnkr": [
       {
        "id": "7765261/YL7HX3L5",
        "source": "zotero"
       }
      ],
      "vq29h": [
       {
        "id": "7765261/ER5F483J",
        "source": "zotero"
       }
      ],
      "weeoq": [
       {
        "id": "7765261/ER5F483J",
        "source": "zotero"
       }
      ],
      "yrf8l": [
       {
        "id": "7765261/YN4FJZUM",
        "source": "zotero"
       }
      ],
      "z45bm": [
       {
        "id": "7765261/YBZB3FJS",
        "source": "zotero"
       }
      ]
     }
    },
    "tags": []
   },
   "source": [
    "Nowadays, bike sharing systems contend roads (and sometimes even sidewalks) with new competitors: electric scooters, or moped, which have become surprisingly popular across the globe in recent years, displaying a stronger growth trend and adoption compared to BSS. The literature on the history of e-scooters services is still quite young, but authors generally trace the beginning of electric scooter systems (ESS) to 2017, specifically to the US <cite id=\"m5i3g\">(Yang et al., 2021)</cite>. Scooters arrived in Europe, specifically in Brussels, during the summer of 2018 <cite id=\"weeoq\">(Moreau et al., 2020)</cite>. \n",
    "\n",
    "E-scooters have since developed quite rapidly, even faster than dockless bike sharing services <cite id=\"z45bm\">(Yang et al., 2021)</cite>, and today it is estimated that they make up almost two thirds of the shared micromobility trips in the US, while almost one in four citizens in Paris tried one in 2019 <cite id=\"95klp\">(Yang et al., 2021)</cite>. However, moped did not come without hassles. For one, \"rented and privately-owned e-scooters suddenly became a conspicuous, controversial and disruptive presence in urban public space\" <cite id=\"k1ux4\">(Tuncer et al., 2020)</cite>. Besides, their road status is not quite clear, and legal frameworks are still not ready to adapt to include e-scooters, which \"upset the normal order of traffic and public space\" <cite id=\"hhq6r\">(Tuncer et al., 2020)</cite>. While they are used at least as widely as bikes (if not more), they do not seem to belong to roads more than skateboards, not to mention sidewalks.\n",
    "\n",
    "Their advantages are clear: being electric, they can travel longer distances with lesser effort. Besides, scooters are handier and more portable than bikes. There are some disadvantages, too: scooters are electric and thus require charging, which introduces another step in the reallocation procedure. Overall, this entails greater costs for the service providers: while manufacturing costs might be assumed to be equivalent, recharging the batteries and moving them to and from the charging station surely translates into higher operational costs <cite id=\"vgnkr\">(Zhu et al., 2020)</cite>. Furthermore, some authors in the literature also find that scooters have a shorter life span and thus \"at present, the use of e-scooters shows a higher impact than the transportation modes they replace\" <cite id=\"sc8qe\">(Moreau et al., 2020)</cite>. This calculation does not include \"end-of-life treatment\", which could positively affect their \"GWP\" or \"Global Warming Potential\" <cite id=\"vq29h\">(Moreau et al., 2020)</cite>. The authors suggest a list of measures that could reduce their impact, which include increased cooperation with the public sector: \"new electric charging stations that are installed in the city could also include charging devices for e-scooters\"; however, the supplier should also provide incentives, for example \"a financial incentive for the users to drop the e-scooter off at charging areas and plug them in\" <cite id=\"s4hzn\">(Moreau et al., 2020)</cite>.\n",
    "\n",
    "However, the literature is still too young to coherently assess the impact of e-scooters and their relationship with existing sharing service and public transport network. For example, it would be deemed reasonable that e-scooters might provide a good alternative to private transportation, yet \"several studies suggest that they are frequently used instead of walking\" <cite id=\"102m8\">(Tuncer et al., 2020)</cite>, as it was found by <cite id=\"fkupf\">(Laa &#38; Leth, 2020)</cite>, <cite id=\"2kwzr\">(Mitra &#38; Hess, 2021)</cite>, <cite id=\"gxp1e\">(Nikiforiadis et al., 2021)</cite> and <cite id=\"ejl0m\">(Sanders et al., 2020)</cite>. Some authors specifically found that \"People travelling with bicycle or motorcycle were not attracted by e-scooters novelty\" <cite id=\"e6s5j\">(Nikiforiadis et al., 2021)</cite> or that are more likely to be employed for recreational purposes, \"potentially filling a niche\" <cite id=\"s4mzd\">(Sanders et al., 2020)</cite>. One interesting trend that e-scooters display is that, after trying the service, some users do buy a scooter of their own <cite id=\"4vnes\">(Tuncer et al., 2020)</cite>, and e-scooters owners are more likely to use them as a replacement for their private cars <cite id=\"pdww8\">(Moreau et al., 2020)</cite>.\n",
    "\n",
    "In other words, borrowing from economic jargon, it is still not clear why and when e-scooters are to be considered substitutes or complements of traditional modes of transport, and the same goes for bike sharing. On the one hand, it seems clear that e-scooters (and bikes) do not consistently replace private vehicles and cars in particular. By the way, this reinforces the idea that in order to transition towards a greener economy, promoting sharing services must go hand in hand with investments in public transportation networks, as well as improving existing biking infrastructure <cite id=\"onki8\">(Laa &#38; Leth, 2020)</cite>.\n",
    "\n",
    "For one, it might be expected that adoption of e-scooters translates into a decline in bike rentals. These are the findings of Yang and their coauthors <cite id=\"gevdu\">(Yang et al., 2021)</cite>, who estimated that in Chicago weekly usage of bike sharing in e-scooter sharing operation area declined by slightly more than 10 percent. Specifically, the usage of bike-sharing service subscribers was down by 4 percent, while the drop across non-subscribers was as big as 34 percent <cite id=\"oz9pf\">(Yang et al., 2021)</cite>. Indeed, this might reveal that subscribers choose bikes for endogenously different reasons - i.e., they might deem them better suited for commuting. After all, \"bike sharing use during non-peak hours decreased but was not affected during peak hours\" <cite id=\"mdp3r\">(Yang et al., 2021)</cite>. The drop was more marked with short trips, for which bike usage was down by almost 11 percent - twice as much as the decline in medium-duration trips (5,5) but almost half as much as in short trips (20,5). In general, it seems that docked bikes are preferred for commuting <cite id=\"yrf8l\">(Reck &#38; Axhausen, 2021)</cite> <cite id=\"mlma3\">(Reck et al., 2021)</cite>."
   ]
  },
  {
   "cell_type": "markdown",
   "id": "70231e5b-efcc-4f76-a864-80c280a8879f",
   "metadata": {},
   "source": [
    "## Sharing Services in Milan: BikeMi and its Competitors"
   ]
  },
  {
   "cell_type": "markdown",
   "id": "94085fd1-f5b5-4558-8acc-fb7448902d70",
   "metadata": {
    "citation-manager": {
     "citations": {
      "4d4r4": [
       {
        "id": "7765261/4EY7RBG7",
        "source": "zotero"
       }
      ],
      "a0n1g": [
       {
        "id": "7765261/ZC4WFCHU",
        "source": "zotero"
       }
      ],
      "f6v7w": [
       {
        "id": "7765261/U3B594Z7",
        "source": "zotero"
       }
      ],
      "i9apb": [
       {
        "id": "7765261/ZC4WFCHU",
        "source": "zotero"
       }
      ],
      "inw4k": [
       {
        "id": "7765261/U3B594Z7",
        "source": "zotero"
       }
      ],
      "jkk29": [
       {
        "id": "7765261/U3B594Z7",
        "source": "zotero"
       }
      ],
      "lrzjw": [
       {
        "id": "7765261/R7Y5BHCU",
        "source": "zotero"
       }
      ],
      "rl7fh": [
       {
        "id": "7765261/KNCP7PMX",
        "source": "zotero"
       }
      ],
      "t64e7": [
       {
        "id": "7765261/S824QY7N",
        "source": "zotero"
       }
      ],
      "zjd7x": [
       {
        "id": "7765261/BWH3A26K",
        "source": "zotero"
       }
      ]
     }
    },
    "tags": []
   },
   "source": [
    "BikeMi was introduced in December 2008. In 2015, pedal assisted bicycles were introduced. Now the service counts 325 stations with 5430 bikes: 4280 are \"classic\", 1000 are e-bikes and 150 are \"pedal-assisted\" (i.e., electric) with a child seat <cite id=\"t64e7\">(<i>Who We Are - BikeMi</i>, n.d.)</cite>. Including private enterprises (fully free-float), there are a total of 15400 bikes up for sharing, of which 3500 are electric. Private companies were progressively introduced in 2017, after public procurement and a testing phase <cite id=\"a0n1g\">(<i>Bike Sharing - Comune Di Milano</i>, 2021)</cite>.\n",
    "\n",
    "Mobike was the first, in July 2017, deploying 4000 bikes across Milan and Florence <cite id=\"4d4r4\">(P.Sol, 2017)</cite>. ofo joined around the same time and economic Newspaper *il Sole 24 ORE* reported that, by November 2017, MoBike had deployed 8000 bikes in Milan and 7000 more in the rest of Italy, while ofo had 4000 bikes <cite id=\"jkk29\">(Magnani, 2017)</cite>. This resulted in BikeMi losing some 5 percent of their subscribers. ClearChannel, the service provider, disclosed that in 2009 they had some 10700 subscribers, which became around six times as much by 2017. At the time, BikeMi was reported to have 4650 bikes, of which 1000 were electric <cite id=\"f6v7w\">(Magnani, 2017)</cite>. Surprisingly, BikeMi was reporting a profit: 200 thousand euros. Operating costs amounted to 6 million euros, two of which were covered by subscriptions and the remainder by advertisement revenue <cite id=\"inw4k\">(Magnani, 2017)</cite>. \n",
    "\n",
    "The article was also reporting rumours about a fusion between the two private operators, which were undergoing extensive losses and could not be seen reaching the profitability goals they set themselves for the following years. In 2018, ofo was already said to be close to failure, while Mobike was allegedly looking to sell their operations in Europe <cite id=\"zjd7x\">(Salvioli, 2018)</cite>. Indeed, ofo failed in 2020, while the Italian Idri Bk (manager of Mobike fleets) bought the European branch of Mobike on November 2019. From the operation, the new sharing service Movi (now RideMovi) was born, after ofo had already withdrawn from the Italian and European market <cite id=\"rl7fh\">(Soldavini, 2019)</cite>. Now in Milan there are three bike sharing services: BikeMi is the only docked one, with rentals services open from 7 a.m. to 1 a.m. and from 7 a.m. to 2 a.m. during summer, plus 24 hours on Fridays and Saturdays. The other two services, RideMovi and Lime, are free-floating and operating 24 hours a day <cite id=\"i9apb\">(<i>Bike Sharing - Comune Di Milano</i>, 2021)</cite>.\n",
    "\n",
    "Electric-scooter sharing services arrived in Milan [only on February 2020](https://www.comune.milano.it/servizi/monopattini-in-sharing) <cite id=\"lrzjw\">(<i>Monopattini in Sharing - Comune Di Milano</i>, 2021)</cite>, right before the first wave of the COVID-19 pandemic and following a one-year long public procurement. Each provider was allowed a fleet of 750 e-moped, for a total of 2250 vehicles and three providers. To face the mobility challenges of the pandemic, the cap was increased to 6000 and the number of providers was doubled."
   ]
  },
  {
   "cell_type": "markdown",
   "id": "56ad616b-fac9-47e8-8a95-f1e38bdd1621",
   "metadata": {},
   "source": [
    "## Competitors and Data in Our Analysis"
   ]
  },
  {
   "cell_type": "markdown",
   "id": "9d9ed62f-3e86-4643-9d70-5f048a38b1f1",
   "metadata": {
    "tags": []
   },
   "source": [
    "The history of BikeMi's competitors has several implications for our analysis. While we will be discussing the data and the choices for our project in the next chapter, it is worth anticipating some points. For one, we can already rule out electric scooters and their effects, as they only appeared in 2020 - a year for which we would have BikeMi data. However, given the pandemic break out, we chose not to forecast rentals in that period of time.\n",
    "\n",
    "The situation becomes more complicated when it comes to the other dockless bike-sharing services. For one, we could not obtain data from any of the other provides, which either failed or sold all their activities to other private enterprises. Not having data about dockless services forces us to change our data strategy, but the literature comes to help. As we have outlined above, several authors found that docked bike-sharing systems are mostly used for commuting and are indeed less sensitive to the introduction of free-floating BSS. Since ClearChannel only registered a 5 percent decrease in subscriptions since the FFBSS introduction, we feel reassured when facing that we will only be able to model FFBSS with a dummy variable. After all, private operators introduced in just a few months at least as many bikes as BikeMi had: 4000 for ofo and 4000 for Mobike, which became twice as many in just a few months after the launch of the service. Given these numbers, a decline of only 5 percent does not seem worrisome.\n",
    "\n",
    "If we buy the \"docked bikes services are less sensitive to dockless ones\" assumption, i.e. that docked bikes are preferred for commuting, it can be enough to forecast the number of bikes during peak hours. Finally, there is a considerable data gap from July 2018 to the end of that year, which forced us to analyse data from 2015 to that date only. Given the instability and novelty of free-floating bike sharing, we assume that Mobike and ofo only played a small role in affecting the number of rentals of BikeMi bikes for the purpose of commuting, from their introduction on the summer of 2017 and for the following year."
   ]
  },
  {
   "cell_type": "markdown",
   "id": "52fb3e24-564a-4210-bef8-d454ff6e06f0",
   "metadata": {},
   "source": [
    "## BikeMi: a Review of the Literature"
   ]
  },
  {
   "cell_type": "markdown",
   "id": "da73f829-d17d-4476-b8bf-6b3f40910b7f",
   "metadata": {},
   "source": [
    "## History of BikeMi and Literature Review"
   ]
  },
  {
   "cell_type": "markdown",
   "id": "1d02a055-6b23-47a3-8c6d-9815790dc34f",
   "metadata": {
    "citation-manager": {
     "citations": {
      "42mvi": [
       {
        "id": "7765261/RZW74C9X",
        "source": "zotero"
       }
      ],
      "en9lq": [
       {
        "id": "7765261/VTA4UCWW",
        "source": "zotero"
       }
      ],
      "riaxh": [
       {
        "id": "7765261/RZW74C9X",
        "source": "zotero"
       }
      ]
     }
    },
    "tags": []
   },
   "source": [
    "> As expected, it was observed that the service is extensively used for commuting to work-related activities. Regular users compose a large part of the BSS community making use of the service mostly during weekdays. In addition, it was noted that only 'strong' meteorological conditions can impact the use of the service. <cite id=\"en9lq\">(Toro et al., 2020)</cite>\n",
    "\n",
    "> We chose the “Bastioni” area since it corresponds to the traffic restricted zone introduced in\n",
    "Milan since January 2008. <cite id=\"42mvi\">(Saibene &#38; Manzi, 2015)</cite>\n",
    "\n",
    "> Predicting variables chosen to explain the counts variability are: (i) the presence of a railway\n",
    "station in the vicinity (1 if present, 0 otherwise); (ii) the number of underground lines; (iii) the\n",
    "number of bus lines; (iv) the number of tram lines; (v) the distance in Km from Duomo\n",
    "square; (vi) the suburb location (1=Northern area; 0=Southern area). <cite id=\"riaxh\">(Saibene &#38; Manzi, 2015)</cite>"
   ]
  },
  {
   "cell_type": "markdown",
   "id": "0957211c-71cd-405b-af6e-6d674787c1e9",
   "metadata": {
    "tags": []
   },
   "source": [
    "Saibene and Manzi analyse survey data to evaluate the level of satisfaction for \"all the actors involved\": service management, city council and users  "
   ]
  }
 ],
 "metadata": {
  "citation-manager": {
   "items": {
    "zotero": {
     "7765261/4EY7RBG7": {
      "URL": "https://www.ilsole24ore.com/art/bike-sharing-senza-parcheggi-chi-e-colosso-cinese-che-sbarca-italia-AEjzmr2B",
      "abstract": "Il bike sharing libero, senza bisogno di rastrelliera e parcheggi fissi, sbarca in Italia, prima a Firenze e poi a Milano. A portarlo è Mobike un colosso...",
      "accessed": {
       "date-parts": [
        [
         2021,
         10,
         26
        ]
       ]
      },
      "author": [
       {
        "family": "P.Sol",
        "given": ""
       }
      ],
      "container-title": "Il Sole 24 ORE",
      "id": "7765261/4EY7RBG7",
      "issued": {
       "date-parts": [
        [
         2017,
         7,
         25
        ]
       ]
      },
      "language": "it",
      "note": "Section: Tecnologia",
      "shortTitle": "Bike sharing senza parcheggi",
      "title": "Bike sharing senza parcheggi: chi è il colosso cinese che sbarca in Italia",
      "type": "webpage"
     },
     "7765261/4I5Z53FF": {
      "DOI": "http://doi.org/10.5038/2375-0901.12.4.3",
      "URL": "https://digitalcommons.usf.edu/jpt/vol12/iss4/3",
      "author": [
       {
        "family": "DeMaio",
        "given": "Paul"
       }
      ],
      "container-title": "Journal of Public Transportation",
      "id": "7765261/4I5Z53FF",
      "issue": "4",
      "issued": {
       "date-parts": [
        [
         2009,
         12,
         1
        ]
       ]
      },
      "shortTitle": "Bike-sharing",
      "title": "Bike-sharing: History, Impacts, Models of Provision, and Future",
      "type": "article-journal",
      "volume": "12"
     },
     "7765261/6TJJ379L": {
      "DOI": "10.1289/EHP3754",
      "URL": "https://ehp.niehs.nih.gov/doi/full/10.1289/EHP3754",
      "accessed": {
       "date-parts": [
        [
         2021,
         10,
         17
        ]
       ]
      },
      "author": [
       {
        "family": "Schmidt",
        "given": "Charles"
       }
      ],
      "container-title": "Environmental Health Perspectives",
      "id": "7765261/6TJJ379L",
      "issue": "8",
      "issued": {
       "date-parts": [
        [
         2018,
         8,
         31
        ]
       ]
      },
      "page": "082001",
      "shortTitle": "Active Travel for All?",
      "title": "Active Travel for All? The Surge in Public Bike-Sharing Programs",
      "type": "article-journal",
      "volume": "126"
     },
     "7765261/6UNRCNC5": {
      "URL": "http://www.ilpost.it/2020/09/30/seattle-paga-minima-autisti-uber/",
      "abstract": "Martedì 29 settembre il consiglio comunale di Seattle, negli Stati Uniti, ha approvato un'ordinanza che stabilisce uno stipendio minimo per gli autisti di",
      "accessed": {
       "date-parts": [
        [
         2021,
         10,
         24
        ]
       ]
      },
      "container-title": "Il Post",
      "id": "7765261/6UNRCNC5",
      "issued": {
       "date-parts": [
        [
         2020,
         9,
         30
        ]
       ]
      },
      "language": "it-IT",
      "title": "Seattle ha imposto una paga minima per gli autisti di Uber e Lyft",
      "type": "webpage"
     },
     "7765261/8H756937": {
      "URL": "http://www.ilpost.it/2021/02/24/procura-uber-eats-glovo-deliveroo-just-eat-regolarizzare-rider/",
      "abstract": "Mercoledì la procura di Milano ha detto in una conferenza stampa che Uber Eats, Glovo-Foodinho, Deliveroo e Just Eat – quattro grandi società che si",
      "accessed": {
       "date-parts": [
        [
         2021,
         10,
         24
        ]
       ]
      },
      "container-title": "Il Post",
      "id": "7765261/8H756937",
      "issued": {
       "date-parts": [
        [
         2021,
         2,
         24
        ]
       ]
      },
      "language": "it-IT",
      "title": "Secondo la procura di Milano, Uber Eats, Glovo, Deliveroo e Just Eat devono regolarizzare 60mila rider con contratti di collaborazione",
      "type": "webpage"
     },
     "7765261/9IRMHVZB": {
      "URL": "https://techcrunch.com/2017/09/08/airbnb-urges-housing-reform-in-berlin-after-court-overturns-permit-rejection/",
      "accessed": {
       "date-parts": [
        [
         2021,
         10,
         9
        ]
       ]
      },
      "container-title": "Tech Crunch",
      "id": "7765261/9IRMHVZB",
      "issued": {
       "date-parts": [
        [
         2017,
         9,
         8
        ]
       ]
      },
      "title": "Airbnb urges housing reform in Berlin after court overturns permit rejection",
      "type": "article-newspaper"
     },
     "7765261/A4AI5NIC": {
      "DOI": "10.1016/j.jtrangeo.2013.06.003",
      "URL": "https://www.sciencedirect.com/science/article/pii/S0966692313001130",
      "abstract": "Since the mid-2000s, public bikesharing (also known as “bike hire”) has developed and spread into a new form of mobility in cities across the globe. This paper presents an analysis of the recent increase in the number of public bikesharing systems. Bikesharing is the shared use of a bicycle fleet, which is accessible to the public and serves as a form of public transportation. The initial system designs were pioneered in Europe and, after a series of technological innovations, appear to have matured into a system experiencing widespread adoption. There are also signs that the policy of public bikesharing systems is transferable and is being adopted in other contexts outside Europe. In public policy, the technologies that are transferred can be policies, technologies, ideals or systems. This paper seeks to describe the nature of these systems, how they have spread in time and space, how they have matured in different contexts, and why they have been adopted. Researchers provide an analysis from Europe and North America. The analysis draws on published data sources, a survey of 19 systems, and interviews with 12 decision-makers in Europe and 14 decision-makers in North America. The data are examined through the lens of diffusion theory, which allows for comparison of the adoption process in different contexts. A mixture of quantitative and qualitative analyses is used to explore the reasons for adoption decisions in different cities. The paper concludes that Europe is still in a major adoption process with new systems emerging and growth in some existing systems, although some geographic areas have adopted alternative solutions. Private sector operators have also been important entrepreneurs in a European context, which has accelerated the uptake of these systems. In North America, the adoption process is at an earlier stage and is gaining momentum, but signs also suggest the growing importance of entrepreneurs in North America with respect to technology and business models. There is evidence to suggest that the policy adoption processes have been inspired by successful systems in Paris, Lyon, Montreal, and Washington, DC, for instance, and that diffusion theory could be useful in understanding public bikesharing policy adoption in a global context.",
      "accessed": {
       "date-parts": [
        [
         2021,
         10,
         24
        ]
       ]
      },
      "author": [
       {
        "family": "Parkes",
        "given": "Stephen D."
       },
       {
        "family": "Marsden",
        "given": "Greg"
       },
       {
        "family": "Shaheen",
        "given": "Susan A."
       },
       {
        "family": "Cohen",
        "given": "Adam P."
       }
      ],
      "container-title": "Journal of Transport Geography",
      "id": "7765261/A4AI5NIC",
      "issued": {
       "date-parts": [
        [
         "2013",
         7,
         1
        ]
       ]
      },
      "journalAbbreviation": "Journal of Transport Geography",
      "language": "en",
      "page": "94-103",
      "shortTitle": "Understanding the diffusion of public bikesharing systems",
      "title": "Understanding the diffusion of public bikesharing systems: evidence from Europe and North America",
      "type": "article-journal",
      "volume": "31"
     },
     "7765261/B8QCV7ZD": {
      "DOI": "10.1016/j.jclepro.2018.06.213",
      "URL": "https://www.sciencedirect.com/science/article/pii/S0959652618318638",
      "abstract": "Most sharing mobility business models promise green and affordable transport in cities. However, their rapid scale-up processes have often caused significant disruption and stresses to urban governance. Free-floating bike sharing (FFBS) is highly-touted in Shanghai as a means to bring biking habits back to an overly car-congested city. Despite substantially changing the behaviour of Shanghai citizens to adopt shared bikes within a short period of time (2016–2017), the FFBS has hit a threshold of oversupply, under-distribution and user misbehaviour problems, which endanger the environmental and social sustainability of innovative urban mobility schemes. In this paper, we focus on the FFBS case study and examine how commercial, political and social actors interact in addressing the emerging public problems in the FFBS scale-up process from a collaborative governance perspective. We find that the lack of recognition and integration of new social actors, such as user groups, as agents in the scheme are key obstacles to a fully-functioning government-business-society collaborative regime. We argue that this hindrance is a function of the existing socio-economic relations within the city. Our results suggest that the city's government needs to be more agile to accommodate, nurture and integrate emerging social actors as governance partners in the sharing economy, in order to ensure its efficacy, resilience and sustainability. We propose an alternative governance model to improve the effectiveness of the collaborative governance regime towards urban sustainability through engaging the society in better and smarter ways in the sharing economy.",
      "accessed": {
       "date-parts": [
        [
         2021,
         10,
         24
        ]
       ]
      },
      "author": [
       {
        "family": "Ma",
        "given": "Yuge"
       },
       {
        "family": "Lan",
        "given": "Jing"
       },
       {
        "family": "Thornton",
        "given": "Thomas"
       },
       {
        "family": "Mangalagiu",
        "given": "Diana"
       },
       {
        "family": "Zhu",
        "given": "Dajian"
       }
      ],
      "container-title": "Journal of Cleaner Production",
      "id": "7765261/B8QCV7ZD",
      "issued": {
       "date-parts": [
        [
         "2018",
         10,
         1
        ]
       ]
      },
      "journalAbbreviation": "Journal of Cleaner Production",
      "language": "en",
      "page": "356-365",
      "shortTitle": "Challenges of collaborative governance in the sharing economy",
      "title": "Challenges of collaborative governance in the sharing economy: The case of free-floating bike sharing in Shanghai",
      "type": "article-journal",
      "volume": "197"
     },
     "7765261/BUI6HN97": {
      "URL": "http://www.ilpost.it/2020/12/10/airbnb-quotazione-azioni/",
      "abstract": "Airbnb, l'azienda americana che gestisce la popolare piattaforma per gli affitti a breve termine di stanze e appartamenti privati, si è quotata alla borsa",
      "accessed": {
       "date-parts": [
        [
         2021,
         10,
         9
        ]
       ]
      },
      "container-title": "Il Post",
      "id": "7765261/BUI6HN97",
      "issued": {
       "date-parts": [
        [
         2020,
         12,
         10
        ]
       ]
      },
      "language": "it-IT",
      "title": "La quotazione in borsa di Airbnb è stata un successo",
      "type": "article-newspaper"
     },
     "7765261/BWH3A26K": {
      "URL": "https://www.ilsole24ore.com/art/ofo-vicina-fallimento-mobike-la-vendita-europa-AEEdWb2G",
      "abstract": "Ofo ha un enorme problema di cash flow e ha valutato l’avvio delle procedure per il fallimento. Lo ha scritto Dai Wei, il fondatore dell’azienda, ai dipendenti,...",
      "accessed": {
       "date-parts": [
        [
         2021,
         10,
         26
        ]
       ]
      },
      "author": [
       {
        "family": "Salvioli",
        "given": "Luca"
       }
      ],
      "container-title": "Il Sole 24 ORE",
      "id": "7765261/BWH3A26K",
      "issued": {
       "date-parts": [
        [
         2018,
         12,
         19
        ]
       ]
      },
      "language": "it",
      "note": "Section: Economia",
      "title": "Ofo vicina al fallimento, Mobike verso la vendita in Europa",
      "type": "webpage"
     },
     "7765261/EPW29CK5": {
      "URL": "http://www.ilpost.it/2020/09/23/airbnb-affitti-brevi-sentenza-corte-giustizia-europea/",
      "abstract": "Una decisione della Corte di Giustizia dell'Unione Europea su un caso a Parigi potrebbe cambiare le regole sul tema anche in altre città",
      "accessed": {
       "date-parts": [
        [
         2021,
         10,
         9
        ]
       ]
      },
      "container-title": "Il Post",
      "id": "7765261/EPW29CK5",
      "issued": {
       "date-parts": [
        [
         2020,
         9,
         23
        ]
       ]
      },
      "language": "it-IT",
      "title": "La nuova sentenza europea sugli affitti brevi",
      "type": "article-newspaper"
     },
     "7765261/ER5F483J": {
      "DOI": "10.3390/su12051803",
      "URL": "https://www.mdpi.com/2071-1050/12/5/1803",
      "abstract": "This study applies a life cycle assessment (LCA) to the shared dockless standing e-scooter system that is established in Brussels. The results are given for four impact categories: global warming potential (GWP), particulate matter formation, mineral resource, and fossil resource scarcity. Regarding GWP, the use of the shared e-scooters in the current system causes 131 g of CO2-eq. per passenger-kilometer while the mode of transportation displaced has an impact of 110 g of CO2-eq. Thus, at present, the use of e-scooters shows a higher impact than the transportation modes they replace. The high results for the shared e-scooter, in terms of GWP, are mainly caused by the short lifespan of the shared e-scooter. Nevertheless, as the market further matures, the lifespan of e-scooters could increase and the impact per kilometer travelled could decrease accordingly. Regarding the use of the personal e-scooter, the LCA results show an impact of around 67 g of CO2-eq. This study quantifies the LC impacts of the current situation based on local, &lsquo;real-life&rsquo; data. However, potential changes on soft mobility patterns induced by the use-oriented product-service system (PSS), such as a shared e-scooter system, could not be quantified.",
      "accessed": {
       "date-parts": [
        [
         2021,
         10,
         26
        ]
       ]
      },
      "author": [
       {
        "family": "Moreau",
        "given": "Hélie"
       },
       {
        "family": "de Jamblinne de Meux",
        "given": "Loïc"
       },
       {
        "family": "Zeller",
        "given": "Vanessa"
       },
       {
        "family": "D’Ans",
        "given": "Pierre"
       },
       {
        "family": "Ruwet",
        "given": "Coline"
       },
       {
        "family": "Achten",
        "given": "Wouter M. J."
       }
      ],
      "container-title": "Sustainability",
      "id": "7765261/ER5F483J",
      "issue": "5",
      "issued": {
       "date-parts": [
        [
         2020,
         1
        ]
       ]
      },
      "language": "en",
      "note": "Number: 5\nPublisher: Multidisciplinary Digital Publishing Institute",
      "page": "1803",
      "shortTitle": "Dockless E-Scooter",
      "title": "Dockless E-Scooter: A Green Solution for Mobility? Comparative Case Study between Dockless E-Scooters, Displaced Transport, and Personal E-Scooters",
      "type": "article-journal",
      "volume": "12"
     },
     "7765261/FT4RTIBS": {
      "DOI": "10.1016/j.trc.2020.102947",
      "URL": "https://www.sciencedirect.com/science/article/pii/S0968090X20308445",
      "abstract": "Shared micromobility services (e-scooters, bikes, e-bikes) have rapidly gained popularity in the past few years, yet little is known about their usage. While most previous studies have analysed single modes, only few comparative studies of two modes exist and none so-far have analysed competition or mode choice at a high spatiotemporal resolution for more than two modes. To this end, we develop a generally applicable methodology to model and analyse shared micromobility competition and mode choice using widely accessible vehicle location data. We apply this methodology to estimate the first comprehensive mode choice models between four different micromobility modes using the largest and densest empirical shared micromobility dataset to-date. Our results suggest that mode choice is nested (dockless and docked) and dominated by distance and time of day. Docked modes are preferred for commuting. Hence, docking infrastructure for currently dockless modes could be vital for bolstering micromobility as an attractive alternative to private cars to tackle urban congestion during rush hours. Furthermore, our results reveal a fundamental relationship between fleet density and usage. A “plateau effect” is observed with decreasing marginal utility gains for increasing fleet densities. City authorities and service providers can leverage this quantitative relationship to develop evidence-based micromobility regulation and optimise their fleet deployment, respectively.",
      "accessed": {
       "date-parts": [
        [
         2021,
         10,
         26
        ]
       ]
      },
      "author": [
       {
        "family": "Reck",
        "given": "Daniel J."
       },
       {
        "family": "Haitao",
        "given": "He"
       },
       {
        "family": "Guidon",
        "given": "Sergio"
       },
       {
        "family": "Axhausen",
        "given": "Kay W."
       }
      ],
      "container-title": "Transportation Research Part C: Emerging Technologies",
      "id": "7765261/FT4RTIBS",
      "issued": {
       "date-parts": [
        [
         "2021",
         3,
         1
        ]
       ]
      },
      "journalAbbreviation": "Transportation Research Part C: Emerging Technologies",
      "language": "en",
      "page": "102947",
      "title": "Explaining shared micromobility usage, competition and mode choice by modelling empirical data from Zurich, Switzerland",
      "type": "article-journal",
      "volume": "124"
     },
     "7765261/G3F5S8ZS": {
      "URL": "http://www.ilpost.it/2021/04/21/citta-europee-affitti-breve-termine/",
      "abstract": "Come quelli offerti da Airbnb: diverse amministrazioni locali stanno provando a introdurre nuovi limiti, anche in Italia",
      "accessed": {
       "date-parts": [
        [
         2021,
         10,
         9
        ]
       ]
      },
      "container-title": "Il Post",
      "id": "7765261/G3F5S8ZS",
      "issued": {
       "date-parts": [
        [
         2021,
         4,
         21
        ]
       ]
      },
      "language": "it-IT",
      "title": "Le città europee contro gli affitti brevi",
      "type": "article-newspaper"
     },
     "7765261/GVEPNMR5": {
      "URL": "http://www.ilpost.it/2019/05/11/uber-azioni/",
      "abstract": "Nel primo giorno di quotazione a Wall Street, le azioni di Uber hanno perso il 7,6 per cento. Uber – la società di mobilità conosciuta soprattutto per il",
      "accessed": {
       "date-parts": [
        [
         2021,
         10,
         9
        ]
       ]
      },
      "container-title": "Il Post",
      "id": "7765261/GVEPNMR5",
      "issued": {
       "date-parts": [
        [
         2019,
         5,
         11
        ]
       ]
      },
      "language": "it-IT",
      "title": "Nel primo giorno di quotazione in borsa, le azioni di Uber hanno perso il 7,6 per cento",
      "type": "article-newspaper"
     },
     "7765261/KNCP7PMX": {
      "URL": "https://www.ilsole24ore.com/art/bike-sharing-italiana-idri-bk-rileva-attivita-ue-mobike-ACJxRbx",
      "abstract": "Gli obiettivi con il nuovo marchio Movi: ebike, monopattini e scooter elettrici",
      "accessed": {
       "date-parts": [
        [
         2021,
         10,
         26
        ]
       ]
      },
      "author": [
       {
        "family": "Soldavini",
        "given": "Pierangelo"
       }
      ],
      "container-title": "Il Sole 24 ORE",
      "id": "7765261/KNCP7PMX",
      "issued": {
       "date-parts": [
        [
         2019,
         11,
         8
        ]
       ]
      },
      "language": "it",
      "note": "Section: Economia",
      "title": "Il bike sharing europeo di Mobike diventa italiano (ed elettrico)",
      "type": "webpage"
     },
     "7765261/MIHGC3RA": {
      "URL": "http://www.ilpost.it/2020/05/29/uber-commissariamento-rider-sfruttamento-caporalato/",
      "abstract": "Secondo il Tribunale di Milano ha utilizzato società di intermediazione sfruttando il lavoro di persone in difficoltà",
      "accessed": {
       "date-parts": [
        [
         2021,
         10,
         24
        ]
       ]
      },
      "container-title": "Il Post",
      "id": "7765261/MIHGC3RA",
      "issued": {
       "date-parts": [
        [
         2020,
         5,
         29
        ]
       ]
      },
      "language": "it-IT",
      "title": "Uber Italia è accusata di sfruttamento dei rider ed è stata commissariata",
      "type": "webpage"
     },
     "7765261/MS4XRQEP": {
      "URL": "https://www.investopedia.com/articles/personal-finance/111015/story-uber.asp",
      "abstract": "Uber’s disruptive technology, explosive growth, and constant controversy make it one of the most fascinating companies to emerge in recent years.",
      "accessed": {
       "date-parts": [
        [
         2021,
         10,
         25
        ]
       ]
      },
      "author": [
       {
        "family": "Jackson",
        "given": "Amanda"
       }
      ],
      "container-title": "Investopedia",
      "id": "7765261/MS4XRQEP",
      "issued": {
       "date-parts": [
        [
         2021,
         9,
         19
        ]
       ]
      },
      "language": "en",
      "title": "The Story of Uber",
      "type": "webpage"
     },
     "7765261/MTDR28J4": {
      "DOI": "10.1016/j.tbs.2020.12.004",
      "URL": "https://www.sciencedirect.com/science/article/pii/S2214367X20302477",
      "abstract": "Shared e-scooter systems are operating across hundreds of cities worldwide. However, limited understanding of the user demand, as well as how this demand varies across individuals with various transportation preferences living in different urban contexts, is a key barrier to developing policy and regulations. This paper begins to close this gap by providing preliminary but novel insights into the socio-demographic, attitudinal and built-environment characteristics of potential users of shared e-scooters. In particular, we examine the self-reported intention to consider shared e-scooters by residents in Toronto and surrounding municipalities in Canada. Based on an online survey of 1,640 adults living in 17 neighbourhoods, we found that 21% were amenable to considering e-scooters for some of their current trips, and the majority would replace their existing walking (60%) and transit (55%) trips with shared e-scooters. Weighted logistic regression models revealed that all else being equal, preference toward trip efficiency, and environment and health-consciousness, were positively associated with potential e-scooter consideration. Perceived walkability/bikability and street safety also increased the likelihood of considering shared e-scooter in future. The findings begin to identify who will likely benefit from this micro-mobility option and where the impacts will be felt the most.",
      "accessed": {
       "date-parts": [
        [
         2021,
         10,
         25
        ]
       ]
      },
      "author": [
       {
        "family": "Mitra",
        "given": "Raktim"
       },
       {
        "family": "Hess",
        "given": "Paul M."
       }
      ],
      "container-title": "Travel Behaviour and Society",
      "id": "7765261/MTDR28J4",
      "issued": {
       "date-parts": [
        [
         "2021",
         4,
         1
        ]
       ]
      },
      "journalAbbreviation": "Travel Behaviour and Society",
      "language": "en",
      "page": "100-107",
      "shortTitle": "Who are the potential users of shared e-scooters?",
      "title": "Who are the potential users of shared e-scooters? An examination of socio-demographic, attitudinal and environmental factors",
      "type": "article-journal",
      "volume": "23"
     },
     "7765261/NHQTQJTJ": {
      "DOI": "10.1016/j.tra.2020.07.009",
      "URL": "https://www.sciencedirect.com/science/article/pii/S0965856420306522",
      "abstract": "E-scooters are rapidly changing transportation in US cities and university campuses. Hailed as a convenient, inexpensive solution for “last mile” and other short trips, e-scooters are available in over 100 US cities and were used for nearly forty million trips in 2018. Yet relatively little is known about e-scooter use, including who uses them, for which types of trips, and the perceived benefits and barriers related to e-scooters. This information is particularly important in light of concerns about safety and the loss of physical activity (PA) due to replacing walking and biking with e-scooting. In this paper, we aim to characterize trends in the barriers and benefits related to e-scooter use within a professional population. We surveyed 1,256 university staff in Tempe, AZ, finding that 36% of respondents had ridden e-scooters and 40% indicated that they would do so outside of campus in the next year. Overwhelmingly, e-scooters are seen as a convenient way to travel, particularly in the heat and compared to walking. However, demographic differences were notable, particularly regarding barriers. African American and non-white Hispanic respondents were significantly more likely than non-Hispanic white respondents to intend to try e-scooters and to be unhappy with current transportation options. E-scooters are also associated with concerns about traffic safety – particularly for women – and barriers related to being able to find working equipment when needed. These findings suggest that e-scooters fill an important transportation niche and may contribute to transportation equity, and that efforts to address barriers could further enhance that contribution.",
      "accessed": {
       "date-parts": [
        [
         2021,
         10,
         25
        ]
       ]
      },
      "author": [
       {
        "family": "Sanders",
        "given": "Rebecca L."
       },
       {
        "family": "Branion-Calles",
        "given": "Michael"
       },
       {
        "family": "Nelson",
        "given": "Trisalyn A."
       }
      ],
      "container-title": "Transportation Research Part A: Policy and Practice",
      "id": "7765261/NHQTQJTJ",
      "issued": {
       "date-parts": [
        [
         "2020",
         9,
         1
        ]
       ]
      },
      "journalAbbreviation": "Transportation Research Part A: Policy and Practice",
      "language": "en",
      "page": "217-227",
      "shortTitle": "To scoot or not to scoot",
      "title": "To scoot or not to scoot: Findings from a recent survey about the benefits and barriers of using E-scooters for riders and non-riders",
      "type": "article-journal",
      "volume": "139"
     },
     "7765261/PHU24GMW": {
      "URL": "https://www.businessinsider.com/uber-company-scandals-and-controversies-2017-11",
      "abstract": "Uber is going public in one of the biggest IPOs ever, but things haven't always looked so good for the company, which has been riddled with scandals over the years.",
      "accessed": {
       "date-parts": [
        [
         2021,
         10,
         25
        ]
       ]
      },
      "author": [
       {
        "family": "Goggin",
        "given": "Benjamin"
       },
       {
        "family": "Taylor",
        "given": "Kate"
       }
      ],
      "container-title": "Business Insider",
      "id": "7765261/PHU24GMW",
      "issued": {
       "date-parts": [
        [
         2019,
         5,
         10
        ]
       ]
      },
      "language": "en-US",
      "title": "49 of the biggest scandals in Uber's history",
      "type": "webpage"
     },
     "7765261/Q2V3Z9K2": {
      "URL": "https://www.bloomberg.com/features/2017-uber-airbnb-99-billion-idea/",
      "accessed": {
       "date-parts": [
        [
         2021,
         10,
         24
        ]
       ]
      },
      "author": [
       {
        "family": "Stone",
        "given": "Brad"
       }
      ],
      "container-title": "Bloomberg Businessweek",
      "id": "7765261/Q2V3Z9K2",
      "issued": {
       "date-parts": [
        [
         2017,
         1,
         26
        ]
       ]
      },
      "title": "The $99 Billion Idea: How Uber and Airbnb Won",
      "type": "article-newspaper"
     },
     "7765261/Q8QH45IB": {
      "URL": "http://www.ilpost.it/2018/06/30/cina-wechat/",
      "abstract": "Ma c'è chi ci prova, nonostante la piattaforma a metà tra un'app di messaggistica e un social network sia entrata in ogni aspetto della vita quotidiana",
      "accessed": {
       "date-parts": [
        [
         2021,
         10,
         9
        ]
       ]
      },
      "container-title": "Il Post",
      "id": "7765261/Q8QH45IB",
      "issued": {
       "date-parts": [
        [
         2018,
         6,
         30
        ]
       ]
      },
      "language": "it-IT",
      "title": "In Cina vivere senza WeChat è complicato",
      "type": "article-newspaper"
     },
     "7765261/QE6IMJ5R": {
      "URL": "https://www.tandfonline.com/doi/abs/10.1080/01441647.2015.1033036",
      "abstract": "(2016). Bikeshare: A Review of Recent Literature. Transport Reviews: Vol. 36, Cycling As Transport, pp. 92-113.",
      "accessed": {
       "date-parts": [
        [
         2021,
         10,
         24
        ]
       ]
      },
      "archive_location": "world",
      "author": [
       {
        "family": "Fishman",
        "given": "Elliot"
       }
      ],
      "container-title": "Transport Reviews",
      "id": "7765261/QE6IMJ5R",
      "issued": {
       "date-parts": [
        [
         "2015",
         4,
         24
        ]
       ]
      },
      "language": "en",
      "note": "Publisher: Routledge",
      "shortTitle": "Bikeshare",
      "title": "Bikeshare: A Review of Recent Literature",
      "type": "article-journal"
     },
     "7765261/R7Y5BHCU": {
      "URL": "https://www.comune.milano.it/servizi/monopattini-in-sharing",
      "accessed": {
       "date-parts": [
        [
         2021,
         10,
         26
        ]
       ]
      },
      "id": "7765261/R7Y5BHCU",
      "issued": {
       "date-parts": [
        [
         2021,
         7,
         7
        ]
       ]
      },
      "title": "Monopattini in Sharing - Comune di Milano",
      "type": "webpage"
     },
     "7765261/RL3FDK87": {
      "DOI": "10.1016/j.jtrangeo.2020.102702",
      "URL": "https://www.sciencedirect.com/science/article/pii/S0966692319309408",
      "abstract": "While the legalisation of and policies around e-scooters remain the cause of much debate worldwide, this article sheds lights on e-scooter users’ current practices and their interactions with pedestrians in the city. Taking an ethnomethodological approach to public space and mobility, we use video recordings of e-scooter riders to show, firstly, how riders dismount and then move to acquire rights to continue moving, thereby ‘playing’ with traffic rules, in order to weave rapidly through congested urban environments. Secondly, we examine how e-scooter riders and pedestrians deal with the potentially unexpected appearance of e-scooters via displays of attention, adjustments of speed, and the relative rights and obligations established via category-relevant spaces. The findings offer insights into the integration of e-scooters as one of what may be many new forms of electric powered micro-mobility in urban space.",
      "accessed": {
       "date-parts": [
        [
         2021,
         10,
         25
        ]
       ]
      },
      "author": [
       {
        "family": "Tuncer",
        "given": "Sylvaine"
       },
       {
        "family": "Laurier",
        "given": "Eric"
       },
       {
        "family": "Brown",
        "given": "Barry"
       },
       {
        "family": "Licoppe",
        "given": "Christian"
       }
      ],
      "container-title": "Journal of Transport Geography",
      "id": "7765261/RL3FDK87",
      "issued": {
       "date-parts": [
        [
         "2020",
         5,
         1
        ]
       ]
      },
      "journalAbbreviation": "Journal of Transport Geography",
      "language": "en",
      "page": "102702",
      "title": "Notes on the practices and appearances of e-scooter users in public space",
      "type": "article-journal",
      "volume": "85"
     },
     "7765261/S824QY7N": {
      "URL": "https://bikemi.com/en/who-we-are",
      "accessed": {
       "date-parts": [
        [
         2021,
         10,
         26
        ]
       ]
      },
      "id": "7765261/S824QY7N",
      "title": "Who we are - BikeMi",
      "type": "webpage"
     },
     "7765261/SAYXS4UZ": {
      "URL": "http://www.ilpost.it/2020/05/03/sharing-economy-crisi-coronavirus/",
      "abstract": "Le aziende basate sulla condivisione di spazi o mezzi di trasporto, come Airbnb e Uber, hanno un presente drammatico e un futuro incerto",
      "accessed": {
       "date-parts": [
        [
         2021,
         10,
         9
        ]
       ]
      },
      "container-title": "Il Post",
      "id": "7765261/SAYXS4UZ",
      "issued": {
       "date-parts": [
        [
         2020,
         5,
         3
        ]
       ]
      },
      "language": "it-IT",
      "title": "La crisi della sharing economy",
      "type": "article-newspaper"
     },
     "7765261/U3B594Z7": {
      "URL": "https://www.ilsole24ore.com/art/la-guerra-bike-sharing-cosi-bici-cinesi-low-cost-invadono-mercato-italiano-AEfgqkID",
      "abstract": "Quando sono iniziate a comparire a Milano, lo scorso luglio, le bici cinesi di Mobike e Ofo hanno fatto colpo per due motivi: erano gratis, o quasi, e...",
      "accessed": {
       "date-parts": [
        [
         2021,
         10,
         26
        ]
       ]
      },
      "author": [
       {
        "family": "Magnani",
        "given": "Alberto"
       }
      ],
      "container-title": "Il Sole 24 ORE",
      "id": "7765261/U3B594Z7",
      "issued": {
       "date-parts": [
        [
         2017,
         11,
         27
        ]
       ]
      },
      "language": "it",
      "note": "Section: Economia",
      "shortTitle": "La guerra del bike-sharing",
      "title": "La guerra del bike-sharing: così le bici cinesi low cost «invadono» il mercato italiano",
      "type": "webpage"
     },
     "7765261/WNLV8VB5": {
      "DOI": "10.1016/j.jtrangeo.2020.102874",
      "URL": "https://www.sciencedirect.com/science/article/pii/S0966692320309510",
      "abstract": "In many cities around the world, electric (e-)scooters have emerged as a new means of transportation. They are often advertised as supporting modal shift towards more sustainable transportation and as a tool for enabling more equity in mobility. However, the environmental impact depends on how they are used and what kinds of trips they replace. Integration of e-scooters into urban transport systems also implicates discussions on fair road space allocation. In our study, we assess the socio-economic profiles and usage patterns of e-scooter users in Vienna, Austria. We differentiate between two basic groups of e-scooter users (renters and owners) and apply two different methods. Firstly, based on an online survey, we examine the age, gender and education of e-scooter users and we look into which kinds of trips (commuting, shopping or leisure) and which other means of transportation are replaced by e-scooter trips. Secondly, we analyse data from field observations at cycle paths in Vienna in order to determine the share of e-scooter riders and their gender distribution. We find that e-scooter users are more likely to be young, male, highly educated and residents of Vienna. According to the survey, there are considerable differences in usage between owners of private scooters and users of sharing schemes. Whereas in both groups, e-scooter trips mostly replace walking and public transport as a mode, e-scooter owners also show a considerable mode-shift from private car trips. These results implicate that e-scooter riders are additional users of cycling infrastructure. This puts further pressure on the current allocation of road space, which provides little space for active modes of transport. We conclude that city policies should address this competitive relationship adequately by allocating more space to safe and convenient cycling infrastructure and traffic-calmed zones. This could not only help ease the current challenges due to e-scooters but also provide better conditions for walking and cycling and thereby at the same time contribute to a more sustainable and equitable urban transport system.",
      "accessed": {
       "date-parts": [
        [
         2021,
         10,
         25
        ]
       ]
      },
      "author": [
       {
        "family": "Laa",
        "given": "Barbara"
       },
       {
        "family": "Leth",
        "given": "Ulrich"
       }
      ],
      "container-title": "Journal of Transport Geography",
      "id": "7765261/WNLV8VB5",
      "issued": {
       "date-parts": [
        [
         "2020",
         12,
         1
        ]
       ]
      },
      "journalAbbreviation": "Journal of Transport Geography",
      "language": "en",
      "page": "102874",
      "shortTitle": "Survey of E-scooter users in Vienna",
      "title": "Survey of E-scooter users in Vienna: Who they are and how they ride",
      "type": "article-journal",
      "volume": "89"
     },
     "7765261/YBZB3FJS": {
      "DOI": "10.1016/j.tra.2021.09.012",
      "URL": "https://www.sciencedirect.com/science/article/pii/S0965856421002445",
      "abstract": "As a new type of shared micromobility, e-scooter sharing first appeared in the United States and became popular worldwide. Considering e-scooter sharing and bike sharing have similar service attributes, the ridership of bike sharing may be affected by the introduction of e-scooter sharing. To date, studies exploring this impact are limited. In this study, we seek to analyze the impact of e-scooter sharing on the usage of bike sharing from trip data of e-scooter sharing and bike sharing in Chicago for a total of 30 weeks. We rely on a difference-in-differences modeling approach based on the propensity score matching method. We found that the average duration of e-scooter trips is shorter than that of bike trips. The introduction of e-scooter sharing reduced the overall bike sharing usage by 23.4 trips per week per station (10.2%). bike sharing usage of non-members and members decreased by 18.0 (34.1%) and 5.4 (4.0%) trips, and that of male and female members decreased by 3.3 (3.1%) and 2.0 (7.3%) trips, respectively. Furthermore, the volume of short-, medium-, and long-duration trips of bike sharing decreased by 10.9 (7.5%), 5.4 (9.6%), and 3.4 trips (20.5%), respectively. Finally, bike sharing use during non-peak hours decreased but was not affected during peak hours.",
      "accessed": {
       "date-parts": [
        [
         2021,
         10,
         25
        ]
       ]
      },
      "author": [
       {
        "family": "Yang",
        "given": "Hongtai"
       },
       {
        "family": "Huo",
        "given": "Jinghai"
       },
       {
        "family": "Bao",
        "given": "Yongxing"
       },
       {
        "family": "Li",
        "given": "Xuan"
       },
       {
        "family": "Yang",
        "given": "Linchuan"
       },
       {
        "family": "Cherry",
        "given": "Christopher R."
       }
      ],
      "container-title": "Transportation Research Part A: Policy and Practice",
      "id": "7765261/YBZB3FJS",
      "issued": {
       "date-parts": [
        [
         "2021",
         12,
         1
        ]
       ]
      },
      "journalAbbreviation": "Transportation Research Part A: Policy and Practice",
      "language": "en",
      "page": "23-36",
      "title": "Impact of e-scooter sharing on bike sharing in Chicago",
      "type": "article-journal",
      "volume": "154"
     },
     "7765261/YL7HX3L5": {
      "DOI": "10.1016/j.compenvurbsys.2020.101483",
      "URL": "https://www.sciencedirect.com/science/article/pii/S0198971519305812",
      "abstract": "The revolution in mobility-sharing services brings disruptive changes to the transportation landscape around the globe. The authorities often rush to regulate the services without a good knowledge of these new options. In Singapore and some other cities, dockless bike-sharing systems rose and fell in just one year and were followed by the booming of docking scooter-sharing systems. This study conducts a comparative analysis of bike-sharing and scooter-sharing activities in Singapore to help understand the phenomenon and inform policy-making. Based on the collected data (i.e., origin-destination pairs enriched with the departure and arrival time and the GPS locations) for one month, this study proposed methods to construct the paths and estimated repositioning trips and the fleet sizes. Hence, the spatio-temporal heterogeneity of the two systems in two discrete urban areas was investigated. It explored the impact of the fleet size, operational regulations (dockless versus docking), and weather conditions on the usages. We found that shared scooters have spatially compact and quantitatively denser distribution compared with shared bikes, and their high demands associate with places such as attractions, metros, and the dormitory. Results suggest that scooter sharing has a better performance than bike sharing in terms of the increased sharing frequency and decreased fleet size; however, the shareability still has potential to be improved. High repositioning rates of shared-scooters indicates high maintenance cost for rebalancing and charging. Rainfall and high temperatures at noon suppress the usages but not conclusively. The study also proposes several initiatives to promote the sustainable development of scooter-sharing services.",
      "accessed": {
       "date-parts": [
        [
         2021,
         10,
         24
        ]
       ]
      },
      "author": [
       {
        "family": "Zhu",
        "given": "Rui"
       },
       {
        "family": "Zhang",
        "given": "Xiaohu"
       },
       {
        "family": "Kondor",
        "given": "Dániel"
       },
       {
        "family": "Santi",
        "given": "Paolo"
       },
       {
        "family": "Ratti",
        "given": "Carlo"
       }
      ],
      "container-title": "Computers, Environment and Urban Systems",
      "id": "7765261/YL7HX3L5",
      "issued": {
       "date-parts": [
        [
         "2020",
         5,
         1
        ]
       ]
      },
      "journalAbbreviation": "Computers, Environment and Urban Systems",
      "language": "en",
      "page": "101483",
      "title": "Understanding spatio-temporal heterogeneity of bike-sharing and scooter-sharing mobility",
      "type": "article-journal",
      "volume": "81"
     },
     "7765261/YN4FJZUM": {
      "DOI": "10.1016/j.trd.2021.102803",
      "URL": "https://www.sciencedirect.com/science/article/pii/S1361920921001073",
      "abstract": "Shared micro-mobility services have rapidly gained popularity yet challenged city administrations to develop adequate policies while scientific insight is largely missing. From a transportation equity perspective, it is particularly important to understand user correlates, as they are the beneficiaries from public investment and reallocation of public space. This paper provides an up-to-date account of shared micro-mobility adoption and user characteristics in Zurich, Switzerland. Our results suggest that shared micro-mobility users tend to be young, university-educated males with full-time employment living in affluent households without children or cars. Shared e-scooter users, in particular, are younger, yet more representative of the general population in terms of education, full-time employment, income and gender than bike-sharing users. This suggests that shared e-scooters may contribute to transportation equity, yet their promotion should be handled with care as life-cycle emissions exceed those of bike-sharing and equity contributions might be skewed as many users are students.",
      "accessed": {
       "date-parts": [
        [
         2021,
         10,
         26
        ]
       ]
      },
      "author": [
       {
        "family": "Reck",
        "given": "Daniel J."
       },
       {
        "family": "Axhausen",
        "given": "Kay W."
       }
      ],
      "container-title": "Transportation Research Part D: Transport and Environment",
      "id": "7765261/YN4FJZUM",
      "issued": {
       "date-parts": [
        [
         "2021",
         5,
         1
        ]
       ]
      },
      "journalAbbreviation": "Transportation Research Part D: Transport and Environment",
      "language": "en",
      "page": "102803",
      "shortTitle": "Who uses shared micro-mobility services?",
      "title": "Who uses shared micro-mobility services? Empirical evidence from Zurich, Switzerland",
      "type": "article-journal",
      "volume": "94"
     },
     "7765261/ZC4WFCHU": {
      "URL": "https://www.comune.milano.it/servizi/bike-sharing",
      "accessed": {
       "date-parts": [
        [
         2021,
         10,
         26
        ]
       ]
      },
      "id": "7765261/ZC4WFCHU",
      "issued": {
       "date-parts": [
        [
         2021,
         8,
         5
        ]
       ]
      },
      "title": "Bike Sharing - Comune di Milano",
      "type": "webpage"
     },
     "7765261/ZHG9MECZ": {
      "DOI": "10.1016/j.trd.2021.102790",
      "URL": "https://www.sciencedirect.com/science/article/pii/S1361920921000948",
      "abstract": "Micromobility and especially e-scooter sharing have recently attracted a lot of attention, due to the rapid spreading of e-scooters in many cities around the world. However, many local authorities have not yet been prepared for efficiently integrating e-scooters in their transport systems and the exact impact of e-scooters is still unclear. It is therefore essential to understand the way e-scooters operate and their users’ profile. To address these questions, a study was designed based on 578 questionnaires (271 by e-scooter users and 307 by non-users) in the city of Thessaloniki, Greece. The analysis utilized a classification tree model for identifying the characteristics of people that are attracted by e-scooters (i.e., used them more than once) and a latent variable logit model for understanding the attributes of the regular e-scooter users. The results show that shared e-scooters mostly replaced walking and public transport trips; therefore, the positive impact of e-scooters on the environment is questioned. Also, the results indicate that people traveling with bicycle or motorcycle were not at all attracted by e-scooters. Moreover, females seem to be less keen on using e-scooters compared to males, while people living downtown are more regular users compared with those living in longer distances from the city center. These findings can aid policymakers in shaping the manner with which e-scooters can be incorporated in their cities.",
      "accessed": {
       "date-parts": [
        [
         2021,
         10,
         25
        ]
       ]
      },
      "author": [
       {
        "family": "Nikiforiadis",
        "given": "Andreas"
       },
       {
        "family": "Paschalidis",
        "given": "Evangelos"
       },
       {
        "family": "Stamatiadis",
        "given": "Nikiforos"
       },
       {
        "family": "Raptopoulou",
        "given": "Alexandra"
       },
       {
        "family": "Kostareli",
        "given": "Athanasia"
       },
       {
        "family": "Basbas",
        "given": "Socrates"
       }
      ],
      "container-title": "Transportation Research Part D: Transport and Environment",
      "id": "7765261/ZHG9MECZ",
      "issued": {
       "date-parts": [
        [
         "2021",
         5,
         1
        ]
       ]
      },
      "journalAbbreviation": "Transportation Research Part D: Transport and Environment",
      "language": "en",
      "page": "102790",
      "title": "Analysis of attitudes and engagement of shared e-scooter users",
      "type": "article-journal",
      "volume": "94"
     }
    }
   }
  },
  "kernelspec": {
   "display_name": "Bike Sharing Forecasting",
   "language": "python",
   "name": "bikemi"
  },
  "language_info": {
   "codemirror_mode": {
    "name": "ipython",
    "version": 3
   },
   "file_extension": ".py",
   "mimetype": "text/x-python",
   "name": "python",
   "nbconvert_exporter": "python",
   "pygments_lexer": "ipython3",
   "version": "3.9.7"
  }
 },
 "nbformat": 4,
 "nbformat_minor": 5
}
