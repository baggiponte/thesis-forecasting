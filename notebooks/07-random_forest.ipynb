{
 "cells": [
  {
   "cell_type": "code",
   "execution_count": 2,
   "outputs": [],
   "source": [
    "import warnings  # suppress future warnings\n",
    "\n",
    "import pandas as pd\n",
    "import holidays\n",
    "import numpy as np\n",
    "import psycopg2\n",
    "\n",
    "import matplotlib.pyplot as plt\n",
    "import seaborn as sns\n",
    "\n",
    "from typing import Optional\n",
    "\n",
    "from pandas.plotting import register_matplotlib_converters\n",
    "\n",
    "pd.options.display.float_format = '{:.3f}'.format\n",
    "register_matplotlib_converters()\n",
    "\n",
    "# set settings for seaborn\n",
    "sns.set_style(style=\"whitegrid\", rc={\"grid.color\": \".9\"})\n",
    "sns.set_palette(palette=\"deep\")\n",
    "sns_c = sns.color_palette(palette=\"deep\")\n",
    "\n",
    "# customise matplotlib and sns plot dimensions\n",
    "plt.rcParams[\"figure.figsize\"] = [12, 6]\n",
    "plt.rcParams[\"figure.dpi\"] = 100\n",
    "title_font = {\"fontname\": \"DejaVu Sans Mono\"}\n",
    "\n",
    "conn = psycopg2.connect(\"dbname = bikemi user=luca\")\n",
    "\n",
    "warnings.simplefilter(action=\"ignore\", category=FutureWarning)\n",
    "\n",
    "\n",
    "def retrieve_daily_data(connection, wide: bool = False) -> pd.DataFrame:\n",
    "    query = \"\"\"\n",
    "        SELECT\n",
    "            cdr.data_partenza,\n",
    "            cdr.cluster,\n",
    "            cdr.noleggi_giornalieri\n",
    "        FROM bikemi_rentals.clusters_daily_rentals cdr\n",
    "    \"\"\"\n",
    "\n",
    "    if not wide:\n",
    "        return pd.read_sql(query, connection).rename(index=str.title)\n",
    "    return (\n",
    "        pd.read_sql(query, connection)\n",
    "            .pivot(index=\"data_partenza\", columns=\"cluster\", values=\"noleggi_giornalieri\")\n",
    "            .rename(columns=str.title)\n",
    "            .asfreq(\"D\")\n",
    "    )\n",
    "\n",
    "daily_rentals: pd.DataFrame = (\n",
    "    retrieve_daily_data(conn, wide=True)\n",
    ")"
   ],
   "metadata": {
    "collapsed": false,
    "pycharm": {
     "name": "#%%\n"
    }
   }
  },
  {
   "cell_type": "code",
   "execution_count": 5,
   "outputs": [
    {
     "data": {
      "text/plain": "cluster        Brera - 25  year  month  week  weekday  day holiday\ndata_partenza                                                     \n2015-06-01            245  2015      6    23        0    1     NaN\n2015-06-02            214  2015      6    23        1    2     NaN\n2015-06-03            375  2015      6    23        2    3     NaN\n2015-06-04            491  2015      6    23        3    4     NaN\n2015-06-05            427  2015      6    23        4    5     NaN",
      "text/html": "<div>\n<style scoped>\n    .dataframe tbody tr th:only-of-type {\n        vertical-align: middle;\n    }\n\n    .dataframe tbody tr th {\n        vertical-align: top;\n    }\n\n    .dataframe thead th {\n        text-align: right;\n    }\n</style>\n<table border=\"1\" class=\"dataframe\">\n  <thead>\n    <tr style=\"text-align: right;\">\n      <th>cluster</th>\n      <th>Brera - 25</th>\n      <th>year</th>\n      <th>month</th>\n      <th>week</th>\n      <th>weekday</th>\n      <th>day</th>\n      <th>holiday</th>\n    </tr>\n    <tr>\n      <th>data_partenza</th>\n      <th></th>\n      <th></th>\n      <th></th>\n      <th></th>\n      <th></th>\n      <th></th>\n      <th></th>\n    </tr>\n  </thead>\n  <tbody>\n    <tr>\n      <th>2015-06-01</th>\n      <td>245</td>\n      <td>2015</td>\n      <td>6</td>\n      <td>23</td>\n      <td>0</td>\n      <td>1</td>\n      <td>NaN</td>\n    </tr>\n    <tr>\n      <th>2015-06-02</th>\n      <td>214</td>\n      <td>2015</td>\n      <td>6</td>\n      <td>23</td>\n      <td>1</td>\n      <td>2</td>\n      <td>NaN</td>\n    </tr>\n    <tr>\n      <th>2015-06-03</th>\n      <td>375</td>\n      <td>2015</td>\n      <td>6</td>\n      <td>23</td>\n      <td>2</td>\n      <td>3</td>\n      <td>NaN</td>\n    </tr>\n    <tr>\n      <th>2015-06-04</th>\n      <td>491</td>\n      <td>2015</td>\n      <td>6</td>\n      <td>23</td>\n      <td>3</td>\n      <td>4</td>\n      <td>NaN</td>\n    </tr>\n    <tr>\n      <th>2015-06-05</th>\n      <td>427</td>\n      <td>2015</td>\n      <td>6</td>\n      <td>23</td>\n      <td>4</td>\n      <td>5</td>\n      <td>NaN</td>\n    </tr>\n  </tbody>\n</table>\n</div>"
     },
     "execution_count": 5,
     "metadata": {},
     "output_type": "execute_result"
    }
   ],
   "source": [
    "def extract_features(y: pd.Series) -> pd.DataFrame:\n",
    "    def get_holidays(series: pd.Series) -> pd.Series:\n",
    "        return (\n",
    "            series\n",
    "                .pipe(pd.DataFrame)\n",
    "                .reset_index()[\"data_partenza\"]\n",
    "                .apply(lambda d: holidays.CountryHoliday(\"IT\").get(d))\n",
    "                .astype(\"category\")\n",
    "        )\n",
    "\n",
    "    data = pd.DataFrame(y)\n",
    "\n",
    "    data[\"year\"] = y.index.year\n",
    "    data[\"month\"] = y.index.month\n",
    "    data[\"week\"] = y.index.week\n",
    "    data[\"weekday\"] = y.index.weekday\n",
    "    data[\"day\"] = y.index.day\n",
    "\n",
    "    data[\"holiday\"] = y.pipe(get_holidays)\n",
    "\n",
    "    return data\n",
    "\n",
    "\n",
    "y: pd.DataFrame = (\n",
    "    retrieve_daily_data(conn, wide=True)\n",
    "    .filter([\"Brera - 25\"])\n",
    "    .pipe(extract_features)\n",
    ")"
   ],
   "metadata": {
    "collapsed": false,
    "pycharm": {
     "name": "#%%\n"
    }
   }
  },
  {
   "cell_type": "markdown",
   "source": [
    "## Multivariate Time Series: Random Forest\n",
    "\n",
    "The random forest regression (or classification) is a popular ensemble method that was introduced in 2001 by Leo\n",
    "Breiman. Random Forests\n",
    "\n",
    "\n",
    "while Gradient Boosting Regression Tree was developed by Friedman[28][29]–[30] based on the work of Leo Breiman.Both algorithms can fit trees by selecting a random subset of the predictors from the original data and outputs a classification or a regression prediction.However, GBRT sequentially fits the trees.A robust model is built by minimizing the errors of the previous trees each time a tree is added (analysis and prediction)\n",
    "\n",
    "\n",
    "No data transformation but extract features and convert categoricals\n"
   ],
   "metadata": {
    "collapsed": false,
    "pycharm": {
     "name": "#%% md\n"
    }
   }
  },
  {
   "cell_type": "code",
   "execution_count": null,
   "outputs": [],
   "source": [
    "\n"
   ],
   "metadata": {
    "collapsed": false,
    "pycharm": {
     "name": "#%%\n"
    }
   }
  },
  {
   "cell_type": "code",
   "execution_count": null,
   "outputs": [],
   "source": [
    "from sklearn.ensemble import RandomForestRegressor, GradientBoostingRegressor\n",
    "from sklearn.pipeline import make_pipeline\n",
    "\n",
    "from sklearn.model_selection import TimeSeriesSplit\n",
    "\n",
    "ts_cv = TimeSeriesSplit(\n",
    "    n_splits=5,\n",
    "    gap=6,\n",
    "    max_train_size=10000,\n",
    "    test_size=1000,\n",
    ")"
   ],
   "metadata": {
    "collapsed": false,
    "pycharm": {
     "name": "#%%\n"
    }
   }
  },
  {
   "cell_type": "markdown",
   "source": [
    "### Configurations\n",
    "multi agent system Salamanca:\n",
    "Extra Tree Regressor: learning rate: [0.1, 0.01, 0.001], subsample: [1.0, 0.9, 0.8], max depth: [3, 5, 7], min samples leaf: [1, 3, 5]\n",
    "Random Forest Regressor: criterion: [mae, mse], number estimators: [10, 100, 1000], max features: [auto, sqrt, log2]\n",
    "Gradient Boosting Regressor: learning rate: [0.1, 0.01, 0.001], subsample: [1.0, 0.9, 0.8], max depth: [3, 5, 7], min samples leaf: [1, 3, 5]\n",
    "\n",
    "\n",
    "\n",
    "\n",
    "\n"
   ],
   "metadata": {
    "collapsed": false
   }
  },
  {
   "cell_type": "code",
   "execution_count": null,
   "outputs": [],
   "source": [
    "gbrt_pipeline = make_pipeline(\n",
    "    ColumnTransformer(\n",
    "        transformers=[\n",
    "            (\"categorical\", ordinal_encoder, categorical_columns),\n",
    "        ],\n",
    "        remainder=\"passthrough\",\n",
    "    ),\n",
    "    HistGradientBoostingRegressor(\n",
    "        categorical_features=range(4),\n",
    "    ),\n",
    ")"
   ],
   "metadata": {
    "collapsed": false,
    "pycharm": {
     "name": "#%%\n"
    }
   }
  },
  {
   "cell_type": "code",
   "execution_count": null,
   "metadata": {
    "collapsed": true
   },
   "outputs": [],
   "source": []
  }
 ],
 "metadata": {
  "kernelspec": {
   "display_name": "Python 3",
   "language": "python",
   "name": "python3"
  },
  "language_info": {
   "codemirror_mode": {
    "name": "ipython",
    "version": 2
   },
   "file_extension": ".py",
   "mimetype": "text/x-python",
   "name": "python",
   "nbconvert_exporter": "python",
   "pygments_lexer": "ipython2",
   "version": "2.7.6"
  }
 },
 "nbformat": 4,
 "nbformat_minor": 0
}