{
 "cells": [
  {
   "cell_type": "markdown",
   "id": "34d799b8-00c0-4090-adb2-80d598bab5fc",
   "metadata": {},
   "source": [
    "# Introduction"
   ]
  },
  {
   "cell_type": "markdown",
   "id": "b478d1f9-d826-4320-9ca0-e4b441dd7467",
   "metadata": {},
   "source": [
    "## COVID-19 Effects and Mobility Habits in Italy"
   ]
  },
  {
   "cell_type": "markdown",
   "id": "a0f635e9-b923-4cf4-bba4-781a3b50d4f8",
   "metadata": {
    "citation-manager": {
     "citations": {
      "1bsuh": [
       {
        "id": "7765261/DEQECBA8",
        "source": "zotero"
       }
      ],
      "4f6tb": [
       {
        "id": "7765261/TR9F33KT",
        "source": "zotero"
       }
      ],
      "6olep": [
       {
        "id": "7765261/X8PHHWUT",
        "source": "zotero"
       }
      ],
      "807gt": [
       {
        "id": "7765261/LFVYWU5J",
        "source": "zotero"
       }
      ],
      "9j0sv": [
       {
        "id": "7765261/WGNRECEM",
        "source": "zotero"
       }
      ],
      "djsm8": [
       {
        "id": "7765261/J38UF9CZ",
        "source": "zotero"
       }
      ],
      "g4m4o": [
       {
        "id": "7765261/WI4S5HHF",
        "source": "zotero"
       }
      ],
      "g90ru": [
       {
        "id": "7765261/WGNRECEM",
        "source": "zotero"
       }
      ],
      "hr98z": [
       {
        "id": "7765261/PCUNSAVD",
        "source": "zotero"
       }
      ],
      "kwop4": [
       {
        "id": "7765261/GESPKNH7",
        "source": "zotero"
       }
      ],
      "lt4yv": [
       {
        "id": "7765261/XWGXDX2Y",
        "source": "zotero"
       }
      ],
      "mjryi": [
       {
        "id": "7765261/4S3SWW9Q",
        "source": "zotero"
       }
      ],
      "mkd5v": [
       {
        "id": "7765261/92X93RNR",
        "source": "zotero"
       }
      ],
      "on8qc": [
       {
        "id": "7765261/WGNRECEM",
        "source": "zotero"
       }
      ],
      "rzzct": [
       {
        "id": "7765261/WGNRECEM",
        "source": "zotero"
       }
      ],
      "sd11u": [
       {
        "id": "7765261/NBY9XZBV",
        "source": "zotero"
       }
      ],
      "t5v2p": [
       {
        "id": "7765261/YUNHPBGP",
        "source": "zotero"
       }
      ],
      "wk4a9": [
       {
        "id": "7765261/J38UF9CZ",
        "source": "zotero"
       }
      ],
      "xenxi": [
       {
        "id": "7765261/LGNSP9HT",
        "source": "zotero"
       }
      ],
      "yvkaq": [
       {
        "id": "7765261/I9Z56NKK",
        "source": "zotero"
       }
      ]
     }
    },
    "tags": []
   },
   "source": [
    "The COVID-19 pandemic set the world back in its pursuit of the seventeen Sustainable Development Goals (SDGs) <cite id=\"1bsuh\">(<i>The 17 Goals</i>, n.d.)</cite>. This is also the case for Italy, as we can see from the 92 statistical measures collected by the Italian national institute for statistics (ISTAT, Istituto Nazionale di Statistica). When comparing 2019 with data from ten years prior, sixty percent of the measurements register an improvement, while twenty percent do not change and the remainder worsens. However, when comparing 2019 and 2020, only forty percent of the measurements improve, and almost the same amount displays a statistically significant drop <cite id=\"9j0sv\">(<i>Dall’andamento degli obiettivi di sviluppo sostenibile alla mobilità</i>, 2021)</cite>.\n",
    "\n",
    "To say that the pandemic brought about a lot of change would be a redundant understatement. Coming out of 2020, the Italian outlook is worse than the average of the (Western) European countries - as one can notice upon looking at macroeconomic variables such as the Gross Domestic Product (GDP). Part of the negative consequences could be offset, thanks to the government's stimulus packages, the European Union's (EU) funds and the European Central Bank's (ECB) Pandemic Emergency Purchase Program, or PEPP - a massive asset purchase program of 1,850 billion euros. From the beginning, it was clear that the pandemic would accelerate digitalisation <cite id=\"mkd5v\">(Härmand, 2021)</cite> - and, indeed, it has: see <cite id=\"4f6tb\">(Anthony Jnr &#38; Abbas Petersen, 2021)</cite> for a meta-review or <cite id=\"lt4yv\">(Truant et al., 2021)</cite> for Italy. The generalised lockdowns reduced the greenhouse gases (GHG) emissions (see <cite id=\"t5v2p\">(Jephcote et al., 2021)</cite>, <cite id=\"g4m4o\">(Singh &#38; Chauhan, 2020)</cite>, <cite id=\"hr98z\">(Lian et al., 2020)</cite> and <cite id=\"6olep\">(Gualtieri et al., 2020)</cite>) but only temporarily and relatively to the severity of the restrictions put in place: the pandemic altered electricity consumption habits, but in countries like Sweden \"the consumption even increased\" compared to 2019 <cite id=\"yvkaq\">(Bahmanyar et al., 2020)</cite>. Besides, this also came at the expense of our transportation habits and the mobility sector in general.\n",
    "\n",
    "According to ISTAT, private cars are now used for half of all travels, up from 44 percent in the pre-pandemic period. Furthermore, the so-called \"mobilità dolce\" (the Italian translation of micro-mobility) \"does not seem to take off\" <cite id=\"on8qc\">(<i>Dall’andamento degli obiettivi di sviluppo sostenibile alla mobilità</i>, 2021)</cite>. In 2020, 30 percent of interviewed families stated that they had \"some or a lot of difficulties in connecting with public transportation in the area where they live\" - an improvement from the 33 percent of the previous year. However, it is enough to look at the regional level to realise that improvements are not spread evenly, and some areas of the country are actually worse off with respect to 2019. There is a great deal of heterogeneity: the share of families with troubles in accessing public transportation services is lower in the North (26 percent) compared to the South (36 percent), while in Campania more than half of the families are affected (51 percent). Furthermore, only 27 percent of students reach the places where they study with public means of transportation (and it's declining), while 75 percent reach the workplace with private means only (and the share is increasing) <cite id=\"rzzct\">(<i>Dall’andamento degli obiettivi di sviluppo sostenibile alla mobilità</i>, 2021)</cite>.\n",
    "\n",
    "The only measurement that has been improving throughout the decade is that of air quality. However, these values remain significantly higher than the guidelines from the World Health Organisation (WHO) <cite id=\"g90ru\">(<i>Dall’andamento degli obiettivi di sviluppo sostenibile alla mobilità</i>, 2021)</cite>. Besides, on September 22, 2021 the WHO revised downwards their recommendations on air pollutants (the latest update dated back to 2005), and the European Commission (EC) declared that it will take this update into account when revising the guidelines for the upcoming year <cite id=\"sd11u\">(<i>Standards - Air Quality - Environment - European Commission</i>, n.d.)</cite>. Italy has always struggled to respect the European Directive on air pollution: on November 2020, the European Court of Justice (ECJ) judged that, from 2008 to 2017, Italy \"systematically and continuously\" violated the standards set by the Directive and failed in enacting countermeasures to avoid it <cite id=\"kwop4\">(“Che Aria Respiriamo,” 2021)</cite>. On July 2021, the European Environmental Agency (EEA) ranked European cities according to the average level of $PM_{2.5}$ in the two previous years: out of 323 cities, Cremona (Lombardy) was second to last, Brescia and Pavia (both in Lombardy) were 315th and 314th respectively, while Venezia (Veneto) was 311st, Bergamo 306th and Milano 303rd (all in Lombardy) <cite id=\"807gt\">(<i>European City Air Quality Viewer — European Environment Agency</i>, 2021)</cite>. Air pollution caused more than *52 thousands* premature deaths: almost 14 percent of the total premature death toll in Europe <cite id=\"xenxi\">(<i>Italy - Air Pollution Country Fact Sheet — European Environment Agency</i>, 2020)</cite>.\n",
    "\n",
    "Unequal access to infrastructure (and, to a minor degree, air pollution) hinder the popularity of more sustainable mode of transport, such as biking and sharing services. The ISTAT report mentioned above estimated that in 2019 there were 30 million commuters in Italy <cite id=\"mjryi\">(<i>Gli spostamenti per motivi di studio o lavoro nel 2019 secondo il Censimento permanente della popolazione</i>, 2021)</cite>: more than two thirds (more than 20 million) need to reach their workplace, while the rest is made up of students (with a moderate variance: the share of students is higher in those regions where unemployment is higher, for example in Campania, where they make up 40% of commuters). However, the report did not present any data on biking habits or the use of sharing services. These can only be found in an earlier report, published in 2019 and referring to two years prior.\n",
    "\n",
    "The 2019 report mentions two interesting statistics about commuting habits: \"almost one in five [commuters] choose an 'active' mode of transport\" - that is, walking or biking. However, most of the \"active\" commuters are actually walking to work (17,4%), whereas the bikers are only some 1,7%. In general, it is women, young and more educated people who use more public transportation means and bicycles, while private vehicles (the exclusive means of commuting for more than 73 percent of the employed) are spread among men between 25 to 44 and with an average level of education <cite id=\"djsm8\">(<i>Spostamenti quotidiani e nuove forme di mobilità</i>, 2019)</cite>. Car pooling is chosen by some 12 percent of the employed and 14,5 percent of students aged 18-24, while only less than half a million used bike sharing services at least once during the year (i.e., less than 2 percent). Such services are more popular across the young and more educated people, while the incidence is almost double the national average in metropolitan cities <cite id=\"wk4a9\">(<i>Spostamenti quotidiani e nuove forme di mobilità</i>, 2019)</cite>."
   ]
  },
  {
   "cell_type": "markdown",
   "id": "b5706634-6b1f-4bba-a713-593d016b17e4",
   "metadata": {},
   "source": [
    "## Bike-Sharing Demand Determinants and the State of Public Transport Infrastructure in Italy"
   ]
  },
  {
   "cell_type": "markdown",
   "id": "ff2832d8-5de8-4c51-86bc-084fc2d8e031",
   "metadata": {
    "citation-manager": {
     "citations": {
      "39eih": [
       {
        "id": "7765261/IDH58MVU",
        "source": "zotero"
       }
      ],
      "86qnp": [
       {
        "id": "7765261/T48ESWUM",
        "source": "zotero"
       }
      ],
      "bqkpr": [
       {
        "id": "7765261/4S3SWW9Q",
        "source": "zotero"
       }
      ],
      "cj8ku": [
       {
        "id": "7765261/SBF8VTPD",
        "source": "zotero"
       }
      ],
      "gsh0z": [
       {
        "id": "7765261/SBF8VTPD",
        "source": "zotero"
       }
      ],
      "h0b16": [
       {
        "id": "7765261/SBF8VTPD",
        "source": "zotero"
       }
      ],
      "itshm": [
       {
        "id": "7765261/T48ESWUM",
        "source": "zotero"
       }
      ],
      "krceq": [
       {
        "id": "7765261/T48ESWUM",
        "source": "zotero"
       }
      ],
      "lcdr4": [
       {
        "id": "7765261/SBF8VTPD",
        "source": "zotero"
       }
      ],
      "sg3u9": [
       {
        "id": "7765261/FIMQIYXE",
        "source": "zotero"
       }
      ],
      "wk5mm": [
       {
        "id": "7765261/J2DVJ8ZK",
        "source": "zotero"
       }
      ]
     }
    },
    "tags": []
   },
   "source": [
    "The picture drawn by the two ISTAT reports feels like a pool of untapped (if not wasted) potential. According to the most recent survey, in 2019 some 57,5% percent of commuters moved within the same municipality of residence. This value is driven up by the students, who make up almost 71 percent of commuters within the same municipality. However, even after taking them out of the computation, we still end up with an even figure: more than 51 percent of workers move within the same municipality <cite id=\"bqkpr\">(<i>Gli spostamenti per motivi di studio o lavoro nel 2019 secondo il Censimento permanente della popolazione</i>, 2021)</cite>.\n",
    "\n",
    "Sure, it would be naive to argue that commuters who work in the same municipality where they live could all bike to reach their destinations: after all, there is a great deal of heterogeneity across municipalities under several dimensions - like their sheer extension, morphology and, of course, infrastructure. There are many factors that affect bike sharing demand: the first one that comes to mind are the weather conditions: precipitations, humidity and seasonal patterns; the one that arguably plays the biggest role is the so-called \"built environment\" <cite id=\"h0b16\">(Eren &#38; Uz, 2020)</cite>, i.e. infrastructure such as the availability of isolated or dedicated bike lanes instead of mixed ones, but also safe parking areas and bike racks for private bikes. The terrain clearly plays a role: slopes have a negative effect on bike usage (as one of the many examples, see <cite id=\"39eih\">(Bordagaray et al., 2016)</cite>), but incentive schemes can be devised to promote returning bikes to up-hill stations and even the least loaded ones (which also improves the overall efficiency of the system) <cite id=\"wk5mm\">(Fricker &#38; Gast, 2016)</cite>. Furthermore, in this scenario there is a positive effect of e-bikes. Besides, the literature also outlines the role of land use: pick-ups are more frequent in commercial areas and parks, compared to residential ones and, more broadly \"the proximity to green spaces and recreation areas, schools, universities, museums, shopping centers, sports areas, restaurants, hotels, bus/subway/train/suburban/ ferry transit hubs has a positive effect on the use of BSP [Bike Sharing Programs]\" <cite id=\"cj8ku\">(Eren &#38; Uz, 2020)</cite>.\n",
    "\n",
    "The degree of integration with the public transportation is also important, as bike-sharing systems are found to be complementary means for \"[bridging] the gap between multiple transit hubs\" <cite id=\"gsh0z\">(Eren &#38; Uz, 2020)</cite>. But bike sharing can also be a substitute \"especially when public transport is not available, between 22:00 pm [and] 06:00 a.m., they can encourage users to use BSP\" <cite id=\"lcdr4\">(Eren &#38; Uz, 2020)</cite>. This implies that there is no single channel to promote bike-sharing services and that coordination across institutional players is crucial. Despite this, investments in bike-sharing services shall not fall in the background: their complementary role as \"first/last mile solution\" is recognised in the literature and enhance public transport as a whole.\n",
    "\n",
    "Improving the public transport infrastructure is a priority for Italy. As always, there are territorial imbalances on two different dimensions: on the macro level, there is a clear divide between North and South, but there continue to be striking differences even within the wealthiest regions. Bike lanes have been increasing steadily: the total number of kilometres has grown by 15,5 percent since 2015, totalling approximately 4700 kilometres. However, the infrastructure is still far from adequate in most cities <cite id=\"krceq\">(<i>Ambiente urbano</i>, 2021)</cite>.\n",
    "\n",
    "The report from ISTAT outlines that public transport (or TPL, \"trasporto pubblico locale\") suffers both from lack of infrastructure and outdated fleets. As a starter, the TPL is over reliant on buses, which offer more than 55 percent of the number of seats per kilometre. However, once metropolitan cities are factored out, this figure skyrockets to well beyond 90-95 percent <cite id=\"86qnp\">(<i>Ambiente urbano</i>, 2021)</cite>. Only 32 percent of the bus fleets is in line with Euro 6 standard and some 34 percent belongs to the Euro 4 class - i.e., was deployed before 2008. Low emission buses make up some 28 percent of the total, but only slightly more than 3 percent are electric: the rest (almost 25 percent) is fuelled by natural gas. Unsurprisingly, the share of low-emission vehicles is higher in metropolitan cities.\n",
    "\n",
    "Trolley buses are available in only 13 municipalities, trams in 11 and metropolitan trains in 7. However, there is a remarkable divide between the Italian champion, Milan, and the other cities. Tram network density in Milan is measured as 122 km per 100 squared kilometres; the silver medal is awarded to Turin, which has almost half the kilometres than Milan: 66. The average of the other cities is a mere 16 km. In general, while the supply of TPL (measured in seats per kilometre, per inhabitant) is on the rise, we are still far from the levels before the Great Recession (-7,3 percent compared to 2008). However, the supply in the North is 25 percent greater compared to the Centre and almost three times bigger than the South. Public demand for TPL is increasing in the North, stationary in the Centre and even declining in the South.\n",
    "\n",
    "A minor and uneven push is provided by sharing services. Car sharing is available in 37 out of 107 \"comuni capoluogo\" (i.e., the \"capital\" of a province, corresponding to the NUTS3 classification), of which only 8 are in the South. Besides, only 26 percent of the fleets is composed of electric cars. Bike sharing services are present in 53 *capoluoghi*, registering an overall decline from 2015. Luckily, the number of bikes has more than tripled: from 6 to 19 bicycles per ten thousand inhabitants. The divide, as always, is quite stark: the number of bikes is 29 in metropolis compared to provinces, and these services are much more common in the North (32 bikes per ten thousand citizens) than in the Centre (17) and the South (just 2). Much of this success is to be attributed to the appearance of free-float systems, which require greater fleets <cite id=\"itshm\">(<i>Ambiente urbano</i>, 2021)</cite>. The report does not provide information on electric scooters.\n",
    "\n",
    "Restructuring the public transport will require extensive coordination between national, regional and municipal administrations, across multiple channels simultaneously. It is a widespread hope that many of this results can (only) be achieved via the Next Generation EU (NGEU), the 750 billion euros stimulus that will be financed by bonds from the European Commission. The NGEU is a bold and unprecedented move from the EU: the fund will be made up with up to 390 billion euros in subsidies, while up to 360 billions will be given out as loans with low interest rates. Italy is the first beneficiary in absolute terms for the main facilities of the NGEU: the country will receive more than 190 billion euros, to which the government will add 30 billions of its own. According to the so-called PNRR (*Piano Nazionale di Recupero e Resilienza*, i.e. National Plan of Recovery and Resilience), almost 25 billion euros will be invested in railways. However, less than one billion will be used to improve on the regional railways - the Achilles' heel of public transportation and the bane of commuters. In addition, more than 8,5 billion euros will be invested in TPL. But there's a catch: the NGEU grants will only be available for projects to be completed within the year 2026. Interviewed by *Il Post*, prof. Gabriele Grea from Bocconi University stated that these funds will mostly be awarded to projects in an already \"advanced state\": on one side, this will provide stronger guarantees about their completion, but will likely increase the inequalities across municipalities <cite id=\"sg3u9\">(<i>Un po’ di cose notevoli dentro il PNRR</i>, 2021)</cite>."
   ]
  },
  {
   "cell_type": "markdown",
   "id": "086bfa9e-dc1f-43c1-b8f8-893edf82f669",
   "metadata": {},
   "source": [
    "## The Case for Promoting Bike Sharing"
   ]
  },
  {
   "cell_type": "markdown",
   "id": "f3ca709d-719c-4f17-a22b-5cd8bc705421",
   "metadata": {
    "citation-manager": {
     "citations": {
      "039o5": [
       {
        "id": "7765261/RNCXQEAG",
        "source": "zotero"
       }
      ],
      "0mmhf": [
       {
        "id": "7765261/LUCYT8NP",
        "source": "zotero"
       }
      ],
      "4kg8r": [
       {
        "id": "7765261/FTM4CYUT",
        "source": "zotero"
       }
      ],
      "601x8": [
       {
        "id": "7765261/EIMDTC6Q",
        "source": "zotero"
       }
      ],
      "abpus": [
       {
        "id": "7765261/VMWQTQ76",
        "source": "zotero"
       }
      ],
      "eq14m": [
       {
        "id": "7765261/FGMR4BME",
        "source": "zotero"
       }
      ],
      "i5qrt": [
       {
        "id": "7765261/RNCXQEAG",
        "source": "zotero"
       }
      ],
      "izohe": [
       {
        "id": "7765261/FGMR4BME",
        "source": "zotero"
       }
      ],
      "ua2i7": [
       {
        "id": "7765261/N37UTVGB",
        "source": "zotero"
       }
      ],
      "v4gkr": [
       {
        "id": "7765261/FGMR4BME",
        "source": "zotero"
       }
      ],
      "wgl8a": [
       {
        "id": "7765261/VMWQTQ76",
        "source": "zotero"
       }
      ],
      "yeski": [
       {
        "id": "7765261/4US9Q7KQ",
        "source": "zotero"
       }
      ]
     }
    },
    "tags": []
   },
   "source": [
    "Reforming the public transport will be crucial to reach carbon neutrality and possibly promote economic growth. After all, transport accounts for as much as 27 percent of emissions in the EU <cite id=\"wgl8a\">(Bergantino et al., 2021)</cite> and while the overall greenhouse gases (GHG) emissions has been declining since the 1990s, the emissions from road transportation has nonetheless been increasing ever since <cite id=\"yeski\">(<i>Annual European Union Greenhouse Gas Inventory 1990–2018 and Inventory Report 2020 — European Environment Agency</i>, 2020)</cite>. Besides, it is well-known that Italy chose to privilege rubber over railways to transport goods: Eurostat estimated that from 2000 to 2016 less than 10 percent of goods travelled by train, while the EU average was almost 18 percent <cite id=\"601x8\">(<i>Milano ha un’occasione storica</i>, 2017)</cite>, so there seems to be much room to increase productivity. And, besides, despite the fact that emissions have been decreasing since the 1990s, Italy is not on the side of the achievers: since 1990, emissions in the country were reduced by 17,2 percent, compared to the EU28's 25,2 percent. \n",
    "\n",
    "The Next Generation EU provides Italy with the perfect chance to narrow the divide with Western economies, while curbing emissions and finally improving the air quality. To promote more sustainable modes of transport, measures are needed on both the supply side (for example, by improving vehicle and fuel performance) and on the demand side by reducing demand for private transport, or at least increasing the demand for greener modes of transport <cite id=\"abpus\">(Bergantino et al., 2021)</cite>. Investments in sharing services can and should play a role in this transition. Indeed, capital might be limited: after all, municipalities will receive a smaller share of the NGEU funds and upgrading their bus fleets seems more urgent. Besides, there are also the time constraints that need to be taken into account. However, biking infrastructure projects can be relatively cheaper compared to other TPL investments - especially if factoring in the presence of private entrepreneurs. Once infrastructure is in place, the costs of the service \"only\" amount to the human and technical cost to reallocate bikes to be at the right place at the right time.\n",
    "\n",
    "This dissertation stems from the idea that bike sharing systems can be promoted with cheap measures. One of the most widely discussed problems in the literature is improving customer satisfaction through repositioning, i.e. forecasting the demand for bikes and \"design efficient bike repositioning solutions\" <cite id=\"ua2i7\">(Ghosh et al., 2019)</cite>. The problem is ever more important since the introduction of free-float bike-sharing systems (FFBBS), as the bikes can be dropped anywhere and end up in sub-optimal places for the next customers. \n",
    "On the positive side, FFBBS do not require the upfront investments for building docking stations - which is necessary for station-based BSS (also known as SBSS). Furthermore, FFBSS \"prevents bike theft\", \"by tracking bikes in real-time with built-in GPS\", and \"offers significant opportunities for smart management\"<cite id=\"v4gkr\">(Pal &#38; Zhang, 2017)</cite>. This implies a greater satisfaction level for customers, \"because obtaining and returning the bikes becomes much more convenient\" <cite id=\"izohe\">(Pal &#38; Zhang, 2017)</cite>. However, all of this comes at the increased costs for bike rebalancing, because of how inefficient bike redistribution becomes and the and higher operating costs in terms of human and financial resources <cite id=\"eq14m\">(Pal &#38; Zhang, 2017)</cite>. This has been recognised as \"one of the main reasons why many FFBS enterprises lose money or even withdrawn from market.\"<cite id=\"4kg8r\">(Tian et al., 2021)</cite>.\n",
    "\n",
    "Most of the new approaches involve deep learning (DL) techniques, such as long-term short-memory (LSTM) neural networks, which usually outperform other statistical and machine learning approaches <cite id=\"0mmhf\">(Xu et al., 2018)</cite>. Some are incredibly sophisticated: Convolutional LSTM are deep learning models \"stacked and fused by multiple convolutional long short-term memory (LSTM) layers, standard LSTM layers, and convolutional layers [...] to better capture the spatio-temporal characteristics and correlations of explanatory variables\" <cite id=\"039o5\">(Ke et al., 2017)</cite>. This, combined with external data such as \"travel time rate, time-of-day, day-of-week, and weather conditions\", results in an improvement of error metrics (RMSE) by almost 50 percent <cite id=\"i5qrt\">(Ke et al., 2017)</cite>.\n",
    "\n",
    "There is no way we could best the performance of such sophisticated models. However, this may not be the ultimate goal for policymakers. Despite their impressive performances, deep learning methods are hard to implement. They require a considerable amount of resources and, unlike simpler models, are much more difficult to visualise and interpret. For one, they require senior data scientists and access to a local server cluster with access to Graphic Processing Units (GPUs) or cloud computing platforms such as Google Cloud, Microsoft Azure or Amazon Web Services. This infrastructure needs time to set up and delays are inevitable, since the data manipulated by public administration deserves a much greater degree of privacy. Besides, such models require a long time to train - which translates to more expensive models.\n",
    "\n",
    "Given the policymaker constraints, DL techniques may well be out of time, and budget. Our goal is to satisfy the constraints of a local planner with tight budget and more pressing issues, or the limited options of a private BSS company who needs to sustain high operational costs. We will develop two classes of models, univariate and multivariate, using both statistical and machine-learning methods. We will also attempt to evaluate the usefulness of external data - which might be hard to require and process - and the performances of libraries such as Facebook's Prophet, which have been specifically designed for 'forecasting at scale', i.e. forecasting multiple time-series (in the order of the thousands) with little to no pre-processing, feature engineering and simple models.\n",
    "\n",
    "This experiment has many drawbacks and limitations: as a starter, it does not include a proper spatial analysis, and does not explore Vector Auto Regressive (VAR) models, nor Bayesian models. Our goal is to prove that feature engineering and better data can do a better job at improving a model compared to more advanced techniques, especially under (hypothetically) tight budget constraints. In other words, we might want to get the feel for the marginally decreasing utility of accuracy improvements, which come at progressively greater computational costs."
   ]
  },
  {
   "cell_type": "markdown",
   "id": "8131e032-4017-4cb6-b4bc-aa5bf16f794f",
   "metadata": {},
   "source": [
    "## The Open Source Stack, Transparency and Reproducibility"
   ]
  },
  {
   "cell_type": "markdown",
   "id": "813e3e82-4fa0-48d6-acfc-3db08c35bc09",
   "metadata": {
    "citation-manager": {
     "citations": {
      "62uvg": [
       {
        "id": "7765261/TETPEMAA",
        "source": "zotero"
       }
      ],
      "8zx6q": [
       {
        "id": "7765261/3H89U9U4",
        "source": "zotero"
       }
      ],
      "dzp54": [
       {
        "id": "7765261/NL5V5ZU2",
        "source": "zotero"
       }
      ],
      "faiu8": [],
      "xrhbz": [
       {
        "id": "7765261/WG5DS986",
        "source": "zotero"
       }
      ],
      "yvvrd": [
       {
        "id": "7765261/G8QHY6EY",
        "source": "zotero"
       }
      ]
     }
    },
    "tags": []
   },
   "source": [
    "This is one of the many (millions?) projects to benefit from the existence of the open source community. This project was developed end-to-end using open source tools, starting from PostgreSQL to store the data and many Python libraries to train the models. Jupyter Notebooks have been the main developing tool <cite id=\"8zx6q\">(Perkel, 2018)</cite>, and Jupyter Books <cite id=\"yvvrd\">(Executable Books Community, 2020)</cite> to convert the code into a $\\LaTeX$ publication, thanks to `pandoc` working in the background <cite id=\"xrhbz\">(<i>Pandoc - About Pandoc</i>, n.d.)</cite>. \n",
    "\n",
    "Zotero was used as a bibliography manager <cite id=\"dzp54\">(<i>Zotero | Your Personal Research Assistant</i>, n.d.)</cite>, and merits are due to several extensions for JupyterLab that made writing on JupyterLab possible: in particular, [`jupyterlab-citation-manager`](https://github.com/krassowski/jupyterlab-citation-manager) was used to insert citations inside notebooks via the official Zotero API, and [`jupyterlab_spellchecker`](https://github.com/jupyterlab-contrib/spellchecker) helped in spotting typographic mistakes. Of course, version control with `git` and hosting on GitHub played a crucial role in project management. The code is free to see on the dedicated GitHub repository; however, data cannot be accessed due to the terms of the partnership between the provider and the University of Milan. We will try to find the space to introduce and contextualise all the other open source libraries that have been actively used.\n",
    "\n",
    "There would be much to say about why using open source software, even (and especially) in economics. When it comes down to open source against proprietary software, the differences are not merely technical:\n",
    "\n",
    "> There is an independent social dimension, where the metrics assess the interactions between people. Does it increase trust? Does it increase the importance that people attach to a reputation for integrity?\n",
    "\n",
    "This is the Economics Nobel Prize Paul Romer <cite id=\"62uvg\">(Romer, 2018)</cite>, now 65, when comparing his experience with Jupyter and Mathematica notebooks. It goes on to make a bold claim:\n",
    "\n",
    "> Jupyter exemplifies the social systems that emerged from the Scientific Revolution and the Enlightenment, systems that make it possible for people to cooperate by committing to objective truth; Mathematica exemplifies the horde of new Vandals whose pursuit of private gain threatens a far greater pubic loss – the collapse of social systems that took centuries to build.\n",
    "\n",
    "When Romer tried to work with Mathematica notebooks and share their results, it became clear that \"Wolfram made it hard to share a readable PDF version of a [Mathematica] notebook because it wanted someone like me to distribute content in its proprietary file format, the CDF\". The conclusion of his articles are quite dramatic:\n",
    "\n",
    "> The tie-breaker [between Wolfram and Jupyter, as well as proprietary and open source] is social, not technical. The more I learn about the open source community, the more I trust its members. The more I learn about proprietary software, the more I worry that objective truth might perish from the earth.\n",
    "\n",
    "Jupyter Notebooks are being developed since 2001 and they are ever more popular. Perhaps they might even replace the scientific paper <cite id=\"faiu8\">[NO_PRINTED_FORM]</cite>; what's sure is that they are ever more present. Indeed, Romer is not the only Nobel prize using open source software: Thomas Sargent, currently 78, uses Julia for his scientific research and launched a website, [QuantEcon](https://quantecon.org/) built with Jupyter Books, to teach computational economics in Python and Julia."
   ]
  }
 ],
 "metadata": {
  "citation-manager": {
   "items": {
    "zotero": {
     "7765261/3H89U9U4": {
      "DOI": "10.1038/d41586-018-07196-1",
      "URL": "https://www.nature.com/articles/d41586-018-07196-1",
      "abstract": "An improved architecture and enthusiastic user base are driving uptake of the open-source web tool.",
      "accessed": {
       "date-parts": [
        [
         2021,
         10,
         23
        ]
       ]
      },
      "author": [
       {
        "family": "Perkel",
        "given": "Jeffrey M."
       }
      ],
      "container-title": "Nature",
      "id": "7765261/3H89U9U4",
      "issue": "7729",
      "issued": {
       "date-parts": [
        [
         2018,
         10,
         30
        ]
       ]
      },
      "language": "en",
      "page": "145-146",
      "title": "Why Jupyter is data scientists’ computational notebook of choice",
      "type": "article-journal",
      "volume": "563"
     },
     "7765261/4S3SWW9Q": {
      "URL": "https://www.istat.it/it/archivio/257621",
      "abstract": "Rispetto al 2011 aumentano gli spostamenti quotidiani, soprattutto quelli fuori dal comune",
      "accessed": {
       "date-parts": [
        [
         2021,
         10,
         10
        ]
       ]
      },
      "id": "7765261/4S3SWW9Q",
      "issued": {
       "date-parts": [
        [
         2021,
         5,
         13
        ]
       ]
      },
      "language": "it",
      "title": "Gli spostamenti per motivi di studio o lavoro nel 2019 secondo il Censimento permanente della popolazione",
      "type": "webpage"
     },
     "7765261/4US9Q7KQ": {
      "URL": "https://www.eea.europa.eu//publications/european-union-greenhouse-gas-inventory-2020",
      "abstract": "Submission under the United Nations Framework Convention on Climate Change and the Kyoto Protocol",
      "accessed": {
       "date-parts": [
        [
         2021,
         10,
         17
        ]
       ]
      },
      "genre": "Publication",
      "id": "7765261/4US9Q7KQ",
      "issued": {
       "date-parts": [
        [
         2020,
         5,
         28
        ]
       ]
      },
      "language": "en",
      "title": "Annual European Union greenhouse gas inventory 1990–2018 and inventory report 2020 — European Environment Agency",
      "type": "webpage"
     },
     "7765261/92X93RNR": {
      "DOI": "10.1007/s12027-021-00656-8",
      "URL": "https://doi.org/10.1007/s12027-021-00656-8",
      "abstract": "States all over the world have quickly amended legislation in order to help businesses conduct their activities remotely and online. In this article, we will see examples of existing rules concerning annual general meetings being better implemented (in Italy), of legislation being amended with temporary rules (in Germany) and of political momentum being used to bring about fundamental changes (in Estonia).This article provides a brief overview of how changes have been made in order to allow virtual annual general meetings in different countries and what kind of changes were made, and also provides a somewhat deeper look at Estonia’s new legislation concerning remote notarial transactions, online annual meetings and digital infrastructure.",
      "accessed": {
       "date-parts": [
        [
         2021,
         10,
         14
        ]
       ]
      },
      "author": [
       {
        "family": "Härmand",
        "given": "Kai"
       }
      ],
      "container-title": "ERA Forum",
      "id": "7765261/92X93RNR",
      "issue": "1",
      "issued": {
       "date-parts": [
        [
         2021,
         4,
         1
        ]
       ]
      },
      "journalAbbreviation": "ERA Forum",
      "language": "en",
      "page": "39-50",
      "title": "Digitalisation before and after the Covid-19 crisis",
      "type": "article-journal",
      "volume": "22"
     },
     "7765261/DEQECBA8": {
      "URL": "https://sdgs.un.org/goals",
      "accessed": {
       "date-parts": [
        [
         2021,
         10,
         10
        ]
       ]
      },
      "id": "7765261/DEQECBA8",
      "title": "The 17 Goals",
      "type": "webpage"
     },
     "7765261/EIMDTC6Q": {
      "URL": "http://www.ilpost.it/2017/04/09/scali-ferroviari-milano/",
      "abstract": "La città sta negoziando un accordo per riqualificare una zona enorme ai confini del centro: quella attualmente occupata dagli antichi scali ferroviari",
      "accessed": {
       "date-parts": [
        [
         2021,
         10,
         17
        ]
       ]
      },
      "container-title": "Il Post",
      "id": "7765261/EIMDTC6Q",
      "issued": {
       "date-parts": [
        [
         2017,
         4,
         9
        ]
       ]
      },
      "language": "it-IT",
      "title": "Milano ha un'occasione storica",
      "type": "webpage"
     },
     "7765261/FGMR4BME": {
      "DOI": "10.1016/j.trc.2017.03.016",
      "URL": "https://www.sciencedirect.com/science/article/pii/S0968090X17300992",
      "abstract": "Free-floating bike sharing (FFBS) is an innovative bike sharing model. FFBS saves on start-up cost, in comparison to station-based bike sharing (SBBS), by avoiding construction of expensive docking stations and kiosk machines. FFBS prevents bike theft and offers significant opportunities for smart management by tracking bikes in real-time with built-in GPS. However, like SBBS, the success of FFBS depends on the efficiency of its rebalancing operations to serve the maximal demand as possible. Bicycle rebalancing refers to the reestablishment of the number of bikes at sites to desired quantities by using a fleet of vehicles transporting the bicycles. Static rebalancing for SBBS is a challenging combinatorial optimization problem. FFBS takes it a step further, with an increase in the scale of the problem. This article is the first effort in a series of studies of FFBS planning and management, tackling static rebalancing with single and multiple vehicles. We present a Novel Mixed Integer Linear Program for solving the Static Complete Rebalancing Problem. The proposed formulation, can not only handle single as well as multiple vehicles, but also allows for multiple visits to a node by the same vehicle. We present a hybrid nested large neighborhood search with variable neighborhood descent algorithm, which is both effective and efficient in solving static complete rebalancing problems for large-scale bike sharing programs. Computational experiments were carried out on the 1 Commodity Pickup and Delivery Traveling Salesman Problem (1-PDTSP) instances used previously in the literature and on three new sets of instances, two (one real-life and one general) based on Share-A-Bull Bikes (SABB) FFBS program recently launched at the Tampa campus of University of South Florida and the other based on Divvy SBBS in Chicago. Computational experiments on the 1-PDTSP instances demonstrate that the proposed algorithm outperforms a tabu search algorithm and is highly competitive with exact algorithms previously reported in the literature for solving static rebalancing problems in SBSS. Computational experiments on the SABB and Divvy instances, demonstrate that the proposed algorithm is able to deal with the increase in scale of the static rebalancing problem pertaining to both FFBS and SBBS, while deriving high-quality solutions in a reasonable amount of CPU time.",
      "accessed": {
       "date-parts": [
        [
         2021,
         10,
         20
        ]
       ]
      },
      "author": [
       {
        "family": "Pal",
        "given": "Aritra"
       },
       {
        "family": "Zhang",
        "given": "Yu"
       }
      ],
      "container-title": "Transportation Research Part C: Emerging Technologies",
      "id": "7765261/FGMR4BME",
      "issued": {
       "date-parts": [
        [
         "2017",
         7,
         1
        ]
       ]
      },
      "journalAbbreviation": "Transportation Research Part C: Emerging Technologies",
      "language": "en",
      "page": "92-116",
      "shortTitle": "Free-floating bike sharing",
      "title": "Free-floating bike sharing: Solving real-life large-scale static rebalancing problems",
      "type": "article-journal",
      "volume": "80"
     },
     "7765261/FIMQIYXE": {
      "URL": "http://www.ilpost.it/2021/04/27/pnrr-cosa-ce-dentro/",
      "abstract": "Dagli asili nido all'alta velocità, passando per la raccolta differenziata: cosa c'è nel piano che spiega come saranno spesi i soldi del Recovery Fund",
      "accessed": {
       "date-parts": [
        [
         2021,
         10,
         10
        ]
       ]
      },
      "container-title": "Il Post",
      "id": "7765261/FIMQIYXE",
      "issued": {
       "date-parts": [
        [
         2021,
         4,
         27
        ]
       ]
      },
      "language": "it-IT",
      "title": "Un po' di cose notevoli dentro il PNRR",
      "type": "webpage"
     },
     "7765261/FTM4CYUT": {
      "DOI": "10.1016/j.aei.2021.101365",
      "URL": "https://www.sciencedirect.com/science/article/pii/S147403462100118X",
      "abstract": "After the rapid expansion in the early stage, many enterprises have closed down or withdrawn from the Free-floating bike sharing (FFBS) market, the remaining few giants are also generally at a loss at present. One main reason causing these is the serious FFBS imbalance between supply and demand. As there is no fixed docking station, the individual-based identification method such as trip-chain, which is used for identifying travel demand and behaviour in traditional station-based bike sharing (SBBS) cannot be used in FFBS. Therefore, the lack of methods to obtain in-depth demand makes it unable to achieve reasonable rebalancing. This study constructs an individual-based spatio-temporal travel demand mining methodology, which is the first disaggregate travel demand mining model that suitable for FFBS. The proposed methodology consists of three steps. A spatio-temporal trajectory clustering algorithm is first developed to obtain an individual’s frequent trajectory clusters, and then a sequential pattern mining algorithm is applied to users who have multiple spatio-temporal trajectory clusters to extract travel patterns and trajectory sequential relations in patterns. A point clustering method is used finally to identify spatial relationships among different trajectory clusters. Besides, a zone aggregating method is proposed that aggregated granularity could be flexible adjusted for zone demand imbalance analysis. Based on these, how to utilize identified frequent pattern trajectories to improve rebalancing is studied. The proposed methodology is applied to Beijing Mobike dataset, six frequent travel patterns are mined out and analyzed in detail. On this basis, imbalance and rebalancing analysis are carried out with the case study at last. Consequently, this research contributes a powerful tool to achieve accurate FFBS demand analysis and rebalancing.",
      "accessed": {
       "date-parts": [
        [
         2021,
         10,
         20
        ]
       ]
      },
      "author": [
       {
        "family": "Tian",
        "given": "Yuan"
       },
       {
        "family": "Zhang",
        "given": "Xinming"
       },
       {
        "family": "Yang",
        "given": "Binyu"
       },
       {
        "family": "Wang",
        "given": "Jian"
       },
       {
        "family": "An",
        "given": "Shi"
       }
      ],
      "container-title": "Advanced Engineering Informatics",
      "id": "7765261/FTM4CYUT",
      "issued": {
       "date-parts": [
        [
         "2021",
         10,
         1
        ]
       ]
      },
      "journalAbbreviation": "Advanced Engineering Informatics",
      "language": "en",
      "page": "101365",
      "title": "An individual-based spatio-temporal travel demand mining method and its application in improving rebalancing for free-floating bike-sharing system",
      "type": "article-journal",
      "volume": "50"
     },
     "7765261/G8QHY6EY": {
      "URL": "https://zenodo.org/record/2561065",
      "abstract": "<strong>Jupyter Book</strong> is an open source project for building beautiful, publication-quality books and documents from computational material. Here are some of the features of Jupyter Book: ✔ Write publication-quality content in Markdown. You can write in either Jupyter Markdown, or an extended flavor of Markdown with publishing features. This includes support for rich syntax such as citations and cross-references, math and equations, and figures. ✔ Write content in Jupyter Notebook. This allows you to include your code and outputs in your book. You can also write notebooks entirely in Markdown that get executed when you build your book. ✔ Execute and cache your book’s content. For <code>.ipynb</code> and Markdown notebooks, execute code and insert the latest outputs into your book. In addition, cache and re-use outputs to be used later. ✔ Insert notebook outputs into your content. Generate outputs as you build your documentation, and insert them in-line with your content across pages. ✔ Add interactivity to your book. You can toggle cell visibility, include interactive outputs from Jupyter, and connect with online services like Binder. ✔ Generate a variety of outputs. This includes single- and multi-page websites, as well as PDF outputs. ✔ Build books with a simple command-line interface. You can quickly generate your books with one command, like so: <code>jupyter-book build mybook/</code>",
      "accessed": {
       "date-parts": [
        [
         2021,
         10,
         23
        ]
       ]
      },
      "author": [
       {
        "family": "Executable Books Community",
        "given": ""
       }
      ],
      "id": "7765261/G8QHY6EY",
      "issued": {
       "date-parts": [
        [
         2020,
         2,
         12
        ]
       ]
      },
      "note": "DOI: 10.5281/ZENODO.2561065",
      "publisher": "Zenodo",
      "title": "Jupyter Book",
      "type": "book",
      "version": "v0.10"
     },
     "7765261/GESPKNH7": {
      "URL": "https://www.ilpost.it/2021/09/28/qualita-aria-inquinanti-oms/",
      "accessed": {
       "date-parts": [
        [
         2021,
         10,
         10
        ]
       ]
      },
      "container-title": "Il Post",
      "id": "7765261/GESPKNH7",
      "issued": {
       "date-parts": [
        [
         2021,
         9,
         28
        ]
       ]
      },
      "title": "Che aria respiriamo",
      "type": "article-newspaper"
     },
     "7765261/I9Z56NKK": {
      "DOI": "10.1016/j.erss.2020.101683",
      "URL": "https://www.sciencedirect.com/science/article/pii/S2214629620302589",
      "abstract": "As of March 13, 2020, the director general of the World Health Organization (WHO) considered Europe as the centre of the global COVID-19 outbreak. All countries within Europe had a confirmed case of COVID-19 by March 17. In response to the pandemic, different European countries took different approaches. This paper compares the impact of different containment measures taken by European countries in response to COVID-19 on their electricity consumption profiles. The comparisons are made for Spain, Italy, Belgium and the UK as countries with severe restrictions, and for the Netherlands and Sweden as countries with less restrictive measures. The results show that the consumption profiles reflect the difference in peoples’ activities in different countries using various measures.",
      "accessed": {
       "date-parts": [
        [
         2021,
         10,
         17
        ]
       ]
      },
      "author": [
       {
        "family": "Bahmanyar",
        "given": "Alireza"
       },
       {
        "family": "Estebsari",
        "given": "Abouzar"
       },
       {
        "family": "Ernst",
        "given": "Damien"
       }
      ],
      "container-title": "Energy Research & Social Science",
      "id": "7765261/I9Z56NKK",
      "issued": {
       "date-parts": [
        [
         "2020",
         10,
         1
        ]
       ]
      },
      "journalAbbreviation": "Energy Research & Social Science",
      "language": "en",
      "page": "101683",
      "title": "The impact of different COVID-19 containment measures on electricity consumption in Europe",
      "type": "article-journal",
      "volume": "68"
     },
     "7765261/IDH58MVU": {
      "DOI": "10.1016/j.trc.2016.07.009",
      "URL": "https://www.sciencedirect.com/science/article/pii/S0968090X16301176",
      "abstract": "The potential of smart-card transactions within bike-sharing systems (BSS) is still to be explored. This research proposes an original offline data mining procedure that takes advantage of the quality of these data to analyze the bike usage casuistry within a sharing scheme. A difference is made between usage and travel behavior: the usage is described by the actual trip-chaining gathered with every smart-card transaction and is directly influenced by the limitations of the BSS as a public renting service, while the travel behavior relates to the spatio-temporal distribution, the travel time and trip purpose. The proposed approach is based on the hypothesis that there are systematic usage types which can be described through a set of conditions that permit to classify the rentals and reduce the heterogeneity in travel patterns. Hence, the proposed algorithm is a powerful tool to characterize the actual demand for bike-sharing systems. Furthermore, the results show that its potential goes well beyond that since service deficiencies rapidly arise and their impacts can be measured in terms of demand. Consequently, this research contributes to the state of knowledge on cycling behavior within public systems and it is also a key instrument beneficial to both decision makers and operators assisting the demand analysis, the service redesign and its optimization.",
      "accessed": {
       "date-parts": [
        [
         2021,
         10,
         17
        ]
       ]
      },
      "author": [
       {
        "family": "Bordagaray",
        "given": "Maria"
       },
       {
        "family": "dell’Olio",
        "given": "Luigi"
       },
       {
        "family": "Fonzone",
        "given": "Achille"
       },
       {
        "family": "Ibeas",
        "given": "Ángel"
       }
      ],
      "container-title": "Transportation Research Part C: Emerging Technologies",
      "id": "7765261/IDH58MVU",
      "issued": {
       "date-parts": [
        [
         "2016",
         10,
         1
        ]
       ]
      },
      "journalAbbreviation": "Transportation Research Part C: Emerging Technologies",
      "language": "en",
      "page": "231-248",
      "title": "Capturing the conditions that introduce systematic variation in bike-sharing travel behavior using data mining techniques",
      "type": "article-journal",
      "volume": "71"
     },
     "7765261/J2DVJ8ZK": {
      "DOI": "10.1007/s13676-014-0053-5",
      "URL": "https://www.sciencedirect.com/science/article/pii/S2192437620300959",
      "abstract": "Bike-sharing systems are becoming important for urban transportation. In these systems, users arrive at a station, pick up a bike, use it for a while, and then return it to another station of their choice. Each station has a finite capacity: it cannot host more bikes than its capacity. We propose a stochastic model of an homogeneous bike-sharing system and study the effect of the randomness of user choices on the number of problematic stations, i.e., stations that, at a given time, have no bikes available or no available spots for bikes to be returned to. We quantify the influence of the station capacities, and we compute the fleet size that is optimal in terms of minimizing the proportion of problematic stations. Even in a homogeneous city, the system exhibits a poor performance: the minimal proportion of problematic stations is of the order of the inverse of the capacity. We show that simple incentives, such as suggesting users to return to the least loaded station among two stations, improve the situation by an exponential factor. We also compute the rate at which bikes have to be redistributed by trucks for a given quality of service. This rate is of the order of the inverse of the station capacity. For all cases considered, the fleet size that corresponds to the best performance is half of the total number of spots plus a few more, the value of the few more can be computed in closed-form as a function of the system parameters. It corresponds to the average number of bikes in circulation.",
      "accessed": {
       "date-parts": [
        [
         2021,
         10,
         17
        ]
       ]
      },
      "author": [
       {
        "family": "Fricker",
        "given": "Christine"
       },
       {
        "family": "Gast",
        "given": "Nicolas"
       }
      ],
      "container-title": "EURO Journal on Transportation and Logistics",
      "id": "7765261/J2DVJ8ZK",
      "issue": "3",
      "issued": {
       "date-parts": [
        [
         "2016",
         8,
         1
        ]
       ]
      },
      "journalAbbreviation": "EURO Journal on Transportation and Logistics",
      "language": "en",
      "page": "261-291",
      "title": "Incentives and redistribution in homogeneous bike-sharing systems with stations of finite capacity",
      "type": "article-journal",
      "volume": "5"
     },
     "7765261/J38UF9CZ": {
      "URL": "https://www.istat.it/it/archivio/224469",
      "abstract": "Nel 2017 si stima che circa 30 milioni di persone si spostino ogni giorno per studio o lavoro",
      "accessed": {
       "date-parts": [
        [
         2021,
         10,
         10
        ]
       ]
      },
      "id": "7765261/J38UF9CZ",
      "issued": {
       "date-parts": [
        [
         2019,
         2,
         4
        ]
       ]
      },
      "language": "it",
      "title": "Spostamenti quotidiani e nuove forme di mobilità",
      "type": "webpage"
     },
     "7765261/LFVYWU5J": {
      "URL": "https://www.eea.europa.eu/themes/air/urban-air-quality/european-city-air-quality-viewer",
      "abstract": "Policies to reduce air pollution have led to improved air quality in Europe over the last three decades. However, in some European cities air pollution still poses risks to health. \n\nYou can use the European city air viewer to check how the air quality was in your city over the past two years and to compare it with air quality in other cities across Europe.",
      "accessed": {
       "date-parts": [
        [
         2021,
         10,
         10
        ]
       ]
      },
      "genre": "Dashboard (Tableau)",
      "id": "7765261/LFVYWU5J",
      "issued": {
       "date-parts": [
        [
         2021,
         6,
         17
        ]
       ]
      },
      "language": "en",
      "title": "European city air quality viewer — European Environment Agency",
      "type": "webpage"
     },
     "7765261/LGNSP9HT": {
      "URL": "https://www.eea.europa.eu/themes/air/country-fact-sheets/2020-country-fact-sheets/italy",
      "abstract": "Air pollution country fact sheet 2020",
      "accessed": {
       "date-parts": [
        [
         2021,
         10,
         10
        ]
       ]
      },
      "genre": "Dashboard (Tableau)",
      "id": "7765261/LGNSP9HT",
      "issued": {
       "date-parts": [
        [
         2020,
         11,
         23
        ]
       ]
      },
      "language": "en",
      "title": "Italy - Air pollution country fact sheet — European Environment Agency",
      "type": "webpage"
     },
     "7765261/LUCYT8NP": {
      "DOI": "10.1016/j.trc.2018.07.013",
      "URL": "https://www.sciencedirect.com/science/article/pii/S0968090X18306764",
      "abstract": "The station-free sharing bike is a new sharing traffic mode that has been deployed in a large scale in China in the early 2017. Without docking stations, this system allows the sharing bike to be parked in any proper places. This study aimed to develop a dynamic demand forecasting model for station-free bike sharing using the deep learning approach. The spatial and temporal analyses were first conducted to investigate the mobility pattern of the station-free bike sharing. The result indicates the imbalanced spatial and temporal demand of bike sharing trips. The long short-term memory neural networks (LSTM NNs) were then developed to predict the bike sharing trip production and attraction at TAZ for different time intervals, including the 10-min, 15-min, 20-min and 30-min intervals. The validation results suggested that the developed LSTM NNs have reasonable good prediction accuracy in trip productions and attractions for different time intervals. The statistical models and recently developed machine learning methods were also developed to benchmark the LSTM NN. The comparison results suggested that the LSTM NNs provide better prediction accuracy than both conventional statistical models and advanced machine learning methods for different time intervals. The developed LSTM NNs can be used to predict the gap between the inflow and outflow of the sharing bike trips at a TAZ, which provide useful information for rebalancing the sharing bike in the system.",
      "accessed": {
       "date-parts": [
        [
         2021,
         10,
         20
        ]
       ]
      },
      "author": [
       {
        "family": "Xu",
        "given": "Chengcheng"
       },
       {
        "family": "Ji",
        "given": "Junyi"
       },
       {
        "family": "Liu",
        "given": "Pan"
       }
      ],
      "container-title": "Transportation Research Part C: Emerging Technologies",
      "id": "7765261/LUCYT8NP",
      "issued": {
       "date-parts": [
        [
         "2018",
         10,
         1
        ]
       ]
      },
      "journalAbbreviation": "Transportation Research Part C: Emerging Technologies",
      "language": "en",
      "page": "47-60",
      "title": "The station-free sharing bike demand forecasting with a deep learning approach and large-scale datasets",
      "type": "article-journal",
      "volume": "95"
     },
     "7765261/N37UTVGB": {
      "URL": "https://dspace.mit.edu/handle/1721.1/128925",
      "abstract": "In bike sharing systems (BSSs), the uncoordinated movements of customers using bikes lead to empty or congested stations, which causes a significant loss in customer demand. In order to reduce the lost demand, a wide variety of existing research has employed a fixed set of historical demand patterns to design efficient bike repositioning solutions. However, the progress remains slow in understanding the underlying uncertainties in demand and designing proactive robust bike repositioning solutions. To bridge this gap, we propose a dynamic bike repositioning approach based on a probabilistic satisficing method which uses the uncertain demand parameters that are learnt from historical data. We develop a novel and computationally efficient mixed integer linear program for maximizing the probability of satisfying the uncertain demand so as to improve the overall customer satisfaction and efficiency of the system. Extensive experimental results from a simulation model built on a real-world bike sharing data set demonstrate that our approach is not only robust to uncertainties in customer demand, but also outperforms the existing state-of-the-art repositioning approaches in terms of reducing the expected lost demand.",
      "accessed": {
       "date-parts": [
        [
         2021,
         10,
         20
        ]
       ]
      },
      "author": [
       {
        "family": "Ghosh",
        "given": "Supriyo"
       },
       {
        "family": "Koh",
        "given": "Jing Yu"
       },
       {
        "family": "Jaillet",
        "given": "Patrick"
       }
      ],
      "container-title": "MIT web domain",
      "id": "7765261/N37UTVGB",
      "issued": {
       "date-parts": [
        [
         2019,
         8
        ]
       ]
      },
      "language": "en",
      "title": "Improving Customer Satisfaction in Bike Sharing Systems through Dynamic Repositioning",
      "type": "article-journal"
     },
     "7765261/NBY9XZBV": {
      "URL": "https://ec.europa.eu/environment/air/quality/standards.htm",
      "accessed": {
       "date-parts": [
        [
         2021,
         10,
         10
        ]
       ]
      },
      "id": "7765261/NBY9XZBV",
      "title": "Standards - Air Quality - Environment - European Commission",
      "type": "webpage"
     },
     "7765261/NL5V5ZU2": {
      "URL": "https://www.zotero.org/start",
      "accessed": {
       "date-parts": [
        [
         2021,
         10,
         24
        ]
       ]
      },
      "id": "7765261/NL5V5ZU2",
      "title": "Zotero | Your personal research assistant",
      "type": "article"
     },
     "7765261/PCUNSAVD": {
      "DOI": "10.1016/j.scitotenv.2020.140556",
      "URL": "https://www.sciencedirect.com/science/article/pii/S004896972034078X",
      "abstract": "A series of strict lockdown measures were implemented in the areas of China worst affected by coronavirus disease 19, including Wuhan, to prevent the disease spreading. The lockdown had a substantial environmental impact, because traffic pollution and industrial emissions are important factors affecting air quality and public health in the region. After the lockdown, the average monthly air quality index (AQI) in Wuhan was 59.7, which is 33.9% lower than that before the lockdown (January 23, 2020) and 47.5% lower than that during the corresponding period (113.6) from 2015 to 2019. Compared with the conditions before the lockdown, fine particulate matter (PM2.5) decreased by 36.9% and remained the main pollutant. Nitrogen dioxide (NO2) showed the largest decrease of approximately 53.3%, and ozone (O3) increased by 116.6%. The proportions of fixed-source emissions and transported external-source emissions in this area increased. After the lockdown, O3 pollution was highly negatively correlated with the NO2 concentration, and the radiation increase caused by the PM2.5 reduction was not the main reason for the increase in O3. This indicates that the generation of secondary pollutants is influenced by multiple factors and is not only governed by emission reduction.",
      "accessed": {
       "date-parts": [
        [
         2021,
         10,
         17
        ]
       ]
      },
      "author": [
       {
        "family": "Lian",
        "given": "Xinbo"
       },
       {
        "family": "Huang",
        "given": "Jianping"
       },
       {
        "family": "Huang",
        "given": "Rujin"
       },
       {
        "family": "Liu",
        "given": "Chuwei"
       },
       {
        "family": "Wang",
        "given": "Lina"
       },
       {
        "family": "Zhang",
        "given": "Tinghan"
       }
      ],
      "container-title": "Science of The Total Environment",
      "id": "7765261/PCUNSAVD",
      "issued": {
       "date-parts": [
        [
         "2020",
         11,
         10
        ]
       ]
      },
      "journalAbbreviation": "Science of The Total Environment",
      "language": "en",
      "page": "140556",
      "title": "Impact of city lockdown on the air quality of COVID-19-hit of Wuhan city",
      "type": "article-journal",
      "volume": "742"
     },
     "7765261/RNCXQEAG": {
      "DOI": "10.1016/j.trc.2017.10.016",
      "URL": "https://www.sciencedirect.com/science/article/pii/S0968090X17302899",
      "abstract": "Short-term passenger demand forecasting is of great importance to the on-demand ride service platform, which can incentivize vacant cars moving from over-supply regions to over-demand regions. The spatial dependencies, temporal dependencies, and exogenous dependencies need to be considered simultaneously, however, which makes short-term passenger demand forecasting challenging. We propose a novel deep learning (DL) approach, named the fusion convolutional long short-term memory network (FCL-Net), to address these three dependencies within one end-to-end learning architecture. The model is stacked and fused by multiple convolutional long short-term memory (LSTM) layers, standard LSTM layers, and convolutional layers. The fusion of convolutional techniques and the LSTM network enables the proposed DL approach to better capture the spatio-temporal characteristics and correlations of explanatory variables. A tailored spatially aggregated random forest is employed to rank the importance of the explanatory variables. The ranking is then used for feature selection. The proposed DL approach is applied to the short-term forecasting of passenger demand under an on-demand ride service platform in Hangzhou, China. The experimental results, validated on the real-world data provided by DiDi Chuxing, show that the FCL-Net achieves the better predictive performance than traditional approaches including both classical time-series prediction models and state-of-art machine learning algorithms (e.g., artificial neural network, XGBoost, LSTM and CNN). Furthermore, the consideration of exogenous variables in addition to the passenger demand itself, such as the travel time rate, time-of-day, day-of-week, and weather conditions, is proven to be promising, since they reduce the root mean squared error (RMSE) by 48.3%. It is also interesting to find that the feature selection reduces 24.4% in the training time and leads to only the 1.8% loss in the forecasting accuracy measured by RMSE in the proposed model. This paper is one of the first DL studies to forecast the short-term passenger demand of an on-demand ride service platform by examining the spatio-temporal correlations.",
      "accessed": {
       "date-parts": [
        [
         2021,
         10,
         20
        ]
       ]
      },
      "author": [
       {
        "family": "Ke",
        "given": "Jintao"
       },
       {
        "family": "Zheng",
        "given": "Hongyu"
       },
       {
        "family": "Yang",
        "given": "Hai"
       },
       {
        "family": "Chen",
        "given": "Xiqun (Michael)"
       }
      ],
      "container-title": "Transportation Research Part C: Emerging Technologies",
      "id": "7765261/RNCXQEAG",
      "issued": {
       "date-parts": [
        [
         "2017",
         12,
         1
        ]
       ]
      },
      "journalAbbreviation": "Transportation Research Part C: Emerging Technologies",
      "language": "en",
      "page": "591-608",
      "shortTitle": "Short-term forecasting of passenger demand under on-demand ride services",
      "title": "Short-term forecasting of passenger demand under on-demand ride services: A spatio-temporal deep learning approach",
      "type": "article-journal",
      "volume": "85"
     },
     "7765261/SBF8VTPD": {
      "DOI": "10.1016/j.scs.2019.101882",
      "URL": "https://www.sciencedirect.com/science/article/pii/S2210670719312387",
      "abstract": "This paper aimed to address the need for a comprehensive review on the factors affecting bike-sharing demand to bridge the gaps by deepening the knowledge on weather, built environment and land use, public transportation, station level, socio-demographic effects, temporal factors, and safety. This article evaluates recent studies on station-based bike sharing in literature and seeks answers to two main research questions: First, how do the weather conditions, built environment and land use, public transportation, socio-demographic attributes, temporal factors, and safety affect the bike-sharing trip demand? Second, what are the most commonly used factors in literature affecting trip demand? For this purpose, an overview of the factors affecting trip demands has been established to evaluate the performance of Bike-Share Programs(BSPs) comprehensively. The results can provide reliable estimate for planners or decision-makers in understanding the key factors contributing to bike-sharing demand. The information obtained from this overview can also be a guideline for BSP planners, policymakers and researchers to improve the efficiency of BSPs.",
      "accessed": {
       "date-parts": [
        [
         2021,
         10,
         17
        ]
       ]
      },
      "author": [
       {
        "family": "Eren",
        "given": "Ezgi"
       },
       {
        "family": "Uz",
        "given": "Volkan Emre"
       }
      ],
      "container-title": "Sustainable Cities and Society",
      "id": "7765261/SBF8VTPD",
      "issued": {
       "date-parts": [
        [
         "2020",
         3,
         1
        ]
       ]
      },
      "journalAbbreviation": "Sustainable Cities and Society",
      "language": "en",
      "page": "101882",
      "shortTitle": "A review on bike-sharing",
      "title": "A review on bike-sharing: The factors affecting bike-sharing demand",
      "type": "article-journal",
      "volume": "54"
     },
     "7765261/T48ESWUM": {
      "URL": "https://www.istat.it/it/archivio/258691",
      "abstract": "Nel 2019 aumentano i km di piste ciclabili (+15,5% dal 2015) ma rete di ciclovie insufficiente in molte città",
      "accessed": {
       "date-parts": [
        [
         2021,
         10,
         10
        ]
       ]
      },
      "id": "7765261/T48ESWUM",
      "issued": {
       "date-parts": [
        [
         2021,
         6,
         17
        ]
       ]
      },
      "language": "it",
      "title": "Ambiente urbano",
      "type": "webpage"
     },
     "7765261/TETPEMAA": {
      "URL": "https://paulromer.net/jupyter-mathematica-and-the-future-of-the-research-paper/index.html",
      "accessed": {
       "date-parts": [
        [
         2021,
         10,
         23
        ]
       ]
      },
      "author": [
       {
        "family": "Romer",
        "given": "Paul"
       }
      ],
      "container-title": "Paul Romer",
      "id": "7765261/TETPEMAA",
      "issued": {
       "date-parts": [
        [
         2018,
         4,
         13
        ]
       ]
      },
      "title": "Jupyter, Mathematica, and the Future of the Research Paper",
      "type": "webpage"
     },
     "7765261/TR9F33KT": {
      "DOI": "10.1080/17517575.2020.1829075",
      "URL": "https://doi.org/10.1080/17517575.2020.1829075",
      "abstract": "Enterprises are surviving in a digital transitioning society, where the creation of strategic alliances is one important result of this constant change during the coronavirus 2019 (COVID-19) pandemic. A medium of conducting business where organizations can share their main capabilities in order to strive in a pandemic is the creation of Virtual Enterprises (VE). But despite increasing research interest in VE, there is still lacunae in understanding the conceptualization of digitalization of VE operations during crises. Therefore, this provides a review of extant literature and meta-analysis of 55 VE research articles to present the theoretical underpinning concept of VE digitalization.",
      "accessed": {
       "date-parts": [
        [
         2021,
         10,
         14
        ]
       ]
      },
      "author": [
       {
        "family": "Anthony Jnr",
        "given": "Bokolo"
       },
       {
        "family": "Abbas Petersen",
        "given": "Sobah"
       }
      ],
      "container-title": "Enterprise Information Systems",
      "id": "7765261/TR9F33KT",
      "issue": "5",
      "issued": {
       "date-parts": [
        [
         "2021",
         5,
         28
        ]
       ]
      },
      "page": "617-650",
      "shortTitle": "Examining the digitalisation of virtual enterprises amidst the COVID-19 pandemic",
      "title": "Examining the digitalisation of virtual enterprises amidst the COVID-19 pandemic: a systematic and meta-analysis",
      "type": "article-journal",
      "volume": "15"
     },
     "7765261/VMWQTQ76": {
      "DOI": "10.1016/j.retrec.2020.101028",
      "URL": "https://www.sciencedirect.com/science/article/pii/S0739885920302262",
      "abstract": "Climate change awareness is becoming widespread. The consequences of pollution are increasingly evident, and transport, being one of the main sources of congestion and pollution, is cited as the major culprit. In this context and as one of the few positive externalities of the COVID-19 pandemic, micro-mobility and, more generally, environmentally friendly and co-managed mobility, are gaining ground. In particular, bike-sharing has seen double-digit growth rates of diffusion and use in its various forms. It is a fast and efficient solution, with zero emissions, convenience, speed of movement for short distances and beneficial effects on users' health. However, its use is still rather limited in Italian cities. Through an online survey conducted at the national level in 2020, we shed light on the elements that determine the adoption of bike-sharing among potential users. Through factor analysis, ordered logit and probit regressions, we have identified the factors that facilitate the extensive adoption of this service. In addition, we have seen how consumers’ habits have changed, comparing them in the pre- and post-COVID-19 lockdown periods and highlighting the health benefits for both potential and current users. The results and policy implications could be useful for local regulators and bike-sharing scheme operators.",
      "accessed": {
       "date-parts": [
        [
         2021,
         10,
         17
        ]
       ]
      },
      "author": [
       {
        "family": "Bergantino",
        "given": "Angela Stefania"
       },
       {
        "family": "Intini",
        "given": "Mario"
       },
       {
        "family": "Tangari",
        "given": "Luca"
       }
      ],
      "collection-title": "Active Travel Policies",
      "container-title": "Research in Transportation Economics",
      "id": "7765261/VMWQTQ76",
      "issued": {
       "date-parts": [
        [
         "2021",
         5,
         1
        ]
       ]
      },
      "journalAbbreviation": "Research in Transportation Economics",
      "language": "en",
      "page": "101028",
      "shortTitle": "Influencing factors for potential bike-sharing users",
      "title": "Influencing factors for potential bike-sharing users: an empirical analysis during the COVID-19 pandemic",
      "type": "article-journal",
      "volume": "86"
     },
     "7765261/WG5DS986": {
      "URL": "https://pandoc.org/",
      "accessed": {
       "date-parts": [
        [
         2021,
         10,
         23
        ]
       ]
      },
      "id": "7765261/WG5DS986",
      "title": "Pandoc - About pandoc",
      "type": "webpage"
     },
     "7765261/WGNRECEM": {
      "URL": "https://www.istat.it/it/archivio/260839",
      "abstract": "Come ci ha cambiati la pandemia",
      "accessed": {
       "date-parts": [
        [
         2021,
         10,
         10
        ]
       ]
      },
      "id": "7765261/WGNRECEM",
      "issued": {
       "date-parts": [
        [
         2021,
         9,
         8
        ]
       ]
      },
      "language": "it",
      "title": "Dall’andamento degli obiettivi di sviluppo sostenibile alla mobilità",
      "type": "webpage"
     },
     "7765261/WI4S5HHF": {
      "DOI": "10.1007/s11869-020-00863-1",
      "URL": "https://doi.org/10.1007/s11869-020-00863-1",
      "abstract": "First time in India, total lockdown was announced on 22 March 2020 to stop the spread of COVID-19 and the lockdown was extended for 21 days on 24 March 2020 in the first phase. During the total lockdown, most of the sources for poor air quality were stopped in India. In this paper, we present an analysis of air quality (particulate matter-PM2.5, Air Quality Index, and tropospheric NO2) over India using ground and satellite observations. A pronounced decline in PM2.5 and AQI (Air Quality Index) is observed over Delhi, Mumbai, Hyderabad, Kolkata, and Chennai and also a declining trend was observed in tropospheric NO2 concentration during the lockdown period in 2020 compared with the same period in the year 2019. During the total lockdown period, the air quality has improved significantly which provides an important information to the cities’ administration to develop rules and regulations on how they can improve air quality.",
      "accessed": {
       "date-parts": [
        [
         2021,
         10,
         17
        ]
       ]
      },
      "author": [
       {
        "family": "Singh",
        "given": "Ramesh P."
       },
       {
        "family": "Chauhan",
        "given": "Akshansha"
       }
      ],
      "container-title": "Air Quality, Atmosphere & Health",
      "id": "7765261/WI4S5HHF",
      "issue": "8",
      "issued": {
       "date-parts": [
        [
         2020,
         8,
         1
        ]
       ]
      },
      "journalAbbreviation": "Air Qual Atmos Health",
      "language": "en",
      "page": "921-928",
      "title": "Impact of lockdown on air quality in India during COVID-19 pandemic",
      "type": "article-journal",
      "volume": "13"
     },
     "7765261/X8PHHWUT": {
      "DOI": "10.1016/j.envpol.2020.115682",
      "URL": "https://www.sciencedirect.com/science/article/pii/S0269749120363715",
      "abstract": "Covid19-induced lockdown measures caused modifications in atmospheric pollutant and greenhouse gas emissions. Urban road traffic was the most impacted, with 48–60% average reduction in Italy. This offered an unprecedented opportunity to assess how a prolonged (∼2 months) and remarkable abatement of traffic emissions impacted on urban air quality. Six out of the eight most populated cities in Italy with different climatic conditions were analysed: Milan, Bologna, Florence, Rome, Naples, and Palermo. The selected scenario (24/02/2020–30/04/2020) was compared to a meteorologically comparable scenario in 2019 (25/02/2019–02/05/2019). NO2, O3, PM2.5 and PM10 observations from 58 air quality and meteorological stations were used, while traffic mobility was derived from municipality-scale big data. NO2 levels remarkably dropped over all urban areas (from −24.9% in Milan to −59.1% in Naples), to an extent roughly proportional but lower than traffic reduction. Conversely, O3 concentrations remained unchanged or even increased (up to 13.7% in Palermo and 14.7% in Rome), likely because of the reduced O3 titration triggered by lower NO emissions from vehicles, and lower NOx emissions over typical VOCs-limited environments such as urban areas, not compensated by comparable VOCs emissions reductions. PM10 exhibited reductions up to 31.5% (Palermo) and increases up to 7.3% (Naples), while PM2.5 showed reductions of ∼13–17% counterbalanced by increases up to ∼9%. Higher household heating usage (+16–19% in March), also driven by colder weather conditions than 2019 (−0.2 to −0.8 °C) may partly explain primary PM emissions increase, while an increase in agriculture activities may account for the NH3 emissions increase leading to secondary aerosol formation. This study confirmed the complex nature of atmospheric pollution even when a major emission source is clearly isolated and controlled, and the need for consistent decarbonisation efforts across all emission sectors to really improve air quality and public health.",
      "accessed": {
       "date-parts": [
        [
         2021,
         10,
         17
        ]
       ]
      },
      "author": [
       {
        "family": "Gualtieri",
        "given": "Giovanni"
       },
       {
        "family": "Brilli",
        "given": "Lorenzo"
       },
       {
        "family": "Carotenuto",
        "given": "Federico"
       },
       {
        "family": "Vagnoli",
        "given": "Carolina"
       },
       {
        "family": "Zaldei",
        "given": "Alessandro"
       },
       {
        "family": "Gioli",
        "given": "Beniamino"
       }
      ],
      "container-title": "Environmental Pollution",
      "id": "7765261/X8PHHWUT",
      "issued": {
       "date-parts": [
        [
         "2020",
         12,
         1
        ]
       ]
      },
      "journalAbbreviation": "Environmental Pollution",
      "language": "en",
      "page": "115682",
      "shortTitle": "Quantifying road traffic impact on air quality in urban areas",
      "title": "Quantifying road traffic impact on air quality in urban areas: A Covid19-induced lockdown analysis in Italy",
      "type": "article-journal",
      "volume": "267"
     },
     "7765261/XWGXDX2Y": {
      "DOI": "10.1016/j.techfore.2021.121173",
      "URL": "https://www.sciencedirect.com/science/article/pii/S0040162521006065",
      "abstract": "Digitalisation has become embedded in products and services, and it increasingly supports corporate business processes. However, few empirical studies have analysed the state of digitalisation and its implementation within companies, and the extant literature has painted an inconsistent picture concerning the effects of digitalisation. This survey-based study explores the diffusion of digitalisation, the advantages and difficulties in the practical transition to digitalisation, and its impact on performance. The sample includes Italian listed companies across diverse industries. The results highlight the still embryonic adoption of digital tools to support daily company operations; however, the impacts of digitalisation on company performance are noticeable. This research contributes to the literature on digitalisation and performance, breaks new ground by focusing on listed companies, and has implications for management investment in digitalisation for value creation.",
      "accessed": {
       "date-parts": [
        [
         2021,
         10,
         14
        ]
       ]
      },
      "author": [
       {
        "family": "Truant",
        "given": "Elisa"
       },
       {
        "family": "Broccardo",
        "given": "Laura"
       },
       {
        "family": "Dana",
        "given": "Léo-Paul"
       }
      ],
      "container-title": "Technological Forecasting and Social Change",
      "id": "7765261/XWGXDX2Y",
      "issued": {
       "date-parts": [
        [
         "2021",
         12,
         1
        ]
       ]
      },
      "journalAbbreviation": "Technological Forecasting and Social Change",
      "language": "en",
      "page": "121173",
      "shortTitle": "Digitalisation boosts company performance",
      "title": "Digitalisation boosts company performance: an overview of Italian listed companies",
      "type": "article-journal",
      "volume": "173"
     },
     "7765261/YUNHPBGP": {
      "DOI": "10.1016/j.envpol.2020.116011",
      "URL": "https://www.sciencedirect.com/science/article/pii/S0269749120367002",
      "abstract": "The UK implemented a lockdown in Spring (2020) to curtail the person-to-person transmission of the SARS-CoV-2 virus. Measures restricted movements to one outing per day for exercise and shopping, otherwise most people were restricted to their dwelling except for key workers (e.g. medical, supermarkets, and transport). In this study, we quantified changes to air quality across the United Kingdom from 30/03/2020 to 03/05/2020 (weeks 14–18), the period of most stringent travel restrictions. Daily pollutant measurements of NO2, O3 and PM2.5 from the national network of monitoring sites during this period were compared with measurements over the same period during 2017–19. Comparisons were also made with predicted concentrations for the 2020 period from business-as-usual (BAU) modelling, where the contributions of normal anthropogenic activities were estimated under the observed meteorological conditions. During the lockdown study period there was a 69% reduction in traffic overall (74% reduction in light and 35% in heavy vehicles). Measurements from 129 monitoring stations, identified mean reductions in NO2 of 38.3% (−8.8 μg/m3) and PM2.5 of 16.5% (−2.2 μg/m3). Improvements in NO2 and PM2.5 were largest at urban traffic sites and more modest at background locations where a large proportion of the population live. In contrast, O3 concentrations on average increased by 7.6% (+4.8 μg/m3) with the largest increases at roadside sites due to reductions in local emissions of NO. A lack of VOC monitoring limited our capacity to interpret changes in O3 at urban background locations. BAU models predicted comparable NO2 reductions and O3 gains, although PM2.5 episodes would have been more prominent without lockdown. Results demonstrate the relatively modest contribution of traffic to air quality, suggesting that sustained improvements in air quality require actions across various sectors, including working with international and European initiatives on long-range transport air pollutants, especially PM2.5 and O3.",
      "accessed": {
       "date-parts": [
        [
         2021,
         10,
         17
        ]
       ]
      },
      "author": [
       {
        "family": "Jephcote",
        "given": "Calvin"
       },
       {
        "family": "Hansell",
        "given": "Anna L."
       },
       {
        "family": "Adams",
        "given": "Kathryn"
       },
       {
        "family": "Gulliver",
        "given": "John"
       }
      ],
      "container-title": "Environmental Pollution",
      "id": "7765261/YUNHPBGP",
      "issued": {
       "date-parts": [
        [
         "2021",
         3,
         1
        ]
       ]
      },
      "journalAbbreviation": "Environmental Pollution",
      "language": "en",
      "page": "116011",
      "title": "Changes in air quality during COVID-19 ‘lockdown’ in the United Kingdom",
      "type": "article-journal",
      "volume": "272"
     }
    }
   }
  },
  "jupytext": {
   "formats": "notebooks///ipynb,body///md:myst"
  },
  "kernelspec": {
   "display_name": "Bike Sharing Forecasting",
   "language": "python",
   "name": "bikemi"
  },
  "language_info": {
   "codemirror_mode": {
    "name": "ipython",
    "version": 3
   },
   "file_extension": ".py",
   "mimetype": "text/x-python",
   "name": "python",
   "nbconvert_exporter": "python",
   "pygments_lexer": "ipython3",
   "version": "3.9.7"
  }
 },
 "nbformat": 4,
 "nbformat_minor": 5
}
