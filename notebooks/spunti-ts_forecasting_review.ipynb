{
 "cells": [
  {
   "cell_type": "markdown",
   "id": "6366c90b-2b82-4266-a695-2ff52b6b91be",
   "metadata": {},
   "source": [
    "## Technical challenge of forecasting bikeshare redistribution"
   ]
  },
  {
   "cell_type": "markdown",
   "id": "dd35ed7c-58a0-44cc-8b05-2de1fbe37bcf",
   "metadata": {
    "citation-manager": {
     "citations": {
      "zyaj8": []
     }
    }
   },
   "source": [
    "> The operator-based reallocation problem is known as a Pickup and Delivery Problem (PDP). The application of this optimization problem to BSSs has recently attracted the interest of many researchers and practitioners in this field. It can be modeled by a dynamic or a static approach (Chemla et al., 2013b). In the static version, which is usually performed during the night (when the system is closed, or the bike demand is very low), a snapshot of the number of bikes in each zone is considered and utilized to plan the redistribution. On the other hand, the dynamic relocation is performed during the day when the status of the system is rapidly changing and takes into account the real-time usage of the BSS. In the dynamic case, the relocation plan is strongly supported by forecasting techniques. <cite id=\"zyaj8\">[NO_PRINTED_FORM]</cite>"
   ]
  },
  {
   "cell_type": "markdown",
   "id": "b5a4a064-3f17-4e6f-bae8-c8be0f5be02b",
   "metadata": {
    "citation-manager": {
     "citations": {
      "5bab8": []
     }
    }
   },
   "source": [
    "> This has traditionally been accomplished through univariate time series prediction using various techniques such as (seasonal) autoregressive integrated moving average ([S]ARIMA, Williams and Hoel 2003) models, artificial neural networks (Dougherty and Cobbett 1997; van Lint et al. 2005), support vector regression (Wu et al. 2004), Kalman filtering (Liu et al. 2006) and non-parametric regression (Smith et al. 2002) among others. Vlahogianni et al. (2004) provide a good overview. More recently, researchers have begun to develop space–time models for traffic forecasting. Various statistical methods for modelling space–time data have been proposed over the years, including multivariate autoregressive integrated moving average [(M)ARIMA] models, space time autoregressive integrated moving average (STARIMA) models (Pfeifer and Deutsch 1980) and variants (STAR models, STMA models), three-dimensional geostatistical models and spatial panel data models, of which Griffith (2010) provides an overview. <cite id=\"5bab8\">[NO_PRINTED_FORM]</cite>"
   ]
  },
  {
   "cell_type": "markdown",
   "id": "317e5bdb-cea4-4ce4-9289-aa2ee397788b",
   "metadata": {},
   "source": [
    "## Metriche"
   ]
  },
  {
   "cell_type": "markdown",
   "id": "fb652709-7227-4dc7-af9f-36f1dad1d1a6",
   "metadata": {},
   "source": [
    "Caggiani: MSE"
   ]
  }
 ],
 "metadata": {
  "citation-manager": {
   "items": {}
  },
  "kernelspec": {
   "display_name": "Bike Sharing Forecasting",
   "language": "python",
   "name": "bikemi"
  },
  "language_info": {
   "codemirror_mode": {
    "name": "ipython",
    "version": 3
   },
   "file_extension": ".py",
   "mimetype": "text/x-python",
   "name": "python",
   "nbconvert_exporter": "python",
   "pygments_lexer": "ipython3",
   "version": "3.9.7"
  }
 },
 "nbformat": 4,
 "nbformat_minor": 5
}
