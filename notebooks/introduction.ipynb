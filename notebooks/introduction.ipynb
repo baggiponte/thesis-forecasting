{
 "cells": [
  {
   "cell_type": "markdown",
   "id": "34d799b8-00c0-4090-adb2-80d598bab5fc",
   "metadata": {},
   "source": [
    "# Introduction"
   ]
  },
  {
   "cell_type": "markdown",
   "id": "b478d1f9-d826-4320-9ca0-e4b441dd7467",
   "metadata": {},
   "source": [
    "## COVID-19 Effects and Mobility Habits in Italy"
   ]
  },
  {
   "cell_type": "markdown",
   "id": "a0f635e9-b923-4cf4-bba4-781a3b50d4f8",
   "metadata": {
    "citation-manager": {
     "citations": {
      "1bsuh": [
       {
        "id": "7765261/DEQECBA8",
        "source": "zotero"
       }
      ],
      "4f6tb": [
       {
        "id": "7765261/TR9F33KT",
        "source": "zotero"
       }
      ],
      "6olep": [
       {
        "id": "7765261/X8PHHWUT",
        "source": "zotero"
       }
      ],
      "807gt": [
       {
        "id": "7765261/LFVYWU5J",
        "source": "zotero"
       }
      ],
      "9j0sv": [
       {
        "id": "7765261/WGNRECEM",
        "source": "zotero"
       }
      ],
      "djsm8": [
       {
        "id": "7765261/J38UF9CZ",
        "source": "zotero"
       }
      ],
      "g4m4o": [
       {
        "id": "7765261/WI4S5HHF",
        "source": "zotero"
       }
      ],
      "g90ru": [
       {
        "id": "7765261/WGNRECEM",
        "source": "zotero"
       }
      ],
      "hr98z": [
       {
        "id": "7765261/PCUNSAVD",
        "source": "zotero"
       }
      ],
      "kwop4": [
       {
        "id": "7765261/GESPKNH7",
        "source": "zotero"
       }
      ],
      "lt4yv": [
       {
        "id": "7765261/XWGXDX2Y",
        "source": "zotero"
       }
      ],
      "mjryi": [
       {
        "id": "7765261/4S3SWW9Q",
        "source": "zotero"
       }
      ],
      "mkd5v": [
       {
        "id": "7765261/92X93RNR",
        "source": "zotero"
       }
      ],
      "on8qc": [
       {
        "id": "7765261/WGNRECEM",
        "source": "zotero"
       }
      ],
      "rzzct": [
       {
        "id": "7765261/WGNRECEM",
        "source": "zotero"
       }
      ],
      "sd11u": [
       {
        "id": "7765261/NBY9XZBV",
        "source": "zotero"
       }
      ],
      "t5v2p": [
       {
        "id": "7765261/YUNHPBGP",
        "source": "zotero"
       }
      ],
      "wk4a9": [
       {
        "id": "7765261/J38UF9CZ",
        "source": "zotero"
       }
      ],
      "xenxi": [
       {
        "id": "7765261/LGNSP9HT",
        "source": "zotero"
       }
      ],
      "yvkaq": [
       {
        "id": "7765261/I9Z56NKK",
        "source": "zotero"
       }
      ]
     }
    },
    "tags": []
   },
   "source": [
    "The COVID-19 pandemic set the world back in its pursuit of the seventeen Sustainable Development Goals (SDGs) <cite id=\"1bsuh\">(<i>The 17 Goals</i>, n.d.)</cite>. This is also the case for Italy, as we can see from the 92 statistical measures collected by the Italian national institute for statistics (ISTAT, Istituto Nazionale di Statistica). When comparing 2019 with data from ten years prior, sixty percent of the measurements register an improvement, while twenty percent do not change and the remainder worsens. However, when comparing 2019 and 2020, only forty percent of the measurements improve, and almost the same amount displays a statistically significant drop <cite id=\"9j0sv\">(<i>Dall’andamento degli obiettivi di sviluppo sostenibile alla mobilità</i>, 2021)</cite>.\n",
    "\n",
    "To say that the pandemic brought about a lot of change would be a redundant understatement. Coming out of 2020, the Italian outlook is worse than the average of the (Western) European countries - as one can notice upon looking at macroeconomic variables such as the Gross Domestic Product (GDP). Part of the negative consequences could be offset, thanks to the government's stimulus packages, the European Union's (EU) funds and the European Central Bank's (ECB) Pandemic Emergency Purchase Program, or PEPP - a massive asset purchase program of 1,850 billion euros. From the beginning, it was clear that the pandemic would accelerate digitalisation <cite id=\"mkd5v\">(Härmand, 2021)</cite> - and, indeed, it has: see <cite id=\"4f6tb\">(Anthony Jnr &#38; Abbas Petersen, 2021)</cite> for a meta-review or <cite id=\"lt4yv\">(Truant et al., 2021)</cite> for Italy. The generalised lockdowns reduced the greenhouse gases (GHG) emissions (see <cite id=\"t5v2p\">(Jephcote et al., 2021)</cite>, <cite id=\"g4m4o\">(Singh &#38; Chauhan, 2020)</cite>, <cite id=\"hr98z\">(Lian et al., 2020)</cite> and <cite id=\"6olep\">(Gualtieri et al., 2020)</cite>) but only temporarily and relatively to the severity of the restrictions put in place: the pandemic altered electricity consumption habits, but in countries like Sweden \"the consumption even increased\" compared to 2019 <cite id=\"yvkaq\">(Bahmanyar et al., 2020)</cite>. Besides, this also came at the expense of our transportation habits and the mobility sector in general.\n",
    "\n",
    "According to ISTAT, private cars are now used for half of all travels, up from 44 percent in the pre-pandemic period. Furthermore, the so-called \"mobilità dolce\" (the Italian translation of micro-mobility) \"does not seem to take off\" <cite id=\"on8qc\">(<i>Dall’andamento degli obiettivi di sviluppo sostenibile alla mobilità</i>, 2021)</cite>. In 2020, 30 percent of interviewed families stated that they had \"some or a lot of difficulties in connecting with public transportation in the area where they live\" - an improvement from the 33 percent of the previous year. However, it is enough to look at the regional level to realise that improvements are not spread evenly, and some areas of the country are actually worse off with respect to 2019. There is a great deal of heterogeneity: the share of families with troubles in accessing public transportation services is lower in the North (26 percent) compared to the South (36 percent), while in Campania more than half of the families are affected (51 percent). Furthermore, only 27 percent of students reach the places where they study with public means of transportation (and it's declining), while 75 percent reach the workplace with private means only (and the share is increasing) <cite id=\"rzzct\">(<i>Dall’andamento degli obiettivi di sviluppo sostenibile alla mobilità</i>, 2021)</cite>.\n",
    "\n",
    "The only measurement that has been improving throughout the decade is that of air quality. However, these values remain significantly higher than the guidelines from the World Health Organisation (WHO) <cite id=\"g90ru\">(<i>Dall’andamento degli obiettivi di sviluppo sostenibile alla mobilità</i>, 2021)</cite>. Besides, on September 22, 2021 the WHO revised downwards their recommendations on air pollutants (the latest update dated back to 2005), and the European Commission (EC) declared that it will take this update into account when revising the guidelines for the upcoming year <cite id=\"sd11u\">(<i>Standards - Air Quality - Environment - European Commission</i>, n.d.)</cite>. Italy has always struggled to respect the European Directive on air pollution: on November 2020, the European Court of Justice (ECJ) judged that, from 2008 to 2017, Italy \"systematically and continuously\" violated the standards set by the Directive and failed in enacting countermeasures to avoid it <cite id=\"kwop4\">(“Che Aria Respiriamo,” 2021)</cite>. On July 2021, the European Environmental Agency (EEA) ranked European cities according to the average level of $PM_{2.5}$ in the two previous years: out of 323 cities, Cremona (Lombardy) was second to last, Brescia and Pavia (both in Lombardy) were 315th and 314th respectively, while Venezia (Veneto) was 311st, Bergamo 306th and Milano 303rd (all in Lombardy) <cite id=\"807gt\">(<i>European City Air Quality Viewer — European Environment Agency</i>, 2021)</cite>. Air pollution caused more than *52 thousands* premature deaths: almost 14 percent of the total premature death toll in Europe <cite id=\"xenxi\">(<i>Italy - Air Pollution Country Fact Sheet — European Environment Agency</i>, 2020)</cite>.\n",
    "\n",
    "Unequal access to infrastructure (and, to a minor degree, air pollution) hinder the popularity of more sustainable mode of transport, such as biking and sharing services. The ISTAT report mentioned above estimated that in 2019 there were 30 million commuters in Italy <cite id=\"mjryi\">(<i>Gli spostamenti per motivi di studio o lavoro nel 2019 secondo il Censimento permanente della popolazione</i>, 2021)</cite>: more than two thirds (more than 20 million) need to reach their workplace, while the rest is made up of students (with a moderate variance: the share of students is higher in those regions where unemployment is higher, for example in Campania, where they make up 40% of commuters). However, the report did not present any data on biking habits or the use of sharing services. These can only be found in an earlier report, published in 2019 and referring to two years prior.\n",
    "\n",
    "The 2019 report mentions two interesting statistics about commuting habits: \"almost one in five [commuters] choose an 'active' mode of transport\" - that is, walking or biking. However, most of the \"active\" commuters are actually walking to work (17,4%), whereas the bikers are only some 1,7%. In general, it is women, young and more educated people who use more public transportation means and bicycles, while private vehicles (the exclusive means of commuting for more than 73 percent of the employed) are spread among men between 25 to 44 and with an average level of education <cite id=\"djsm8\">(<i>Spostamenti quotidiani e nuove forme di mobilità</i>, 2019)</cite>. Car pooling is chosen by some 12 percent of the employed and 14,5 percent of students aged 18-24, while only less than half a million used bike sharing services at least once during the year (i.e., less than 2 percent). Such services are more popular across the young and more educated people, while the incidence is almost double the national average in metropolitan cities <cite id=\"wk4a9\">(<i>Spostamenti quotidiani e nuove forme di mobilità</i>, 2019)</cite>."
   ]
  },
  {
   "cell_type": "markdown",
   "id": "b5706634-6b1f-4bba-a713-593d016b17e4",
   "metadata": {},
   "source": [
    "## Bike-Sharing Demand Determinants and the State of Public Transport Infrastructure in Italy"
   ]
  },
  {
   "cell_type": "markdown",
   "id": "ff2832d8-5de8-4c51-86bc-084fc2d8e031",
   "metadata": {
    "citation-manager": {
     "citations": {
      "39eih": [
       {
        "id": "7765261/IDH58MVU",
        "source": "zotero"
       }
      ],
      "86qnp": [
       {
        "id": "7765261/T48ESWUM",
        "source": "zotero"
       }
      ],
      "bqkpr": [
       {
        "id": "7765261/4S3SWW9Q",
        "source": "zotero"
       }
      ],
      "cj8ku": [
       {
        "id": "7765261/SBF8VTPD",
        "source": "zotero"
       }
      ],
      "gsh0z": [
       {
        "id": "7765261/SBF8VTPD",
        "source": "zotero"
       }
      ],
      "h0b16": [
       {
        "id": "7765261/SBF8VTPD",
        "source": "zotero"
       }
      ],
      "itshm": [
       {
        "id": "7765261/T48ESWUM",
        "source": "zotero"
       }
      ],
      "krceq": [
       {
        "id": "7765261/T48ESWUM",
        "source": "zotero"
       }
      ],
      "lcdr4": [
       {
        "id": "7765261/SBF8VTPD",
        "source": "zotero"
       }
      ],
      "sg3u9": [
       {
        "id": "7765261/FIMQIYXE",
        "source": "zotero"
       }
      ],
      "wk5mm": [
       {
        "id": "7765261/J2DVJ8ZK",
        "source": "zotero"
       }
      ]
     }
    },
    "tags": []
   },
   "source": [
    "The picture drawn by the two ISTAT reports feels like a pool of untapped (if not wasted) potential. According to the most recent survey, in 2019 some 57,5% percent of commuters moved within the same municipality of residence. This value is driven up by the students, who make up almost 71 percent of commuters within the same municipality. However, even after taking them out of the computation, we still end up with an even figure: more than 51 percent of workers move within the same municipality <cite id=\"bqkpr\">(<i>Gli spostamenti per motivi di studio o lavoro nel 2019 secondo il Censimento permanente della popolazione</i>, 2021)</cite>.\n",
    "\n",
    "Sure, it would be naive to argue that commuters who work in the same municipality where they live could all bike to reach their destinations: after all, there is a great deal of heterogeneity across municipalities under several dimensions - like their sheer extension, morphology and, of course, infrastructure. There are many factors that affect bike sharing demand: the first one that comes to mind are the weather conditions: precipitations, humidity and seasonal patterns; the one that arguably plays the biggest role is the so-called \"built environment\" <cite id=\"h0b16\">(Eren &#38; Uz, 2020)</cite>, i.e. infrastructure such as the availability of isolated or dedicated bike lanes instead of mixed ones, but also safe parking areas and bike racks for private bikes. The terrain clearly plays a role: slopes have a negative effect on bike usage (as one of the many examples, see <cite id=\"39eih\">(Bordagaray et al., 2016)</cite>), but incentive schemes can be devised to promote returning bikes to up-hill stations and even the least loaded ones (which also improves the overall efficiency of the system) <cite id=\"wk5mm\">(Fricker &#38; Gast, 2016)</cite>. Furthermore, in this scenario there is a positive effect of e-bikes. Besides, the literature also outlines the role of land use: pick-ups are more frequent in commercial areas and parks, compared to residential ones and, more broadly \"the proximity to green spaces and recreation areas, schools, universities, museums, shopping centers, sports areas, restaurants, hotels, bus/subway/train/suburban/ ferry transit hubs has a positive effect on the use of BSP [Bike Sharing Programs]\" <cite id=\"cj8ku\">(Eren &#38; Uz, 2020)</cite>.\n",
    "\n",
    "The degree of integration with the public transportation is also important, as bike-sharing systems are found to be complementary means for \"[bridging] the gap between multiple transit hubs\" <cite id=\"gsh0z\">(Eren &#38; Uz, 2020)</cite>. But bike sharing can also be a substitute \"especially when public transport is not available, between 22:00 pm [and] 06:00 a.m., they can encourage users to use BSP\" <cite id=\"lcdr4\">(Eren &#38; Uz, 2020)</cite>. This implies that there is no single channel to promote bike-sharing services and that coordination across institutional players is crucial. Despite this, investments in bike-sharing services shall not fall in the background: their complementary role as \"first/last mile solution\" is recognised in the literature and enhance public transport as a whole.\n",
    "\n",
    "Improving the public transport infrastructure is a priority for Italy. As always, there are territorial imbalances on two different dimensions: on the macro level, there is a clear divide between North and South, but there continue to be striking differences even within the wealthiest regions. Bike lanes have been increasing steadily: the total number of kilometres has grown by 15,5 percent since 2015, totalling approximately 4700 kilometres. However, the infrastructure is still far from adequate in most cities <cite id=\"krceq\">(<i>Ambiente urbano</i>, 2021)</cite>.\n",
    "\n",
    "The report from ISTAT outlines that public transport (or TPL, \"trasporto pubblico locale\") suffers both from lack of infrastructure and outdated fleets. As a starter, the TPL is over reliant on buses, which offer more than 55 percent of the number of seats per kilometre. However, once metropolitan cities are factored out, this figure skyrockets to well beyond 90-95 percent <cite id=\"86qnp\">(<i>Ambiente urbano</i>, 2021)</cite>. Only 32 percent of the bus fleets is in line with Euro 6 standard and some 34 percent belongs to the Euro 4 class - i.e., was deployed before 2008. Low emission buses make up some 28 percent of the total, but only slightly more than 3 percent are electric: the rest (almost 25 percent) is fuelled by natural gas. Unsurprisingly, the share of low-emission vehicles is higher in metropolitan cities.\n",
    "\n",
    "Trolley buses are available in only 13 municipalities, trams in 11 and metropolitan trains in 7. However, there is a remarkable divide between the Italian champion, Milan, and the other cities. Tram network density in Milan is measured as 122 km per 100 squared kilometres; the silver medal is awarded to Turin, which has almost half the kilometres than Milan: 66. The average of the other cities is a mere 16 km. In general, while the supply of TPL (measured in seats per kilometre, per inhabitant) is on the rise, we are still far from the levels before the Great Recession (-7,3 percent compared to 2008). However, the supply in the North is 25 percent greater compared to the Centre and almost three times bigger than the South. Public demand for TPL is increasing in the North, stationary in the Centre and even declining in the South.\n",
    "\n",
    "A minor and uneven push is provided by sharing services. Car sharing is available in 37 out of 107 \"comuni capoluogo\" (i.e., the \"capital\" of a province, corresponding to the NUTS3 classification), of which only 8 are in the South. Besides, only 26 percent of the fleets is composed of electric cars. Bike sharing services are present in 53 *capoluoghi*, registering an overall decline from 2015. Luckily, the number of bikes has more than tripled: from 6 to 19 bicycles per ten thousand inhabitants. The divide, as always, is quite stark: the number of bikes is 29 in metropolis compared to provinces, and these services are much more common in the North (32 bikes per ten thousand citizens) than in the Centre (17) and the South (just 2). Much of this success is to be attributed to the appearance of free-float systems, which require greater fleets <cite id=\"itshm\">(<i>Ambiente urbano</i>, 2021)</cite>. The report does not provide information on electric scooters.\n",
    "\n",
    "Restructuring the public transport will require extensive coordination between national, regional and municipal administrations, across multiple channels simultaneously. It is a widespread hope that many of this results can (only) be achieved via the Next Generation EU (NGEU), the 750 billion euros stimulus that will be financed by bonds from the European Commission. The NGEU is a bold and unprecedented move from the EU: the fund will be made up with up to 390 billion euros in subsidies, while up to 360 billions will be given out as loans with low interest rates. Italy is the first beneficiary in absolute terms for the main facilities of the NGEU: the country will receive more than 190 billion euros, to which the government will add 30 billions of its own. According to the so-called PNRR (*Piano Nazionale di Recupero e Resilienza*, i.e. National Plan of Recovery and Resilience), almost 25 billion euros will be invested in railways. However, less than one billion will be used to improve on the regional railways - the Achilles' heel of public transportation and the bane of commuters. In addition, more than 8,5 billion euros will be invested in TPL. But there's a catch: the NGEU grants will only be available for projects to be completed within the year 2026. Interviewed by *Il Post*, prof. Gabriele Grea from Bocconi University stated that these funds will mostly be awarded to projects in an already \"advanced state\": on one side, this will provide stronger guarantees about their completion, but will likely increase the inequalities across municipalities <cite id=\"sg3u9\">(<i>Un po’ di cose notevoli dentro il PNRR</i>, 2021)</cite>."
   ]
  },
  {
   "cell_type": "markdown",
   "id": "086bfa9e-dc1f-43c1-b8f8-893edf82f669",
   "metadata": {},
   "source": [
    "## The Case for Promoting Bike Sharing"
   ]
  },
  {
   "cell_type": "markdown",
   "id": "f3ca709d-719c-4f17-a22b-5cd8bc705421",
   "metadata": {
    "citation-manager": {
     "citations": {
      "039o5": [
       {
        "id": "7765261/RNCXQEAG",
        "source": "zotero"
       }
      ],
      "0mmhf": [
       {
        "id": "7765261/LUCYT8NP",
        "source": "zotero"
       }
      ],
      "4kg8r": [
       {
        "id": "7765261/FTM4CYUT",
        "source": "zotero"
       }
      ],
      "601x8": [
       {
        "id": "7765261/EIMDTC6Q",
        "source": "zotero"
       }
      ],
      "abpus": [
       {
        "id": "7765261/VMWQTQ76",
        "source": "zotero"
       }
      ],
      "eq14m": [
       {
        "id": "7765261/FGMR4BME",
        "source": "zotero"
       }
      ],
      "i5qrt": [
       {
        "id": "7765261/RNCXQEAG",
        "source": "zotero"
       }
      ],
      "izohe": [
       {
        "id": "7765261/FGMR4BME",
        "source": "zotero"
       }
      ],
      "ua2i7": [
       {
        "id": "7765261/N37UTVGB",
        "source": "zotero"
       }
      ],
      "v4gkr": [
       {
        "id": "7765261/FGMR4BME",
        "source": "zotero"
       }
      ],
      "wgl8a": [
       {
        "id": "7765261/VMWQTQ76",
        "source": "zotero"
       }
      ],
      "yeski": [
       {
        "id": "7765261/4US9Q7KQ",
        "source": "zotero"
       }
      ]
     }
    },
    "tags": []
   },
   "source": [
    "Reforming the public transport will be crucial to reach carbon neutrality and possibly promote economic growth. After all, transport accounts for as much as 27 percent of emissions in the EU <cite id=\"wgl8a\">(Bergantino et al., 2021)</cite> and while the overall greenhouse gases (GHG) emissions has been declining since the 1990s, the emissions from road transportation has nonetheless been increasing ever since <cite id=\"yeski\">(<i>Annual European Union Greenhouse Gas Inventory 1990–2018 and Inventory Report 2020 — European Environment Agency</i>, 2020)</cite>. Besides, it is well-known that Italy chose to privilege trucks over trains for freight transport: Eurostat estimated that from 2000 to 2016 less than 10 percent of goods travelled by train, while the EU average was almost 18 percent <cite id=\"601x8\">(<i>Milano ha un’occasione storica</i>, 2017)</cite>, so there seems to be much room to increase productivity. And, besides, despite the fact that emissions have been decreasing since the 1990s, Italy is not on the side of the achievers: since 1990, emissions in the country were reduced by 17,2 percent, compared to the EU28's 25,2 percent. \n",
    "\n",
    "The Next Generation EU provides Italy with the perfect chance to narrow the divide with Western economies, while curbing emissions and finally improving the air quality. To promote more sustainable modes of transport, measures are needed on both the supply side (for example, by improving vehicle and fuel performance) and on the demand side by reducing demand for private transport, or at least increasing the demand for greener modes of transport <cite id=\"abpus\">(Bergantino et al., 2021)</cite>. Investing in sharing services could play a role in this transition, albeit small: after all, despite the much urgent need to upgrade bus fleets, and the relatively inferior amount of NGEU funds for local administrations, biking infrastructure projects can be relatively cheaper compared to other TPL investments - especially if factoring in the presence of private entrepreneurs.\n",
    "\n",
    "This dissertation stems from the idea that bike sharing systems can be promoted with cheap measures. One of the most widely discussed problems in the literature is improving customer satisfaction through repositioning, i.e. forecasting the demand for bikes and \"design efficient bike repositioning solutions\" <cite id=\"ua2i7\">(Ghosh et al., 2019)</cite>. The problem is ever more important since the introduction of free-float bike-sharing systems (FFBBS), as the bikes can be dropped anywhere and end up in sub-optimal places for the next customers. \n",
    "On the positive side, FFBBS do not require the upfront investments for building docking stations - which is necessary for station-based BSS (also known as SBSS). Furthermore, FFBSS \"prevents bike theft\", \"by tracking bikes in real-time with built-in GPS\", and \"offers significant opportunities for smart management\"<cite id=\"v4gkr\">(Pal &#38; Zhang, 2017)</cite>. This implies a greater satisfaction level for customers, \"because obtaining and returning the bikes becomes much more convenient\" <cite id=\"izohe\">(Pal &#38; Zhang, 2017)</cite>. However, all of this comes at the increased costs for bike rebalancing, because of how inefficient bike redistribution becomes and the and higher operating costs in terms of human and financial resources <cite id=\"eq14m\">(Pal &#38; Zhang, 2017)</cite>. This has been recognised as \"one of the main reasons why many FFBS enterprises lose money or even withdrawn from market.\"<cite id=\"4kg8r\">(Tian et al., 2021)</cite>.\n",
    "\n",
    "Most of the new approaches involve deep learning (DL) techniques, such as long-term short-memory (LSTM) neural networks, which usually outperform other statistical and machine learning approaches <cite id=\"0mmhf\">(Xu et al., 2018)</cite>. Some are incredibly sophisticated: Convolutional LSTM are deep learning models \"stacked and fused by multiple convolutional long short-term memory (LSTM) layers, standard LSTM layers, and convolutional layers [...] to better capture the spatio-temporal characteristics and correlations of explanatory variables\" <cite id=\"039o5\">(Ke et al., 2017)</cite>. This, combined with external data such as \"travel time rate, time-of-day, day-of-week, and weather conditions\", results in an improvement of error metrics (RMSE) by almost 50 percent <cite id=\"i5qrt\">(Ke et al., 2017)</cite>.\n",
    "\n",
    "There is no way we could best the performance of such sophisticated models. But, indeed, this may not be the ultimate goal for policymakers. Despite their impressive performances, deep learning methods are hard to implement. They require a considerable amount of resources and, unlike simpler models, are much more difficult to visualise and interpret. For one, they require senior data scientists and access to a local server cluster with access to Graphic Processing Units (GPUs) or cloud computing platforms such as Google Cloud, Microsoft Azure or Amazon Web Services. Such models require a long time to train - which translates to more expensive models.\n",
    "\n",
    "Given the policymaker constraints, DL techniques may well be out of time, and budget. Our goal is to satisfy the constraints of a local planner with tight budget and more pressing issues, or the limited options of a private BSS company who needs to sustain high operational costs. We will develop two classes of models, univariate and multivariate, using both statistical and machine-learning methods. We will also attempt to evaluate the usefulness of external data - which might be hard to require and process - and the performances of libraries such as Facebook's Prophet, which have been specifically designed for 'forecasting at scale', i.e. forecasting multiple time-series (in the order of the thousands) with little to no pre-processing, feature engineering and simple models.\n",
    "\n",
    "This experiment has many drawbacks and limitations: as a starter, it does not include a proper spatial analysis, and does not explore Vector Auto Regressive (VAR) models, nor Bayesian models. Our goal is to prove that feature engineering and better data can do a better job at improving a model compared to more advanced techniques, especially under (hypothetically) tight budget constraints. In other words, we might want to get the feel for the marginally decreasing utility of accuracy improvements, which come at progressively greater computational costs."
   ]
  },
  {
   "cell_type": "markdown",
   "id": "4b828a31-2954-49ee-ac05-12eb1491c009",
   "metadata": {},
   "source": [
    "## A Brief History of Bike Sharing Services"
   ]
  },
  {
   "cell_type": "markdown",
   "id": "6da10d70-2cf2-4c49-8041-cdb2b7704536",
   "metadata": {
    "citation-manager": {
     "citations": {
      "13h1a": [
       {
        "id": "7765261/MVUBY4JD",
        "source": "zotero"
       }
      ],
      "19mvq": [
       {
        "id": "7765261/LFMZYHVY",
        "source": "zotero"
       }
      ],
      "2vaa6": [
       {
        "id": "7765261/DNETG943",
        "source": "zotero"
       }
      ],
      "429mk": [
       {
        "id": "7765261/6TJJ379L",
        "source": "zotero"
       }
      ],
      "6y8i8": [
       {
        "id": "7765261/MVUBY4JD",
        "source": "zotero"
       }
      ],
      "8baaa": [
       {
        "id": "7765261/MVUBY4JD",
        "source": "zotero"
       }
      ],
      "atco8": [
       {
        "id": "7765261/RS2BGLYQ",
        "source": "zotero"
       }
      ],
      "iqk87": [
       {
        "id": "7765261/DNETG943",
        "source": "zotero"
       }
      ],
      "is94k": [
       {
        "id": "7765261/Q8QH45IB",
        "source": "zotero"
       }
      ],
      "mq8un": [
       {
        "id": "7765261/UV5CIHVI",
        "source": "zotero"
       }
      ],
      "nxdy6": [
       {
        "id": "7765261/DNETG943",
        "source": "zotero"
       }
      ],
      "xemy5": [
       {
        "id": "7765261/6TJJ379L",
        "source": "zotero"
       }
      ],
      "ya8cq": [
       {
        "id": "7765261/UV5CIHVI",
        "source": "zotero"
       }
      ],
      "yrbre": [
       {
        "id": "7765261/DNETG943",
        "source": "zotero"
       }
      ]
     }
    },
    "tags": []
   },
   "source": [
    "The concept behind bike sharing systems (BSS) has been around since at least the 1960 <cite id=\"6y8i8\">(DeMaio, 2009)</cite>. Perhaps unsurprisingly, the first BSS operator was Dutch: it was called Witte Fietsen, or White Bikes, and was deployed in Amsterdam, 1965. The bikes for the sharing service were painted in white, in order to distinguish them from private bicycles, and were made freely available with no locks. Even less surprisingly, \"the total absence of security mechanisms led to theft and vandalism, and a rapid demise of Witte Fietsen\", as pointed out by Fishman <cite id=\"yrbre\">(Fishman, 2016)</cite>.\n",
    "\n",
    "Since this failed attempt, researchers have identified three further generations of bike sharing systems <cite id=\"mq8un\">(Parkes et al., 2013)</cite>, along the lines of their technological improvements. Being one of a kind, Witte Fietsen was basically the only representative of the first generations of bike sharing systems. According to DeMaio, the so-called second generation of bike sharing system was launched in the 1990s, in Denmark (1991 and 1993) and subsequently in the Netherlands (1995). These systems were designed with better insurances against frequent usage, as well as vandalism: \"The Copenhagen bikes were specially designed for intense utilitarian use with solid rubber tires and wheels with advertising plates, and could be picked up and returned at specific locations throughout the central city with a coin deposit\" <cite id=\"8baaa\">(DeMaio, 2009)</cite>. These incentives were not enough, as the time was not yet prime for better customer identification technologies as well as tracking systems.\n",
    "\n",
    "New features such as \"electronically-locking racks or bike locks, telecommunication systems, smart-cards, mobile phone access, and on-board computers\" became the norm since 1996, following the example of services such as Bikeabout, developed by Portsmouth University in the United Kingdom <cite id=\"13h1a\">(DeMaio, 2009)</cite>. With Bikeabout, students could use a magnetic stripe card to rent a bike. Since then, a couple of third-generation bike sharing services launched every year across Europe, such as in France (Rennes, 1998) and Germany (Munich, 2000). These services managed to deter theft with \"dedicated docking stations (in which bicycles are picked up and returned), as well as automated credit card payment and other technologies to allow the tracking of the bicycles\" <cite id=\"2vaa6\">(Fishman, 2016)</cite>. The peak of the third generation was reached around the second half of the 2000s, when Velo'v and its 1500-bike fleet were launched in Lyon in 2005, followed by the 7000 bikes deployed by Velib in 2007 in Paris.\n",
    "\n",
    "Since then, bike-sharing spread to the rest of the world, and around the first half of the 2010s China established itself as a leader. In 2014, the global bike-sharing fleet was estimated at almost one million bicycles, three fourths of which where in China <cite id=\"nxdy6\">(Fishman, 2016)</cite>; the country also had more than double the number of bike-sharing systems (237) compared to Italy (114) and Spain (113), while there were only 54 in the USA <cite id=\"iqk87\">(Fishman, 2016)</cite>. China is now the leader in sharing services, followed by Europe - which today still maintains its lead over the US, where \"the adoption process it at an earlier stage and is gaining momentum\" <cite id=\"ya8cq\">(Parkes et al., 2013)</cite>. \n",
    "\n",
    "This ongoing surge in popularity is once again due to technological breakthroughs: the fourth generation of bike sharing services exploits the Global Positioning System (GPS) and smartphones to deploy fleets of dock-less (or flee-floating) bikes and e-bikes. China could establish itself as leader also thanks to the rise of mobile technology and apps like WeChat, which was launched in 2011 and quickly became the most used platform in the country: \"By the end of 2015, WeChat had 762 million monthly active users worldwide, and roughly 91% of them were from China; moreover, around 639 million users accessed WeChat on a smartphone\" <cite id=\"atco8\">(Chen, 2017)</cite>. WeChat is ubiquitous in China and living without it nigh impossible <cite id=\"is94k\">(“In Cina vivere senza WeChat è complicato,” 2018)</cite> - as the platform supports cash transfers and is used for shopping, tipping and paying services.\n",
    "\n",
    "These new technologies drastically lowered the entrance barriers and the otherwise high upfront investments to set up a bike sharing network. One of the most popular BSS, ofo, was born in 2014 thanks to a collective of students at China's Peking University, who realised they could use the GPS on user's phone to track the bikes. They chose the name \"ofo\" because word itself resembled a biker and brought together some 2000 bikes to use on-campus<cite id=\"429mk\">(Schmidt, 2018)</cite>. The service was so popular that they quickly made it into a company.\n",
    "\n",
    "According to Samantha Herr, executive director of the North American Bikeshare Association in Portland, Maine, \"large-scale venture capital and cheaper equipment are the game changers that propelled the explosive growth of dockless companies like Mobike and ofo\". Dockless bikes are of \"lower quality than their docked counterparts\" and do not require expensive technologies to interface with a docking station: \"That makes them cheaper to mass produce and drop off in new markets\" <cite id=\"xemy5\">(Schmidt, 2018)</cite>. It is not by chance that most free-float BSS are completely private, while docked systems almost always feature a partnership between the private sector and local administrations.\n",
    "\n",
    "Today, according to the estimates on the website [Bike Sharing World Map](https://bikesharingworldmap.com/) <cite id=\"19mvq\">(<i>The Meddin Bike-Sharing World Map</i>, 2021)</cite>, there appear to be almost 1900 bike sharing services in the world, with almost 1000 that have closed down and 300 to be opened. According to an interview to Russell Meddin, the website founder, in 2018 there were 16 to 18 million free-float bikes, plus 3,7 million docked bikes."
   ]
  },
  {
   "cell_type": "markdown",
   "id": "e1c28b77-46ed-4025-8e83-36ab8808760d",
   "metadata": {},
   "source": [
    "## Sharing Economy and Micromobility"
   ]
  },
  {
   "cell_type": "markdown",
   "id": "b57c28f4-2c7d-4d7f-8592-e6587d909bb3",
   "metadata": {
    "citation-manager": {
     "citations": {
      "7febn": [
       {
        "id": "7765261/H4RXQQ8R",
        "source": "zotero"
       }
      ],
      "8i59d": [
       {
        "id": "7765261/AHAU5WIN",
        "source": "zotero"
       }
      ],
      "bkhe6": [
       {
        "id": "7765261/BUI6HN97",
        "source": "zotero"
       }
      ],
      "dvvlh": [
       {
        "id": "7765261/SAYXS4UZ",
        "source": "zotero"
       }
      ],
      "foag5": [
       {
        "id": "7765261/EPW29CK5",
        "source": "zotero"
       }
      ],
      "hnnio": [
       {
        "id": "7765261/GVEPNMR5",
        "source": "zotero"
       }
      ],
      "jsywb": [
       {
        "id": "7765261/G3F5S8ZS",
        "source": "zotero"
       }
      ],
      "l0la9": [
       {
        "id": "7765261/9IRMHVZB",
        "source": "zotero"
       }
      ],
      "vb4td": [
       {
        "id": "7765261/F7WYHN86",
        "source": "zotero"
       }
      ]
     }
    },
    "tags": []
   },
   "source": [
    "Nowadays, bike sharing systems contend roads (and sidewalks) with new competitors: electrical scooters (ES) have become surprisingly popular across the globe in recent years, displaying a stronger growth trend and adoption compared to BSS. The literature on the history of e-scooters services is still quite young, but some authors trace the beginning of ESS to 2017 <cite id=\"8i59d\">(Christoforou et al., 2021)</cite>. \n",
    "\n",
    "Since the last decade, bike sharing must be understood as a piece of two bigger and growing trends: sharing economy and micromobility. The sharing economy is - in economic terms - a new business paradigm focusing on access to exclusive goods, rather than ownership. Before the 2020 COVID Pandemic <cite id=\"dvvlh\">(“La crisi della sharing economy,” 2020)</cite>, sharing economy was also considered a gold mine: in 2017, Bloomberg wrote a long report about the success AirBnB and Uber, the two businesses that embody the idea of sharing economy <cite id=\"7febn\">(Stone, 2017)</cite>. At the time, AirBnB was valued at 30 billion dollars and Uber was valued at almost 70 billion dollars, while both of the companies were still private. The two sharing economy champions went public, albeit with different fortunes, in 2020 <cite id=\"bkhe6\">(“La quotazione in borsa di Airbnb è stata un successo,” 2020)</cite>, and in 2019 <cite id=\"hnnio\">(“Nel primo giorno di quotazione in borsa, le azioni di Uber hanno perso il 7,6 per cento,” 2019)</cite>.\n",
    "\n",
    "Sharing economy partially overlaps with micromobility.\n",
    "\n",
    "Provide an exact definition of sharing economy is not straight forward. As of today, some of the most visionary claims about the revolutionary impact of sharing economy have been scaled down - when not outright debunked - and some of its discriminatory and distortionary impacts are being addressed <cite id=\"l0la9\">(“Airbnb Urges Housing Reform in Berlin after Court Overturns Permit Rejection,” 2017)</cite>, <cite id=\"foag5\">(“La nuova sentenza europea sugli affitti brevi,” 2020)</cite>, <cite id=\"jsywb\">(“Le città europee contro gli affitti brevi,” 2021)</cite>.\n",
    "\n",
    "While attempts have been made <cite id=\"vb4td\">(Trenz et al., 2018)</cite>, we are not interested in taking sides. Sharing economy is of our interest insofar as a macro trend - i.e. a growing and often unstable environment, where players display a great degree of heterogeneity and, for this reason, can suddenly enter or drop out of a market. In the sharing economy, players adopt different business models. Generally speaking, most of these activities involve an ag"
   ]
  },
  {
   "cell_type": "markdown",
   "id": "9d1b125f-0701-47fc-8b71-f89aa7b1dffe",
   "metadata": {
    "tags": []
   },
   "source": [
    "## Inquadrare la storia "
   ]
  },
  {
   "cell_type": "markdown",
   "id": "7951edff-064c-4af9-a793-3b20a91eec49",
   "metadata": {
    "citation-manager": {
     "citations": {
      "zyaj8": [
       {
        "id": "7765261/5BMQM3AD",
        "source": "zotero"
       }
      ]
     }
    },
    "tags": []
   },
   "source": [
    "> The operator-based reallocation problem is known as a Pickup and Delivery Problem (PDP). The application of this optimization problem to BSSs has recently attracted the interest of many researchers and practitioners in this field. It can be modeled by a dynamic or a static approach (Chemla et al., 2013b). In the static version, which is usually performed during the night (when the system is closed, or the bike demand is very low), a snapshot of the number of bikes in each zone is considered and utilized to plan the redistribution. On the other hand, the dynamic relocation is performed during the day when the status of the system is rapidly changing and takes into account the real-time usage of the BSS. In the dynamic case, the relocation plan is strongly supported by forecasting techniques. <cite id=\"zyaj8\">(Caggiani et al., 2018)</cite>"
   ]
  },
  {
   "cell_type": "markdown",
   "id": "7eb7f7de-07a0-4081-a1f6-5f529085e52c",
   "metadata": {
    "citation-manager": {
     "citations": {
      "5bab8": [
       {
        "id": "7765261/FIPJ84KM",
        "source": "zotero"
       }
      ]
     }
    },
    "tags": []
   },
   "source": [
    "> This has traditionally been accomplished through univariate time series prediction using various techniques such as (seasonal) autoregressive integrated moving average ([S]ARIMA, Williams and Hoel 2003) models, artificial neural networks (Dougherty and Cobbett 1997; van Lint et al. 2005), support vector regression (Wu et al. 2004), Kalman filtering (Liu et al. 2006) and non-parametric regression (Smith et al. 2002) among others. Vlahogianni et al. (2004) provide a good overview. More recently, researchers have begun to develop space–time models for traffic forecasting. Various statistical methods for modelling space–time data have been proposed over the years, including multivariate autoregressive integrated moving average [(M)ARIMA] models, space time autoregressive integrated moving average (STARIMA) models (Pfeifer and Deutsch 1980) and variants (STAR models, STMA models), three-dimensional geostatistical models and spatial panel data models, of which Griffith (2010) provides an overview. <cite id=\"5bab8\">(Cheng et al., 2012)</cite>"
   ]
  },
  {
   "cell_type": "markdown",
   "id": "d479f94a-3fc3-4d3a-8d0d-195397bacfa8",
   "metadata": {},
   "source": [
    "## BikeMi"
   ]
  },
  {
   "cell_type": "markdown",
   "id": "8812e0b6-734e-4357-bd1a-e61e0e7ed0bc",
   "metadata": {
    "citation-manager": {
     "citations": {
      "42mvi": [
       {
        "id": "7765261/RZW74C9X",
        "source": "zotero"
       }
      ],
      "en9lq": [
       {
        "id": "7765261/VTA4UCWW",
        "source": "zotero"
       }
      ],
      "riaxh": [
       {
        "id": "7765261/RZW74C9X",
        "source": "zotero"
       }
      ]
     }
    },
    "tags": []
   },
   "source": [
    "> As expected, it was observed that the service is extensively used for commuting to work-related activities. Regular users compose a large part of the BSS community making use of the service mostly during weekdays. In addition, it was noted that only 'strong' meteorological conditions can impact the use of the service. <cite id=\"en9lq\">(Toro et al., 2020)</cite>\n",
    "\n",
    "> The BikeMi PSBS started in November 2008 and was the first privately managed bike shared\n",
    "system introduced in Italy.   BikeMi today has 320 stations distributed in the key points of the city and 5430 bicycles (4280 classic bicycles 1000 e-bikes and 150 pedal-assisted bicycles with child seat) (bikemi website)\n",
    "\n",
    "> We chose the “Bastioni” area since it corresponds to the traffic restricted zone introduced in\n",
    "Milan since January 2008. <cite id=\"42mvi\">(Saibene &#38; Manzi, 2015)</cite>\n",
    "\n",
    "> Predicting variables chosen to explain the counts variability are: (i) the presence of a railway\n",
    "station in the vicinity (1 if present, 0 otherwise); (ii) the number of underground lines; (iii) the\n",
    "number of bus lines; (iv) the number of tram lines; (v) the distance in Km from Duomo\n",
    "square; (vi) the suburb location (1=Northern area; 0=Southern area). <cite id=\"riaxh\">(Saibene &#38; Manzi, 2015)</cite>"
   ]
  },
  {
   "cell_type": "markdown",
   "id": "330f3d19-f165-4eae-9da5-41617445847e",
   "metadata": {},
   "source": [
    "## Metriche "
   ]
  },
  {
   "cell_type": "markdown",
   "id": "79620b2b-cd83-45b5-b71d-3a7cd9b9e9d7",
   "metadata": {},
   "source": [
    "Caggiani: MSE"
   ]
  }
 ],
 "metadata": {
  "citation-manager": {
   "items": {
    "zotero": {
     "7765261/4S3SWW9Q": {
      "URL": "https://www.istat.it/it/archivio/257621",
      "abstract": "Rispetto al 2011 aumentano gli spostamenti quotidiani, soprattutto quelli fuori dal comune",
      "accessed": {
       "date-parts": [
        [
         2021,
         10,
         10
        ]
       ]
      },
      "id": "7765261/4S3SWW9Q",
      "issued": {
       "date-parts": [
        [
         2021,
         5,
         13
        ]
       ]
      },
      "language": "it",
      "title": "Gli spostamenti per motivi di studio o lavoro nel 2019 secondo il Censimento permanente della popolazione",
      "type": "webpage"
     },
     "7765261/4US9Q7KQ": {
      "URL": "https://www.eea.europa.eu//publications/european-union-greenhouse-gas-inventory-2020",
      "abstract": "Submission under the United Nations Framework Convention on Climate Change and the Kyoto Protocol",
      "accessed": {
       "date-parts": [
        [
         2021,
         10,
         17
        ]
       ]
      },
      "genre": "Publication",
      "id": "7765261/4US9Q7KQ",
      "issued": {
       "date-parts": [
        [
         2020,
         5,
         28
        ]
       ]
      },
      "language": "en",
      "title": "Annual European Union greenhouse gas inventory 1990–2018 and inventory report 2020 — European Environment Agency",
      "type": "webpage"
     },
     "7765261/5BMQM3AD": {
      "DOI": "10.1016/j.trc.2018.01.001",
      "URL": "https://www.sciencedirect.com/science/article/pii/S0968090X18300020",
      "abstract": "Given the growing importance of bike-sharing systems nowadays, in this paper we suggest an alternative approach to mitigate the most crucial problem related to them: the imbalance of bicycles between zones owing to one-way trips. In particular, we focus on the emerging free-floating systems, where bikes can be delivered or picked-up almost everywhere in the network and not just at dedicated docking stations. We propose a new comprehensive dynamic bike redistribution methodology that starts from the prediction of the number and position of bikes over a system operating area and ends with a relocation Decision Support System. The relocation process is activated at constant gap times in order to carry out dynamic bike redistribution, mainly aimed at achieving a high degree of user satisfaction and keeping the vehicle repositioning costs as low as possible. An application to a test case study, together with a detailed sensitivity analysis, shows the effectiveness of the suggested novel methodology for the real-time management of the free-floating bike-sharing systems.",
      "accessed": {
       "date-parts": [
        [
         2021,
         10,
         9
        ]
       ]
      },
      "author": [
       {
        "family": "Caggiani",
        "given": "Leonardo"
       },
       {
        "family": "Camporeale",
        "given": "Rosalia"
       },
       {
        "family": "Ottomanelli",
        "given": "Michele"
       },
       {
        "family": "Szeto",
        "given": "Wai Yuen"
       }
      ],
      "container-title": "Transportation Research Part C: Emerging Technologies",
      "id": "7765261/5BMQM3AD",
      "issued": {
       "date-parts": [
        [
         "2018",
         2,
         1
        ]
       ]
      },
      "journalAbbreviation": "Transportation Research Part C: Emerging Technologies",
      "language": "en",
      "page": "159-182",
      "title": "A modeling framework for the dynamic management of free-floating bike-sharing systems",
      "type": "article-journal",
      "volume": "87"
     },
     "7765261/6TJJ379L": {
      "DOI": "10.1289/EHP3754",
      "URL": "https://ehp.niehs.nih.gov/doi/full/10.1289/EHP3754",
      "accessed": {
       "date-parts": [
        [
         2021,
         10,
         17
        ]
       ]
      },
      "author": [
       {
        "family": "Schmidt",
        "given": "Charles"
       }
      ],
      "container-title": "Environmental Health Perspectives",
      "id": "7765261/6TJJ379L",
      "issue": "8",
      "issued": {
       "date-parts": [
        [
         2018,
         8,
         31
        ]
       ]
      },
      "page": "082001",
      "shortTitle": "Active Travel for All?",
      "title": "Active Travel for All? The Surge in Public Bike-Sharing Programs",
      "type": "article-journal",
      "volume": "126"
     },
     "7765261/92X93RNR": {
      "DOI": "10.1007/s12027-021-00656-8",
      "URL": "https://doi.org/10.1007/s12027-021-00656-8",
      "abstract": "States all over the world have quickly amended legislation in order to help businesses conduct their activities remotely and online. In this article, we will see examples of existing rules concerning annual general meetings being better implemented (in Italy), of legislation being amended with temporary rules (in Germany) and of political momentum being used to bring about fundamental changes (in Estonia).This article provides a brief overview of how changes have been made in order to allow virtual annual general meetings in different countries and what kind of changes were made, and also provides a somewhat deeper look at Estonia’s new legislation concerning remote notarial transactions, online annual meetings and digital infrastructure.",
      "accessed": {
       "date-parts": [
        [
         2021,
         10,
         14
        ]
       ]
      },
      "author": [
       {
        "family": "Härmand",
        "given": "Kai"
       }
      ],
      "container-title": "ERA Forum",
      "id": "7765261/92X93RNR",
      "issue": "1",
      "issued": {
       "date-parts": [
        [
         2021,
         4,
         1
        ]
       ]
      },
      "journalAbbreviation": "ERA Forum",
      "language": "en",
      "page": "39-50",
      "title": "Digitalisation before and after the Covid-19 crisis",
      "type": "article-journal",
      "volume": "22"
     },
     "7765261/9IRMHVZB": {
      "URL": "https://techcrunch.com/2017/09/08/airbnb-urges-housing-reform-in-berlin-after-court-overturns-permit-rejection/",
      "accessed": {
       "date-parts": [
        [
         2021,
         10,
         9
        ]
       ]
      },
      "container-title": "Tech Crunch",
      "id": "7765261/9IRMHVZB",
      "issued": {
       "date-parts": [
        [
         2017,
         9,
         8
        ]
       ]
      },
      "title": "Airbnb urges housing reform in Berlin after court overturns permit rejection",
      "type": "article-newspaper"
     },
     "7765261/AHAU5WIN": {
      "DOI": "10.1016/j.trd.2021.102708",
      "URL": "https://www.sciencedirect.com/science/article/pii/S1361920921000146",
      "abstract": "Micromobility vehicles, and especially free-floating electric scooters (FFES), have been thriving over the past couple of years, Paris being the most important market worldwide. In this paper, we first define micromobility. Then, we present the design and results of an extensive face-to-face road survey among e-scooter (ES) users in Paris (N = 459, F(men) = 68%). Results indicate that ES users rarely own their proper microvehicle, are mostly men, aged 18–29, and have a high educational level. They are not less motorized than the general population and use ES occasionally. Their main motivation is travel time savings followed by playfulness and money savings. However, users seeking money savings are not frequent riders. They shifted mainly from walking and public transportation (72%) and few have increased their total mobility by making new trips (6%). Findings can be useful to researchers, policy makers, and FFES operators especially in the context of COVID pandemics.",
      "accessed": {
       "date-parts": [
        [
         2021,
         10,
         9
        ]
       ]
      },
      "author": [
       {
        "family": "Christoforou",
        "given": "Zoi"
       },
       {
        "family": "de Bortoli",
        "given": "Anne"
       },
       {
        "family": "Gioldasis",
        "given": "Christos"
       },
       {
        "family": "Seidowsky",
        "given": "Regine"
       }
      ],
      "container-title": "Transportation Research Part D: Transport and Environment",
      "id": "7765261/AHAU5WIN",
      "issued": {
       "date-parts": [
        [
         "2021",
         3,
         1
        ]
       ]
      },
      "journalAbbreviation": "Transportation Research Part D: Transport and Environment",
      "language": "en",
      "page": "102708",
      "shortTitle": "Who is using e-scooters and how?",
      "title": "Who is using e-scooters and how? Evidence from Paris",
      "type": "article-journal",
      "volume": "92"
     },
     "7765261/BUI6HN97": {
      "URL": "http://www.ilpost.it/2020/12/10/airbnb-quotazione-azioni/",
      "abstract": "Airbnb, l'azienda americana che gestisce la popolare piattaforma per gli affitti a breve termine di stanze e appartamenti privati, si è quotata alla borsa",
      "accessed": {
       "date-parts": [
        [
         2021,
         10,
         9
        ]
       ]
      },
      "container-title": "Il Post",
      "id": "7765261/BUI6HN97",
      "issued": {
       "date-parts": [
        [
         2020,
         12,
         10
        ]
       ]
      },
      "language": "it-IT",
      "title": "La quotazione in borsa di Airbnb è stata un successo",
      "type": "article-newspaper"
     },
     "7765261/DEQECBA8": {
      "URL": "https://sdgs.un.org/goals",
      "accessed": {
       "date-parts": [
        [
         2021,
         10,
         10
        ]
       ]
      },
      "id": "7765261/DEQECBA8",
      "title": "The 17 Goals",
      "type": "webpage"
     },
     "7765261/DNETG943": {
      "DOI": "10.1080/01441647.2015.1033036",
      "URL": "https://doi.org/10.1080/01441647.2015.1033036",
      "abstract": "The number of cities offering bikeshare has increased rapidly, from just a handful in the late 1990s to over 800 currently. This paper provides a review of recent bikeshare literature. Several themes have begun to emerge from studies examining bikeshare. Convenience is the major motivator for bikeshare use. Financial savings has been found to motivate those on a low income and the distance one lives from a docking station is an important predictor for bikeshare membership. In a range of countries, it has been found that just under 50% of bikeshare members use the system less than once a month. Men use bikeshare more than women, but the imbalance is not as dramatic as private bike riding (at least in low cycling countries). Commuting is the most common trip purpose for annual members. Users are less likely than private cyclists to wear helmets, but in countries with mandatory helmet legislation, usage levels have suffered. Bikeshare users appear less likely to be injured than private bike riders. Future directions include integration with e-bikes, GPS (global positioning system), dockless systems and improved public transport integration. Greater research is required to quantify the impacts of bikeshare, in terms of mode choice, emissions, congestion and health.",
      "accessed": {
       "date-parts": [
        [
         2021,
         10,
         9
        ]
       ]
      },
      "author": [
       {
        "family": "Fishman",
        "given": "Elliot"
       }
      ],
      "container-title": "Transport Reviews",
      "id": "7765261/DNETG943",
      "issue": "1",
      "issued": {
       "date-parts": [
        [
         "2016",
         1,
         2
        ]
       ]
      },
      "note": "Publisher: Routledge\n_eprint: https://doi.org/10.1080/01441647.2015.1033036",
      "page": "92-113",
      "shortTitle": "Bikeshare",
      "title": "Bikeshare: A Review of Recent Literature",
      "type": "article-journal",
      "volume": "36"
     },
     "7765261/EIMDTC6Q": {
      "URL": "http://www.ilpost.it/2017/04/09/scali-ferroviari-milano/",
      "abstract": "La città sta negoziando un accordo per riqualificare una zona enorme ai confini del centro: quella attualmente occupata dagli antichi scali ferroviari",
      "accessed": {
       "date-parts": [
        [
         2021,
         10,
         17
        ]
       ]
      },
      "container-title": "Il Post",
      "id": "7765261/EIMDTC6Q",
      "issued": {
       "date-parts": [
        [
         2017,
         4,
         9
        ]
       ]
      },
      "language": "it-IT",
      "title": "Milano ha un'occasione storica",
      "type": "webpage"
     },
     "7765261/EPW29CK5": {
      "URL": "http://www.ilpost.it/2020/09/23/airbnb-affitti-brevi-sentenza-corte-giustizia-europea/",
      "abstract": "Una decisione della Corte di Giustizia dell'Unione Europea su un caso a Parigi potrebbe cambiare le regole sul tema anche in altre città",
      "accessed": {
       "date-parts": [
        [
         2021,
         10,
         9
        ]
       ]
      },
      "container-title": "Il Post",
      "id": "7765261/EPW29CK5",
      "issued": {
       "date-parts": [
        [
         2020,
         9,
         23
        ]
       ]
      },
      "language": "it-IT",
      "title": "La nuova sentenza europea sugli affitti brevi",
      "type": "article-newspaper"
     },
     "7765261/F7WYHN86": {
      "DOI": "10.1108/IntR-11-2017-0441",
      "URL": "https://doi.org/10.1108/IntR-11-2017-0441",
      "abstract": "Purpose The purpose of this paper is to develop a categorization of sharing practices from a structured interdisciplinary literature review on the Sharing Economy. Instead of striving for a new definition, the authors distinguish nine types of sharing practices and provide an overview of prior investigations on sharing practices across three levels of analysis and 15 research areas. The structured analysis is translated into opportunities for future research on the Sharing Economy. Design/methodology/approach The study follows a structured literature review approach to uncover practices related to the Sharing Economy and similar phenomena. The authors analyze 210 articles from a broad number of disciplines, and develop a categorizing framework for Sharing Economy practices. Findings The paper identifies nine different types of sharing practices and provides a structured way for analyzing, comparing and positioning research on the Sharing Economy and related phenomena. Research limitations/implications The categorization of sharing practices and the embedded interdisciplinary overview of studies on the Sharing Economy help to explain potentially contradictory research results and uncovers opportunities for future research in the topic area. Originality/value Given the variety of disciplines dealing with the Sharing Economy and the plenitude of definitions and related concepts, the categorization and research overview provides a consolidated view of the knowledge in the topic area and an effective tool for identifying paths for future research.",
      "accessed": {
       "date-parts": [
        [
         2021,
         10,
         9
        ]
       ]
      },
      "author": [
       {
        "family": "Trenz",
        "given": "Manuel"
       },
       {
        "family": "Frey",
        "given": "Alexander"
       },
       {
        "family": "Veit",
        "given": "Daniel"
       }
      ],
      "container-title": "Internet Research",
      "id": "7765261/F7WYHN86",
      "issue": "4",
      "issued": {
       "date-parts": [
        [
         2018,
         1,
         1
        ]
       ]
      },
      "note": "Publisher: Emerald Publishing Limited",
      "page": "888-925",
      "shortTitle": "Disentangling the facets of sharing",
      "title": "Disentangling the facets of sharing: A categorization of what we know and don’t know about the Sharing Economy",
      "type": "article-journal",
      "volume": "28"
     },
     "7765261/FGMR4BME": {
      "DOI": "10.1016/j.trc.2017.03.016",
      "URL": "https://www.sciencedirect.com/science/article/pii/S0968090X17300992",
      "abstract": "Free-floating bike sharing (FFBS) is an innovative bike sharing model. FFBS saves on start-up cost, in comparison to station-based bike sharing (SBBS), by avoiding construction of expensive docking stations and kiosk machines. FFBS prevents bike theft and offers significant opportunities for smart management by tracking bikes in real-time with built-in GPS. However, like SBBS, the success of FFBS depends on the efficiency of its rebalancing operations to serve the maximal demand as possible. Bicycle rebalancing refers to the reestablishment of the number of bikes at sites to desired quantities by using a fleet of vehicles transporting the bicycles. Static rebalancing for SBBS is a challenging combinatorial optimization problem. FFBS takes it a step further, with an increase in the scale of the problem. This article is the first effort in a series of studies of FFBS planning and management, tackling static rebalancing with single and multiple vehicles. We present a Novel Mixed Integer Linear Program for solving the Static Complete Rebalancing Problem. The proposed formulation, can not only handle single as well as multiple vehicles, but also allows for multiple visits to a node by the same vehicle. We present a hybrid nested large neighborhood search with variable neighborhood descent algorithm, which is both effective and efficient in solving static complete rebalancing problems for large-scale bike sharing programs. Computational experiments were carried out on the 1 Commodity Pickup and Delivery Traveling Salesman Problem (1-PDTSP) instances used previously in the literature and on three new sets of instances, two (one real-life and one general) based on Share-A-Bull Bikes (SABB) FFBS program recently launched at the Tampa campus of University of South Florida and the other based on Divvy SBBS in Chicago. Computational experiments on the 1-PDTSP instances demonstrate that the proposed algorithm outperforms a tabu search algorithm and is highly competitive with exact algorithms previously reported in the literature for solving static rebalancing problems in SBSS. Computational experiments on the SABB and Divvy instances, demonstrate that the proposed algorithm is able to deal with the increase in scale of the static rebalancing problem pertaining to both FFBS and SBBS, while deriving high-quality solutions in a reasonable amount of CPU time.",
      "accessed": {
       "date-parts": [
        [
         2021,
         10,
         20
        ]
       ]
      },
      "author": [
       {
        "family": "Pal",
        "given": "Aritra"
       },
       {
        "family": "Zhang",
        "given": "Yu"
       }
      ],
      "container-title": "Transportation Research Part C: Emerging Technologies",
      "id": "7765261/FGMR4BME",
      "issued": {
       "date-parts": [
        [
         "2017",
         7,
         1
        ]
       ]
      },
      "journalAbbreviation": "Transportation Research Part C: Emerging Technologies",
      "language": "en",
      "page": "92-116",
      "shortTitle": "Free-floating bike sharing",
      "title": "Free-floating bike sharing: Solving real-life large-scale static rebalancing problems",
      "type": "article-journal",
      "volume": "80"
     },
     "7765261/FIMQIYXE": {
      "URL": "http://www.ilpost.it/2021/04/27/pnrr-cosa-ce-dentro/",
      "abstract": "Dagli asili nido all'alta velocità, passando per la raccolta differenziata: cosa c'è nel piano che spiega come saranno spesi i soldi del Recovery Fund",
      "accessed": {
       "date-parts": [
        [
         2021,
         10,
         10
        ]
       ]
      },
      "container-title": "Il Post",
      "id": "7765261/FIMQIYXE",
      "issued": {
       "date-parts": [
        [
         2021,
         4,
         27
        ]
       ]
      },
      "language": "it-IT",
      "title": "Un po' di cose notevoli dentro il PNRR",
      "type": "webpage"
     },
     "7765261/FIPJ84KM": {
      "DOI": "10.1007/s10109-011-0149-5",
      "URL": "https://doi.org/10.1007/s10109-011-0149-5",
      "abstract": "Modelling autocorrelation structure among space–time observations is crucial in space–time modelling and forecasting. The aim of this research is to examine the spatio-temporal autocorrelation structure of road networks in order to determine likely requirements for building a suitable space–time forecasting model. Exploratory space–time autocorrelation analysis is carried out using journey time data collected on London’s road network. Through the use of both global and local autocorrelation measures, the autocorrelation structure of the road network is found to be dynamic and heterogeneous in both space and time. It reveals that a global measure of autocorrelation is not sufficient to explain the network structure. Dynamic and local structures must be accounted for space–time modelling and forecasting. This has broad implications for space–time modelling and network complexity.",
      "accessed": {
       "date-parts": [
        [
         2021,
         10,
         9
        ]
       ]
      },
      "author": [
       {
        "family": "Cheng",
        "given": "Tao"
       },
       {
        "family": "Haworth",
        "given": "James"
       },
       {
        "family": "Wang",
        "given": "Jiaqiu"
       }
      ],
      "container-title": "Journal of Geographical Systems",
      "id": "7765261/FIPJ84KM",
      "issue": "4",
      "issued": {
       "date-parts": [
        [
         2012,
         10,
         1
        ]
       ]
      },
      "journalAbbreviation": "J Geogr Syst",
      "language": "en",
      "page": "389-413",
      "title": "Spatio-temporal autocorrelation of road network data",
      "type": "article-journal",
      "volume": "14"
     },
     "7765261/FTM4CYUT": {
      "DOI": "10.1016/j.aei.2021.101365",
      "URL": "https://www.sciencedirect.com/science/article/pii/S147403462100118X",
      "abstract": "After the rapid expansion in the early stage, many enterprises have closed down or withdrawn from the Free-floating bike sharing (FFBS) market, the remaining few giants are also generally at a loss at present. One main reason causing these is the serious FFBS imbalance between supply and demand. As there is no fixed docking station, the individual-based identification method such as trip-chain, which is used for identifying travel demand and behaviour in traditional station-based bike sharing (SBBS) cannot be used in FFBS. Therefore, the lack of methods to obtain in-depth demand makes it unable to achieve reasonable rebalancing. This study constructs an individual-based spatio-temporal travel demand mining methodology, which is the first disaggregate travel demand mining model that suitable for FFBS. The proposed methodology consists of three steps. A spatio-temporal trajectory clustering algorithm is first developed to obtain an individual’s frequent trajectory clusters, and then a sequential pattern mining algorithm is applied to users who have multiple spatio-temporal trajectory clusters to extract travel patterns and trajectory sequential relations in patterns. A point clustering method is used finally to identify spatial relationships among different trajectory clusters. Besides, a zone aggregating method is proposed that aggregated granularity could be flexible adjusted for zone demand imbalance analysis. Based on these, how to utilize identified frequent pattern trajectories to improve rebalancing is studied. The proposed methodology is applied to Beijing Mobike dataset, six frequent travel patterns are mined out and analyzed in detail. On this basis, imbalance and rebalancing analysis are carried out with the case study at last. Consequently, this research contributes a powerful tool to achieve accurate FFBS demand analysis and rebalancing.",
      "accessed": {
       "date-parts": [
        [
         2021,
         10,
         20
        ]
       ]
      },
      "author": [
       {
        "family": "Tian",
        "given": "Yuan"
       },
       {
        "family": "Zhang",
        "given": "Xinming"
       },
       {
        "family": "Yang",
        "given": "Binyu"
       },
       {
        "family": "Wang",
        "given": "Jian"
       },
       {
        "family": "An",
        "given": "Shi"
       }
      ],
      "container-title": "Advanced Engineering Informatics",
      "id": "7765261/FTM4CYUT",
      "issued": {
       "date-parts": [
        [
         "2021",
         10,
         1
        ]
       ]
      },
      "journalAbbreviation": "Advanced Engineering Informatics",
      "language": "en",
      "page": "101365",
      "title": "An individual-based spatio-temporal travel demand mining method and its application in improving rebalancing for free-floating bike-sharing system",
      "type": "article-journal",
      "volume": "50"
     },
     "7765261/G3F5S8ZS": {
      "URL": "http://www.ilpost.it/2021/04/21/citta-europee-affitti-breve-termine/",
      "abstract": "Come quelli offerti da Airbnb: diverse amministrazioni locali stanno provando a introdurre nuovi limiti, anche in Italia",
      "accessed": {
       "date-parts": [
        [
         2021,
         10,
         9
        ]
       ]
      },
      "container-title": "Il Post",
      "id": "7765261/G3F5S8ZS",
      "issued": {
       "date-parts": [
        [
         2021,
         4,
         21
        ]
       ]
      },
      "language": "it-IT",
      "title": "Le città europee contro gli affitti brevi",
      "type": "article-newspaper"
     },
     "7765261/GESPKNH7": {
      "URL": "https://www.ilpost.it/2021/09/28/qualita-aria-inquinanti-oms/",
      "accessed": {
       "date-parts": [
        [
         2021,
         10,
         10
        ]
       ]
      },
      "container-title": "Il Post",
      "id": "7765261/GESPKNH7",
      "issued": {
       "date-parts": [
        [
         2021,
         9,
         28
        ]
       ]
      },
      "title": "Che aria respiriamo",
      "type": "article-newspaper"
     },
     "7765261/GVEPNMR5": {
      "URL": "http://www.ilpost.it/2019/05/11/uber-azioni/",
      "abstract": "Nel primo giorno di quotazione a Wall Street, le azioni di Uber hanno perso il 7,6 per cento. Uber – la società di mobilità conosciuta soprattutto per il",
      "accessed": {
       "date-parts": [
        [
         2021,
         10,
         9
        ]
       ]
      },
      "container-title": "Il Post",
      "id": "7765261/GVEPNMR5",
      "issued": {
       "date-parts": [
        [
         2019,
         5,
         11
        ]
       ]
      },
      "language": "it-IT",
      "title": "Nel primo giorno di quotazione in borsa, le azioni di Uber hanno perso il 7,6 per cento",
      "type": "article-newspaper"
     },
     "7765261/H4RXQQ8R": {
      "URL": "https://www.bloomberg.com/features/2017-uber-airbnb-99-billion-idea/",
      "abstract": "The companies fought city hall, won over the people, outlasted rivals, and figured out the sharing economy.",
      "accessed": {
       "date-parts": [
        [
         2021,
         10,
         9
        ]
       ]
      },
      "author": [
       {
        "family": "Stone",
        "given": "Brad"
       }
      ],
      "container-title": "Bloomberg.com",
      "id": "7765261/H4RXQQ8R",
      "issued": {
       "date-parts": [
        [
         2017,
         1,
         19
        ]
       ]
      },
      "language": "en",
      "shortTitle": "The $99 Billion Idea",
      "title": "The $99 Billion Idea: How Uber and Airbnb Won",
      "type": "article-newspaper"
     },
     "7765261/I9Z56NKK": {
      "DOI": "10.1016/j.erss.2020.101683",
      "URL": "https://www.sciencedirect.com/science/article/pii/S2214629620302589",
      "abstract": "As of March 13, 2020, the director general of the World Health Organization (WHO) considered Europe as the centre of the global COVID-19 outbreak. All countries within Europe had a confirmed case of COVID-19 by March 17. In response to the pandemic, different European countries took different approaches. This paper compares the impact of different containment measures taken by European countries in response to COVID-19 on their electricity consumption profiles. The comparisons are made for Spain, Italy, Belgium and the UK as countries with severe restrictions, and for the Netherlands and Sweden as countries with less restrictive measures. The results show that the consumption profiles reflect the difference in peoples’ activities in different countries using various measures.",
      "accessed": {
       "date-parts": [
        [
         2021,
         10,
         17
        ]
       ]
      },
      "author": [
       {
        "family": "Bahmanyar",
        "given": "Alireza"
       },
       {
        "family": "Estebsari",
        "given": "Abouzar"
       },
       {
        "family": "Ernst",
        "given": "Damien"
       }
      ],
      "container-title": "Energy Research & Social Science",
      "id": "7765261/I9Z56NKK",
      "issued": {
       "date-parts": [
        [
         "2020",
         10,
         1
        ]
       ]
      },
      "journalAbbreviation": "Energy Research & Social Science",
      "language": "en",
      "page": "101683",
      "title": "The impact of different COVID-19 containment measures on electricity consumption in Europe",
      "type": "article-journal",
      "volume": "68"
     },
     "7765261/IDH58MVU": {
      "DOI": "10.1016/j.trc.2016.07.009",
      "URL": "https://www.sciencedirect.com/science/article/pii/S0968090X16301176",
      "abstract": "The potential of smart-card transactions within bike-sharing systems (BSS) is still to be explored. This research proposes an original offline data mining procedure that takes advantage of the quality of these data to analyze the bike usage casuistry within a sharing scheme. A difference is made between usage and travel behavior: the usage is described by the actual trip-chaining gathered with every smart-card transaction and is directly influenced by the limitations of the BSS as a public renting service, while the travel behavior relates to the spatio-temporal distribution, the travel time and trip purpose. The proposed approach is based on the hypothesis that there are systematic usage types which can be described through a set of conditions that permit to classify the rentals and reduce the heterogeneity in travel patterns. Hence, the proposed algorithm is a powerful tool to characterize the actual demand for bike-sharing systems. Furthermore, the results show that its potential goes well beyond that since service deficiencies rapidly arise and their impacts can be measured in terms of demand. Consequently, this research contributes to the state of knowledge on cycling behavior within public systems and it is also a key instrument beneficial to both decision makers and operators assisting the demand analysis, the service redesign and its optimization.",
      "accessed": {
       "date-parts": [
        [
         2021,
         10,
         17
        ]
       ]
      },
      "author": [
       {
        "family": "Bordagaray",
        "given": "Maria"
       },
       {
        "family": "dell’Olio",
        "given": "Luigi"
       },
       {
        "family": "Fonzone",
        "given": "Achille"
       },
       {
        "family": "Ibeas",
        "given": "Ángel"
       }
      ],
      "container-title": "Transportation Research Part C: Emerging Technologies",
      "id": "7765261/IDH58MVU",
      "issued": {
       "date-parts": [
        [
         "2016",
         10,
         1
        ]
       ]
      },
      "journalAbbreviation": "Transportation Research Part C: Emerging Technologies",
      "language": "en",
      "page": "231-248",
      "title": "Capturing the conditions that introduce systematic variation in bike-sharing travel behavior using data mining techniques",
      "type": "article-journal",
      "volume": "71"
     },
     "7765261/J2DVJ8ZK": {
      "DOI": "10.1007/s13676-014-0053-5",
      "URL": "https://www.sciencedirect.com/science/article/pii/S2192437620300959",
      "abstract": "Bike-sharing systems are becoming important for urban transportation. In these systems, users arrive at a station, pick up a bike, use it for a while, and then return it to another station of their choice. Each station has a finite capacity: it cannot host more bikes than its capacity. We propose a stochastic model of an homogeneous bike-sharing system and study the effect of the randomness of user choices on the number of problematic stations, i.e., stations that, at a given time, have no bikes available or no available spots for bikes to be returned to. We quantify the influence of the station capacities, and we compute the fleet size that is optimal in terms of minimizing the proportion of problematic stations. Even in a homogeneous city, the system exhibits a poor performance: the minimal proportion of problematic stations is of the order of the inverse of the capacity. We show that simple incentives, such as suggesting users to return to the least loaded station among two stations, improve the situation by an exponential factor. We also compute the rate at which bikes have to be redistributed by trucks for a given quality of service. This rate is of the order of the inverse of the station capacity. For all cases considered, the fleet size that corresponds to the best performance is half of the total number of spots plus a few more, the value of the few more can be computed in closed-form as a function of the system parameters. It corresponds to the average number of bikes in circulation.",
      "accessed": {
       "date-parts": [
        [
         2021,
         10,
         17
        ]
       ]
      },
      "author": [
       {
        "family": "Fricker",
        "given": "Christine"
       },
       {
        "family": "Gast",
        "given": "Nicolas"
       }
      ],
      "container-title": "EURO Journal on Transportation and Logistics",
      "id": "7765261/J2DVJ8ZK",
      "issue": "3",
      "issued": {
       "date-parts": [
        [
         "2016",
         8,
         1
        ]
       ]
      },
      "journalAbbreviation": "EURO Journal on Transportation and Logistics",
      "language": "en",
      "page": "261-291",
      "title": "Incentives and redistribution in homogeneous bike-sharing systems with stations of finite capacity",
      "type": "article-journal",
      "volume": "5"
     },
     "7765261/J38UF9CZ": {
      "URL": "https://www.istat.it/it/archivio/224469",
      "abstract": "Nel 2017 si stima che circa 30 milioni di persone si spostino ogni giorno per studio o lavoro",
      "accessed": {
       "date-parts": [
        [
         2021,
         10,
         10
        ]
       ]
      },
      "id": "7765261/J38UF9CZ",
      "issued": {
       "date-parts": [
        [
         2019,
         2,
         4
        ]
       ]
      },
      "language": "it",
      "title": "Spostamenti quotidiani e nuove forme di mobilità",
      "type": "webpage"
     },
     "7765261/LFMZYHVY": {
      "URL": "https://bikesharingworldmap.com/#/all/2.2/0/48.23/",
      "accessed": {
       "date-parts": [
        [
         2021,
         10,
         10
        ]
       ]
      },
      "id": "7765261/LFMZYHVY",
      "issued": {
       "date-parts": [
        [
         2021
        ]
       ]
      },
      "title": "The Meddin Bike-sharing World Map",
      "type": "webpage"
     },
     "7765261/LFVYWU5J": {
      "URL": "https://www.eea.europa.eu/themes/air/urban-air-quality/european-city-air-quality-viewer",
      "abstract": "Policies to reduce air pollution have led to improved air quality in Europe over the last three decades. However, in some European cities air pollution still poses risks to health. \n\nYou can use the European city air viewer to check how the air quality was in your city over the past two years and to compare it with air quality in other cities across Europe.",
      "accessed": {
       "date-parts": [
        [
         2021,
         10,
         10
        ]
       ]
      },
      "genre": "Dashboard (Tableau)",
      "id": "7765261/LFVYWU5J",
      "issued": {
       "date-parts": [
        [
         2021,
         6,
         17
        ]
       ]
      },
      "language": "en",
      "title": "European city air quality viewer — European Environment Agency",
      "type": "webpage"
     },
     "7765261/LGNSP9HT": {
      "URL": "https://www.eea.europa.eu/themes/air/country-fact-sheets/2020-country-fact-sheets/italy",
      "abstract": "Air pollution country fact sheet 2020",
      "accessed": {
       "date-parts": [
        [
         2021,
         10,
         10
        ]
       ]
      },
      "genre": "Dashboard (Tableau)",
      "id": "7765261/LGNSP9HT",
      "issued": {
       "date-parts": [
        [
         2020,
         11,
         23
        ]
       ]
      },
      "language": "en",
      "title": "Italy - Air pollution country fact sheet — European Environment Agency",
      "type": "webpage"
     },
     "7765261/LUCYT8NP": {
      "DOI": "10.1016/j.trc.2018.07.013",
      "URL": "https://www.sciencedirect.com/science/article/pii/S0968090X18306764",
      "abstract": "The station-free sharing bike is a new sharing traffic mode that has been deployed in a large scale in China in the early 2017. Without docking stations, this system allows the sharing bike to be parked in any proper places. This study aimed to develop a dynamic demand forecasting model for station-free bike sharing using the deep learning approach. The spatial and temporal analyses were first conducted to investigate the mobility pattern of the station-free bike sharing. The result indicates the imbalanced spatial and temporal demand of bike sharing trips. The long short-term memory neural networks (LSTM NNs) were then developed to predict the bike sharing trip production and attraction at TAZ for different time intervals, including the 10-min, 15-min, 20-min and 30-min intervals. The validation results suggested that the developed LSTM NNs have reasonable good prediction accuracy in trip productions and attractions for different time intervals. The statistical models and recently developed machine learning methods were also developed to benchmark the LSTM NN. The comparison results suggested that the LSTM NNs provide better prediction accuracy than both conventional statistical models and advanced machine learning methods for different time intervals. The developed LSTM NNs can be used to predict the gap between the inflow and outflow of the sharing bike trips at a TAZ, which provide useful information for rebalancing the sharing bike in the system.",
      "accessed": {
       "date-parts": [
        [
         2021,
         10,
         20
        ]
       ]
      },
      "author": [
       {
        "family": "Xu",
        "given": "Chengcheng"
       },
       {
        "family": "Ji",
        "given": "Junyi"
       },
       {
        "family": "Liu",
        "given": "Pan"
       }
      ],
      "container-title": "Transportation Research Part C: Emerging Technologies",
      "id": "7765261/LUCYT8NP",
      "issued": {
       "date-parts": [
        [
         "2018",
         10,
         1
        ]
       ]
      },
      "journalAbbreviation": "Transportation Research Part C: Emerging Technologies",
      "language": "en",
      "page": "47-60",
      "title": "The station-free sharing bike demand forecasting with a deep learning approach and large-scale datasets",
      "type": "article-journal",
      "volume": "95"
     },
     "7765261/MVUBY4JD": {
      "DOI": "http://doi.org/10.5038/2375-0901.12.4.3",
      "URL": "https://digitalcommons.usf.edu/jpt/vol12/iss4/3",
      "author": [
       {
        "family": "DeMaio",
        "given": "Paul"
       }
      ],
      "container-title": "Journal of Public Transportation",
      "id": "7765261/MVUBY4JD",
      "issue": "4",
      "issued": {
       "date-parts": [
        [
         2009,
         12,
         1
        ]
       ]
      },
      "shortTitle": "Bike-sharing",
      "title": "Bike-sharing: History, Impacts, Models of Provision, and Future",
      "type": "article-journal",
      "volume": "12"
     },
     "7765261/N37UTVGB": {
      "URL": "https://dspace.mit.edu/handle/1721.1/128925",
      "abstract": "In bike sharing systems (BSSs), the uncoordinated movements of customers using bikes lead to empty or congested stations, which causes a significant loss in customer demand. In order to reduce the lost demand, a wide variety of existing research has employed a fixed set of historical demand patterns to design efficient bike repositioning solutions. However, the progress remains slow in understanding the underlying uncertainties in demand and designing proactive robust bike repositioning solutions. To bridge this gap, we propose a dynamic bike repositioning approach based on a probabilistic satisficing method which uses the uncertain demand parameters that are learnt from historical data. We develop a novel and computationally efficient mixed integer linear program for maximizing the probability of satisfying the uncertain demand so as to improve the overall customer satisfaction and efficiency of the system. Extensive experimental results from a simulation model built on a real-world bike sharing data set demonstrate that our approach is not only robust to uncertainties in customer demand, but also outperforms the existing state-of-the-art repositioning approaches in terms of reducing the expected lost demand.",
      "accessed": {
       "date-parts": [
        [
         2021,
         10,
         20
        ]
       ]
      },
      "author": [
       {
        "family": "Ghosh",
        "given": "Supriyo"
       },
       {
        "family": "Koh",
        "given": "Jing Yu"
       },
       {
        "family": "Jaillet",
        "given": "Patrick"
       }
      ],
      "container-title": "MIT web domain",
      "id": "7765261/N37UTVGB",
      "issued": {
       "date-parts": [
        [
         2019,
         8
        ]
       ]
      },
      "language": "en",
      "title": "Improving Customer Satisfaction in Bike Sharing Systems through Dynamic Repositioning",
      "type": "article-journal"
     },
     "7765261/NBY9XZBV": {
      "URL": "https://ec.europa.eu/environment/air/quality/standards.htm",
      "accessed": {
       "date-parts": [
        [
         2021,
         10,
         10
        ]
       ]
      },
      "id": "7765261/NBY9XZBV",
      "title": "Standards - Air Quality - Environment - European Commission",
      "type": "webpage"
     },
     "7765261/PCUNSAVD": {
      "DOI": "10.1016/j.scitotenv.2020.140556",
      "URL": "https://www.sciencedirect.com/science/article/pii/S004896972034078X",
      "abstract": "A series of strict lockdown measures were implemented in the areas of China worst affected by coronavirus disease 19, including Wuhan, to prevent the disease spreading. The lockdown had a substantial environmental impact, because traffic pollution and industrial emissions are important factors affecting air quality and public health in the region. After the lockdown, the average monthly air quality index (AQI) in Wuhan was 59.7, which is 33.9% lower than that before the lockdown (January 23, 2020) and 47.5% lower than that during the corresponding period (113.6) from 2015 to 2019. Compared with the conditions before the lockdown, fine particulate matter (PM2.5) decreased by 36.9% and remained the main pollutant. Nitrogen dioxide (NO2) showed the largest decrease of approximately 53.3%, and ozone (O3) increased by 116.6%. The proportions of fixed-source emissions and transported external-source emissions in this area increased. After the lockdown, O3 pollution was highly negatively correlated with the NO2 concentration, and the radiation increase caused by the PM2.5 reduction was not the main reason for the increase in O3. This indicates that the generation of secondary pollutants is influenced by multiple factors and is not only governed by emission reduction.",
      "accessed": {
       "date-parts": [
        [
         2021,
         10,
         17
        ]
       ]
      },
      "author": [
       {
        "family": "Lian",
        "given": "Xinbo"
       },
       {
        "family": "Huang",
        "given": "Jianping"
       },
       {
        "family": "Huang",
        "given": "Rujin"
       },
       {
        "family": "Liu",
        "given": "Chuwei"
       },
       {
        "family": "Wang",
        "given": "Lina"
       },
       {
        "family": "Zhang",
        "given": "Tinghan"
       }
      ],
      "container-title": "Science of The Total Environment",
      "id": "7765261/PCUNSAVD",
      "issued": {
       "date-parts": [
        [
         "2020",
         11,
         10
        ]
       ]
      },
      "journalAbbreviation": "Science of The Total Environment",
      "language": "en",
      "page": "140556",
      "title": "Impact of city lockdown on the air quality of COVID-19-hit of Wuhan city",
      "type": "article-journal",
      "volume": "742"
     },
     "7765261/Q8QH45IB": {
      "URL": "http://www.ilpost.it/2018/06/30/cina-wechat/",
      "abstract": "Ma c'è chi ci prova, nonostante la piattaforma a metà tra un'app di messaggistica e un social network sia entrata in ogni aspetto della vita quotidiana",
      "accessed": {
       "date-parts": [
        [
         2021,
         10,
         9
        ]
       ]
      },
      "container-title": "Il Post",
      "id": "7765261/Q8QH45IB",
      "issued": {
       "date-parts": [
        [
         2018,
         6,
         30
        ]
       ]
      },
      "language": "it-IT",
      "title": "In Cina vivere senza WeChat è complicato",
      "type": "article-newspaper"
     },
     "7765261/RNCXQEAG": {
      "DOI": "10.1016/j.trc.2017.10.016",
      "URL": "https://www.sciencedirect.com/science/article/pii/S0968090X17302899",
      "abstract": "Short-term passenger demand forecasting is of great importance to the on-demand ride service platform, which can incentivize vacant cars moving from over-supply regions to over-demand regions. The spatial dependencies, temporal dependencies, and exogenous dependencies need to be considered simultaneously, however, which makes short-term passenger demand forecasting challenging. We propose a novel deep learning (DL) approach, named the fusion convolutional long short-term memory network (FCL-Net), to address these three dependencies within one end-to-end learning architecture. The model is stacked and fused by multiple convolutional long short-term memory (LSTM) layers, standard LSTM layers, and convolutional layers. The fusion of convolutional techniques and the LSTM network enables the proposed DL approach to better capture the spatio-temporal characteristics and correlations of explanatory variables. A tailored spatially aggregated random forest is employed to rank the importance of the explanatory variables. The ranking is then used for feature selection. The proposed DL approach is applied to the short-term forecasting of passenger demand under an on-demand ride service platform in Hangzhou, China. The experimental results, validated on the real-world data provided by DiDi Chuxing, show that the FCL-Net achieves the better predictive performance than traditional approaches including both classical time-series prediction models and state-of-art machine learning algorithms (e.g., artificial neural network, XGBoost, LSTM and CNN). Furthermore, the consideration of exogenous variables in addition to the passenger demand itself, such as the travel time rate, time-of-day, day-of-week, and weather conditions, is proven to be promising, since they reduce the root mean squared error (RMSE) by 48.3%. It is also interesting to find that the feature selection reduces 24.4% in the training time and leads to only the 1.8% loss in the forecasting accuracy measured by RMSE in the proposed model. This paper is one of the first DL studies to forecast the short-term passenger demand of an on-demand ride service platform by examining the spatio-temporal correlations.",
      "accessed": {
       "date-parts": [
        [
         2021,
         10,
         20
        ]
       ]
      },
      "author": [
       {
        "family": "Ke",
        "given": "Jintao"
       },
       {
        "family": "Zheng",
        "given": "Hongyu"
       },
       {
        "family": "Yang",
        "given": "Hai"
       },
       {
        "family": "Chen",
        "given": "Xiqun (Michael)"
       }
      ],
      "container-title": "Transportation Research Part C: Emerging Technologies",
      "id": "7765261/RNCXQEAG",
      "issued": {
       "date-parts": [
        [
         "2017",
         12,
         1
        ]
       ]
      },
      "journalAbbreviation": "Transportation Research Part C: Emerging Technologies",
      "language": "en",
      "page": "591-608",
      "shortTitle": "Short-term forecasting of passenger demand under on-demand ride services",
      "title": "Short-term forecasting of passenger demand under on-demand ride services: A spatio-temporal deep learning approach",
      "type": "article-journal",
      "volume": "85"
     },
     "7765261/RS2BGLYQ": {
      "DOI": "10.1080/17513057.2016.1235222",
      "URL": "https://doi.org/10.1080/17513057.2016.1235222",
      "abstract": "Given the potential of social network sites in democratization, this study explored the relationship between WeChat use, gratification seeking, and political engagement through WeChat in China. A survey of 307, young adult, WeChat users found: (1) WeChat use for entertainment and recognition needs predicted political engagement through WeChat; (2) WeChat use and browsing news and information about a particular political issue on WeChat were positively associated with political engagement through WeChat; and (3) the relationship between WeChat use and political engagement through WeChat was moderated by browsing news and information on WeChat.",
      "accessed": {
       "date-parts": [
        [
         2021,
         10,
         9
        ]
       ]
      },
      "author": [
       {
        "family": "Chen",
        "given": "Yashu"
       }
      ],
      "container-title": "Journal of International and Intercultural Communication",
      "id": "7765261/RS2BGLYQ",
      "issue": "1",
      "issued": {
       "date-parts": [
        [
         "2017",
         1,
         2
        ]
       ]
      },
      "note": "Publisher: Routledge\n_eprint: https://doi.org/10.1080/17513057.2016.1235222",
      "page": "25-43",
      "shortTitle": "WeChat use among Chinese college students",
      "title": "WeChat use among Chinese college students: Exploring gratifications and political engagement in China",
      "type": "article-journal",
      "volume": "10"
     },
     "7765261/RZW74C9X": {
      "URL": "https://air.unimi.it/handle/2434/515293",
      "abstract": "The constant increase of public shared bicycle systems (PSBSs) in western cities suggests that nowadays city councils consider public bike sharing systems a serious alternative to traditional public transportation in urban areas. PSBSs can represent a solution in the hands of citizens for short journeys in highly urbanized areas. In this paper we focus on the successful example of Milan’s BikeMi PSBS which is giving very positive results in terms of satisfaction for all the actors involved, i.e. the service management, city council and users. From the available data it can be inferred that the bicycle overcome the car central areas in terms of speed, distance travelled daily, and choice of multiple itineraries, especially during peak periods and in proximity of the main railway stations. The main bicycle tracks and hotspots are also detected revealing an imbalance between the northern and the southern part of the city, with the northern part better covered by the service.",
      "author": [
       {
        "family": "Saibene",
        "given": "Giorgio"
       },
       {
        "family": "Manzi",
        "given": "Giancarlo"
       }
      ],
      "id": "7765261/RZW74C9X",
      "issued": {
       "date-parts": [
        [
         2015
        ]
       ]
      },
      "language": "en",
      "page": "21",
      "title": "Bike Usage in Public Bike-Sharing: An Analysis of the “BikeMi” System in Milan",
      "type": "article-journal"
     },
     "7765261/SAYXS4UZ": {
      "URL": "http://www.ilpost.it/2020/05/03/sharing-economy-crisi-coronavirus/",
      "abstract": "Le aziende basate sulla condivisione di spazi o mezzi di trasporto, come Airbnb e Uber, hanno un presente drammatico e un futuro incerto",
      "accessed": {
       "date-parts": [
        [
         2021,
         10,
         9
        ]
       ]
      },
      "container-title": "Il Post",
      "id": "7765261/SAYXS4UZ",
      "issued": {
       "date-parts": [
        [
         2020,
         5,
         3
        ]
       ]
      },
      "language": "it-IT",
      "title": "La crisi della sharing economy",
      "type": "article-newspaper"
     },
     "7765261/SBF8VTPD": {
      "DOI": "10.1016/j.scs.2019.101882",
      "URL": "https://www.sciencedirect.com/science/article/pii/S2210670719312387",
      "abstract": "This paper aimed to address the need for a comprehensive review on the factors affecting bike-sharing demand to bridge the gaps by deepening the knowledge on weather, built environment and land use, public transportation, station level, socio-demographic effects, temporal factors, and safety. This article evaluates recent studies on station-based bike sharing in literature and seeks answers to two main research questions: First, how do the weather conditions, built environment and land use, public transportation, socio-demographic attributes, temporal factors, and safety affect the bike-sharing trip demand? Second, what are the most commonly used factors in literature affecting trip demand? For this purpose, an overview of the factors affecting trip demands has been established to evaluate the performance of Bike-Share Programs(BSPs) comprehensively. The results can provide reliable estimate for planners or decision-makers in understanding the key factors contributing to bike-sharing demand. The information obtained from this overview can also be a guideline for BSP planners, policymakers and researchers to improve the efficiency of BSPs.",
      "accessed": {
       "date-parts": [
        [
         2021,
         10,
         17
        ]
       ]
      },
      "author": [
       {
        "family": "Eren",
        "given": "Ezgi"
       },
       {
        "family": "Uz",
        "given": "Volkan Emre"
       }
      ],
      "container-title": "Sustainable Cities and Society",
      "id": "7765261/SBF8VTPD",
      "issued": {
       "date-parts": [
        [
         "2020",
         3,
         1
        ]
       ]
      },
      "journalAbbreviation": "Sustainable Cities and Society",
      "language": "en",
      "page": "101882",
      "shortTitle": "A review on bike-sharing",
      "title": "A review on bike-sharing: The factors affecting bike-sharing demand",
      "type": "article-journal",
      "volume": "54"
     },
     "7765261/T48ESWUM": {
      "URL": "https://www.istat.it/it/archivio/258691",
      "abstract": "Nel 2019 aumentano i km di piste ciclabili (+15,5% dal 2015) ma rete di ciclovie insufficiente in molte città",
      "accessed": {
       "date-parts": [
        [
         2021,
         10,
         10
        ]
       ]
      },
      "id": "7765261/T48ESWUM",
      "issued": {
       "date-parts": [
        [
         2021,
         6,
         17
        ]
       ]
      },
      "language": "it",
      "title": "Ambiente urbano",
      "type": "webpage"
     },
     "7765261/TR9F33KT": {
      "DOI": "10.1080/17517575.2020.1829075",
      "URL": "https://doi.org/10.1080/17517575.2020.1829075",
      "abstract": "Enterprises are surviving in a digital transitioning society, where the creation of strategic alliances is one important result of this constant change during the coronavirus 2019 (COVID-19) pandemic. A medium of conducting business where organizations can share their main capabilities in order to strive in a pandemic is the creation of Virtual Enterprises (VE). But despite increasing research interest in VE, there is still lacunae in understanding the conceptualization of digitalization of VE operations during crises. Therefore, this provides a review of extant literature and meta-analysis of 55 VE research articles to present the theoretical underpinning concept of VE digitalization.",
      "accessed": {
       "date-parts": [
        [
         2021,
         10,
         14
        ]
       ]
      },
      "author": [
       {
        "family": "Anthony Jnr",
        "given": "Bokolo"
       },
       {
        "family": "Abbas Petersen",
        "given": "Sobah"
       }
      ],
      "container-title": "Enterprise Information Systems",
      "id": "7765261/TR9F33KT",
      "issue": "5",
      "issued": {
       "date-parts": [
        [
         "2021",
         5,
         28
        ]
       ]
      },
      "page": "617-650",
      "shortTitle": "Examining the digitalisation of virtual enterprises amidst the COVID-19 pandemic",
      "title": "Examining the digitalisation of virtual enterprises amidst the COVID-19 pandemic: a systematic and meta-analysis",
      "type": "article-journal",
      "volume": "15"
     },
     "7765261/UV5CIHVI": {
      "DOI": "10.1016/j.jtrangeo.2013.06.003",
      "URL": "https://www.sciencedirect.com/science/article/pii/S0966692313001130",
      "abstract": "Since the mid-2000s, public bikesharing (also known as “bike hire”) has developed and spread into a new form of mobility in cities across the globe. This paper presents an analysis of the recent increase in the number of public bikesharing systems. Bikesharing is the shared use of a bicycle fleet, which is accessible to the public and serves as a form of public transportation. The initial system designs were pioneered in Europe and, after a series of technological innovations, appear to have matured into a system experiencing widespread adoption. There are also signs that the policy of public bikesharing systems is transferable and is being adopted in other contexts outside Europe. In public policy, the technologies that are transferred can be policies, technologies, ideals or systems. This paper seeks to describe the nature of these systems, how they have spread in time and space, how they have matured in different contexts, and why they have been adopted. Researchers provide an analysis from Europe and North America. The analysis draws on published data sources, a survey of 19 systems, and interviews with 12 decision-makers in Europe and 14 decision-makers in North America. The data are examined through the lens of diffusion theory, which allows for comparison of the adoption process in different contexts. A mixture of quantitative and qualitative analyses is used to explore the reasons for adoption decisions in different cities. The paper concludes that Europe is still in a major adoption process with new systems emerging and growth in some existing systems, although some geographic areas have adopted alternative solutions. Private sector operators have also been important entrepreneurs in a European context, which has accelerated the uptake of these systems. In North America, the adoption process is at an earlier stage and is gaining momentum, but signs also suggest the growing importance of entrepreneurs in North America with respect to technology and business models. There is evidence to suggest that the policy adoption processes have been inspired by successful systems in Paris, Lyon, Montreal, and Washington, DC, for instance, and that diffusion theory could be useful in understanding public bikesharing policy adoption in a global context.",
      "accessed": {
       "date-parts": [
        [
         2021,
         10,
         9
        ]
       ]
      },
      "author": [
       {
        "family": "Parkes",
        "given": "Stephen D."
       },
       {
        "family": "Marsden",
        "given": "Greg"
       },
       {
        "family": "Shaheen",
        "given": "Susan A."
       },
       {
        "family": "Cohen",
        "given": "Adam P."
       }
      ],
      "container-title": "Journal of Transport Geography",
      "id": "7765261/UV5CIHVI",
      "issued": {
       "date-parts": [
        [
         "2013",
         7,
         1
        ]
       ]
      },
      "journalAbbreviation": "Journal of Transport Geography",
      "language": "en",
      "page": "94-103",
      "shortTitle": "Understanding the diffusion of public bikesharing systems",
      "title": "Understanding the diffusion of public bikesharing systems: evidence from Europe and North America",
      "type": "article-journal",
      "volume": "31"
     },
     "7765261/VMWQTQ76": {
      "DOI": "10.1016/j.retrec.2020.101028",
      "URL": "https://www.sciencedirect.com/science/article/pii/S0739885920302262",
      "abstract": "Climate change awareness is becoming widespread. The consequences of pollution are increasingly evident, and transport, being one of the main sources of congestion and pollution, is cited as the major culprit. In this context and as one of the few positive externalities of the COVID-19 pandemic, micro-mobility and, more generally, environmentally friendly and co-managed mobility, are gaining ground. In particular, bike-sharing has seen double-digit growth rates of diffusion and use in its various forms. It is a fast and efficient solution, with zero emissions, convenience, speed of movement for short distances and beneficial effects on users' health. However, its use is still rather limited in Italian cities. Through an online survey conducted at the national level in 2020, we shed light on the elements that determine the adoption of bike-sharing among potential users. Through factor analysis, ordered logit and probit regressions, we have identified the factors that facilitate the extensive adoption of this service. In addition, we have seen how consumers’ habits have changed, comparing them in the pre- and post-COVID-19 lockdown periods and highlighting the health benefits for both potential and current users. The results and policy implications could be useful for local regulators and bike-sharing scheme operators.",
      "accessed": {
       "date-parts": [
        [
         2021,
         10,
         17
        ]
       ]
      },
      "author": [
       {
        "family": "Bergantino",
        "given": "Angela Stefania"
       },
       {
        "family": "Intini",
        "given": "Mario"
       },
       {
        "family": "Tangari",
        "given": "Luca"
       }
      ],
      "collection-title": "Active Travel Policies",
      "container-title": "Research in Transportation Economics",
      "id": "7765261/VMWQTQ76",
      "issued": {
       "date-parts": [
        [
         "2021",
         5,
         1
        ]
       ]
      },
      "journalAbbreviation": "Research in Transportation Economics",
      "language": "en",
      "page": "101028",
      "shortTitle": "Influencing factors for potential bike-sharing users",
      "title": "Influencing factors for potential bike-sharing users: an empirical analysis during the COVID-19 pandemic",
      "type": "article-journal",
      "volume": "86"
     },
     "7765261/VTA4UCWW": {
      "DOI": "10.5194/isprs-archives-XLIII-B4-2020-197-2020",
      "URL": "https://www.int-arch-photogramm-remote-sens-spatial-inf-sci.net/XLIII-B4-2020/197/2020/",
      "abstract": "Bike Sharing Systems (BSS) are growing worldwide for the social and environmental benefits that they can provide. Thanks to the increasing popularity of the BSS and the availability of monitoring technologies, there is a continuous production of data that can help to understand bike usage and to improve its design and management. This study aims at exploring BSS users’ mobility patterns habits and the demand for the service. To reach this scope, the available data have been preprocessed in order to allow data mining and data visualization with open source tools based on Python. The study case regards the BikeMi BSS of the City of Milan between June 2015 to December 2018. The suggested approach proceeded, first, with the categorization of the user typology based on the frequency of use of the service; at a second stage, the influence of the day typology on the use of the service has been explored; third, the spatial and temporal patterns of the BSS use among the stations has been analysed; fourth, the influence of meteorological conditions on the use of the service has been considered; at last, the clustering of the stations with similar bikes use activity through K-Means has been performed. As expected, it was observed that the service is extensively used for commuting to work-related activities. Regular users compose a large part of the BSS community making use of the service mostly during weekdays. In addition, it was noted that only 'strong' meteorological conditions can impact the use of the service. Both the identification of the demand for the service and of the external factors that can affect its use support the clustering activities, allowing for the elimination of not relevant information and facilitating the interpretation of the obtained clusters.",
      "accessed": {
       "date-parts": [
        [
         2021,
         10,
         3
        ]
       ]
      },
      "author": [
       {
        "family": "Toro",
        "given": "J. F."
       },
       {
        "family": "Carrion",
        "given": "D."
       },
       {
        "family": "Brovelli",
        "given": "M. A."
       },
       {
        "family": "Percoco",
        "given": "M."
       }
      ],
      "container-title": "The International Archives of the Photogrammetry, Remote Sensing and Spatial Information Sciences",
      "event": "XXIV ISPRS Congress, Commission IV (Volume XLIII-B4-2020) - 2020 edition",
      "id": "7765261/VTA4UCWW",
      "issued": {
       "date-parts": [
        [
         2020,
         8,
         24
        ]
       ]
      },
      "language": "English",
      "note": "ISSN: 1682-1750",
      "page": "197-203",
      "publisher": "Copernicus GmbH",
      "title": "BikeMi Bike-Sharing Service Exploratory Analysis on Mobility Patterns",
      "type": "paper-conference",
      "volume": "XLIII-B4-2020"
     },
     "7765261/WGNRECEM": {
      "URL": "https://www.istat.it/it/archivio/260839",
      "abstract": "Come ci ha cambiati la pandemia",
      "accessed": {
       "date-parts": [
        [
         2021,
         10,
         10
        ]
       ]
      },
      "id": "7765261/WGNRECEM",
      "issued": {
       "date-parts": [
        [
         2021,
         9,
         8
        ]
       ]
      },
      "language": "it",
      "title": "Dall’andamento degli obiettivi di sviluppo sostenibile alla mobilità",
      "type": "webpage"
     },
     "7765261/WI4S5HHF": {
      "DOI": "10.1007/s11869-020-00863-1",
      "URL": "https://doi.org/10.1007/s11869-020-00863-1",
      "abstract": "First time in India, total lockdown was announced on 22 March 2020 to stop the spread of COVID-19 and the lockdown was extended for 21 days on 24 March 2020 in the first phase. During the total lockdown, most of the sources for poor air quality were stopped in India. In this paper, we present an analysis of air quality (particulate matter-PM2.5, Air Quality Index, and tropospheric NO2) over India using ground and satellite observations. A pronounced decline in PM2.5 and AQI (Air Quality Index) is observed over Delhi, Mumbai, Hyderabad, Kolkata, and Chennai and also a declining trend was observed in tropospheric NO2 concentration during the lockdown period in 2020 compared with the same period in the year 2019. During the total lockdown period, the air quality has improved significantly which provides an important information to the cities’ administration to develop rules and regulations on how they can improve air quality.",
      "accessed": {
       "date-parts": [
        [
         2021,
         10,
         17
        ]
       ]
      },
      "author": [
       {
        "family": "Singh",
        "given": "Ramesh P."
       },
       {
        "family": "Chauhan",
        "given": "Akshansha"
       }
      ],
      "container-title": "Air Quality, Atmosphere & Health",
      "id": "7765261/WI4S5HHF",
      "issue": "8",
      "issued": {
       "date-parts": [
        [
         2020,
         8,
         1
        ]
       ]
      },
      "journalAbbreviation": "Air Qual Atmos Health",
      "language": "en",
      "page": "921-928",
      "title": "Impact of lockdown on air quality in India during COVID-19 pandemic",
      "type": "article-journal",
      "volume": "13"
     },
     "7765261/X8PHHWUT": {
      "DOI": "10.1016/j.envpol.2020.115682",
      "URL": "https://www.sciencedirect.com/science/article/pii/S0269749120363715",
      "abstract": "Covid19-induced lockdown measures caused modifications in atmospheric pollutant and greenhouse gas emissions. Urban road traffic was the most impacted, with 48–60% average reduction in Italy. This offered an unprecedented opportunity to assess how a prolonged (∼2 months) and remarkable abatement of traffic emissions impacted on urban air quality. Six out of the eight most populated cities in Italy with different climatic conditions were analysed: Milan, Bologna, Florence, Rome, Naples, and Palermo. The selected scenario (24/02/2020–30/04/2020) was compared to a meteorologically comparable scenario in 2019 (25/02/2019–02/05/2019). NO2, O3, PM2.5 and PM10 observations from 58 air quality and meteorological stations were used, while traffic mobility was derived from municipality-scale big data. NO2 levels remarkably dropped over all urban areas (from −24.9% in Milan to −59.1% in Naples), to an extent roughly proportional but lower than traffic reduction. Conversely, O3 concentrations remained unchanged or even increased (up to 13.7% in Palermo and 14.7% in Rome), likely because of the reduced O3 titration triggered by lower NO emissions from vehicles, and lower NOx emissions over typical VOCs-limited environments such as urban areas, not compensated by comparable VOCs emissions reductions. PM10 exhibited reductions up to 31.5% (Palermo) and increases up to 7.3% (Naples), while PM2.5 showed reductions of ∼13–17% counterbalanced by increases up to ∼9%. Higher household heating usage (+16–19% in March), also driven by colder weather conditions than 2019 (−0.2 to −0.8 °C) may partly explain primary PM emissions increase, while an increase in agriculture activities may account for the NH3 emissions increase leading to secondary aerosol formation. This study confirmed the complex nature of atmospheric pollution even when a major emission source is clearly isolated and controlled, and the need for consistent decarbonisation efforts across all emission sectors to really improve air quality and public health.",
      "accessed": {
       "date-parts": [
        [
         2021,
         10,
         17
        ]
       ]
      },
      "author": [
       {
        "family": "Gualtieri",
        "given": "Giovanni"
       },
       {
        "family": "Brilli",
        "given": "Lorenzo"
       },
       {
        "family": "Carotenuto",
        "given": "Federico"
       },
       {
        "family": "Vagnoli",
        "given": "Carolina"
       },
       {
        "family": "Zaldei",
        "given": "Alessandro"
       },
       {
        "family": "Gioli",
        "given": "Beniamino"
       }
      ],
      "container-title": "Environmental Pollution",
      "id": "7765261/X8PHHWUT",
      "issued": {
       "date-parts": [
        [
         "2020",
         12,
         1
        ]
       ]
      },
      "journalAbbreviation": "Environmental Pollution",
      "language": "en",
      "page": "115682",
      "shortTitle": "Quantifying road traffic impact on air quality in urban areas",
      "title": "Quantifying road traffic impact on air quality in urban areas: A Covid19-induced lockdown analysis in Italy",
      "type": "article-journal",
      "volume": "267"
     },
     "7765261/XWGXDX2Y": {
      "DOI": "10.1016/j.techfore.2021.121173",
      "URL": "https://www.sciencedirect.com/science/article/pii/S0040162521006065",
      "abstract": "Digitalisation has become embedded in products and services, and it increasingly supports corporate business processes. However, few empirical studies have analysed the state of digitalisation and its implementation within companies, and the extant literature has painted an inconsistent picture concerning the effects of digitalisation. This survey-based study explores the diffusion of digitalisation, the advantages and difficulties in the practical transition to digitalisation, and its impact on performance. The sample includes Italian listed companies across diverse industries. The results highlight the still embryonic adoption of digital tools to support daily company operations; however, the impacts of digitalisation on company performance are noticeable. This research contributes to the literature on digitalisation and performance, breaks new ground by focusing on listed companies, and has implications for management investment in digitalisation for value creation.",
      "accessed": {
       "date-parts": [
        [
         2021,
         10,
         14
        ]
       ]
      },
      "author": [
       {
        "family": "Truant",
        "given": "Elisa"
       },
       {
        "family": "Broccardo",
        "given": "Laura"
       },
       {
        "family": "Dana",
        "given": "Léo-Paul"
       }
      ],
      "container-title": "Technological Forecasting and Social Change",
      "id": "7765261/XWGXDX2Y",
      "issued": {
       "date-parts": [
        [
         "2021",
         12,
         1
        ]
       ]
      },
      "journalAbbreviation": "Technological Forecasting and Social Change",
      "language": "en",
      "page": "121173",
      "shortTitle": "Digitalisation boosts company performance",
      "title": "Digitalisation boosts company performance: an overview of Italian listed companies",
      "type": "article-journal",
      "volume": "173"
     },
     "7765261/YUNHPBGP": {
      "DOI": "10.1016/j.envpol.2020.116011",
      "URL": "https://www.sciencedirect.com/science/article/pii/S0269749120367002",
      "abstract": "The UK implemented a lockdown in Spring (2020) to curtail the person-to-person transmission of the SARS-CoV-2 virus. Measures restricted movements to one outing per day for exercise and shopping, otherwise most people were restricted to their dwelling except for key workers (e.g. medical, supermarkets, and transport). In this study, we quantified changes to air quality across the United Kingdom from 30/03/2020 to 03/05/2020 (weeks 14–18), the period of most stringent travel restrictions. Daily pollutant measurements of NO2, O3 and PM2.5 from the national network of monitoring sites during this period were compared with measurements over the same period during 2017–19. Comparisons were also made with predicted concentrations for the 2020 period from business-as-usual (BAU) modelling, where the contributions of normal anthropogenic activities were estimated under the observed meteorological conditions. During the lockdown study period there was a 69% reduction in traffic overall (74% reduction in light and 35% in heavy vehicles). Measurements from 129 monitoring stations, identified mean reductions in NO2 of 38.3% (−8.8 μg/m3) and PM2.5 of 16.5% (−2.2 μg/m3). Improvements in NO2 and PM2.5 were largest at urban traffic sites and more modest at background locations where a large proportion of the population live. In contrast, O3 concentrations on average increased by 7.6% (+4.8 μg/m3) with the largest increases at roadside sites due to reductions in local emissions of NO. A lack of VOC monitoring limited our capacity to interpret changes in O3 at urban background locations. BAU models predicted comparable NO2 reductions and O3 gains, although PM2.5 episodes would have been more prominent without lockdown. Results demonstrate the relatively modest contribution of traffic to air quality, suggesting that sustained improvements in air quality require actions across various sectors, including working with international and European initiatives on long-range transport air pollutants, especially PM2.5 and O3.",
      "accessed": {
       "date-parts": [
        [
         2021,
         10,
         17
        ]
       ]
      },
      "author": [
       {
        "family": "Jephcote",
        "given": "Calvin"
       },
       {
        "family": "Hansell",
        "given": "Anna L."
       },
       {
        "family": "Adams",
        "given": "Kathryn"
       },
       {
        "family": "Gulliver",
        "given": "John"
       }
      ],
      "container-title": "Environmental Pollution",
      "id": "7765261/YUNHPBGP",
      "issued": {
       "date-parts": [
        [
         "2021",
         3,
         1
        ]
       ]
      },
      "journalAbbreviation": "Environmental Pollution",
      "language": "en",
      "page": "116011",
      "title": "Changes in air quality during COVID-19 ‘lockdown’ in the United Kingdom",
      "type": "article-journal",
      "volume": "272"
     }
    }
   }
  },
  "kernelspec": {
   "display_name": "Bike Sharing Forecasting",
   "language": "python",
   "name": "bikemi"
  },
  "language_info": {
   "codemirror_mode": {
    "name": "ipython",
    "version": 3
   },
   "file_extension": ".py",
   "mimetype": "text/x-python",
   "name": "python",
   "nbconvert_exporter": "python",
   "pygments_lexer": "ipython3",
   "version": "3.9.7"
  }
 },
 "nbformat": 4,
 "nbformat_minor": 5
}
