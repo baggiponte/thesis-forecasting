{
 "cells": [
  {
   "cell_type": "markdown",
   "id": "34d799b8-00c0-4090-adb2-80d598bab5fc",
   "metadata": {},
   "source": [
    "# Introduction"
   ]
  },
  {
   "cell_type": "markdown",
   "id": "640a01f4-1487-4114-b894-f8d07abe1d82",
   "metadata": {
    "citation-manager": {
     "citations": {
      "1bsuh": [
       {
        "id": "7765261/DEQECBA8",
        "source": "zotero"
       }
      ],
      "1x29f": [
       {
        "id": "7765261/T48ESWUM",
        "source": "zotero"
       }
      ],
      "4f6tb": [
       {
        "id": "7765261/TR9F33KT",
        "source": "zotero"
       }
      ],
      "807gt": [
       {
        "id": "7765261/LFVYWU5J",
        "source": "zotero"
       }
      ],
      "9j0sv": [
       {
        "id": "7765261/WGNRECEM",
        "source": "zotero"
       }
      ],
      "akhag": [
       {
        "id": "7765261/T48ESWUM",
        "source": "zotero"
       }
      ],
      "bqkpr": [
       {
        "id": "7765261/4S3SWW9Q",
        "source": "zotero"
       }
      ],
      "byqnd": [
       {
        "id": "7765261/FIMQIYXE",
        "source": "zotero"
       }
      ],
      "djsm8": [
       {
        "id": "7765261/J38UF9CZ",
        "source": "zotero"
       }
      ],
      "g90ru": [
       {
        "id": "7765261/WGNRECEM",
        "source": "zotero"
       }
      ],
      "kwop4": [
       {
        "id": "7765261/GESPKNH7",
        "source": "zotero"
       }
      ],
      "lt4yv": [
       {
        "id": "7765261/XWGXDX2Y",
        "source": "zotero"
       }
      ],
      "mjryi": [
       {
        "id": "7765261/4S3SWW9Q",
        "source": "zotero"
       }
      ],
      "mkd5v": [
       {
        "id": "7765261/92X93RNR",
        "source": "zotero"
       }
      ],
      "on8qc": [
       {
        "id": "7765261/WGNRECEM",
        "source": "zotero"
       }
      ],
      "rzzct": [
       {
        "id": "7765261/WGNRECEM",
        "source": "zotero"
       }
      ],
      "sd11u": [
       {
        "id": "7765261/NBY9XZBV",
        "source": "zotero"
       }
      ],
      "srnoy": [
       {
        "id": "7765261/T48ESWUM",
        "source": "zotero"
       }
      ],
      "wk4a9": [
       {
        "id": "7765261/J38UF9CZ",
        "source": "zotero"
       }
      ],
      "xenxi": [
       {
        "id": "7765261/LGNSP9HT",
        "source": "zotero"
       }
      ]
     }
    },
    "tags": []
   },
   "source": [
    "The COVID-19 pandemic set the world back in its pursuit of the seventeen Sustainable Development Goals (SDGs) <cite id=\"1bsuh\">(<i>The 17 Goals</i>, n.d.)</cite>. This is also the case for Italy, as we can see from the 92 statistical measures collected by the Italian national institute for statistics (ISTAT, Istituto Nazionale di Statistica). When comparing 2019 with data from ten years prior, sixty percent of the measurements register an improvement, while twenty percent do not change and the remainder worsens. However, when comparing 2019 and 2020, only forty percent of the measurements improve, and almost the same amount displays a statistically significant drop <cite id=\"9j0sv\">(<i>Dall’andamento degli obiettivi di sviluppo sostenibile alla mobilità</i>, 2021)</cite>.\n",
    "\n",
    "Coming out of 2020, the Italian outlook is worse than the average of the (Western) European countries - as one can notice upon looking at macroeconomic variables such as the Gross Domestic Product (GDP). Part of the negative consequences were offset, thanks to the stimulus packages approved by the government, the resources put out by the European Union and the European Central Bank's (ECB) Pandemic Emergency Purchase Program, or PEPP - a massive asset purchase program of 1,850 billion euros.\n",
    "\n",
    "To say that the pandemic has changed our lifestyle would be a redundant understatement. Nevertheless, it is to be noted that while many advocated that the pandemic would bolster digitalisation <cite id=\"mkd5v\">(Härmand, 2021)</cite> - and, indeed, it has: see <cite id=\"4f6tb\">(Anthony Jnr &#38; Abbas Petersen, 2021)</cite> for a meta-review or <cite id=\"lt4yv\">(Truant et al., 2021)</cite> for Italy -, this also came at the expense of our transportation habits and the mobility sector in general. According to the ISTAT, private cars are used for half of all travels, up from 44 percent in the pre-pandemic period. Furthermore, the so-called \"mobilità dolce\" (the Italian translation of micro-mobility) \"does not seem to take off\" <cite id=\"on8qc\">(<i>Dall’andamento degli obiettivi di sviluppo sostenibile alla mobilità</i>, 2021)</cite>. In 2020, 30 percent of interviewed families stated that they had \"some or a lot of difficulties in connecting with public transportation in the area where they live\" - an improvement from the 33 percent of the previous year. However, it is enough to look at the regional level to realise that improvements are not spread evenly, and some areas of the country are actually worse off with respect to 2019. There is a great deal of heterogeneity: the share of families with troubles in accessing public transportation services is lower in the North (26 percent) compared to the South (36 percent), while in Campania more than half of the families are affected (51 percent). Furthermore, only 27 percent of students reach places where they study with public means of transportation (and it's declining), while 75 percent reach the workplace with private means only (and the share is increasing) <cite id=\"rzzct\">(<i>Dall’andamento degli obiettivi di sviluppo sostenibile alla mobilità</i>, 2021)</cite>.\n",
    "\n",
    "The only measurement that has been improving throughout the decade is that of air quality. However, these values remain significantly higher than the guidelines from the World Health Organisation (WHO) <cite id=\"g90ru\">(<i>Dall’andamento degli obiettivi di sviluppo sostenibile alla mobilità</i>, 2021)</cite>. Besides, on September 22, 2021 the WHO revised downwards their recommendations on air pollutants (the latest update dated back to 2005), and the European Commission (EC) declared that it will take this update into account when revising the guidelines for the upcoming year <cite id=\"sd11u\">(<i>Standards - Air Quality - Environment - European Commission</i>, n.d.)</cite>. Italy has always struggled to respect the European Directive on air pollution: on November 2020, the European Court of Justice (ECJ) judged that, from 2008 to 2017, Italy \"systematically and continuously\" violated the standards set by the Directive and failed in enacting countermeasures to avoid it <cite id=\"kwop4\">(“Che Aria Respiriamo,” 2021)</cite>. On July 2021, the European Environmental Agency (EEA) ranked European cities according to the average level of $PM_{2.5}$ in the two previous years: out of 323 cities, Cremona (Lombardy) was second to last, Brescia and Pavia (both in Lombardy) were 315th and 314th respectively, while Venezia (Veneto) was 311st, Bergamo 306th and Milano 303rd (all in Lombardy) <cite id=\"807gt\">(<i>European City Air Quality Viewer — European Environment Agency</i>, 2021)</cite>. Air pollution caused more than *52 thousands* premature deaths: almost 14 percent of the total premature death toll in Europe <cite id=\"xenxi\">(<i>Italy - Air Pollution Country Fact Sheet — European Environment Agency</i>, 2020)</cite>.\n",
    "\n",
    "Perhaps it is also this vicious cycle that does not contribute the popularity of sharing services. The ISTAT report, released in 2021, estimated there are 30 million commuters in Italy <cite id=\"mjryi\">(<i>Gli spostamenti per motivi di studio o lavoro nel 2019 secondo il Censimento permanente della popolazione</i>, 2021)</cite>. More than two thirds commute because of work (more than 20 million) and the remainder for study reasons, but the share of students is higher in those regions where unemployment is higher (in Campania, students are 40% of commuters). No analysis has been conducted on mobility services.\n",
    "\n",
    "Similar figures can be found in an earlier report, which dates back to 2019 and refers to 2017. In that year, ISTAT estimated 30 million commuters and also reported data about those who choose to go on foot or by bike. Their share seems relevant at first: according to the report, \"almost one in five choose an 'active' way of commute\". However, most of the \"active\" commuters walk to work (17,4%) and the bikers are only some 1,7%. Women, young and more educated people use more public transports and bikes, while private vehicles (the exclusive means of commuting for more than 73 percent of the employed) are more spread among men between 25 to 44 and with an average level of education <cite id=\"djsm8\">(<i>Spostamenti quotidiani e nuove forme di mobilità</i>, 2019)</cite>. Car pooling is chosen by some 12 percent of the employed and 14,5 percent of students aged 18-24, while almost half a million used bike sharing services at least once a year. Such services are more popular across the young and more educated people, while the incidence is almost double the national average in metropolitan cities <cite id=\"wk4a9\">(<i>Spostamenti quotidiani e nuove forme di mobilità</i>, 2019)</cite>.\n",
    "\n",
    "This feels like a pool of untapped (if not wasted) potential. According to the most recent survey, in 2019 some 57,5% percent of commuters moved within the same municipality of residence. This value is driven up by the students, who make up almost 71 percent of commuters within the same municipality. However, even after taking them out of the computation, we still end up with a pretty even figure: more than 51 percent of workers move within the same municipality <cite id=\"bqkpr\">(<i>Gli spostamenti per motivi di studio o lavoro nel 2019 secondo il Censimento permanente della popolazione</i>, 2021)</cite>. Looking closer at the \"nota metodologica\" (i.e., the explanations for the estimates), one can learn that ISTAT employed several different multinomial logistic models to come up with these figures, which represent the probability of someone commuting within or outside of their municipality. Sampling data has been integrated with external data: demographic data, residential and educational data are used, but most importantly the statisticians also took into account the distance matrix across municipalities (\"matrice di distanza intercomunale\") both in terms of time and distance measured in kilometres.\n",
    "\n",
    "In other words, these estimates reinforce our belief that public transports, and bike sharing services in particular, could expand. The starting situation is arguably lacklustre. As always, there are territorial imbalances on two different dimensions: on the macro level, there is a clear divide between North and South, but there continue to be striking differences even within the wealthiest regions. Bike lanes have been increasing steadily: the total number of kilometres has grown by 15,5 percent since 2015, totalling approximately 4700 kilometres. However, the infrastructure is still far from adequate in most cities <cite id=\"akhag\">(<i>Ambiente urbano</i>, 2021)</cite>.\n",
    "\n",
    "The report from ISTAT outlines that public transport (or TPL, \"trasporto pubblico locale\") suffers both from lack of infrastructure and outdated fleets. As a starter, the TPL is over reliant on buses, which offer more than 55 percent of the number of seats per kilometre. However, once metropolitan cities are factored out, this figure skyrockets to well beyond 90-95 percent <cite id=\"srnoy\">(<i>Ambiente urbano</i>, 2021)</cite>. Only 32 percent of the bus fleets is in line with Euro 6 standard and some 34 percent belongs to the Euro 4 class - i.e., was deployed before 2008. Low emission buses make up some 28 percent of the total, but only slightly more than 3 percent are electric: the rest (almost 25 percent) is fuelled by natural gas. Unsurprisingly, the share of low-emission vehicles is higher in metropolitan cities.\n",
    "\n",
    "Trolley buses are available in only 13 municipalities, trams in 11 and metropolitan trains in 7. However, there is a remarkable divide between the Italian champion, Milan, and the other cities. Tram network density in Milan is measured as 122 km per 100 squared kilometres; the silver medal is awarded to Turin, which has almost half the kilometres than Milan: 66. The average of the other cities is a mere 16 km. In general, while the supply of TPL (measured in seats per kilometre, per inhabitant) is on the rise, we are still far from the levels before the Great Recession (-7,3 percent compared to 2008). However, the supply in the North is 25 percent greater compared to the Centre and almost three times bigger than the South. Public demand for TPL is increasing in the North, stationary in the Centre and even declining in the South.\n",
    "\n",
    "A minor and uneven push is provided by sharing services. Car sharing is available in 37 out of 107 \"comuni capoluogo\" (i.e., the \"capital\" of a province, corresponding to the NUTS3 classification), of which only 8 are in the South. Besides, only 26 percent of the fleets is composed of electric cars. Bike sharing services are present in 53 *capoluoghi*, registering an overall decline from 2015. Luckily, the number of bikes has more than tripled: from 6 to 19 bicycles per ten thousand inhabitants. The divide, as always, is quite stark: the number of bikes is 29 in metropolis compared to provinces, and these services are much more common in the North (32 bikes per ten thousand citizens) than in the Centre (17) and the South (just 2). Much of this success is to be attributed to the appearance of free-float systems, which require greater fleets <cite id=\"1x29f\">(<i>Ambiente urbano</i>, 2021)</cite>. The report does not provide information on electric scooters.\n",
    "\n",
    "Achieving this goal will require extensive coordination between national, regional and municipal administrations, across multiple channels simultaneously. It is a widespread hope that many of this results can (only) be achieved via the Next Generation EU (NGEU), the 750 billion euros stimulus that will be financed by bonds from the European Commission. The NGEU is a bold and unprecedented move from the EU: the fund will be made up with up to 390 billion euros in subsidies, while up to 360 billions will be given out as loans with low interest rates. Italy is the first beneficiary in absolute terms for the main facilities of the NGEU: the country will receive more than 190 billion euros, to which the government will add 30 billions of its own. According to the so-called PNRR (*Piano Nazionale di Recupero e Resilienza*, i.e. National Plan of Recovery and Resilience), almost 25 billion euros will be invested in railways. However, less than one billion will be used to improve on the regional railways - the Achilles' heel of public transportation and the bane of commuters. In addition, more than 8,5 billion euros will be invested in TPL. But there's a catch: the NGEU grants will only be available for projects to be completed within the year 2026. Interviewed by *Il Post*, prof. Gabriele Grea from Bocconi University stated that these funds will mostly be awarded to projects in an already \"advanced state\": on one side, this will provide stronger guarantees about their completion, but will likely increase the inequalities across municipalities <cite id=\"byqnd\">(<i>Un po’ di cose notevoli dentro il PNRR</i>, 2021)</cite>.\n",
    "\n",
    "This dissertation stems from the urge to increase the adoption of sharing services and micro-mobility, in face of constraints of various nature, starting from budgetary ones that municipalities might face when attempting to set up and mainitain a bike sharing service (BSS). As xxx have outlined, the usage of a BSS is dependent on the quality of the service, i.e. the availability of bikes within the reach of the user. A timely forecast of the rentals is the simplest way to improve on these services. What we aim to achieve is an evaluation of the better forecasting techniques to employ, with an eye out for model complexity and explainability in a context of a municipality with limited fiscal resources and human capital to interpreting sophisticated statistical models.\n"
   ]
  },
  {
   "cell_type": "markdown",
   "id": "4b828a31-2954-49ee-ac05-12eb1491c009",
   "metadata": {},
   "source": [
    "## A Brief History of Bike Sharing Services"
   ]
  },
  {
   "cell_type": "markdown",
   "id": "6da10d70-2cf2-4c49-8041-cdb2b7704536",
   "metadata": {
    "citation-manager": {
     "citations": {
      "13h1a": [
       {
        "id": "7765261/MVUBY4JD",
        "source": "zotero"
       }
      ],
      "19mvq": [
       {
        "id": "7765261/LFMZYHVY",
        "source": "zotero"
       }
      ],
      "2vaa6": [
       {
        "id": "7765261/DNETG943",
        "source": "zotero"
       }
      ],
      "6y8i8": [
       {
        "id": "7765261/MVUBY4JD",
        "source": "zotero"
       }
      ],
      "8baaa": [
       {
        "id": "7765261/MVUBY4JD",
        "source": "zotero"
       }
      ],
      "atco8": [
       {
        "id": "7765261/RS2BGLYQ",
        "source": "zotero"
       }
      ],
      "iqk87": [
       {
        "id": "7765261/DNETG943",
        "source": "zotero"
       }
      ],
      "is94k": [
       {
        "id": "7765261/Q8QH45IB",
        "source": "zotero"
       }
      ],
      "mq8un": [
       {
        "id": "7765261/UV5CIHVI",
        "source": "zotero"
       }
      ],
      "nxdy6": [
       {
        "id": "7765261/DNETG943",
        "source": "zotero"
       }
      ],
      "yrbre": [
       {
        "id": "7765261/DNETG943",
        "source": "zotero"
       }
      ]
     }
    },
    "tags": []
   },
   "source": [
    "The concept behind bike sharing systems (BSS) has been around since at least the 1960 <cite id=\"6y8i8\">(DeMaio, 2009)</cite>. Perhaps unsurprisingly, the first BSS operator was the dutch Witte Fietsen, or White Bikes, in Amsterdam, 1965. The bikes for the sharing service were painted in white, in order to distinguish them from private bycicles, and were made freely available with no locks. Even less surprisingly, «the total absence of security mechanisms led to theft and vandalism, and a rapid demise of Witte Fietsen», as pointed out by Fishman <cite id=\"yrbre\">(Fishman, 2016)</cite>.\n",
    "\n",
    "Since this failed attempt, researchers have identified three further generations of bike sharing systems <cite id=\"mq8un\">(Parkes et al., 2013)</cite>, following their technological improvements. Being one of a kind, Witte Fietsen was basically the only representative of the first generations of bike sharing systems. According to DeMaio, the so-called second generation of bike sharing system was launched in the 1990s, in Denmark (1991 and 1993) and subsequently in the Netherlands (1995). These systems were designed with better insurances against frequent intraday usage, as well as vandalism: «The Copenhagen bikes were specially designed for intense utilitarian use with solid rubber tires and wheels with advertising plates, and could be picked up and returned at specific locations throughout the central city with a coin deposit» <cite id=\"8baaa\">(DeMaio, 2009)</cite>. These incentives were not enough, as the time was not yet prime for better customer identification technologies as well as tracking systems.\n",
    "\n",
    "New features such as «electronically-locking racks or bike locks, telecommunication systems, smartcards and fobs, mobile phone access, and on-board computers» became the norm since 1996, following the example of services such as Bikeabout, developed by Portsmouth University in the United Kingdom <cite id=\"13h1a\">(DeMaio, 2009)</cite>. With Bikeabout, students could use a magnetic stripe card to rent a bike. Since then, a couple of services launched every year across Europe, such as in France (Rennes, 1998) and Germany (Munich, 2000). These services managed to deter theft with «dedicated docking stations (in which bicycles are picked up and returned), as well as automated credit card payment and other technologies to allow the tracking of the bicycles» <cite id=\"2vaa6\">(Fishman, 2016)</cite>.\n",
    "\n",
    "The breakthrough happened in 2005, when Velo'v and its 1500-bike fleet were launched in Lyon, followed by the 7000 bikes deployed by Velib in 2007 in Paris. Since then, BSS spread to the rest of the world, especially in Asia. In the mid 2010s, China established themselves as a leader in sharing services - thanks to the rise of mobile technology and apps like WeChat, which was launched in 2011 and quickly became the most used platform in the country: «By the end of 2015, WeChat had 762 million monthly active users worldwide, and roughly 91% of them were from China; moreover, around 639 million users accessed WeChat on a smartphone» <cite id=\"atco8\">(Chen, 2017)</cite>. WeChat is ubiquitous in China and living without it nighly impossible <cite id=\"is94k\">(“In Cina vivere senza WeChat è complicato,” 2018)</cite> - as the platform supports cash transfers and is used for shopping, tipping and paying services.\n",
    "\n",
    "In 2014, the global bikeshare fleet was estimated at almost one million bicycles, three fourths of which where in China <cite id=\"nxdy6\">(Fishman, 2016)</cite>. China also had more than double the number of bikeshare systems (237) compared to 114 in Italy and 113 in Spain. At the time, there were only 54 services in the USA <cite id=\"iqk87\">(Fishman, 2016)</cite>.\n",
    "\n",
    "The increasing popularity and technological advancements brought about the fourth generation of BSS, which exploit the Global Positioning System (GPS) and smartphones to deploy fleets of dockless (or flee-floating) bikes and ebikes. Today, according to the estimates on the website [Bike Sharing World Map](https://bikesharingworldmap.com/) <cite id=\"19mvq\">(<i>The Meddin Bike-Sharing World Map</i>, 2021)</cite>, there appear to be almost 1900 bike sharing services in the world, with almost 1000 that have closed down and 300 to be opened."
   ]
  },
  {
   "cell_type": "markdown",
   "id": "e1c28b77-46ed-4025-8e83-36ab8808760d",
   "metadata": {},
   "source": [
    "## Sharing Economy and Micromobility"
   ]
  },
  {
   "cell_type": "markdown",
   "id": "b57c28f4-2c7d-4d7f-8592-e6587d909bb3",
   "metadata": {
    "citation-manager": {
     "citations": {
      "7febn": [
       {
        "id": "7765261/H4RXQQ8R",
        "source": "zotero"
       }
      ],
      "8i59d": [
       {
        "id": "7765261/AHAU5WIN",
        "source": "zotero"
       }
      ],
      "bkhe6": [
       {
        "id": "7765261/BUI6HN97",
        "source": "zotero"
       }
      ],
      "dvvlh": [
       {
        "id": "7765261/SAYXS4UZ",
        "source": "zotero"
       }
      ],
      "foag5": [
       {
        "id": "7765261/EPW29CK5",
        "source": "zotero"
       }
      ],
      "hnnio": [
       {
        "id": "7765261/GVEPNMR5",
        "source": "zotero"
       }
      ],
      "jsywb": [
       {
        "id": "7765261/G3F5S8ZS",
        "source": "zotero"
       }
      ],
      "l0la9": [
       {
        "id": "7765261/9IRMHVZB",
        "source": "zotero"
       }
      ],
      "vb4td": [
       {
        "id": "7765261/F7WYHN86",
        "source": "zotero"
       }
      ]
     }
    },
    "tags": []
   },
   "source": [
    "Nowadays, bike sharing systems contend roads (and sidewalks) with new competitors: electrical scooters (ES) have become surprisingly popular across the globe in recent years, displaying a stronger growth trend and adoption compared to BSS. The literature on the history of e-scooters services is still quite young, but some authors trace the beginning of ESS to 2017 <cite id=\"8i59d\">(Christoforou et al., 2021)</cite>. \n",
    "\n",
    "Since the last decade, bike sharing must be understood as a piece of two bigger and growing trends: sharing economy and micromobility. The sharing economy is - in economic terms - a new business paradigm focusing on access to exclusive goods, rather than ownership. Before the 2020 COVID Pandemic <cite id=\"dvvlh\">(“La crisi della sharing economy,” 2020)</cite>, sharing economy was also considered a gold mine: in 2017, Bloomberg wrote a long report about the success AirBnB and Uber, the two businesses that embody the idea of sharing economy <cite id=\"7febn\">(Stone, 2017)</cite>. At the time, AirBnB was valued at 30 billion dollars and Uber was valued at almost 70 billion dollars, while both of the companies were still private. The two sharing economy champions went public, albeit with different fortunes, in 2020 <cite id=\"bkhe6\">(“La quotazione in borsa di Airbnb è stata un successo,” 2020)</cite>, and in 2019 <cite id=\"hnnio\">(“Nel primo giorno di quotazione in borsa, le azioni di Uber hanno perso il 7,6 per cento,” 2019)</cite>.\n",
    "\n",
    "Sharing economy partially overlaps with micromobility.\n",
    "\n",
    "Provide an exact definition of sharing economy is not straight forward. As of today, some of the most visionary claims about the revolutionary impact of sharing economy have been scaled down - when not outright debunked - and some of its discriminatory and distortionary impacts are being addressed <cite id=\"l0la9\">(“Airbnb Urges Housing Reform in Berlin after Court Overturns Permit Rejection,” 2017)</cite>, <cite id=\"foag5\">(“La nuova sentenza europea sugli affitti brevi,” 2020)</cite>, <cite id=\"jsywb\">(“Le città europee contro gli affitti brevi,” 2021)</cite>.\n",
    "\n",
    "While attempts have been made <cite id=\"vb4td\">(Trenz et al., 2018)</cite>, we are not interested in taking sides. Sharing economy is of our interest insofar as a macro trend - i.e. a growing and often unstable environment, where players display a great degree of heterogeneity and, for this reason, can suddenly enter or drop out of a market. In the sharing economy, players adopt different business models. Generally speaking, most of these activities involve an ag"
   ]
  },
  {
   "cell_type": "markdown",
   "id": "9d1b125f-0701-47fc-8b71-f89aa7b1dffe",
   "metadata": {
    "tags": []
   },
   "source": [
    "## Inquadrare la storia "
   ]
  },
  {
   "cell_type": "markdown",
   "id": "7951edff-064c-4af9-a793-3b20a91eec49",
   "metadata": {
    "citation-manager": {
     "citations": {
      "zyaj8": [
       {
        "id": "7765261/5BMQM3AD",
        "source": "zotero"
       }
      ]
     }
    },
    "tags": []
   },
   "source": [
    "> The operator-based reallocation problem is known as a Pickup and Delivery Problem (PDP). The application of this optimization problem to BSSs has recently attracted the interest of many researchers and practitioners in this field. It can be modeled by a dynamic or a static approach (Chemla et al., 2013b). In the static version, which is usually performed during the night (when the system is closed, or the bike demand is very low), a snapshot of the number of bikes in each zone is considered and utilized to plan the redistribution. On the other hand, the dynamic relocation is performed during the day when the status of the system is rapidly changing and takes into account the real-time usage of the BSS. In the dynamic case, the relocation plan is strongly supported by forecasting techniques. <cite id=\"zyaj8\">(Caggiani et al., 2018)</cite>"
   ]
  },
  {
   "cell_type": "markdown",
   "id": "7eb7f7de-07a0-4081-a1f6-5f529085e52c",
   "metadata": {
    "citation-manager": {
     "citations": {
      "5bab8": [
       {
        "id": "7765261/FIPJ84KM",
        "source": "zotero"
       }
      ]
     }
    },
    "tags": []
   },
   "source": [
    "> This has traditionally been accomplished through univariate time series prediction using various techniques such as (seasonal) autoregressive integrated moving average ([S]ARIMA, Williams and Hoel 2003) models, artificial neural networks (Dougherty and Cobbett 1997; van Lint et al. 2005), support vector regression (Wu et al. 2004), Kalman filtering (Liu et al. 2006) and non-parametric regression (Smith et al. 2002) among others. Vlahogianni et al. (2004) provide a good overview. More recently, researchers have begun to develop space–time models for traffic forecasting. Various statistical methods for modelling space–time data have been proposed over the years, including multivariate autoregressive integrated moving average [(M)ARIMA] models, space time autoregressive integrated moving average (STARIMA) models (Pfeifer and Deutsch 1980) and variants (STAR models, STMA models), three-dimensional geostatistical models and spatial panel data models, of which Griffith (2010) provides an overview. <cite id=\"5bab8\">(Cheng et al., 2012)</cite>"
   ]
  },
  {
   "cell_type": "markdown",
   "id": "d479f94a-3fc3-4d3a-8d0d-195397bacfa8",
   "metadata": {},
   "source": [
    "## BikeMi"
   ]
  },
  {
   "cell_type": "markdown",
   "id": "8812e0b6-734e-4357-bd1a-e61e0e7ed0bc",
   "metadata": {
    "citation-manager": {
     "citations": {
      "42mvi": [
       {
        "id": "7765261/RZW74C9X",
        "source": "zotero"
       }
      ],
      "en9lq": [
       {
        "id": "7765261/VTA4UCWW",
        "source": "zotero"
       }
      ],
      "riaxh": [
       {
        "id": "7765261/RZW74C9X",
        "source": "zotero"
       }
      ]
     }
    },
    "tags": []
   },
   "source": [
    "> As expected, it was observed that the service is extensively used for commuting to work-related activities. Regular users compose a large part of the BSS community making use of the service mostly during weekdays. In addition, it was noted that only 'strong' meteorological conditions can impact the use of the service. <cite id=\"en9lq\">(Toro et al., 2020)</cite>\n",
    "\n",
    "> The BikeMi PSBS started in November 2008 and was the first privately managed bike shared\n",
    "system introduced in Italy.   BikeMi today has 320 stations distributed in the key points of the city and 5430 bicycles (4280 classic bicycles 1000 e-bikes and 150 pedal-assisted bicycles with child seat) (bikemi website)\n",
    "\n",
    "> We chose the “Bastioni” area since it corresponds to the traffic restricted zone introduced in\n",
    "Milan since January 2008. <cite id=\"42mvi\">(Saibene &#38; Manzi, 2015)</cite>\n",
    "\n",
    "> Predicting variables chosen to explain the counts variability are: (i) the presence of a railway\n",
    "station in the vicinity (1 if present, 0 otherwise); (ii) the number of underground lines; (iii) the\n",
    "number of bus lines; (iv) the number of tram lines; (v) the distance in Km from Duomo\n",
    "square; (vi) the suburb location (1=Northern area; 0=Southern area). <cite id=\"riaxh\">(Saibene &#38; Manzi, 2015)</cite>"
   ]
  },
  {
   "cell_type": "markdown",
   "id": "330f3d19-f165-4eae-9da5-41617445847e",
   "metadata": {},
   "source": [
    "## Metriche "
   ]
  },
  {
   "cell_type": "markdown",
   "id": "79620b2b-cd83-45b5-b71d-3a7cd9b9e9d7",
   "metadata": {},
   "source": [
    "Caggiani: MSE"
   ]
  },
  {
   "cell_type": "markdown",
   "id": "19826ea1-af35-4fd4-b3f1-9c783be35d5a",
   "metadata": {},
   "source": [
    "## misc"
   ]
  },
  {
   "cell_type": "markdown",
   "id": "01f959cb-f598-45ad-a4e4-145b014a7650",
   "metadata": {},
   "source": [
    "* numero di bici da spostare, forecast se una stazione è piena o meno\n",
    "* crescita dei noleggi -> nuove bici da comprare?\n",
    "* volumi nelle nuove stazioni?\n",
    "* zone calde forecasting\n",
    "* idealmente a livello orario?\n",
    "\n",
    "RIFARE CALCOLO CON TASSO MEDIO DI RIEMPIMENTO ORARIO?\n",
    "RIDUCE VARIANZA\n",
    "recuperare numero slot libere per quartiere\n",
    "\n",
    "* Circoscrivere AREA C\n",
    "* Numero di quartieri in area c\n",
    "* numero di stazioni metro e stazioni treni (pullman non significativi) in ciascun quartiere?\n"
   ]
  }
 ],
 "metadata": {
  "citation-manager": {
   "items": {
    "zotero": {
     "7765261/4S3SWW9Q": {
      "URL": "https://www.istat.it/it/archivio/257621",
      "abstract": "Rispetto al 2011 aumentano gli spostamenti quotidiani, soprattutto quelli fuori dal comune",
      "accessed": {
       "date-parts": [
        [
         2021,
         10,
         10
        ]
       ]
      },
      "id": "7765261/4S3SWW9Q",
      "issued": {
       "date-parts": [
        [
         2021,
         5,
         13
        ]
       ]
      },
      "language": "it",
      "title": "Gli spostamenti per motivi di studio o lavoro nel 2019 secondo il Censimento permanente della popolazione",
      "type": "webpage"
     },
     "7765261/5BMQM3AD": {
      "DOI": "10.1016/j.trc.2018.01.001",
      "URL": "https://www.sciencedirect.com/science/article/pii/S0968090X18300020",
      "abstract": "Given the growing importance of bike-sharing systems nowadays, in this paper we suggest an alternative approach to mitigate the most crucial problem related to them: the imbalance of bicycles between zones owing to one-way trips. In particular, we focus on the emerging free-floating systems, where bikes can be delivered or picked-up almost everywhere in the network and not just at dedicated docking stations. We propose a new comprehensive dynamic bike redistribution methodology that starts from the prediction of the number and position of bikes over a system operating area and ends with a relocation Decision Support System. The relocation process is activated at constant gap times in order to carry out dynamic bike redistribution, mainly aimed at achieving a high degree of user satisfaction and keeping the vehicle repositioning costs as low as possible. An application to a test case study, together with a detailed sensitivity analysis, shows the effectiveness of the suggested novel methodology for the real-time management of the free-floating bike-sharing systems.",
      "accessed": {
       "date-parts": [
        [
         2021,
         10,
         9
        ]
       ]
      },
      "author": [
       {
        "family": "Caggiani",
        "given": "Leonardo"
       },
       {
        "family": "Camporeale",
        "given": "Rosalia"
       },
       {
        "family": "Ottomanelli",
        "given": "Michele"
       },
       {
        "family": "Szeto",
        "given": "Wai Yuen"
       }
      ],
      "container-title": "Transportation Research Part C: Emerging Technologies",
      "id": "7765261/5BMQM3AD",
      "issued": {
       "date-parts": [
        [
         "2018",
         2,
         1
        ]
       ]
      },
      "journalAbbreviation": "Transportation Research Part C: Emerging Technologies",
      "language": "en",
      "page": "159-182",
      "title": "A modeling framework for the dynamic management of free-floating bike-sharing systems",
      "type": "article-journal",
      "volume": "87"
     },
     "7765261/92X93RNR": {
      "DOI": "10.1007/s12027-021-00656-8",
      "URL": "https://doi.org/10.1007/s12027-021-00656-8",
      "abstract": "States all over the world have quickly amended legislation in order to help businesses conduct their activities remotely and online. In this article, we will see examples of existing rules concerning annual general meetings being better implemented (in Italy), of legislation being amended with temporary rules (in Germany) and of political momentum being used to bring about fundamental changes (in Estonia).This article provides a brief overview of how changes have been made in order to allow virtual annual general meetings in different countries and what kind of changes were made, and also provides a somewhat deeper look at Estonia’s new legislation concerning remote notarial transactions, online annual meetings and digital infrastructure.",
      "accessed": {
       "date-parts": [
        [
         2021,
         10,
         14
        ]
       ]
      },
      "author": [
       {
        "family": "Härmand",
        "given": "Kai"
       }
      ],
      "container-title": "ERA Forum",
      "id": "7765261/92X93RNR",
      "issue": "1",
      "issued": {
       "date-parts": [
        [
         2021,
         4,
         1
        ]
       ]
      },
      "journalAbbreviation": "ERA Forum",
      "language": "en",
      "page": "39-50",
      "title": "Digitalisation before and after the Covid-19 crisis",
      "type": "article-journal",
      "volume": "22"
     },
     "7765261/9IRMHVZB": {
      "URL": "https://techcrunch.com/2017/09/08/airbnb-urges-housing-reform-in-berlin-after-court-overturns-permit-rejection/",
      "accessed": {
       "date-parts": [
        [
         2021,
         10,
         9
        ]
       ]
      },
      "container-title": "Tech Crunch",
      "id": "7765261/9IRMHVZB",
      "issued": {
       "date-parts": [
        [
         2017,
         9,
         8
        ]
       ]
      },
      "title": "Airbnb urges housing reform in Berlin after court overturns permit rejection",
      "type": "article-newspaper"
     },
     "7765261/AHAU5WIN": {
      "DOI": "10.1016/j.trd.2021.102708",
      "URL": "https://www.sciencedirect.com/science/article/pii/S1361920921000146",
      "abstract": "Micromobility vehicles, and especially free-floating electric scooters (FFES), have been thriving over the past couple of years, Paris being the most important market worldwide. In this paper, we first define micromobility. Then, we present the design and results of an extensive face-to-face road survey among e-scooter (ES) users in Paris (N = 459, F(men) = 68%). Results indicate that ES users rarely own their proper microvehicle, are mostly men, aged 18–29, and have a high educational level. They are not less motorized than the general population and use ES occasionally. Their main motivation is travel time savings followed by playfulness and money savings. However, users seeking money savings are not frequent riders. They shifted mainly from walking and public transportation (72%) and few have increased their total mobility by making new trips (6%). Findings can be useful to researchers, policy makers, and FFES operators especially in the context of COVID pandemics.",
      "accessed": {
       "date-parts": [
        [
         2021,
         10,
         9
        ]
       ]
      },
      "author": [
       {
        "family": "Christoforou",
        "given": "Zoi"
       },
       {
        "family": "de Bortoli",
        "given": "Anne"
       },
       {
        "family": "Gioldasis",
        "given": "Christos"
       },
       {
        "family": "Seidowsky",
        "given": "Regine"
       }
      ],
      "container-title": "Transportation Research Part D: Transport and Environment",
      "id": "7765261/AHAU5WIN",
      "issued": {
       "date-parts": [
        [
         "2021",
         3,
         1
        ]
       ]
      },
      "journalAbbreviation": "Transportation Research Part D: Transport and Environment",
      "language": "en",
      "page": "102708",
      "shortTitle": "Who is using e-scooters and how?",
      "title": "Who is using e-scooters and how? Evidence from Paris",
      "type": "article-journal",
      "volume": "92"
     },
     "7765261/BUI6HN97": {
      "URL": "http://www.ilpost.it/2020/12/10/airbnb-quotazione-azioni/",
      "abstract": "Airbnb, l'azienda americana che gestisce la popolare piattaforma per gli affitti a breve termine di stanze e appartamenti privati, si è quotata alla borsa",
      "accessed": {
       "date-parts": [
        [
         2021,
         10,
         9
        ]
       ]
      },
      "container-title": "Il Post",
      "id": "7765261/BUI6HN97",
      "issued": {
       "date-parts": [
        [
         2020,
         12,
         10
        ]
       ]
      },
      "language": "it-IT",
      "title": "La quotazione in borsa di Airbnb è stata un successo",
      "type": "article-newspaper"
     },
     "7765261/DEQECBA8": {
      "URL": "https://sdgs.un.org/goals",
      "accessed": {
       "date-parts": [
        [
         2021,
         10,
         10
        ]
       ]
      },
      "id": "7765261/DEQECBA8",
      "title": "The 17 Goals",
      "type": "webpage"
     },
     "7765261/DNETG943": {
      "DOI": "10.1080/01441647.2015.1033036",
      "URL": "https://doi.org/10.1080/01441647.2015.1033036",
      "abstract": "The number of cities offering bikeshare has increased rapidly, from just a handful in the late 1990s to over 800 currently. This paper provides a review of recent bikeshare literature. Several themes have begun to emerge from studies examining bikeshare. Convenience is the major motivator for bikeshare use. Financial savings has been found to motivate those on a low income and the distance one lives from a docking station is an important predictor for bikeshare membership. In a range of countries, it has been found that just under 50% of bikeshare members use the system less than once a month. Men use bikeshare more than women, but the imbalance is not as dramatic as private bike riding (at least in low cycling countries). Commuting is the most common trip purpose for annual members. Users are less likely than private cyclists to wear helmets, but in countries with mandatory helmet legislation, usage levels have suffered. Bikeshare users appear less likely to be injured than private bike riders. Future directions include integration with e-bikes, GPS (global positioning system), dockless systems and improved public transport integration. Greater research is required to quantify the impacts of bikeshare, in terms of mode choice, emissions, congestion and health.",
      "accessed": {
       "date-parts": [
        [
         2021,
         10,
         9
        ]
       ]
      },
      "author": [
       {
        "family": "Fishman",
        "given": "Elliot"
       }
      ],
      "container-title": "Transport Reviews",
      "id": "7765261/DNETG943",
      "issue": "1",
      "issued": {
       "date-parts": [
        [
         "2016",
         1,
         2
        ]
       ]
      },
      "note": "Publisher: Routledge\n_eprint: https://doi.org/10.1080/01441647.2015.1033036",
      "page": "92-113",
      "shortTitle": "Bikeshare",
      "title": "Bikeshare: A Review of Recent Literature",
      "type": "article-journal",
      "volume": "36"
     },
     "7765261/EPW29CK5": {
      "URL": "http://www.ilpost.it/2020/09/23/airbnb-affitti-brevi-sentenza-corte-giustizia-europea/",
      "abstract": "Una decisione della Corte di Giustizia dell'Unione Europea su un caso a Parigi potrebbe cambiare le regole sul tema anche in altre città",
      "accessed": {
       "date-parts": [
        [
         2021,
         10,
         9
        ]
       ]
      },
      "container-title": "Il Post",
      "id": "7765261/EPW29CK5",
      "issued": {
       "date-parts": [
        [
         2020,
         9,
         23
        ]
       ]
      },
      "language": "it-IT",
      "title": "La nuova sentenza europea sugli affitti brevi",
      "type": "article-newspaper"
     },
     "7765261/F7WYHN86": {
      "DOI": "10.1108/IntR-11-2017-0441",
      "URL": "https://doi.org/10.1108/IntR-11-2017-0441",
      "abstract": "Purpose The purpose of this paper is to develop a categorization of sharing practices from a structured interdisciplinary literature review on the Sharing Economy. Instead of striving for a new definition, the authors distinguish nine types of sharing practices and provide an overview of prior investigations on sharing practices across three levels of analysis and 15 research areas. The structured analysis is translated into opportunities for future research on the Sharing Economy. Design/methodology/approach The study follows a structured literature review approach to uncover practices related to the Sharing Economy and similar phenomena. The authors analyze 210 articles from a broad number of disciplines, and develop a categorizing framework for Sharing Economy practices. Findings The paper identifies nine different types of sharing practices and provides a structured way for analyzing, comparing and positioning research on the Sharing Economy and related phenomena. Research limitations/implications The categorization of sharing practices and the embedded interdisciplinary overview of studies on the Sharing Economy help to explain potentially contradictory research results and uncovers opportunities for future research in the topic area. Originality/value Given the variety of disciplines dealing with the Sharing Economy and the plenitude of definitions and related concepts, the categorization and research overview provides a consolidated view of the knowledge in the topic area and an effective tool for identifying paths for future research.",
      "accessed": {
       "date-parts": [
        [
         2021,
         10,
         9
        ]
       ]
      },
      "author": [
       {
        "family": "Trenz",
        "given": "Manuel"
       },
       {
        "family": "Frey",
        "given": "Alexander"
       },
       {
        "family": "Veit",
        "given": "Daniel"
       }
      ],
      "container-title": "Internet Research",
      "id": "7765261/F7WYHN86",
      "issue": "4",
      "issued": {
       "date-parts": [
        [
         2018,
         1,
         1
        ]
       ]
      },
      "note": "Publisher: Emerald Publishing Limited",
      "page": "888-925",
      "shortTitle": "Disentangling the facets of sharing",
      "title": "Disentangling the facets of sharing: A categorization of what we know and don’t know about the Sharing Economy",
      "type": "article-journal",
      "volume": "28"
     },
     "7765261/FIMQIYXE": {
      "URL": "http://www.ilpost.it/2021/04/27/pnrr-cosa-ce-dentro/",
      "abstract": "Dagli asili nido all'alta velocità, passando per la raccolta differenziata: cosa c'è nel piano che spiega come saranno spesi i soldi del Recovery Fund",
      "accessed": {
       "date-parts": [
        [
         2021,
         10,
         10
        ]
       ]
      },
      "container-title": "Il Post",
      "id": "7765261/FIMQIYXE",
      "issued": {
       "date-parts": [
        [
         2021,
         4,
         27
        ]
       ]
      },
      "language": "it-IT",
      "title": "Un po' di cose notevoli dentro il PNRR",
      "type": "webpage"
     },
     "7765261/FIPJ84KM": {
      "DOI": "10.1007/s10109-011-0149-5",
      "URL": "https://doi.org/10.1007/s10109-011-0149-5",
      "abstract": "Modelling autocorrelation structure among space–time observations is crucial in space–time modelling and forecasting. The aim of this research is to examine the spatio-temporal autocorrelation structure of road networks in order to determine likely requirements for building a suitable space–time forecasting model. Exploratory space–time autocorrelation analysis is carried out using journey time data collected on London’s road network. Through the use of both global and local autocorrelation measures, the autocorrelation structure of the road network is found to be dynamic and heterogeneous in both space and time. It reveals that a global measure of autocorrelation is not sufficient to explain the network structure. Dynamic and local structures must be accounted for space–time modelling and forecasting. This has broad implications for space–time modelling and network complexity.",
      "accessed": {
       "date-parts": [
        [
         2021,
         10,
         9
        ]
       ]
      },
      "author": [
       {
        "family": "Cheng",
        "given": "Tao"
       },
       {
        "family": "Haworth",
        "given": "James"
       },
       {
        "family": "Wang",
        "given": "Jiaqiu"
       }
      ],
      "container-title": "Journal of Geographical Systems",
      "id": "7765261/FIPJ84KM",
      "issue": "4",
      "issued": {
       "date-parts": [
        [
         2012,
         10,
         1
        ]
       ]
      },
      "journalAbbreviation": "J Geogr Syst",
      "language": "en",
      "page": "389-413",
      "title": "Spatio-temporal autocorrelation of road network data",
      "type": "article-journal",
      "volume": "14"
     },
     "7765261/G3F5S8ZS": {
      "URL": "http://www.ilpost.it/2021/04/21/citta-europee-affitti-breve-termine/",
      "abstract": "Come quelli offerti da Airbnb: diverse amministrazioni locali stanno provando a introdurre nuovi limiti, anche in Italia",
      "accessed": {
       "date-parts": [
        [
         2021,
         10,
         9
        ]
       ]
      },
      "container-title": "Il Post",
      "id": "7765261/G3F5S8ZS",
      "issued": {
       "date-parts": [
        [
         2021,
         4,
         21
        ]
       ]
      },
      "language": "it-IT",
      "title": "Le città europee contro gli affitti brevi",
      "type": "article-newspaper"
     },
     "7765261/GESPKNH7": {
      "URL": "https://www.ilpost.it/2021/09/28/qualita-aria-inquinanti-oms/",
      "accessed": {
       "date-parts": [
        [
         2021,
         10,
         10
        ]
       ]
      },
      "container-title": "Il Post",
      "id": "7765261/GESPKNH7",
      "issued": {
       "date-parts": [
        [
         2021,
         9,
         28
        ]
       ]
      },
      "title": "Che aria respiriamo",
      "type": "article-newspaper"
     },
     "7765261/GVEPNMR5": {
      "URL": "http://www.ilpost.it/2019/05/11/uber-azioni/",
      "abstract": "Nel primo giorno di quotazione a Wall Street, le azioni di Uber hanno perso il 7,6 per cento. Uber – la società di mobilità conosciuta soprattutto per il",
      "accessed": {
       "date-parts": [
        [
         2021,
         10,
         9
        ]
       ]
      },
      "container-title": "Il Post",
      "id": "7765261/GVEPNMR5",
      "issued": {
       "date-parts": [
        [
         2019,
         5,
         11
        ]
       ]
      },
      "language": "it-IT",
      "title": "Nel primo giorno di quotazione in borsa, le azioni di Uber hanno perso il 7,6 per cento",
      "type": "article-newspaper"
     },
     "7765261/H4RXQQ8R": {
      "URL": "https://www.bloomberg.com/features/2017-uber-airbnb-99-billion-idea/",
      "abstract": "The companies fought city hall, won over the people, outlasted rivals, and figured out the sharing economy.",
      "accessed": {
       "date-parts": [
        [
         2021,
         10,
         9
        ]
       ]
      },
      "author": [
       {
        "family": "Stone",
        "given": "Brad"
       }
      ],
      "container-title": "Bloomberg.com",
      "id": "7765261/H4RXQQ8R",
      "issued": {
       "date-parts": [
        [
         2017,
         1,
         19
        ]
       ]
      },
      "language": "en",
      "shortTitle": "The $99 Billion Idea",
      "title": "The $99 Billion Idea: How Uber and Airbnb Won",
      "type": "article-newspaper"
     },
     "7765261/J38UF9CZ": {
      "URL": "https://www.istat.it/it/archivio/224469",
      "abstract": "Nel 2017 si stima che circa 30 milioni di persone si spostino ogni giorno per studio o lavoro",
      "accessed": {
       "date-parts": [
        [
         2021,
         10,
         10
        ]
       ]
      },
      "id": "7765261/J38UF9CZ",
      "issued": {
       "date-parts": [
        [
         2019,
         2,
         4
        ]
       ]
      },
      "language": "it",
      "title": "Spostamenti quotidiani e nuove forme di mobilità",
      "type": "webpage"
     },
     "7765261/LFMZYHVY": {
      "URL": "https://bikesharingworldmap.com/#/all/2.2/0/48.23/",
      "accessed": {
       "date-parts": [
        [
         2021,
         10,
         10
        ]
       ]
      },
      "id": "7765261/LFMZYHVY",
      "issued": {
       "date-parts": [
        [
         2021
        ]
       ]
      },
      "title": "The Meddin Bike-sharing World Map",
      "type": "webpage"
     },
     "7765261/LFVYWU5J": {
      "URL": "https://www.eea.europa.eu/themes/air/urban-air-quality/european-city-air-quality-viewer",
      "abstract": "Policies to reduce air pollution have led to improved air quality in Europe over the last three decades. However, in some European cities air pollution still poses risks to health. \n\nYou can use the European city air viewer to check how the air quality was in your city over the past two years and to compare it with air quality in other cities across Europe.",
      "accessed": {
       "date-parts": [
        [
         2021,
         10,
         10
        ]
       ]
      },
      "genre": "Dashboard (Tableau)",
      "id": "7765261/LFVYWU5J",
      "issued": {
       "date-parts": [
        [
         2021,
         6,
         17
        ]
       ]
      },
      "language": "en",
      "title": "European city air quality viewer — European Environment Agency",
      "type": "webpage"
     },
     "7765261/LGNSP9HT": {
      "URL": "https://www.eea.europa.eu/themes/air/country-fact-sheets/2020-country-fact-sheets/italy",
      "abstract": "Air pollution country fact sheet 2020",
      "accessed": {
       "date-parts": [
        [
         2021,
         10,
         10
        ]
       ]
      },
      "genre": "Dashboard (Tableau)",
      "id": "7765261/LGNSP9HT",
      "issued": {
       "date-parts": [
        [
         2020,
         11,
         23
        ]
       ]
      },
      "language": "en",
      "title": "Italy - Air pollution country fact sheet — European Environment Agency",
      "type": "webpage"
     },
     "7765261/MVUBY4JD": {
      "DOI": "http://doi.org/10.5038/2375-0901.12.4.3",
      "URL": "https://digitalcommons.usf.edu/jpt/vol12/iss4/3",
      "author": [
       {
        "family": "DeMaio",
        "given": "Paul"
       }
      ],
      "container-title": "Journal of Public Transportation",
      "id": "7765261/MVUBY4JD",
      "issue": "4",
      "issued": {
       "date-parts": [
        [
         2009,
         12,
         1
        ]
       ]
      },
      "shortTitle": "Bike-sharing",
      "title": "Bike-sharing: History, Impacts, Models of Provision, and Future",
      "type": "article-journal",
      "volume": "12"
     },
     "7765261/NBY9XZBV": {
      "URL": "https://ec.europa.eu/environment/air/quality/standards.htm",
      "accessed": {
       "date-parts": [
        [
         2021,
         10,
         10
        ]
       ]
      },
      "id": "7765261/NBY9XZBV",
      "title": "Standards - Air Quality - Environment - European Commission",
      "type": "webpage"
     },
     "7765261/Q8QH45IB": {
      "URL": "http://www.ilpost.it/2018/06/30/cina-wechat/",
      "abstract": "Ma c'è chi ci prova, nonostante la piattaforma a metà tra un'app di messaggistica e un social network sia entrata in ogni aspetto della vita quotidiana",
      "accessed": {
       "date-parts": [
        [
         2021,
         10,
         9
        ]
       ]
      },
      "container-title": "Il Post",
      "id": "7765261/Q8QH45IB",
      "issued": {
       "date-parts": [
        [
         2018,
         6,
         30
        ]
       ]
      },
      "language": "it-IT",
      "title": "In Cina vivere senza WeChat è complicato",
      "type": "article-newspaper"
     },
     "7765261/RS2BGLYQ": {
      "DOI": "10.1080/17513057.2016.1235222",
      "URL": "https://doi.org/10.1080/17513057.2016.1235222",
      "abstract": "Given the potential of social network sites in democratization, this study explored the relationship between WeChat use, gratification seeking, and political engagement through WeChat in China. A survey of 307, young adult, WeChat users found: (1) WeChat use for entertainment and recognition needs predicted political engagement through WeChat; (2) WeChat use and browsing news and information about a particular political issue on WeChat were positively associated with political engagement through WeChat; and (3) the relationship between WeChat use and political engagement through WeChat was moderated by browsing news and information on WeChat.",
      "accessed": {
       "date-parts": [
        [
         2021,
         10,
         9
        ]
       ]
      },
      "author": [
       {
        "family": "Chen",
        "given": "Yashu"
       }
      ],
      "container-title": "Journal of International and Intercultural Communication",
      "id": "7765261/RS2BGLYQ",
      "issue": "1",
      "issued": {
       "date-parts": [
        [
         "2017",
         1,
         2
        ]
       ]
      },
      "note": "Publisher: Routledge\n_eprint: https://doi.org/10.1080/17513057.2016.1235222",
      "page": "25-43",
      "shortTitle": "WeChat use among Chinese college students",
      "title": "WeChat use among Chinese college students: Exploring gratifications and political engagement in China",
      "type": "article-journal",
      "volume": "10"
     },
     "7765261/RZW74C9X": {
      "URL": "https://air.unimi.it/handle/2434/515293",
      "abstract": "The constant increase of public shared bicycle systems (PSBSs) in western cities suggests that nowadays city councils consider public bike sharing systems a serious alternative to traditional public transportation in urban areas. PSBSs can represent a solution in the hands of citizens for short journeys in highly urbanized areas. In this paper we focus on the successful example of Milan’s BikeMi PSBS which is giving very positive results in terms of satisfaction for all the actors involved, i.e. the service management, city council and users. From the available data it can be inferred that the bicycle overcome the car central areas in terms of speed, distance travelled daily, and choice of multiple itineraries, especially during peak periods and in proximity of the main railway stations. The main bicycle tracks and hotspots are also detected revealing an imbalance between the northern and the southern part of the city, with the northern part better covered by the service.",
      "author": [
       {
        "family": "Saibene",
        "given": "Giorgio"
       },
       {
        "family": "Manzi",
        "given": "Giancarlo"
       }
      ],
      "id": "7765261/RZW74C9X",
      "issued": {
       "date-parts": [
        [
         2015
        ]
       ]
      },
      "language": "en",
      "page": "21",
      "title": "Bike Usage in Public Bike-Sharing: An Analysis of the “BikeMi” System in Milan",
      "type": "article-journal"
     },
     "7765261/SAYXS4UZ": {
      "URL": "http://www.ilpost.it/2020/05/03/sharing-economy-crisi-coronavirus/",
      "abstract": "Le aziende basate sulla condivisione di spazi o mezzi di trasporto, come Airbnb e Uber, hanno un presente drammatico e un futuro incerto",
      "accessed": {
       "date-parts": [
        [
         2021,
         10,
         9
        ]
       ]
      },
      "container-title": "Il Post",
      "id": "7765261/SAYXS4UZ",
      "issued": {
       "date-parts": [
        [
         2020,
         5,
         3
        ]
       ]
      },
      "language": "it-IT",
      "title": "La crisi della sharing economy",
      "type": "article-newspaper"
     },
     "7765261/T48ESWUM": {
      "URL": "https://www.istat.it/it/archivio/258691",
      "abstract": "Nel 2019 aumentano i km di piste ciclabili (+15,5% dal 2015) ma rete di ciclovie insufficiente in molte città",
      "accessed": {
       "date-parts": [
        [
         2021,
         10,
         10
        ]
       ]
      },
      "id": "7765261/T48ESWUM",
      "issued": {
       "date-parts": [
        [
         2021,
         6,
         17
        ]
       ]
      },
      "language": "it",
      "title": "Ambiente urbano",
      "type": "webpage"
     },
     "7765261/TR9F33KT": {
      "DOI": "10.1080/17517575.2020.1829075",
      "URL": "https://doi.org/10.1080/17517575.2020.1829075",
      "abstract": "Enterprises are surviving in a digital transitioning society, where the creation of strategic alliances is one important result of this constant change during the coronavirus 2019 (COVID-19) pandemic. A medium of conducting business where organizations can share their main capabilities in order to strive in a pandemic is the creation of Virtual Enterprises (VE). But despite increasing research interest in VE, there is still lacunae in understanding the conceptualization of digitalization of VE operations during crises. Therefore, this provides a review of extant literature and meta-analysis of 55 VE research articles to present the theoretical underpinning concept of VE digitalization.",
      "accessed": {
       "date-parts": [
        [
         2021,
         10,
         14
        ]
       ]
      },
      "author": [
       {
        "family": "Anthony Jnr",
        "given": "Bokolo"
       },
       {
        "family": "Abbas Petersen",
        "given": "Sobah"
       }
      ],
      "container-title": "Enterprise Information Systems",
      "id": "7765261/TR9F33KT",
      "issue": "5",
      "issued": {
       "date-parts": [
        [
         "2021",
         5,
         28
        ]
       ]
      },
      "page": "617-650",
      "shortTitle": "Examining the digitalisation of virtual enterprises amidst the COVID-19 pandemic",
      "title": "Examining the digitalisation of virtual enterprises amidst the COVID-19 pandemic: a systematic and meta-analysis",
      "type": "article-journal",
      "volume": "15"
     },
     "7765261/UV5CIHVI": {
      "DOI": "10.1016/j.jtrangeo.2013.06.003",
      "URL": "https://www.sciencedirect.com/science/article/pii/S0966692313001130",
      "abstract": "Since the mid-2000s, public bikesharing (also known as “bike hire”) has developed and spread into a new form of mobility in cities across the globe. This paper presents an analysis of the recent increase in the number of public bikesharing systems. Bikesharing is the shared use of a bicycle fleet, which is accessible to the public and serves as a form of public transportation. The initial system designs were pioneered in Europe and, after a series of technological innovations, appear to have matured into a system experiencing widespread adoption. There are also signs that the policy of public bikesharing systems is transferable and is being adopted in other contexts outside Europe. In public policy, the technologies that are transferred can be policies, technologies, ideals or systems. This paper seeks to describe the nature of these systems, how they have spread in time and space, how they have matured in different contexts, and why they have been adopted. Researchers provide an analysis from Europe and North America. The analysis draws on published data sources, a survey of 19 systems, and interviews with 12 decision-makers in Europe and 14 decision-makers in North America. The data are examined through the lens of diffusion theory, which allows for comparison of the adoption process in different contexts. A mixture of quantitative and qualitative analyses is used to explore the reasons for adoption decisions in different cities. The paper concludes that Europe is still in a major adoption process with new systems emerging and growth in some existing systems, although some geographic areas have adopted alternative solutions. Private sector operators have also been important entrepreneurs in a European context, which has accelerated the uptake of these systems. In North America, the adoption process is at an earlier stage and is gaining momentum, but signs also suggest the growing importance of entrepreneurs in North America with respect to technology and business models. There is evidence to suggest that the policy adoption processes have been inspired by successful systems in Paris, Lyon, Montreal, and Washington, DC, for instance, and that diffusion theory could be useful in understanding public bikesharing policy adoption in a global context.",
      "accessed": {
       "date-parts": [
        [
         2021,
         10,
         9
        ]
       ]
      },
      "author": [
       {
        "family": "Parkes",
        "given": "Stephen D."
       },
       {
        "family": "Marsden",
        "given": "Greg"
       },
       {
        "family": "Shaheen",
        "given": "Susan A."
       },
       {
        "family": "Cohen",
        "given": "Adam P."
       }
      ],
      "container-title": "Journal of Transport Geography",
      "id": "7765261/UV5CIHVI",
      "issued": {
       "date-parts": [
        [
         "2013",
         7,
         1
        ]
       ]
      },
      "journalAbbreviation": "Journal of Transport Geography",
      "language": "en",
      "page": "94-103",
      "shortTitle": "Understanding the diffusion of public bikesharing systems",
      "title": "Understanding the diffusion of public bikesharing systems: evidence from Europe and North America",
      "type": "article-journal",
      "volume": "31"
     },
     "7765261/VTA4UCWW": {
      "DOI": "10.5194/isprs-archives-XLIII-B4-2020-197-2020",
      "URL": "https://www.int-arch-photogramm-remote-sens-spatial-inf-sci.net/XLIII-B4-2020/197/2020/",
      "abstract": "Bike Sharing Systems (BSS) are growing worldwide for the social and environmental benefits that they can provide. Thanks to the increasing popularity of the BSS and the availability of monitoring technologies, there is a continuous production of data that can help to understand bike usage and to improve its design and management. This study aims at exploring BSS users’ mobility patterns habits and the demand for the service. To reach this scope, the available data have been preprocessed in order to allow data mining and data visualization with open source tools based on Python. The study case regards the BikeMi BSS of the City of Milan between June 2015 to December 2018. The suggested approach proceeded, first, with the categorization of the user typology based on the frequency of use of the service; at a second stage, the influence of the day typology on the use of the service has been explored; third, the spatial and temporal patterns of the BSS use among the stations has been analysed; fourth, the influence of meteorological conditions on the use of the service has been considered; at last, the clustering of the stations with similar bikes use activity through K-Means has been performed. As expected, it was observed that the service is extensively used for commuting to work-related activities. Regular users compose a large part of the BSS community making use of the service mostly during weekdays. In addition, it was noted that only 'strong' meteorological conditions can impact the use of the service. Both the identification of the demand for the service and of the external factors that can affect its use support the clustering activities, allowing for the elimination of not relevant information and facilitating the interpretation of the obtained clusters.",
      "accessed": {
       "date-parts": [
        [
         2021,
         10,
         3
        ]
       ]
      },
      "author": [
       {
        "family": "Toro",
        "given": "J. F."
       },
       {
        "family": "Carrion",
        "given": "D."
       },
       {
        "family": "Brovelli",
        "given": "M. A."
       },
       {
        "family": "Percoco",
        "given": "M."
       }
      ],
      "container-title": "The International Archives of the Photogrammetry, Remote Sensing and Spatial Information Sciences",
      "event": "XXIV ISPRS Congress, Commission IV (Volume XLIII-B4-2020) - 2020 edition",
      "id": "7765261/VTA4UCWW",
      "issued": {
       "date-parts": [
        [
         2020,
         8,
         24
        ]
       ]
      },
      "language": "English",
      "note": "ISSN: 1682-1750",
      "page": "197-203",
      "publisher": "Copernicus GmbH",
      "title": "BikeMi Bike-Sharing Service Exploratory Analysis on Mobility Patterns",
      "type": "paper-conference",
      "volume": "XLIII-B4-2020"
     },
     "7765261/WGNRECEM": {
      "URL": "https://www.istat.it/it/archivio/260839",
      "abstract": "Come ci ha cambiati la pandemia",
      "accessed": {
       "date-parts": [
        [
         2021,
         10,
         10
        ]
       ]
      },
      "id": "7765261/WGNRECEM",
      "issued": {
       "date-parts": [
        [
         2021,
         9,
         8
        ]
       ]
      },
      "language": "it",
      "title": "Dall’andamento degli obiettivi di sviluppo sostenibile alla mobilità",
      "type": "webpage"
     },
     "7765261/XWGXDX2Y": {
      "DOI": "10.1016/j.techfore.2021.121173",
      "URL": "https://www.sciencedirect.com/science/article/pii/S0040162521006065",
      "abstract": "Digitalisation has become embedded in products and services, and it increasingly supports corporate business processes. However, few empirical studies have analysed the state of digitalisation and its implementation within companies, and the extant literature has painted an inconsistent picture concerning the effects of digitalisation. This survey-based study explores the diffusion of digitalisation, the advantages and difficulties in the practical transition to digitalisation, and its impact on performance. The sample includes Italian listed companies across diverse industries. The results highlight the still embryonic adoption of digital tools to support daily company operations; however, the impacts of digitalisation on company performance are noticeable. This research contributes to the literature on digitalisation and performance, breaks new ground by focusing on listed companies, and has implications for management investment in digitalisation for value creation.",
      "accessed": {
       "date-parts": [
        [
         2021,
         10,
         14
        ]
       ]
      },
      "author": [
       {
        "family": "Truant",
        "given": "Elisa"
       },
       {
        "family": "Broccardo",
        "given": "Laura"
       },
       {
        "family": "Dana",
        "given": "Léo-Paul"
       }
      ],
      "container-title": "Technological Forecasting and Social Change",
      "id": "7765261/XWGXDX2Y",
      "issued": {
       "date-parts": [
        [
         "2021",
         12,
         1
        ]
       ]
      },
      "journalAbbreviation": "Technological Forecasting and Social Change",
      "language": "en",
      "page": "121173",
      "shortTitle": "Digitalisation boosts company performance",
      "title": "Digitalisation boosts company performance: an overview of Italian listed companies",
      "type": "article-journal",
      "volume": "173"
     }
    }
   }
  },
  "kernelspec": {
   "display_name": "Deep Learning Forecasting",
   "language": "python",
   "name": "bikemi"
  },
  "language_info": {
   "codemirror_mode": {
    "name": "ipython",
    "version": 3
   },
   "file_extension": ".py",
   "mimetype": "text/x-python",
   "name": "python",
   "nbconvert_exporter": "python",
   "pygments_lexer": "ipython3",
   "version": "3.9.7"
  }
 },
 "nbformat": 4,
 "nbformat_minor": 5
}
