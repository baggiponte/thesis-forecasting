{
 "cells": [
  {
   "cell_type": "markdown",
   "metadata": {},
   "source": [
    "# BikeMi Metadata and External Data"
   ]
  },
  {
   "cell_type": "markdown",
   "metadata": {},
   "source": [
    "Most of the data can be retrieved from [here](https://bikemi.com/dati-aperti/tempo-reale), via the official APIs. Every request must follow this template:\n",
    "\n",
    "```bash\n",
    "curl -H \"Client-Identifier: IDENTIFIER\" https://gbfs.urbansharing.com/bikemi.com/gbfs.json\n",
    "```\n",
    "\n",
    "Where `IDENTIFIER` must look like `mycompany-role`, as suggested. In our case, it would be `unimi-student`.\n",
    "\n",
    "The files downloaded in this way are in `.json` format. However, the geographical information about bike stalls can also easily be retrived via [Comune di Milano's official Open Data Portal](https://dati.comune.milano.it/dataset/ds65_infogeo_aree_sosta_bike_sharing_localizzazione_/resource/4c31029c-22c9-49f7-b145-91374feac41c)."
   ]
  },
  {
   "cell_type": "code",
   "execution_count": 4,
   "metadata": {},
   "outputs": [
    {
     "name": "stderr",
     "output_type": "stream",
     "text": [
      "  % Total    % Received % Xferd  Average Speed   Time    Time     Time  Current\n",
      "                                 Dload  Upload   Total   Spent    Left  Speed\n",
      "100 56443    0 56443    0     0   117k      0 --:--:-- --:--:-- --:--:--  117k\n"
     ]
    }
   ],
   "source": [
    "%%bash\n",
    "mkdir -p ../data/bikemi_metadata && \\\n",
    "    curl \"https://dati.comune.milano.it/dataset/cc065002-cd21-4dcb-b84f-bba2fd9e0c86/resource/4c31029c-22c9-49f7-b145-91374feac41c/download/bikemi_stazioni.csv\" -o ../data/bikemi_metadata/bikemi_stalls.csv"
   ]
  },
  {
   "cell_type": "markdown",
   "metadata": {},
   "source": [
    "## Neighbourhoods [NIL]"
   ]
  },
  {
   "cell_type": "markdown",
   "metadata": {},
   "source": [
    "Milan has 88 neighbourhoods (NIL, i.e. *nuclei di identità locale*), split across 9 Municipi (with some [overlappings](https://www.pgt.comune.milano.it/sites/default/files/allegati/NIL_Intro.pdf)). NIL data [was updated in April 2020](https://dati.comune.milano.it/dataset/e8e765fc-d882-40b8-95d8-16ff3d39eb7c) and the boundaries should be in place until 2030.\n",
    "\n",
    "Data is available both as [`.geojson`](https://dati.comune.milano.it/dataset/ds964-nil-vigenti-pgt-2030/resource/9c4e0776-56fc-4f3d-8a90-f4992a3be426) and [`.csv`](https://dati.comune.milano.it/dataset/ds964-nil-vigenti-pgt-2030/resource/3fce7202-0076-4a7b-ac2c-d2ab9b5dc658)."
   ]
  },
  {
   "cell_type": "code",
   "execution_count": 2,
   "metadata": {},
   "outputs": [
    {
     "name": "stdout",
     "output_type": "stream",
     "text": [
      "Retrieving NILs (.geojson)\n",
      "Retrieving NILs (.csv)\n"
     ]
    },
    {
     "name": "stderr",
     "output_type": "stream",
     "text": [
      "  % Total    % Received % Xferd  Average Speed   Time    Time     Time  Current\n",
      "                                 Dload  Upload   Total   Spent    Left  Speed\n",
      "100  999k    0  999k    0     0   129k      0 --:--:--  0:00:07 --:--:--  144k\n",
      "  % Total    % Received % Xferd  Average Speed   Time    Time     Time  Current\n",
      "                                 Dload  Upload   Total   Spent    Left  Speed\n",
      "100 16408    0 16408    0     0  16326      0 --:--:--  0:00:01 --:--:-- 16326\n"
     ]
    }
   ],
   "source": [
    "%%bash\n",
    "[ ! -d \"../data/milan\" ] && mkdir -p ../data/milan\n",
    "\n",
    "echo \"Retrieving NILs (.geojson)\"\n",
    "curl \"https://dati.comune.milano.it/dataset/e8e765fc-d882-40b8-95d8-16ff3d39eb7c/resource/9c4e0776-56fc-4f3d-8a90-f4992a3be426/download/ds964_nil_wm.geojson\" \\\n",
    "    -o ../data/milan/milan_nil.geojson\n",
    "\n",
    "echo -e \"\\nRetrieving NILs (.csv)\"\n",
    "curl \"https://dati.comune.milano.it/dataset/e8e765fc-d882-40b8-95d8-16ff3d39eb7c/resource/3fce7202-0076-4a7b-ac2c-d2ab9b5dc658/download/ds964_nil_wm_4326.csv\" \\\n",
    "    -o ../data/milan/milan_nil.csv"
   ]
  },
  {
   "cell_type": "markdown",
   "metadata": {},
   "source": [
    "*Municipi* data is also available in both formats, [here](https://dati.comune.milano.it/dataset/ds379-infogeo-municipi-superficie)."
   ]
  },
  {
   "cell_type": "markdown",
   "metadata": {},
   "source": [
    "## Municipi"
   ]
  },
  {
   "cell_type": "code",
   "execution_count": 3,
   "metadata": {},
   "outputs": [
    {
     "name": "stdout",
     "output_type": "stream",
     "text": [
      "Retrieving Municipi (.geojson)\n",
      "Retrieving Municipi (.csv)\n"
     ]
    },
    {
     "name": "stderr",
     "output_type": "stream",
     "text": [
      "  % Total    % Received % Xferd  Average Speed   Time    Time     Time  Current\n",
      "                                 Dload  Upload   Total   Spent    Left  Speed\n",
      "100 3366k    0 3366k    0     0   109k      0 --:--:--  0:00:30 --:--:--  132k\n",
      "  % Total    % Received % Xferd  Average Speed   Time    Time     Time  Current\n",
      "                                 Dload  Upload   Total   Spent    Left  Speed\n",
      "100  1379    0  1379    0     0   2436      0 --:--:-- --:--:-- --:--:--  2432\n"
     ]
    }
   ],
   "source": [
    "%%bash\n",
    "[ ! -d \"../data/milan\" ] && mkdir -p ../data/milan\n",
    "\n",
    "echo \"Retrieving Municipi (.geojson)\"\n",
    "curl \"https://dati.comune.milano.it/dataset/36ba21c2-8b48-43ce-bbe1-e236a8a49ff6/resource/99ecd085-0b04-4fb2-a66e-9795694d4fc4/download/ds379_municipi_label.geojson\" \\\n",
    "    -o ../data/milan/milan_municipi.geojson\n",
    "\n",
    "echo -e \"\\nRetrieving Municipi (.csv)\"\n",
    "curl \"https://dati.comune.milano.it/dataset/36ba21c2-8b48-43ce-bbe1-e236a8a49ff6/resource/ebb1e5e3-fde1-46dd-8501-fa03ecb5d4bf/download/ds379_municipi_label_4326.csv\" \\\n",
    "    -o ../data/milan/milan_municipi.csv"
   ]
  }
 ],
 "metadata": {
  "citation-manager": {
   "items": {}
  },
  "interpreter": {
   "hash": "33c94b4e171e2bf77cc50254d34db5cf7f17acef9e5b34737d93186bb380771d"
  },
  "jupytext": {
   "formats": "notebooks///ipynb,body///md:myst"
  },
  "kernelspec": {
   "display_name": "Deep Learning Forecasting",
   "language": "python",
   "name": "bikemi"
  },
  "language_info": {
   "codemirror_mode": {
    "name": "ipython",
    "version": 3
   },
   "file_extension": ".py",
   "mimetype": "text/x-python",
   "name": "python",
   "nbconvert_exporter": "python",
   "pygments_lexer": "ipython3",
   "version": "3.8.12"
  }
 },
 "nbformat": 4,
 "nbformat_minor": 4
}
