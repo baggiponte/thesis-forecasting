{
 "cells": [
  {
   "cell_type": "markdown",
   "id": "93810d57-1288-4f14-a45d-bf1a5975feda",
   "metadata": {},
   "source": [
    "# Prophet "
   ]
  },
  {
   "cell_type": "markdown",
   "id": "3dc4233c-4fab-4f49-8ea4-4693ec8d9652",
   "metadata": {},
   "source": [
    "## What is Prophet? "
   ]
  },
  {
   "cell_type": "markdown",
   "id": "a6be816d-e729-4969-9cdc-3281ae800e58",
   "metadata": {},
   "source": [
    "Prophet is a Python and R [open source library](https://github.com/facebook/prophet) released by Facebook’s Core Data Science team, released in 2017. It is also by far the most popular time series forecasting framework for Python: it has a whopping 13.4k stars on GitHub, and tops the list of the `forecasting` [topic](https://github.com/topics/forecasting) on GitHub, with more than 10k stars compared to the second runner, `sktime`. Many of the - unofficial - PyPi rankings [such as this one](https://hugovk.github.io/top-pypi-packages/) put it at over one million monthly downloads.\n",
    "\n",
    "The goal of Prophet is to provide a quick yet effective way to produce forecasts *at scale*, i.e. with hundreds if not thousands of time series at a time. Working under these conditions implies manual hyperparameter tuning for ARIMA models is not feasible and, at the same time, training resource intensive neural networks translates in huge expenditures. In other words, Prophet claims to strike a balance, using a generalised additive model (GAM) that combines four components. As explained on the official documentation:\n",
    "\n",
    "> Prophet is a procedure for forecasting time series data based on an additive model where non-linear trends are fit with yearly, weekly, and daily seasonality, plus holiday effects. It works best with time series that have strong seasonal effects and several seasons of historical data. Prophet is robust to missing data and shifts in the trend, and typically handles outliers well.\n",
    "\n",
    "Prophet should work best with medium-to-high frequency data, with overlapping seasonal patterns. After all, it was designed to suit Facebook's business need."
   ]
  },
  {
   "cell_type": "markdown",
   "id": "1b6da8be-1352-4fd3-ae0c-617490b7acd5",
   "metadata": {},
   "source": [
    "## Controversy about Prophet"
   ]
  },
  {
   "cell_type": "markdown",
   "id": "55d85cd4-ceac-4629-9a40-53c12754d09f",
   "metadata": {},
   "source": [
    "## Load Libraries and Data"
   ]
  },
  {
   "cell_type": "code",
   "execution_count": null,
   "id": "60580df2-452c-4c31-917c-ec38d681336b",
   "metadata": {},
   "outputs": [],
   "source": [
    "import pandas as pd\n",
    "from prophet import Prophet"
   ]
  }
 ],
 "metadata": {
  "kernelspec": {
   "display_name": "Deep Learning Forecasting",
   "language": "python",
   "name": "bikemi"
  },
  "language_info": {
   "name": ""
  }
 },
 "nbformat": 4,
 "nbformat_minor": 5
}
