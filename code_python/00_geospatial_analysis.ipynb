{
 "metadata": {
  "language_info": {
   "codemirror_mode": {
    "name": "ipython",
    "version": 3
   },
   "file_extension": ".py",
   "mimetype": "text/x-python",
   "name": "python",
   "nbconvert_exporter": "python",
   "pygments_lexer": "ipython3",
   "version": "3.9.4"
  },
  "orig_nbformat": 2,
  "kernelspec": {
   "name": "python394jvsc74a57bd09096fb92875160591cb9d9acd9eaf0bb3cfdf1c28a106d18712cbb763cee9a86",
   "display_name": "Python 3.9.4 64-bit ('tesi': conda)"
  }
 },
 "nbformat": 4,
 "nbformat_minor": 2,
 "cells": [
  {
   "cell_type": "code",
   "execution_count": 1,
   "metadata": {},
   "outputs": [],
   "source": [
    "import pandas as pd\n",
    "import geopandas as gpd"
   ]
  },
  {
   "cell_type": "code",
   "execution_count": 2,
   "metadata": {},
   "outputs": [],
   "source": [
    "def load_bikemi_stations_data():\n",
    "    \"\"\"from here: https://dati.comune.milano.it/it/dataset/ds65_infogeo_aree_sosta_bike_sharing_localizzazione_\"\"\"\n",
    "    return gpd.read_file(\"https://dati.comune.milano.it/dataset/cc065002-cd21-4dcb-b84f-bba2fd9e0c86/resource/2d0bafbc-1739-4a14-9e5a-71a648e1fc5b/download/bikemi_stazioni.geojson\")\n",
    "\n",
    "\n",
    "def load_train_stations():\n",
    "    \"\"\"from here: https://dati.comune.milano.it/it/dataset/ds81_infogeo_rete_ferroviaria_localizzazione_\"\"\"\n",
    "    return gpd.read_file(\"https://dati.comune.milano.it/dataset/23b0a132-db42-4b12-8f95-b0ca0d19c7f4/resource/e00b7b86-a0e3-4b8b-87a3-6594f3ca3709/download/ferrovie_milano_sdf.geojson\")\n",
    "\n",
    "\n",
    "def load_metro_stations():\n",
    "    \"\"\"from here: https://dati.comune.milano.it/it/dataset/ds535_atm-fermate-linee-metropolitane\"\"\"\n",
    "    return gpd.read_file(\"https://dati.comune.milano.it/dataset/b7344a8f-0ef5-424b-a902-f7f06e32dd67/resource/dd6a770a-b321-44f0-b58c-9725d84409bb/download/tpl_metrofermate.geojson\")\n",
    "\n",
    "\n",
    "def load_bus_stations():\n",
    "    \"\"\"from here: https://dati.comune.milano.it/it/dataset/ds534-atm-fermate-linee-di-superficie-urbane\"\"\"\n",
    "    return gpd.read_file(\"https://dati.comune.milano.it/dataset/ac494f5d-acd3-4fd3-8cfc-ed24f5c3d923/resource/7d21bd77-3ad1-4235-9a40-8a8cdfeb65a0/download/tpl_fermate.geojson\")\n",
    "\n",
    "\n",
    "def load_bike_paths():\n",
    "\n",
    "    \"\"\"from here: https://dati.comune.milano.it/it/dataset/ds60_infogeo_piste_ciclabili_localizzazione_\"\"\"\n",
    "    \n",
    "    return gpd.read_file(\"https://dati.comune.milano.it/it/dataset/ds60_infogeo_piste_ciclabili_localizzazione_/resource/56515ac3-e260-4ebb-bfce-698347f07e1e\")"
   ]
  },
  {
   "cell_type": "code",
   "execution_count": 6,
   "metadata": {},
   "outputs": [
    {
     "output_type": "execute_result",
     "data": {
      "text/plain": [
       "<Geographic 2D CRS: EPSG:4326>\n",
       "Name: WGS 84\n",
       "Axis Info [ellipsoidal]:\n",
       "- Lat[north]: Geodetic latitude (degree)\n",
       "- Lon[east]: Geodetic longitude (degree)\n",
       "Area of Use:\n",
       "- name: World.\n",
       "- bounds: (-180.0, -90.0, 180.0, 90.0)\n",
       "Datum: World Geodetic System 1984 ensemble\n",
       "- Ellipsoid: WGS 84\n",
       "- Prime Meridian: Greenwich"
      ]
     },
     "metadata": {},
     "execution_count": 6
    }
   ],
   "source": [
    "bikemi_stations = load_bikemi_stations_data()\n",
    "bikemi_stations.crs\n"
   ]
  }
 ]
}